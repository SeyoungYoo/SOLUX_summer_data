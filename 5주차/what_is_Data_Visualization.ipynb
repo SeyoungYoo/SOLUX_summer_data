{
  "nbformat": 4,
  "nbformat_minor": 0,
  "metadata": {
    "colab": {
      "name": "what_is_Data_Visualization.ipynb",
      "provenance": [],
      "collapsed_sections": [],
      "authorship_tag": "ABX9TyNLNIhfPnfEo+sLnsiPWz+G",
      "include_colab_link": true
    },
    "kernelspec": {
      "name": "python3",
      "display_name": "Python 3"
    }
  },
  "cells": [
    {
      "cell_type": "markdown",
      "metadata": {
        "id": "view-in-github",
        "colab_type": "text"
      },
      "source": [
        "<a href=\"https://colab.research.google.com/github/yooste/SOLUX_summer_data/blob/master/5%EC%A3%BC%EC%B0%A8/what_is_Data_Visualization.ipynb\" target=\"_parent\"><img src=\"https://colab.research.google.com/assets/colab-badge.svg\" alt=\"Open In Colab\"/></a>"
      ]
    },
    {
      "cell_type": "markdown",
      "metadata": {
        "id": "4qHw2rTs1rqb",
        "colab_type": "text"
      },
      "source": [
        "## **Intro. 데이터 시각화(Data Visualization)는 무엇인가?**"
      ]
    },
    {
      "cell_type": "markdown",
      "metadata": {
        "id": "p8KshUiKxluw",
        "colab_type": "text"
      },
      "source": [
        "# **Data Visualization**\n",
        "\n",
        "- 정보와 데이터를 시각적(그래픽)으로 보여주는 것\n",
        "  - 차트\n",
        "  - ex) 나폴레옹 러시아 원정의 그래프\n",
        "- 생성된 데이터를 어떻게 정보로 만드는지가 중요한 시대가 됨"
      ]
    },
    {
      "cell_type": "markdown",
      "metadata": {
        "id": "THZCBY9Yyu3D",
        "colab_type": "text"
      },
      "source": [
        "# **Infographics**\n",
        "\n",
        "- information + graphics\n",
        "- 정보, 데이터 또는 지식의 그래픽 시각적 표현\n",
        "  - 차트\n",
        "  - 일러스트"
      ]
    },
    {
      "cell_type": "markdown",
      "metadata": {
        "id": "7MXHnX_90exD",
        "colab_type": "text"
      },
      "source": [
        "## **Chart**\n",
        "\n",
        "- 데이터를 그래픽으로 나타낸 것\n",
        "- 차트를 사용하는 이유\n",
        "  - Comparison and Ranking: 비교와 순위를 매기기 위해\n",
        "  - Part to whole: 전체 중에 차지하는 비율을 보기 위해\n",
        "  - Trend: 경향 분석을 위해 (주가, 환율 등)\n",
        "  - Correlation: 상관관계를 보기 위해 (상품 간의 상관관계를 파악하여 매출을 올림)\n",
        "  - Distribution: 데이터의 퍼짐 정도를 알기 위해\n"
      ]
    },
    {
      "cell_type": "markdown",
      "metadata": {
        "id": "Iv1S1YEQAlOP",
        "colab_type": "text"
      },
      "source": [
        "# **Comparison and Ranking**\n",
        "- Column Chart: 다른 아이템들의 비교를 나타냄 / 시간 대비로 나타내기도 함\n",
        "  - 매출 현황(시계열 분석)\n",
        "- Bar Chart: 수평으로 그려진 Column chart\n",
        "  - 나라별 순위\n",
        "- Dual Axis: 2개의 차트를 하나로 뭉친 것 / x축은 공유하지만 y축은 각각 다른 범주를 나타냄\n",
        "- 파레토 차트: 가장 중요한 요소가 뭔지 찾아내기 위해 사용"
      ]
    },
    {
      "cell_type": "markdown",
      "metadata": {
        "id": "0E7u27msB86p",
        "colab_type": "text"
      },
      "source": [
        "# **Part to whole**\n",
        "- Pie chart: 통계적 수치와 범주가 전체의 일부를 나타내는 방법을 보여준다."
      ]
    },
    {
      "cell_type": "markdown",
      "metadata": {
        "id": "_Dc9-WiRDEW3",
        "colab_type": "text"
      },
      "source": [
        "# **Trend**\n",
        "- Line chart: 시간 경과에 따른 **추세** 또는 진행 상황을 나타냄 / 다양한 범주의 데이터를 보여주는 데 사용됨\n",
        "  - 회사의 성과: 매출의 증감과 비용의 증감을 시간에 따라 보여줌"
      ]
    },
    {
      "cell_type": "markdown",
      "metadata": {
        "id": "fiuIk5VsEwyB",
        "colab_type": "text"
      },
      "source": [
        "# **Correlation**\n",
        "- Scatter plot chart: 데이터가 얼마나, 어떻게 분포되었는지를 나타냄\n",
        "- 두 변수 간의 관계를 보여주거나 분포 추세를 나타냄\n",
        "  - 시간과 거리에 따른 마라톤 참가자의 기록\n",
        "  - 시간과 역에 따른 유동 인구\n",
        "  - 기저귀와 맥주 매출의 상관관계\n",
        "- Bubble chart: scatter chart의 변형 / 데이터가 버블의 크기로 표시됨\n",
        "  - x축과 y축의 연관관계, 발생빈도와 같은 새로운 데이터의 내용을 버블의 크기로 보여줌\n",
        "  - BCG(Boston Consulting Group) Matrix \\\n",
        "- Heat map: 색온도로 다양한 데이터를 직관적으로 파악하기에 좋은 차트\n",
        "  - 2개의 데이터 간의 관계를 보여줌\n",
        "  - rating information을 제공: high/low, poor/excellent를 색으로 표현\n",
        "  - 싱글컬러를 사용하는 것을 권장\n"
      ]
    },
    {
      "cell_type": "markdown",
      "metadata": {
        "id": "gyzfD0dzF_7k",
        "colab_type": "text"
      },
      "source": [
        "# **Distribution**\n",
        "\n",
        "- Histogram: 숫자 데이터를 빈(범위)으로 그룹화하는 차트로, 빈을 분할된 열로 표시함\n",
        "  - 세그먼트를 어떻게 나누냐에 따라 달라짐\n",
        "  - 공룡의 키\n",
        "- Box plot: 최소/상위25%/50%/75%/최대로 나누어 분포를 쉽게 보여줌\n",
        "  - A부대, B부대의 육상시합 성적 분포\n",
        "    - 중앙값, 최솟값 등 기준을 어떻게 하느냐에 따라 승패를 다르게 할 수 있음\n",
        "- Geo Chart: 분포된 데이터를 지도에 보여주는 형식\n",
        "  - 어느 지점의 매출이 가장 높은가\n",
        "  - 어느 정류장의 유동인구가 가장 많은가\n",
        "  - 툴이 없으면 데이터를 표현하기 어렵지만 요즘에는 툴들이 많이 개발되어있음\n",
        "  "
      ]
    }
  ]
}