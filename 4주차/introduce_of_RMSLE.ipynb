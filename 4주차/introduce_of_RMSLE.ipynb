{
  "nbformat": 4,
  "nbformat_minor": 0,
  "metadata": {
    "colab": {
      "name": "introduce_of_RMSLE.ipynb",
      "provenance": [],
      "authorship_tag": "ABX9TyNJGm3Jk5HVMPxCuWl+vSjc",
      "include_colab_link": true
    },
    "kernelspec": {
      "name": "python3",
      "display_name": "Python 3"
    }
  },
  "cells": [
    {
      "cell_type": "markdown",
      "metadata": {
        "id": "view-in-github",
        "colab_type": "text"
      },
      "source": [
        "<a href=\"https://colab.research.google.com/github/yooste/SOLUX_summer_data/blob/master/4%EC%A3%BC%EC%B0%A8/introduce_of_RMSLE.ipynb\" target=\"_parent\"><img src=\"https://colab.research.google.com/assets/colab-badge.svg\" alt=\"Open In Colab\"/></a>"
      ]
    },
    {
      "cell_type": "code",
      "metadata": {
        "id": "seC3Zq0D19uO",
        "colab_type": "code",
        "colab": {}
      },
      "source": [
        "import numpy as np"
      ],
      "execution_count": 2,
      "outputs": []
    },
    {
      "cell_type": "markdown",
      "metadata": {
        "id": "byRqjPF15pwy",
        "colab_type": "text"
      },
      "source": [
        "# **RMSLE**\n",
        "\n",
        "과대평가된 항목보다는 과소평가된 항목에 패널티를 준다.\n",
        "\n",
        "오차(Error)를 제곱(Square)해서 평균(Mean)한 값의 제곱근(Root)으로 값이 작을수록 정밀도가 높다.\n",
        "\n",
        "0에 가까운 값이 나올 수록 정밀도가 높은 값이다.\n",
        "\n",
        "Submissions are evaluated one the Root Mean Squared Logarithmic Error(RMSLE)\n",
        "\n",
        "  - n is the number of hours in the test set\n",
        "  - p_i is your predicted count\n",
        "  - a_i is the actual count\n",
        "  - log(x) is the natural logarithm\n",
        "  - 잔차(residual)에 대한 평균에 로그를 씌운 값이다. => 과대평가 된 항목보다 과소 평가된 항목에 패널티를 주기위해\n",
        "  - 정답에 대한 오류를 숫자로 나타낸 값이 클수록 오차가 크다는 의미다.\n",
        "  - 값이 작을수록 오류가 적다는 의미를 나타낸다."
      ]
    },
    {
      "cell_type": "code",
      "metadata": {
        "id": "Qa_NiLKJ2SGJ",
        "colab_type": "code",
        "colab": {}
      },
      "source": [
        "def rmsle(y, y_, convertExp=True):\n",
        "  if convertExp:\n",
        "    y=np.exp(y),\n",
        "    y_=np.exp(y_)\n",
        "  log1 = np.nan_to_num(np.array([np.log(v+1) for v in y]))\n",
        "  log2 = np.nan_to_num(np.array([np.log(v+1) for v in y_]))\n",
        "  calc = (log1-log2) ** 2\n",
        "  return np.sqrt(np.mean(calc))"
      ],
      "execution_count": 4,
      "outputs": []
    },
    {
      "cell_type": "code",
      "metadata": {
        "id": "PPSm_i6f4UYc",
        "colab_type": "code",
        "colab": {}
      },
      "source": [
        "from sklearn.metrics import make_scorer\n",
        "\n",
        "def rmsle(predicted_values, actual_values):\n",
        "  # 넘파이로 배열 형태로 바꿔준다.\n",
        "  predicted_values = np.array(predicted_values)\n",
        "  actual_values = np.array(actual_values)\n",
        "\n",
        "  # 예측값과 실제 값에 1을 더하고 로그를 씌워준다.\n",
        "  log_predict = np.log(predicted_valeus + 1)\n",
        "  log_actual = np.log(actual_values + 1)\n",
        "\n",
        "  # 위에서 계산한 예측값에서 실제값을 빼주고 제곱을 해준다.\n",
        "  difference = log_predict - log_actual\n",
        "  # difference = (log_predict - log_actual) ** 2\n",
        "  difference = np.square(difference)\n",
        "\n",
        "  # 평균을 낸다.\n",
        "  mean_difference = difference.mean()\n",
        "\n",
        "  # 다시 루트를 씌운다.\n",
        "  score = np.sqrt(mean_difference)\n",
        "\n",
        "  return score"
      ],
      "execution_count": 5,
      "outputs": []
    },
    {
      "cell_type": "markdown",
      "metadata": {
        "id": "PobLxjsb6u87",
        "colab_type": "text"
      },
      "source": [
        "**Cross Validation 교차 검증**\n",
        "  - 일반화 성능을 측정하기 위해 데이터를 여러 번 반복해서 나누고 여러 모델을 학습한다.\n",
        "  - KFold 교차검증\n",
        "    - 데이터를 폴드라 부르는 비슷한 크기의 부분집합(n_splits)으로 나누고 각각의 폴드 정확도를 측정한다.\n",
        "    - 첫 번째 폴드를 테스트 세트로 사용하고 나머지 폴드를 훈련세트로 사용하여 학습한다.\n",
        "    - 다음은 두 번째 폴드가 테스트 세트가 되고 나머지 폴드의 훈련세트를 두 번째 폴드로 정확도를 측정한다.\n",
        "    - 이 과정을 마지막 폴드까지 반복한다.\n",
        "    - 이렇게 훈련세트와 테스트세트로 나누는 N개의 분할마다 정확도를 측정하여 평균 값을 낸게 정확도가 된다."
      ]
    }
  ]
}