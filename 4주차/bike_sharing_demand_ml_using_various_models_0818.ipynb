{
  "nbformat": 4,
  "nbformat_minor": 0,
  "metadata": {
    "colab": {
      "name": "bike_sharing_demand_ml_using_various_model.ipynb",
      "provenance": [],
      "authorship_tag": "ABX9TyN0XdmJe6DM4ZXidoiyt6zh",
      "include_colab_link": true
    },
    "kernelspec": {
      "name": "python3",
      "display_name": "Python 3"
    }
  },
  "cells": [
    {
      "cell_type": "markdown",
      "metadata": {
        "id": "view-in-github",
        "colab_type": "text"
      },
      "source": [
        "<a href=\"https://colab.research.google.com/github/yooste/SOLUX_summer_data/blob/master/4%EC%A3%BC%EC%B0%A8/bike_sharing_demand_ml_using_various_models_0818.ipynb\" target=\"_parent\"><img src=\"https://colab.research.google.com/assets/colab-badge.svg\" alt=\"Open In Colab\"/></a>"
      ]
    },
    {
      "cell_type": "code",
      "metadata": {
        "id": "OIjNSJ9NPcdt",
        "colab_type": "code",
        "colab": {}
      },
      "source": [
        "import pandas as pd\n",
        "import numpy as np\n",
        "\n",
        "import matplotlib as mpl\n",
        "import matplotlib.pyplot as plt\n",
        "import seaborn as sns\n",
        "import pandas.testing as tm\n",
        "\n",
        "# 노트북 안에 그래프를 그리기 위해\n",
        "%matplotlib inline\n",
        "\n",
        "# 그래프에서 격자로 숫자 범위가 눈에 잘 띄도록 ggplot 스타일을 사용\n",
        "plt.style.use('ggplot')\n",
        "\n",
        "# 그래프에서 마이너스 폰트 깨지는 문제에 대한 대처\n",
        "mpl.rcParams['axes.unicode_minus'] = False\n",
        "\n",
        "plt.rc('font', family='NanumBarunGothic')"
      ],
      "execution_count": 3,
      "outputs": []
    },
    {
      "cell_type": "code",
      "metadata": {
        "id": "CIkbfkIpP8wd",
        "colab_type": "code",
        "colab": {
          "base_uri": "https://localhost:8080/",
          "height": 34
        },
        "outputId": "cc3b0997-a49e-4be0-c34a-9be4b46e7f71"
      },
      "source": [
        "train = pd.read_csv('data/train.csv', parse_dates=['datetime'])\n",
        "train.shape"
      ],
      "execution_count": 4,
      "outputs": [
        {
          "output_type": "execute_result",
          "data": {
            "text/plain": [
              "(10886, 12)"
            ]
          },
          "metadata": {
            "tags": []
          },
          "execution_count": 4
        }
      ]
    },
    {
      "cell_type": "code",
      "metadata": {
        "id": "bhF4z_PJQv3D",
        "colab_type": "code",
        "colab": {
          "base_uri": "https://localhost:8080/",
          "height": 34
        },
        "outputId": "0ad1af71-64b7-4e80-b85c-c8680cf37df5"
      },
      "source": [
        "test = pd.read_csv('data/test.csv', parse_dates=['datetime'])\n",
        "test.shape"
      ],
      "execution_count": 5,
      "outputs": [
        {
          "output_type": "execute_result",
          "data": {
            "text/plain": [
              "(6493, 9)"
            ]
          },
          "metadata": {
            "tags": []
          },
          "execution_count": 5
        }
      ]
    },
    {
      "cell_type": "code",
      "metadata": {
        "id": "k5amb8EbQ3Bk",
        "colab_type": "code",
        "colab": {
          "base_uri": "https://localhost:8080/",
          "height": 34
        },
        "outputId": "df2df0aa-614c-430b-abeb-6e1f9d47146b"
      },
      "source": [
        "# feature로 사용할 데이터들만 데이터프레임에 담아준다.\n",
        "train['year']=train['datetime'].dt.year\n",
        "train['month']=train['datetime'].dt.month\n",
        "train['hour']=train['datetime'].dt.hour\n",
        "train['dayofweek']=train['datetime'].dt.dayofweek\n",
        "train.shape\n",
        "# 12개 column에서 16개로 늘어남"
      ],
      "execution_count": 6,
      "outputs": [
        {
          "output_type": "execute_result",
          "data": {
            "text/plain": [
              "(10886, 16)"
            ]
          },
          "metadata": {
            "tags": []
          },
          "execution_count": 6
        }
      ]
    },
    {
      "cell_type": "code",
      "metadata": {
        "id": "32ZLdz19RoUp",
        "colab_type": "code",
        "colab": {
          "base_uri": "https://localhost:8080/",
          "height": 34
        },
        "outputId": "243dd438-1e7c-4d2c-9c03-6e6a2e42efc8"
      },
      "source": [
        "test['year']=test['datetime'].dt.year\n",
        "test['month']=test['datetime'].dt.month\n",
        "test['hour']=test['datetime'].dt.hour\n",
        "test['dayofweek']=test['datetime'].dt.dayofweek\n",
        "test.shape\n",
        "# 9개 column에서 13개로 늘어남"
      ],
      "execution_count": 7,
      "outputs": [
        {
          "output_type": "execute_result",
          "data": {
            "text/plain": [
              "(6493, 13)"
            ]
          },
          "metadata": {
            "tags": []
          },
          "execution_count": 7
        }
      ]
    },
    {
      "cell_type": "code",
      "metadata": {
        "id": "FL8GPPJXR76H",
        "colab_type": "code",
        "colab": {}
      },
      "source": [
        "# 연속형 feature와 범주형 feature\n",
        "# 범주형 feature의 type을 category로 변경해준다.\n",
        "categorical_feature_names = ['season','holiday','workingday','weather','dayofweek',\n",
        "                             'month','year','hour']"
      ],
      "execution_count": 8,
      "outputs": []
    },
    {
      "cell_type": "code",
      "metadata": {
        "id": "H9ShkW0QSYjG",
        "colab_type": "code",
        "colab": {}
      },
      "source": [
        "for var in categorical_feature_names:\n",
        "  train[var] = train[var].astype('category')\n",
        "  test[var] = test[var].astype('category')"
      ],
      "execution_count": 9,
      "outputs": []
    },
    {
      "cell_type": "code",
      "metadata": {
        "id": "Xv01KzuMSidS",
        "colab_type": "code",
        "colab": {
          "base_uri": "https://localhost:8080/",
          "height": 193
        },
        "outputId": "bf63570e-98a5-4480-b70e-4f70e8154f20"
      },
      "source": [
        "# 사용할 feature 선택하기\n",
        "feature_names = ['season','weather','temp','atemp','humidity',\n",
        "                 'year','hour','dayofweek','holiday','workingday']\n",
        "\n",
        "feature_names"
      ],
      "execution_count": 10,
      "outputs": [
        {
          "output_type": "execute_result",
          "data": {
            "text/plain": [
              "['season',\n",
              " 'weather',\n",
              " 'temp',\n",
              " 'atemp',\n",
              " 'humidity',\n",
              " 'year',\n",
              " 'hour',\n",
              " 'dayofweek',\n",
              " 'holiday',\n",
              " 'workingday']"
            ]
          },
          "metadata": {
            "tags": []
          },
          "execution_count": 10
        }
      ]
    },
    {
      "cell_type": "code",
      "metadata": {
        "id": "SrO94et-SyHH",
        "colab_type": "code",
        "colab": {
          "base_uri": "https://localhost:8080/",
          "height": 233
        },
        "outputId": "ca5ee980-4236-4306-ed03-7a084e255e53"
      },
      "source": [
        "# feature_names로 새로운 데이터프레임 X_train 만들기\n",
        "X_train = train[feature_names]\n",
        "\n",
        "print(X_train.shape)\n",
        "\n",
        "X_train.head()"
      ],
      "execution_count": 11,
      "outputs": [
        {
          "output_type": "stream",
          "text": [
            "(10886, 10)\n"
          ],
          "name": "stdout"
        },
        {
          "output_type": "execute_result",
          "data": {
            "text/html": [
              "<div>\n",
              "<style scoped>\n",
              "    .dataframe tbody tr th:only-of-type {\n",
              "        vertical-align: middle;\n",
              "    }\n",
              "\n",
              "    .dataframe tbody tr th {\n",
              "        vertical-align: top;\n",
              "    }\n",
              "\n",
              "    .dataframe thead th {\n",
              "        text-align: right;\n",
              "    }\n",
              "</style>\n",
              "<table border=\"1\" class=\"dataframe\">\n",
              "  <thead>\n",
              "    <tr style=\"text-align: right;\">\n",
              "      <th></th>\n",
              "      <th>season</th>\n",
              "      <th>weather</th>\n",
              "      <th>temp</th>\n",
              "      <th>atemp</th>\n",
              "      <th>humidity</th>\n",
              "      <th>year</th>\n",
              "      <th>hour</th>\n",
              "      <th>dayofweek</th>\n",
              "      <th>holiday</th>\n",
              "      <th>workingday</th>\n",
              "    </tr>\n",
              "  </thead>\n",
              "  <tbody>\n",
              "    <tr>\n",
              "      <th>0</th>\n",
              "      <td>1</td>\n",
              "      <td>1</td>\n",
              "      <td>9.84</td>\n",
              "      <td>14.395</td>\n",
              "      <td>81</td>\n",
              "      <td>2011</td>\n",
              "      <td>0</td>\n",
              "      <td>5</td>\n",
              "      <td>0</td>\n",
              "      <td>0</td>\n",
              "    </tr>\n",
              "    <tr>\n",
              "      <th>1</th>\n",
              "      <td>1</td>\n",
              "      <td>1</td>\n",
              "      <td>9.02</td>\n",
              "      <td>13.635</td>\n",
              "      <td>80</td>\n",
              "      <td>2011</td>\n",
              "      <td>1</td>\n",
              "      <td>5</td>\n",
              "      <td>0</td>\n",
              "      <td>0</td>\n",
              "    </tr>\n",
              "    <tr>\n",
              "      <th>2</th>\n",
              "      <td>1</td>\n",
              "      <td>1</td>\n",
              "      <td>9.02</td>\n",
              "      <td>13.635</td>\n",
              "      <td>80</td>\n",
              "      <td>2011</td>\n",
              "      <td>2</td>\n",
              "      <td>5</td>\n",
              "      <td>0</td>\n",
              "      <td>0</td>\n",
              "    </tr>\n",
              "    <tr>\n",
              "      <th>3</th>\n",
              "      <td>1</td>\n",
              "      <td>1</td>\n",
              "      <td>9.84</td>\n",
              "      <td>14.395</td>\n",
              "      <td>75</td>\n",
              "      <td>2011</td>\n",
              "      <td>3</td>\n",
              "      <td>5</td>\n",
              "      <td>0</td>\n",
              "      <td>0</td>\n",
              "    </tr>\n",
              "    <tr>\n",
              "      <th>4</th>\n",
              "      <td>1</td>\n",
              "      <td>1</td>\n",
              "      <td>9.84</td>\n",
              "      <td>14.395</td>\n",
              "      <td>75</td>\n",
              "      <td>2011</td>\n",
              "      <td>4</td>\n",
              "      <td>5</td>\n",
              "      <td>0</td>\n",
              "      <td>0</td>\n",
              "    </tr>\n",
              "  </tbody>\n",
              "</table>\n",
              "</div>"
            ],
            "text/plain": [
              "  season weather  temp   atemp  ...  hour dayofweek holiday workingday\n",
              "0      1       1  9.84  14.395  ...     0         5       0          0\n",
              "1      1       1  9.02  13.635  ...     1         5       0          0\n",
              "2      1       1  9.02  13.635  ...     2         5       0          0\n",
              "3      1       1  9.84  14.395  ...     3         5       0          0\n",
              "4      1       1  9.84  14.395  ...     4         5       0          0\n",
              "\n",
              "[5 rows x 10 columns]"
            ]
          },
          "metadata": {
            "tags": []
          },
          "execution_count": 11
        }
      ]
    },
    {
      "cell_type": "code",
      "metadata": {
        "id": "5DoOvSLMTH0S",
        "colab_type": "code",
        "colab": {
          "base_uri": "https://localhost:8080/",
          "height": 233
        },
        "outputId": "b1dafe2e-4831-4c49-c317-c4b2991e8d5b"
      },
      "source": [
        "# feature_names로 새로운 데이터프레임 X_test 만들기\n",
        "X_test = test[feature_names]\n",
        "\n",
        "print(X_test.shape)\n",
        "X_test.head()"
      ],
      "execution_count": 12,
      "outputs": [
        {
          "output_type": "stream",
          "text": [
            "(6493, 10)\n"
          ],
          "name": "stdout"
        },
        {
          "output_type": "execute_result",
          "data": {
            "text/html": [
              "<div>\n",
              "<style scoped>\n",
              "    .dataframe tbody tr th:only-of-type {\n",
              "        vertical-align: middle;\n",
              "    }\n",
              "\n",
              "    .dataframe tbody tr th {\n",
              "        vertical-align: top;\n",
              "    }\n",
              "\n",
              "    .dataframe thead th {\n",
              "        text-align: right;\n",
              "    }\n",
              "</style>\n",
              "<table border=\"1\" class=\"dataframe\">\n",
              "  <thead>\n",
              "    <tr style=\"text-align: right;\">\n",
              "      <th></th>\n",
              "      <th>season</th>\n",
              "      <th>weather</th>\n",
              "      <th>temp</th>\n",
              "      <th>atemp</th>\n",
              "      <th>humidity</th>\n",
              "      <th>year</th>\n",
              "      <th>hour</th>\n",
              "      <th>dayofweek</th>\n",
              "      <th>holiday</th>\n",
              "      <th>workingday</th>\n",
              "    </tr>\n",
              "  </thead>\n",
              "  <tbody>\n",
              "    <tr>\n",
              "      <th>0</th>\n",
              "      <td>1</td>\n",
              "      <td>1</td>\n",
              "      <td>10.66</td>\n",
              "      <td>11.365</td>\n",
              "      <td>56</td>\n",
              "      <td>2011</td>\n",
              "      <td>0</td>\n",
              "      <td>3</td>\n",
              "      <td>0</td>\n",
              "      <td>1</td>\n",
              "    </tr>\n",
              "    <tr>\n",
              "      <th>1</th>\n",
              "      <td>1</td>\n",
              "      <td>1</td>\n",
              "      <td>10.66</td>\n",
              "      <td>13.635</td>\n",
              "      <td>56</td>\n",
              "      <td>2011</td>\n",
              "      <td>1</td>\n",
              "      <td>3</td>\n",
              "      <td>0</td>\n",
              "      <td>1</td>\n",
              "    </tr>\n",
              "    <tr>\n",
              "      <th>2</th>\n",
              "      <td>1</td>\n",
              "      <td>1</td>\n",
              "      <td>10.66</td>\n",
              "      <td>13.635</td>\n",
              "      <td>56</td>\n",
              "      <td>2011</td>\n",
              "      <td>2</td>\n",
              "      <td>3</td>\n",
              "      <td>0</td>\n",
              "      <td>1</td>\n",
              "    </tr>\n",
              "    <tr>\n",
              "      <th>3</th>\n",
              "      <td>1</td>\n",
              "      <td>1</td>\n",
              "      <td>10.66</td>\n",
              "      <td>12.880</td>\n",
              "      <td>56</td>\n",
              "      <td>2011</td>\n",
              "      <td>3</td>\n",
              "      <td>3</td>\n",
              "      <td>0</td>\n",
              "      <td>1</td>\n",
              "    </tr>\n",
              "    <tr>\n",
              "      <th>4</th>\n",
              "      <td>1</td>\n",
              "      <td>1</td>\n",
              "      <td>10.66</td>\n",
              "      <td>12.880</td>\n",
              "      <td>56</td>\n",
              "      <td>2011</td>\n",
              "      <td>4</td>\n",
              "      <td>3</td>\n",
              "      <td>0</td>\n",
              "      <td>1</td>\n",
              "    </tr>\n",
              "  </tbody>\n",
              "</table>\n",
              "</div>"
            ],
            "text/plain": [
              "  season weather   temp   atemp  ...  hour dayofweek holiday workingday\n",
              "0      1       1  10.66  11.365  ...     0         3       0          1\n",
              "1      1       1  10.66  13.635  ...     1         3       0          1\n",
              "2      1       1  10.66  13.635  ...     2         3       0          1\n",
              "3      1       1  10.66  12.880  ...     3         3       0          1\n",
              "4      1       1  10.66  12.880  ...     4         3       0          1\n",
              "\n",
              "[5 rows x 10 columns]"
            ]
          },
          "metadata": {
            "tags": []
          },
          "execution_count": 12
        }
      ]
    },
    {
      "cell_type": "code",
      "metadata": {
        "id": "U3Fmval5TrRn",
        "colab_type": "code",
        "colab": {
          "base_uri": "https://localhost:8080/",
          "height": 140
        },
        "outputId": "0ba01224-3045-4aab-ec30-fbbc7bbd30e3"
      },
      "source": [
        "# label 데이터를 가져와서 y_train에 담아주기\n",
        "label_name = 'count'\n",
        "\n",
        "y_train = train[label_name]\n",
        "\n",
        "print(y_train.shape)\n",
        "y_train.head()"
      ],
      "execution_count": 13,
      "outputs": [
        {
          "output_type": "stream",
          "text": [
            "(10886,)\n"
          ],
          "name": "stdout"
        },
        {
          "output_type": "execute_result",
          "data": {
            "text/plain": [
              "0    16\n",
              "1    40\n",
              "2    32\n",
              "3    13\n",
              "4     1\n",
              "Name: count, dtype: int64"
            ]
          },
          "metadata": {
            "tags": []
          },
          "execution_count": 13
        }
      ]
    },
    {
      "cell_type": "code",
      "metadata": {
        "id": "O57_74GGT9-_",
        "colab_type": "code",
        "colab": {}
      },
      "source": [
        "from sklearn.metrics import make_scorer\n",
        "\n",
        "# bike sharing demand의 평가방식인 RMSLE 정의\n",
        "def rmsle(predicted_values, actual_values, convertExp=True):\n",
        "  if convertExp:\n",
        "    predicted_values = np.exp(predicted_values),\n",
        "    actual_values = np.exp(actual_values)\n",
        "\n",
        "  # 넘파이로 배열 형태로 바꿔준다.\n",
        "  predicted_values = np.array(predicted_values)\n",
        "  actual_values = np.array(actual_values)\n",
        "\n",
        "  # 예측값과 실제 값에 1을 더하고 로그를 씌워준다.\n",
        "  log_predict = np.log(predicted_values + 1)\n",
        "  log_actual = np.log(actual_values + 1)\n",
        "\n",
        "  # 위에서 계산한 예측값에서 실제값을 빼주고 제곱을 해준다.\n",
        "  difference = log_predict - log_actual\n",
        "  difference = np.square(difference)\n",
        "\n",
        "  # 평균을 낸다.\n",
        "  mean_difference = difference.mean()\n",
        "\n",
        "  # 다시 루트를 씌운다.\n",
        "  score = np.sqrt(mean_difference)\n",
        "\n",
        "  return score"
      ],
      "execution_count": 14,
      "outputs": []
    },
    {
      "cell_type": "markdown",
      "metadata": {
        "id": "ufHghZhYVTJR",
        "colab_type": "text"
      },
      "source": [
        "# **선형회귀 모델 Linear Regression Model**\n",
        "\n",
        "  - 선형회귀 또는 최소제곱법은 가장 간단하고 오래된 회귀용 선형 알고리즘\n",
        "  - 선형회귀는 예측과 훈련 세트에 있는 타깃 y 사이의 평균제곱오차(MSE)를 최소화하는 파라미터 w와 b를 찾는다.\n",
        "  - 매개변수가 없는 것이 장점이지만, 모델의 복잡도를 제어할 수 없다는 단점이 있다.\n",
        "  - 아래 위키피디아에서 가져 온 그래프에서 파란선이 선형회귀 모델을 나타내고 빨간점들이 훈련데이터를 나타낸다.\n",
        "\n",
        "  ![linear_regression_model.png](data:image/png;base64,iVBORw0KGgoAAAANSUhEUgAAAcIAAAFyCAYAAABm0towAAAABmJLR0QA/wD/AP+gvaeTAAAACXBIWXMAAABIAAAASABGyWs+AAB2tklEQVR42u2dd3gU1ffGP3fKbhISem+CiIqAiqCCgg0Uka8KAoqC2PWn2BV7b2BXrNjFAiqKBQuIiIoNREFsgFKk95a2O+X+/rgZNqFJCSQh5/M8gWTL7OzM7n3n3HvOe5TWWiMIgiAI5RRLDoEgCIIgQigIgiAIIoSCIAiCIEIoCIIgCCKEgiAIgiBCKAiCIAgihIIgCIIgQigIgiAIIoSCIAiCIEIoCIIgCCKEgiAIgiBCKAiCIAgihIIgCIJQ1nF27OmaIBmAbWPbKnWbl8QPQVkurmuh5DgLgiAIpRS1I22YwgAse8PbNJadkr4wBEviTkEQBKGUsp0SFZBIeFj2Or5++D1Gf7tgfTRo2Zof7uvGCSf24c7BM4wIeoEcaUEQBGF3EUJN4NvE4y4r3r+Ls669mc+X+QV3KX56rSP9/jyAXsfW48sPzuDWn32wLJKh9P8VBEEQSh/btkaoQ0JlYedP59HLTuXpGVCj7uE0spMEgM1URt2UTZ+xd3LOPklqrriQ5x/9gtzXOpOW8NFxR9YLBUEQhLIbEWoUFpC/1qV1z0F88u6LdGuQRd6apNnQvN/4fd1xdNlbE4QOe+7ZkoZ/T+ZfwLI1WoJCQRAEoSxHhEqZeC5eew8O77onNjPBShKgTKTnawI3xNMK24LQSqItTQBsKhRcvnw5jz32GJmZmWRnZ3PkkUfSvn17giDAtm05O4IgCMIOo5TCdd3N6sp2lU8oS5mMUStBqBWpJFGNRgH/HfoFQcArr7xC5cqVCQKTTDNp0iR+/fVXOWuCIAhCsWBZFqtXr6Zly5b07NkT3/dxHGfHhTCa44wixPXEbGJJcDV4QYgVpKHCBC4ba6Nt21x77bUALFy4kDvvvJMzzzyT9u3by5kTBEEQio3p06fzww8/bPb+7SyoV+v/t10HOyoUrN+KltXv571/7uOQvQP++vt7Zje/hIZAGFgoZ+OoUClFIpFAKYXneYRhKFOjgiAIwg6jtUYpRTKZ3Dhw23Eh1AUBnseaRStxc6LyiWac9GB1TuhzMRWPTfLht4s55dkjSAtCkq5FbEM5VQrLsrAKhDT6W2u9/jZBEARB2BEh3JIIwvYW1CurYF2wDsdf24tjD65VcLtm/1Pe5dXDAmYsyaLPeW9wXTMFGmKWFE4IgiAIpY/tnhq1LYCaHHXRiUVuD8PKdHz8OToW3BKGYDkigoIgCMJuJYTrA08Cr8B0uyDis6wQP+kTAko5uK5McQqCIAi7rRCaZJmiWDixmBxZQRAEoUwg4ZogCIIgQigIgiAIIoSCIAiCIEIoCIIgCCKEgiAIgiBCKAiCIAgihIIgCIIgQigIgiAIIoSCIAiCIEIoCIIgCCKEgiAIgiBCKAiCIAgihIIgCIIgQigIgiAIpRmlNZbWIoSCIAhC+UIDaI2vFHnxOAQBKCVCKAiCIJSTSDAMAaiiFE3//RdsG8vzdoEQ6gAvkSCRSOAFoZwJQRAEoQTCQY0qiAAbDhzIUU88Ab/+ipWWBsnkzhTCkAAbNx4nHo/j2hZeqOWECIIgCLuWZBJiMTjnHPQbbxDMnw+nnQZ//GFuLxQZFq8Qagvbn8qg7sfTucuZ3D1qCa6lCHyJDAVBEIRdSDwOvXrBK6+gYjFs14W//oKePWHOHHBds2ZYfEJYEPWp6Qw57hQ+qHQyZ/ZsyR+f382tk/KxLUUykMhQEARB2MlE2aHt28OIEUbwkkkTAbou/PknHH44/PILWBaEYTFHhIt/4ZMJh3HbyxfT97zrGLB/BWbd9jKzLIWDj8ySCoIgCDuVKCv0rrvM/4WTY6L7zjkH9twTwhCUKmYhzPdRFfekZsFrZaZVp/ryZeQWhJ4b6qBlWQX7puTkCYIgCMUXFR5zDEyZkrotigxvvx3uuQcqVjQRYbEL4R5NaB57hhGjl7JsxZ98/PGDvBGfTW4eYIcbKeHSpUu5+eabee2118jMzCQomK8VBEEQhB2KCoMADjgAfv7ZrBd6HtxwA9xxRypKLAjCikkICyI61Y67vn2cP845kIO6X8+y1pdxVdM1LEts/IwgCHjttdeoVq0a6enpaC3zpoIgCEIxYdtGDFu1wnvrLXJOPhkGDjRRoesWKawv9jpCe8/T+WDhQuZ9/SHn18hi0R+HsW9lwLeKFPTbts0111zD1VdfTe/evcnOzsa2bTl5giAIQrEQFiy//dG0KcN69wbA34TOFLMQLmHyOxPJBSCbX377itkHtKEeEATWRs42QRAQhiGJRELWCQVBEIRiJVIVJwhISxRMTW5i9tEpnpfTBS+5kskPXsf1PxxNBz2XsUvh9FuOIB5ofNdiQx1WSmFZ1vqkGUEQBEEobrRShFsItopJCKMXaMaF4+/hj6teZb5Vl7P7P815+yrCQOOWA7HTWpPcwLpHKB84jiNT+4JQVr+/xbu5kDCjPY8Nab/+Fi8E1y4f055KKeLxuHyqBEEQyq8QWlhhQNI3ZRDKdsuFCGqtUUoxf/58LrzwQtasWUMQBJIJWw4ufFzXJS0tjWuvvZbOnTvj+z6O48jBEYTyK4SAZROLla8pokgI586dyw8//MCwYcNIJBLEYjH5hO3GeJ5HPB5n4MCBfPXVV3Tu3JkwFF9dQRAhLMdorWnSpAmdO3eWg1GOGD16tLgkCcL2DZqbbJQrQljGSSQS60tCSmq9UGu90bSsUhalaYyO9q8sC0cymSQWi5Gbm0tGRoZ8+AWhDIqgCOFOoHBJSOkqCwkJtYW1xc+dJgw0yrYoDR9PHYZoFJZVOsUyOsdKKVkPFoRtIQiM88vKlVC1qjG/LsHxUoSwNOL7sB0JF6aa02fd4jnMmLuE7ERQUDzqsO+Rh1NLpSo+NyPjWDs5uclcBOaz6Pf55GXWpPEeFVGbuTJUVukQZEEQdsL4tnQptG4Nt90GF1yQapMkQiis/zBsqxjqED+0cO2lvD/gQq76cDb1966G7YWEajktjnuE227uQdOKCo1GBz5+1CNSWTiuDbmL+HXiWuq224vqcQcLTRgE+EFBAohl49j2RlGlDgOCAJQVEgQay3awo6hSh/ieT1gQLWO7uGolE54bwbz9unDFRftDvg8xRVDwOpYTw1H5LP5rDsv9yuy9X01iSgEhnh8UeLcrbNfFFqUUhLIngosWQbdusGABXHghZGbC6aenusqLEJZjog/Bu+9Cjx7b/KEwQZVHIv9Qrr73RW66tHHBPfkMa9eY49dUZsqznajgg+W4FEnuDYGMKdxx9Hju0A9QEwhDhWU7RR+3iZhSWTaOBWCzvqY80GBDEFo4hd+DH4JVl16P35C6Ld1cBa5/rtagQqYOeYURq0/g+VdqQ34SLy2GW2RnAjS2RI2CUBYIAiOCy5bBaafBxInmol9rOOMMI5Jnnlkia4cihKWF/HxIS4OhQ+Gss4xL+g03bJsYagpEKpcVS+eSk6iL4/ngVuD0kY/weL33+GlwJ46OKWZPfoshr35LqNKp2K4HV/bem99ue40ZFWcxcMBL3HTnuRyQAfOmvMNTL31DqNLJOqwbl/RoRzUHwoLPqiLBwil/MnNaNmGtbxk5aglt+vTnzEObgAbbXsbbt9zDhLVQc5/uXNv/KOKsYPLbk1hZ+0COOyJkzNMLqdvqT155dxJBvD6n33IdB8wfy6fffslPyfkMGVWNvl2aU2HNOAY+8AGL1mli1Rtx6W1X0whNiEJM+gShFBOVFU2daiLAiRPNuBY5ccXj0K8f/POPaZO0i9cMZfwoTSL44otGBONxuPFGuPde82FJJLZxgwrbiRGPx4nH04jHNV6lppzWeiKz1sKaSY9yc/cr+E452MGP3HrZjTz67VKcSpmQ1LjxOI6CZT89zS0n92eCdrDDSdxxxY08+PnCAtEN13vXrvrxeU7rdwmPTHHIyFjJ61fezytfLEapdYy9/BReneKQkWExfcQT9H10Kopcvn78dd766F9gCW9e1ZsBb/xBRkYG2d+9St/Lx+LZFXACjdY2TsxGWf/wzpVvM3lJEsdxWP7ZwxzZ7QOWFUSZkqoiCGUA297yhX16eonslkSEJU0yaUTwpZfg//7PTBV4nvmw3HKL+T1qJLndC8kKV2fg7D2TVYvBrdqG/i99xeGd9gGg2e/dmPi9R5trL+KwgR9z1T19aA6sqXoQ//fCeNodux8A+8/oxbdTZ5PXpS7pShMWfIRi6Ta1GrfknEuu4ZRM+OWOjtw5+hO6tjmQkU/Y9Fn1MGdUhmUf3cMp541m1VX9qVGzMlUqu0A61eraOG2v4K6+teH7Ohx04s/w/HWcfFxXwtxOnHfcvhB8yhuvLKDXgo/oUxfgHj4e8SdxFJaFCKEglGYsy0R5LVrAhx9Cr17wxRepqdFEAt55B3r2NH/v4gxSiQhLWgQdBx55xEwXgJlHD8OU8N15J1x2mXncDhh6+2olq8YfQrUqkNGkA3vaH3Fkk6bsfUAzbps8kwr1MwjWLGZduJqF65KEQKU927J3xucc3aQp+xzQjBt/+IP0upUL1uSiOfwk63Kr07LhcRyV6eN5IQ0OiGNnriP/z6lMOLkXzewEnudjN6zH0e3G85ufQcxJ4nlmGjcv7xiO3j+G53ksWKfZs0oGvs5h9ZrVrFm3nLVBiPY78Ni3J/JJp+bs1bQpzQ7vxZrDW1MRCJSSdUJBKAti6PtQpQoMGwbt25txzvfhvfeMCHpeidQWSkRYkkTR36mnwujRMGaMEbwwNB8Gz4N99oHLL9/GLFKFUpa5yim4svKnjOeZZr2ZWS9k2kt3cO+L6+j/znD2slfy4XlPEKzNg5iDhYubFsPC4/fXB3H3U8u46J3h7G2vZtRFT5Jck1sQCer111KOlcua7AUsw6GqC0FCE3oaXbM2+/z2Fat0DNdVJNfms2JOU2rZSf4t0qjZBtv4djpoEoE2+69sHCdO3LZQfiaNDruQwe+3Y866JKt/epm7jryaRn88QjsrIMTGEjUUhNKN45iL/Ro14IMPoE0bM+PVvXuJlk9IRFiSKGVOfP36Zrrg6KNTgheGsOeeMHkyNG1qbvuP6QJd8G/oJ8nLzSY7N5fcdXnk5n7Lvb2e4IybzyaTlUyfOoMfnOacdFBrWuSN5/M/xrLAycRCEXpT+GNGLr7OZtbUP/mW/TjpoNbsn5zAF7+PZp6bRdGPqkulCqv4etowHhm3ltzc3xnylKZu1qHU23N/Dlr7HKO+WEFu7nKmfP4jH2Uczt4qh+yckCDUgMZPJvEL1tK1DvCTPiEurrOUhfP/Yk7SR8e/4dr9BzAm2YDWrVtzULO9qZRbhSo2qAAkJBSEMoJtm/GtalWTPNOvn5kOLSERFCEsLWIYfQjGjYMOHYwYNm4Mf/8NFSpsdTqxeUgG9fZbyocv9qHp3k1psu+eNG7cjfCFv3j4KBuoRueLu9Ml52b2qFmT9m9VpffFHWik/2BV+nGcespv3N55f16ZU4UTLj6FE73baVyzJm1fS6PH/x3NXvYMlhepoMhjRf4+dNv7KLK+OYnGjY5m0tHncNO17XCox/VTnmfx5S1o3Lg5146rx7CvTgXWEKtdjSpZLuBSuXZlMlzzUbTjWVSv6ZKLQ9vT28JP93L29a+xgMMZ+JjLfSc1pWbNmjQ/+1m6jrmVZiokcGz5IAtCWcKyzLiWlVV48NpphKFC6y1YiegS9IYKwxDLspg7dy4DBw6kd+/eHHXUUQRBUKaanEbvY8KECfTv35+pU6dun9dolDLcoQOMH1+osK6Uvm8NlspjypCHefCtRjwzri8Vy9F3OfIaveSSS6hatSr33HMPnufhluCVrSAIhb+jIa5rMW/eVL75ZhKnn34+WvvYdtFlJlkjLG1XSWEI33wDO3B9oguVNqSixcJrchod6oKyQ4UqKJJXShX4e0b2Zpt/XKqwXuPlZbNq+TrydEhmnk+Y7uKsfzFNGEY7o1CWSWzRBYWIShX8XnA7WhuBtVTB7+Zxlir0d7Q1sWATBGETeJ75PxYzI8S4cRXx/QZYFnie2ijGECEsjWK4g4vG/91pIiVI0d+bFpfNPw6i2x1qND+YzqdUI0NZWK69QUeJTZtmK0tt8ncjeoV/3/A+kT5BEDaN75tcnGgy7q23FP/+C9dd15g2bRqz777Qtq293vNbhLA0U0am1owmxWh0bA+uODbad7E8EwRh1xEE5kdrI4COYwy6li6FAQPMYzIzYe5c89Ou3cYTbsUvhDrASxaYLFsOrgyMuz068PFDhSPnWhCEXTXuaFNaHY+northw+CXX+DBB83fWVmadesU2dmLGTx4AX36tCaZDInFrJ0phJpQ2bjxQjGnH1LgyCzspijbwbXlOAhCqVcO3y8zM05bwvPMKlI8DlOmwP33G4OuESMgOxsyMiA3F9at07z+umL58sVUq/YTvt8a2w7ZsGCimIVQYa39isuOuZyvPYdmx9zAU4/2olroE1qOpLgLgiCU2BVrQd1yCTfB3RHCMFVttmwZ9O4N8+fDjBlFH5eba+r1q1VTHH44/Puvy9ixFXAccy2wIcV0NKIJ16k83KEPybOf5Mknr6TSpEc5fcA3BMpGJQPxgxQEQSiJSBBM77///S+VkFcGsSwzDdqiBRx6qCm93lAEX3sNfvsNTjoJDj/cCN+qVRrXDTe73eKNCBf8xvg/u3D9pR1oTwdqnDudu5/8mr9VB/axQkJtbzKb0bIkVhQEQdgpIqiUCZFatoRVq0zPv9deMwph2yXi7bktux5FgpZlGtovWABLlpjbox7mV1xhGvYkEtCgQeo5YWiSZ2x7yxVpxSSEBXtb50hOO/t+vh63kMb7LOWblZrE2V1oqiHA2sgL0rIsEokEiURig5R7YQcmD0jmJgjtGGnxogt3YSKHNWs0FWtmYm/cX7cckmDNkgTxalmkOfL5E3ZDlDKLZvXqwdq1Rjlef910t3n++ZQ6lKLxNxK9SL89D/r0Mc0q8vNTj6tc2bhSDh9u/i7c3anwNrYq0izeuLU2J9/0CIm7W3PooX0YvuJQBvdrifJDLLtoRqHWmr///pvrr7+eV199laysLPxNTd4KW3n5FOIFAPN4+YwB3HTv9/gAXrDeg3TlpGFc9b+hzAN00sMPQoIwwPf9At/P1LYC3ze3B4V7/WmCwDze9338gudoHRIGAUEQFN1OwXPCICQMfIKg4PFhULD9oEiBPDo02w0CwjAkDMKCD3XB9v2g4HurN71/WhME/vr9K/qWUvsdBL7xNg0ncuex9zNmXvb6b8/67YZhyrs1CAnDcP22Q5njF8pCJBgE8NdfsMceRgQjI3/XTbV9W7nShFS6ZD/UQWB2IxKwZBJmzYLrrjOCN2ZMSgQbNzZTnqtWmaYVsZj50Tr1NrZ1krGYIsKC8CI5nisa9ybj6+XM77CWl/qeSOdTs/luzBlkJXzCeCphJgxDPvvsM/bff388z2P69Om7ZVQYdVXa6Rd+gLLNb3bMxd0oU1dRvf35vDKx4M+4mzr51gbCpSzsws8PNNiKMFQbWd9pCgr47c3vmWWr1IuEIcqysQtt3hjLhATKwtlEhnHRqXNNECjswp04CjKTQ6U2sE7SaBRoUJZdNHk51GB14JFfO6yPpLVlYVsbv2+z/0UPlGihUKqJzPtvuMGIXeFu8JHavPEGdOpkegMGwTZ0tyn+8bFwIusPPxiHyRtvTJVFeB7stx9UrAjff5/S+sLB7I7IR/G882iabd48VtS4nes7JMjJqcDRp/bh3wdn8g9woKvNjhfsrG3bXHrppQAsWbKE2267rUz5i27NjET0WdxVbys3AU7cfEI2NVAnls7kp58UB5+wByumLWBd7jqW5E/jjxk++3TsylF7VgOtsNQCRj8/ijmhS8P9O9GlXcMC27Mk333+Pr/PWkUYr8geR3fn+D0cVi9fyqzZ/7L0zxmoZifQ+eDqEIRgW5C/kJ/+yiH890v+SnSgb69m5Mz5gY9GT2WdVYMje/yPfavG0NrC1v/w2ktjSVauwf4t21F9yVpqHtGQpf+sZN3CH/n1jzTanHYC+1ZewZcvjmCGb1Gz6VF0P6YpGrBYxNejRvPnggTEKtL5zNNp5JjP3IoZHzHyy0UEKkbT9sdwzH4NgYVMGrWU2kc1p0GmiwoXMfrlD5njp9GkzbF0al0XWMKvXyaoVudfvvzpD3L9SnTocRrNskQMhVKM6xqVef990+v0+eeNGAaBub9iRSOEJ5xQIu2PoiL4WMyMj6NHQ14eLF4MF1+cGkODwCxtNmkCL75oGlZELQuLU7eLZ1OREldtSM30u/l27WWcWxEWTvuerxOtuAAgALXBsfY8D8uyyMnJ2e2iwWTSuBl8952pc4k6j+wMwdUa6tWFk07e0pWRZuXkt7muJ7yfew0/P3UT93y2iuYXNWT5V19yw9DZvP/ujRxZM5sfrr6FhyYvxslYy/IhP/DLwPu4qXN1fnv0TM5+/HdqN2tAhTnf8Nkri/l3bH9WjH2E/7ttDE1aHcT+Tls6tamOHYZo20ItGc2Ano9Tq1Vj0uruRZcDc3j/8jsYiiIzfzFDPl7NU0P60a7WUj674Gpum604pKnFB4MHsnZVD96adgHv334eo+atoXLV46nV4xD8gXfx0AczCavksmr+OL6/+3Ee6FaBaUNe5dG3PiYvnola8DV3vaP57pPeVJ/9PU9d9ShfhOlk+HOY+uD7XPHCC1x/5K8MPPFNuk1/ijP3Wsin157HfZMyqV5tNcvfnMxvg27hynb/8uwZV7Ho2Kaku2tYO+lbHvquChOfO450mSMVSjO2bVTjueeMajzzTGoe8ZVXjAgmEik/sl00Y1u4CP7TT2HOHLjkktRj0tONKDZqBMcfDxddBAccYEQxmSy6Fli6hDBSwiqH0/8GxZlH9GbCQbn88X3A0YNOol4YEKqNXUds28ayrN0qEoyIxcwi7mWXwfLlu+Yzf/8DcM3Vm29kb6dXolYDjU0alauuJVmvBVfe+CAtbpxI9+pP8+u8HA73RnLl5y2YMO1lHGDVyJs4+7mnmX3MreTq/Xl5/Fsc3gjgJ07NuIOf8q/igJw1ZDiHcNtbL9AMEwyut1qz0qiyJI+jnxrJRTV9Prr/Okbvcy/fPNYagOd6HMWI8W3Zs+n79P/lQH6YfCe18Bje7wBuT6tBFllUXDSbqoc/zzv3HQFLXqLtK9X5cPpgagL88BBdbnmEhd1u5sOHvmKfmz9l0NmZQILn7/mUhA5Z9PUIPv6pOz8uuQyAmR9+xg+eD7oStepXo2KGjbf4G159VHOnfp+OwMj/O4+n7p3I5aMOpUHt+czd53FG3twa/nmeFgeMY+5zx9FShFAoC5FhIgFPP22uxIcMgbffhpNPNotuaWm7bFcizY3H4euv4fPPzW6tXGm6Ma1bl3rs3XdD27Zm5jZ6bhQ97gyKd1JYp3HgBW9xf/6L/JJr07FXN/p0aQQ6RDnlq1NAGEK1aiYq3BVCmBaHOnW2FBGahBEvCYoEa7Ob0qpJO2qHSRJ+Do0qV6K6o1AL5jE592O6dPoYrdLQKyezrlpbpucpjr/6Zr6472KOGzudpJ3DirQmZNkh+WE9qlWpTQUviecr7HS3UHMKDfGuNM5MkEwuI9+bw9gvr+LE42LkWxXJ++0rqhy2jqX+AnJ796RWMkHCsjnohHPp8NAKcsgjEXagac0Y2QmP9H8W8Yf1Iad1Go+tYujsv1jh1+antYM449mu3H9vD44c6mGn1eTc54azt4Lso8/ggh6P0vGYkWjSaHn2Ndx3Um3Qv5Dnh+D75Pz7L1NPupADgwQJ36LF4RU44KvJLORgksmjOb51dbxkgtzVmpZVshAjHaHMEI+byPDZZ02IdfLJRll2kQgmkykXmBkzjAvMhAnm9ygYXbfOaLTjmHGsS5eUALruzg9ai1cIlSZ0anLCVTdyQnRbQSJDeUtODwI49lgz9/3PP6kOSztrarR6NTj4kNRFYJQliR+ild4ga1eDdlC2Q8yKEbcV+b6PB4SAW/dgTunTmniocCpdQuMDDuTACgt458o7+GxlPbr3aUNWxlJGTp6Kr0N0aOHY6VRwY7iB8Zld/2Jao0gnMyNOTENSZVK9eStOPbYeCQ8qXnsVBx50EOmfDib/93kstm1qEJC7ZhXZdjVsQsIgRlp6GhlxF0uHqBqt+N8ZbamCwq5QnT1btaRFGlTpeCn3VduLDyYvIFz7Lc8eexGVP3ua/+1xMOc/fS9Vnx/HKms5XzzzADevrMZjV1YlpgNCFHZaBaotWk2OZVPJ1uSttQlyK5OORxjGsV0LNxYnpjQ5vphDlOkvpl0OL2Nc1wwU3bqZ5IVdMB0aJcLEYmaq86STTA3gr78WjRIHD4a99kqJXySetr3rZm2L32JNh/gFA4VSNrZTPnvGRWvVe+9tfnYF+UlIi2nCwCaeXpE0xylyhosO3hqtU70GTb+/ELv5wfSYPYYO55xHCyD/6xE888RUOgyuyatDF9HincFc3DGdlcPbc1NebS62TE9CTVhUAAt9JiBAh4BVg8ZVG3NUoilnnNMbG/jxyrv5Ma8hvY7oSMtLRvHzM/04IT2bKRM+ZHz6pVQgJFQhoS7Y/wMPpvusBbQ79zwOA5g5lifu+pb9X6vBG30fwz/rSs45LxPYj7HXPgvVfRZ+/jKDhtRl8IjzgJCMD/7mq8UJwEEFGm3ZZOxdn30nXc/YNRdxbuVFfPXVYibFT6EaeeQnCx87JVaBZRm7nMfyUQbfLjrUtg2HHGIivr/+So2Nnge33WZ0uVUrc3tkdqPUzlkH3BLF/51WFo7r4roujlN+G6dqnUqQiTKkdvaPYwPEqVzrd5696xjq7NGAenXqUqdOHc4Z/heWZRH6YcE0aUgY6PWiGPghgR9gVTieR5+pxkVVa1KzZk0OuH4otfq1I2R/rrxKMbJ3A2rVrMmZf57MmUdOYuY8sFVI4G8uRgoJfFAWEMZpe/ZF9NjzbfaqWZOatapyS6I2bdrXJq3BOYx8vh6nNajDnkd15ouM4+nprWUVChWEhLpAgCocx1PDmnFH1VrUrFmTxj3vJO2i48gggxPOrsjrVzemZs1a1KzemYov3EWXCjFqtGnPPvHrqFKzDjVrVufRzIacf0Mb0EvJ1wo/GeBU7sotI7rxTJM61KnTmmFeGx58si2wnIRShZQw3KC2UigTX8aIVq1SI64uZ2exuFMt2fRhjP4+5hho2BAmTTIiGL10nz4wb54pj2jVKlXy6LrmpwSqOFBal9ynIQxDLMti7ty5DBw4kN69e3PUUUcRBEGZSqCJ3seECRPo378/U6dOJZFIEN+F2ViFI73AyycnNx/PT83FxjIrk+lqkglNLN0lTCYJtOkUoghI5gVYcRfHUkBI9spVJDQ46ZlUyih4Hzqf7DW5JAJNWuVqVAhzSFoVcLVH0lfE0pyNL3y0TyIvxM2Ipa66wnxWr8ohQJFetSoZCvAT5HoWofJxrBx+HPw4Q8buy1Of9SFrTS5BhTTi6wsBNbmrVpIXgh3PoHJm+vrb83NWk5MfgrKpWLUy6xOVwxxWrspHo4hnVSQz5gBm3+z17xtyVq4gX1ukZ1UiI2ZBdGxiLo6tIPRJJDRuuoufTBKLxbjkkkuoWrUq99xzD57n4e4G7v67DYUrtA85BKZOhfr1YeZMs0ZWhg2oS8OhVSqVk7B6lSYehwsuVHzwgTG0icjMhIMPhlGjzOPT04uenp13DaRRSvHbb7/x888/069fP3zfx9lAbaUx7+532YftplOxUvom740X3GzHYoUSPmxi6XaRiYLMqtXI3GjTaWRWTkvdblfAzGC4xDf3SVIO8YwN5yHSqFwtLTVFi0L9+gz7dJzEfRPvoG3ebD797RfWntSbKhp0VsYGnbwUGVWqkbGJ955WoQppFTY191GBqtU2vMNZfzwiKlStRoXUNQWoDY6NtfFzhFIcCVqWmZc75hgjgo5j2hXss49pXFe1alFTS+E/iUoRo1hl3nz48H3NpZcpM8cYRplyAXXr2lStCtOmbXxqlCo91yAihMU686DQWuN53voaSWErOfBKPry7NT06dSIgkwOOfYjhlzTDy8lHx2xUUPp22fM8lFKEYSheuaUxXPF9U6R29tnw009m5PZ9M/r++6/Jz3/3Xdh3X3Pf7vh9LUZj7Q1dYH75BWb+DaedGgA21ViBBSyjGns1TJK1V4yJn4Y4MWuja43S9nURISzmMLxChQq4BWukwrbR6tLJzLp0gxsrpJXa/Y3OcZUqVeTklcawxXHg44+NCDpOKm1ba5ONMXOmcVe57z4jGJvL0IgW+svadzpKjInmMHfwmiKq45swwfh8nnQSQEDcgViYw3DVG2VbPHzou7z4eSZ1Zn2FHzuSIM8zJVWlGBHCYsS2bSZOnMjAgQNJJBIihtv6hfOTRMuaStk4ro0qxdNWvu8Tj8cZOXIkPXv2XH8xJJSKqxSTFHPVVVCjBpxzTioysm2zZvjoo3DlleZxmxPBaHrVsnZpxuUOE1WvjxwJ3btvlyVLYReYWMwUwf/9N1xwgRHHzPSQ7LyQ0IenuJhO7lhIQsdDL4JhnUiecy6x+wbCjTfsPEsYEcLSQzQt1rRpUwYMGMCsWbMIw1AGxXKA4ziccMIJdO/eff3FkFCKxDA/H/r2NX+feaYZ1RMJeOIJuPTSLburRO3Q166FTz4x6Y672I1lu4j28b33oEcP41/21FMpcdyU0/UmdDQWMw//+Wfz9ocMMcurmZmQna3JzrO4+UGLfQf0pa/9BgkvjouP99CbuLxJzHHgphvBdeDaa3e5nZsIYQkJYfXq1Rk0aJAckHI+KyCUItLSzADct6/5vVcvM6JfeKGJUjYnalqn5gN79YIvvzQ+YCedVKoH9PUi+O670K+f2f+nnzZR8ODBqX237Y3MBSJrRqXMQxYtMlZnP/xg1gOjgC47Gx58DGpmrqHfNydB/Gs8L06cBABx101l6sbjMGCA2a9bbim1hgYihMVIlCgjlE8BFBEspcTjZlDu2RM++ww6d97ydCikWiN07Ajjxpno6ZxzTFPbLl1K51Sf5xkR/OgjOPdcI3pg9vOJJ4wYPfec6WM0YYIRqESCwI2jw6Jvp3t3I4Q//kgRobz7bmjRwhTCQ4zEX0dgJb7GjWlIFtqPwqFlPA633mrCyWeeKZFuFyKEuzgyjJXieXBBKLfEYibC69zZ/P9fA7HjwGGHGdGIEk5WrTKR5YgRpjV6aVozjPblzTfh/PONAEV9jKLEoeefN3UMixaZivY6daBvX2ySYMXo0QMWLjRP/eUXs9loqfXyy+H0000ppmWB7yk06cQfvBvqVzdrrVHPw8j3MQovk0nTXbdfP4kIBUEQSna0c/67AW00ULdqZfqnOY4RGRP2m1YJXbuabNSjjio9A3tUGnLccdC7N7z8csrnMXpflmXmOQsULnnhhcQapXPuJz346i2fWbOcIofK902npkceMflGWVmFNNelYPo4gCuuMNu/5pqipsqRIKalwe+/Q926pbZmU4RQEITyw3+JVnT/Z59B06amGL9wC3SlYNAgaNeueLq6F5cwRPZp1arBCy+YfRs6dH1IF2qN0gplWevXP7UXwLFnsDo5nFnhSUBARrpNqKFZM7Ms6jhQocBhInKBWf+Wowxc34err4a5c83v991nLha+/daI4MKFUKVKqXbxESEUBEHYkFq1zAC+xx4mCoyiq4cfNvOE2zstWlj41q41neJ3VCCiqDSKwMIQXn0VkknC4cPRVWtgV7HgnyWEoYVV4JQbsyyS+Ume4ExWVp3AX+4BzPo7JCPT2uQub3IXC/uXPv546vYJE6B1a3j/fSOCURlKKUWsTwRBEDYlWJmZpnCubl2zUHbvvaYuMZncfhGMplnvuw86dIA1a1JredtDGKYyQAsJU5jw8IcNwzq1C/ayP/jti8XMZC8sK0TbDtg2XhgQq1ON/i2+4MGJB7J4cUh6prVJrdsuJk+GBg12cCMihIIgCCWDUkZkqlSBsWNNMsgNN6QK7LaHKFtyyBC4+WbTmK9v3+0XQ88zUdb33xsx9DxCChrhxl0cQn4e9AnjxlenZaOA/WN/MiU8kDDw0UoRq1kDhr3L+9MO5eDGHkFgF2+3oJ3RgFWEUBAEYVeOjgXrac2aGReaINj++sHI1u2JJ+D//i9VrT5qlCl1iDrRbq14JJNGVJ96ymS3fvkluC5WkCAWg58mwRtvWBy1n0fHjppKmYr8pKJDxtfYHfYnqRx47XU48kj83CShcos/56cMebfKGqEgCMJ/RYY74jUaLbINGAAPPZQqM4CUDdqJJ5oavz32+O8Emqg279lnjTtOLEb4v65YY9/n54bH8dWwfIa8mMb0v6BCBbPPa7IVAwYEND4wCzqOwBk9yWSYJhI4GfFyf5qLVwh1QDLpF2laqiwLx3GxxJxfEISyGhkWR3SzpXXFre0Q4ftGBB991GRqxuPg+3jJgPjpvXlvn7e5d0wn0l0PcMnJMbXstWvDJZfYmN5iTbH7NU1tSyhmIVQ2sbi4awiCIBSJKrWGgQNNy/ZLLjFRoVImuuvZ0zjWxONb7hTheQTYhJdeBU89hhsrcMzRmpiy8eau5eq5PVloPcnL3hncOMDjwDYup56aCiQtS+HaAQThznV3Kcb2T2VHCHUIyoJpz9HmzMHk+6AsFzctTrUDjmbA7QM5rn6IH6r1ncAFQRDKlRgmk3DxxUYEzz/f3H7yyfDii6nyjC0s1IXKxnZC7Iu7w+hX4Z816+8LUNi2z4igFRX7Hsz48wLaHWITSzOapHXh4M8GaycGLFqXnS4dxSqEqmDaoHFXnh7SEk8rXHs1H999H4N/r8MBNYBkiOXKkqQgCOWUWMxkep53HixfDm+9ZYreMzONeGxBBLUGy7G44XrFB18dAUun8JPelwrkoR0H2/dR7TvQ+dkP6FqrIvWqhIC1613goszYbt2M8cC++5bqQvriFcKIzHoccmg9APJ+G8IrM+M8O/5yasUT+EEcZzPBoHRyFwShXBCp0vXXQ//+RgSjWsBCohcFkVqbn2efhTtuh7XrFIlECDRkD2sBi1RdXD/fmIB+/Bl7VMgAQoLAwrZ3oQhGNZKuaxoWfvCBMSv/5x/jz1bKxdAp7oMRAspbwNuvvcG3pwzk6VoQeA62u2kBzM/PJz8/f30rI0EQhN2WwuNcFAla1vqqicKB4cqVpkSwWzcjaPn55vZKlSwcO+TnmVVwg7/RR3VG/fADKIUOzfZ2qf1ppNyOA5ddZizeXNfY09Wta0y+q1cvRxEhCktB/sJfmPXTWm5483DQSbQT26hQU2vNzJkzeeqpp8jKyiIrKws/cl0QBEEoB2gUwQbTl7NmwbJl0LZt6jbfN1pStSoMGwYHHRRFV/VQv/+WGoF3dQ5GFAmuXQt33AFPPplqWaGUua9hQ2P23bLlxhcDpYRijVW1AvD5d/IUxuddS6daEHo29ibedxiGfP7557Rq1YqGDRvieZ5EhYIglA8B1CmtcBwjft98A999B02aGBGMkjqzsqB9e2NIM326aYxRpO6+JB1cIuPxH380651R3WX0JmMxyMszU8E7YiVXliJCBRDk8cefH5N38dvU0JC0LTZlSGTbNv379wdgyZIlTJ48WRqbCkJ5Y0eL1csgkUub68KcOfDTT3DnnfBbQWCXnm60w/NMZcWRR5q6eTC3Oc4Gy20lufZWuF/TqFHQqxcsXWpujzJlzz7btIUqxdmkxb9X3hrWLf2L49vXQasQS23+JHmeh2VZ5OTkSDQoCOUxLIqK1UtTk9udqIBJFSceNzOJr75qtGPMmKJ17Xl5Rvjq1zeBVCSerltKrxccx+xghw6mHvL0041/apQh+8ILRhBLcdPyYv/kebnTmDSsAfvf4KLwUVsQQtu2sSxLIkFBKI+RoNawejW8957JNMzPN/3rdjOSHjhhEiseJ0aSG2+MMXMmvPtu0Sjx3HNh773N34UF0LbLgAFMPG52tlMnePNNY98WiWBkCVeKKXYhtDJa0vexF6lfG8AWazVBEDaOBKPp0G7dTO+6ihXhtNPKxKC51VofmAbusZgHxPAuvpyOywbzzbvG/iyyHO3Vy1iNnnpq6q0nEmZmsUwdikgMjz0WPvkEOnc2kX4pjgR3mhDaafU5pE/9gr8UooOCIGwUDbouHH64yQ5xXbjwQjNgdu9e6qfRtkbno9LAmJ2k19Ux7v7tHPb+/BV6sYxv3GHgebRu7XLnnSaZsnZt87zCXtxlkgLvU7p0KYiMykaN+E6YlNcEfojl2CKCgiBs4mrZNt3Lf/7ZrC+FIWRnm6SKeNwkXpTxNUPbhocHeTw7LMZN086ivh6KcmNcpodzZJMAPnqbWmk+teqb9xglwZRh/S+kKk6Z8xrdCXKtsEUEBUHYkCh1/sADUyLo++Z2pUwGySmnmEa4hbuu7+pwbhseWvjh0e4OHw716iW5+R6LK349h3MYSqbtoDwPrR32n/0O+w86jVr1FUFeEq1NULxb5QtGWaNlZXfl2ykIwi4LkwC+/hr22stUjUfNb5Uy9z/2mKkXiOrTdrUIbsXgHQlgNOuXnQ0LFhh9d10I85Lk+C63cT2X8Aq+drCDAIVGhQGh78CLb6Ni1bGfehKSCWmHtPtFhIIgCFugYkWjHHXrmmnRSPAee8x0b4+qzHd1tKoULFli/t5EkXpkoqKUEcElS0wdYJUqxls6P9+4iuX4MSqle7zS6AHGNLoQB59Q2evF3gp8rDPPRD39lJkTFREUIRQEoZwRFVbPmAGNGxsxGDTIFM8lk7teBKP1rCise/ppo3QFmSsbusDMnQuTJkGbNmb3C+eDHH64uf2xZ2LMnZ3k+NlD4PzzsXWBIbXvQ58+xoXF83aTRcGyj0yNCoKwa4lsuDIyzHrg88/DNdeUTB1h1DZo3jzTG3DJEtMVIiMDzj4bnUii3RiuC4sXGwEcNMgku6anm00kk6b8YZ994MEHC+trDNtPop5/3ijos8/CWWfBK6+kXlcQIRQEoZwSrQ3uuafp3O77u14Eo1rGxYtNEd8vv6TE6ZxzCL0AfcF5hEnN868oxn4OI0akgri8POjd23QZGjw4JYrR1KnjAE5BseAzzxjT0Ace2HERjKJmaV8nQigIwm4SGZZE0XW0Bjh5sukWP2UK6yvcAR2L4194PrEFf3Du7IcZOjQA7PX2maedBs2awe23m83k5xtd2uTbiLb7wAM7XiNZeDp1K5N7BBFCQRBKe2RYkutkGRmEFavgA06YSprwkyExF46882C+xiM9zSYv3ziH9ehhAshKlYwuheFWBLORGO7Ie42mju+7Dy65xESYliViWBwfQzkEgiCUSwFG4TdrhvXZSGJnHocVJtGuS4CNi0dX72NOSv8dcNmrkc+oUWaZ74ILjAgmk2aGc6uTPndEBBMJI4JPPgk332xszEqq1lKEUBAEoeyjNWjLwiHg0y8rcvCEYXxnH4kKPGwCDuM7LrWe5pr8e5h0wPl8/E2Mrl2TNGpkosCo1d4uIZk0ajtkiEkqisVM76YDDjBrhdtgAiCIEAqCUJ6Fr5BeKGVyYxo1sjmzT8hPs6vS2fuQ6WFTOjOam7iPLuHHhJZLm5kv0uDuiwiIoZP+rnWBiRJrXn4ZLr/cRIBRucevvxqjUqVEDHcQWSMUBGG3F8AowTKRgBUrTKmD1pCTowGLjLSQPFWRBR9+y/DbulHl++/QyhS/h/kOavBz2L4DDz0EyXDXhIOR3+qHHxpT8qjoP0r0cV3TzfeQQ2DixPLR01EiQkEQhK0XwEg3LMuI38KFpstDvXrGFi0nRxOvoKjXRPHgvUn8XE2HIVdQ5fvvwHFQOgA0FiHKtk2h/ZAhRoCiNhE7E6WMuJ14onntyL8zsqPzPGNp88MPpbr7uwihIAjFExnI1NdWH6rIBca2YdEimDoVjjjCCGBubvTIkAMOVFx5bi7zpyzkkqvTID+B+86bJiXUL3CCsaxUzeMDD8CVV+4aR5ioj5NlGUW/4AJjQWdZZr+CwNRv/PmnZI6KEApCORjZJSHiP0kmUz7drmsa348ZY5qkH3ggzJqVetyxnTTnnxUw5RcYFPQnOLQLeukyk5CSlwdvvQVnnJFan/N9uOceGDDAzK3ubBH0PCNu336bMipPJEzJRFSL2KoV/PGHedPy2dhhJJYWhNJK1K39/fdNJ/cy3rB2Z2lGGKZKGF56yYjhuHHw6qup2cL8fDPDWK2a5uWXTcf45BUDsJ9+BRvg7LPg9dehcmXz4DfeME98803jfHPDDbvGAi46xw89ZIR33Dg4+mhzeyJhItI1a+Cyy4wISjQoQigIuy3RoPvee6aC+6qr4JFHUuJYzomSJ6ND8dhjxiZ00KDUY2zbPKZrV9h/f7j3XqMZCWKoi68g9uzg1AY+/RT69TPHOy0tJYYHHmgEaVeIYHRuH3vMvGYsBiedBO++ayr5EwnzhiI7G3GWESEUhN1eBEeMgDPPNAPio4+aq/+HHirXkWEYpjoX2bbx+Jw509SZQ0rDAA4+2DR66NED6tTx8JM2QaCIn3oijBpljmEiYR4cj8PHH0OHDvDOO9CggXmhAQPM8d7ZIhgEZh8GDYIbbzS/+76Zqj39dHj7bejY0eyT56XWD4XSKoSa0PcJNKAUtu1gyUWLIGwdnmcG3Q8+gHPPNX+DGbQfftgMyoMHm4EzWj8qR4cmcnIZOtQcog8/NHpRoQLk5JgAaeRIo29t2kCTJkAYkMAlFgNHa5M5M2rUptfWWreGzMxUFuauuOjwPPNal1xizLnjcfO6WptzvGaNUfNnnjEmp2EoIljahVBrheW4hbJwNCBKKAhbNSDaNrz2mqkbi0QwCMxPLAZPPGE6u7/5Zrlp5VO4bG7cOLj1Vpg+3ZRERNcCOTkmtyQry9SYrz+k2QmczDjxs8+Gu+6Chg1NlFevngkXo8zQRAKuuw7uvz8ayIyq7orIO7JKO+MMc17Xrk3dZ1nmPLdta+oFy+EF0K6g2C8rlJrHS6fvQYMGDdjr6N4M/0cBAV4omU2CsOXLUscMdJGzc5QMYb5YJkqoVcusEUUpkuVhkLJg9mxo2tRoxXffGRFUyhyGsWPh77/hsMOMCPo+BD6E+UnczDjq6mtM5kzbtmaqEcyG3njDiEwiYdZg77vPPDkMd+3am2UZcWvf3hTIx+OpiNTzoFMns07YpIm0XyorEeGnNx7Kjfm38NN3XZj01F0MvexJDv3kUhppj1C7G02Taq3Rkv4rCKkW6DVrmoE7CGD4cBO1eB5UrWoWxLKydrtECQ0QapSl1k/9BSHk5sAee5hDEQVKaWnm75dfhhNOgCpVUoFzdAgJAkiLmfW2Rx8xx3DRIhMJLlpkxOaMM0xX+u+/N2uvUe1eSRzXyDGmfn2zT3XrGoHu0AE++sjsr0yJlnYhLJj+1N/y5ZMH89icS2hQDRoMeplTPN/ca7ubnCBVSuG6roihIEQDYuQLNmyYiQLfew+qVTPWKLHYbieCZravoAdSfgL/0MNwHriBOgNOZdVvPr521gfMVasay82bbipqnRYtp6E1eL4RkUGDzE90IaEUrFplxHDKFPP/gAFFj31JHlfLMmJXtSrMmAEnnwxff51ayxQR3HmHvvgu54B/ZjCtVgeaWn/y3Xff8+usBeA6KEL0Js+7xfLly1m1ahW2zHsLQtHI0PfNlNixxxoHkd1MBCPDHNsOWLUO/vkzF04/Ff3rL3D8abSYNrZABD2aNTPF8UuWmC5EkXVa4UO2XlUdB774wiQXFfbm1NqI4ooV0LdvysJso42U5Ihc8KYaNjSu4KVBoCUi3MaIcOl8fqw3n7FPDeSNt34kQTXOfHwkNx1TBUIXy1Lro0KtNZMnT+b555+nUqVKZGZm4hf+UApCuf92OmYQHzOmdA3WO0iUA+S6gA75bLzN2yPz2GPwudzCR0AMLJ9x+lg6WaOpdMlxvDvYPCdavtvsYYjW1U4+2ZSf9O1r5lSjcgPPM7V5H3xgNlaa11llKrSMRYTr9TAkd/535B83lGnTpvPWBfsy7LZB/OXFsPEonC8ThiG///47Xbp04cADDySZTGLJSReEjSOEqAHebhABJhJGAF0Xhg8PuecuTc+jZ9N9cG9uT3sHreK4JCEM8bTL2PTOvNvxeTwPAk9vnZGK65oX6trVWM1UqJAyqe7e3YhgZGNW2s+9UJYiwgIy0mhc6y6uOSTB2rWaxke05ILpo/hrHTSvqtEh6yspbNvmrLPOAmDp0qV89dVXIoSCsLmBvQxT2AXGceCFF2DpUjPFCYpD3FWke7PIzwfX1lDQdN2NWySyQX34C7GTwVxJb2VEHI+byvru3c0O9OplMnFHjBB3HmEnRYTRJdo+p3BW8joe/idOxYppLJy0gPf+OYwDMwFPbXQl53kevu+TnZ2NkjlwQdit0Npojm0b3Xn5Zbj2WtNI4eabISvLAjR/VTqIZQ+PwWl9KDooKGAviOri999P7MWnty9CimxmevY0PqLDhu2azhFCeY0IC0QsoykXvn42113almMSmqVLXP436AOaxDwCz8XeQOts28ayLEmUEYTdiGgN0HGMAH7wgXEI++ADU/geucCsWwdvvGmzZ32Pth3qEJw8HPvUHiajMwyNrdyVV+5YBJeWZsLRPn1S6iwX3cLOEcLoEjCk6r43c+/t+/DVv1Cl0d4cdUg1NCGWKx8+QdidiRJZopncn382EeD06abyo7ALzKefmvq/Qw8FcAnyPewmjUypyKGHmu4KV15pykd2dBozSqCJGtsKwk4VQmWhQ02ttj05tW2h+REla3+CsLsT9ZBt2dKI3vLlsHhx0ftGjDD9ZPfbz9zu+wVNdNMK+v7tsQdMnGjKB8Kw+NZHy4EVnVBahBBQlkKHQcG6tsKyLHEaFYTiYFun9XbiNGDhTUe/N29ubFCXLUs9LhYzwdjjj5vG7zVrmtuLuMAUjtzC0IhgpJ6CUBaF0Iihjaz6CUIxEtWUbUttmVLFXosWbU4pM8XpeXDKKcb/M+poBEbwPM800Bg4sKjoRU5mmw0rZR1P2B2EUBCEYiTqODB3bsp4c0sJZtH98+cb70rf3+HCcd83GmVZJhFzwQK45x545ZWUgxkYX+hGjYwR9uaiyP/UZRFBYRcjcw+CUJqJWjNNnGgU5tdfU8XhW3r80KFmMW7WrFSyyHYKYJRnYlnGn3rgQNhrL1OREL1ky5am+8PffxsRjOxSC/sAiL4JEhEKgrBtRE1hv/oKjjrKqNFBBxkj5sMO27hpbNSf8O234ayzjCB26mRSNPfZZ6ubzEadiCD18PffhzlzTLeiwo9r1cro82uvmbKIyNvakZFFECEUBGGH8H2jQmPGmF5DrpuqTzjuOPjkE9NpPZr2jDIs33jD+GvGYua22bNTtmJNm25xWjUMjZAVrlZ46y3jAnP55ebvqEZ9n32Mxl52mfnd93dNM3dBECEUhPJA5IP53HMmBItqD6Isk2TSmEoPHmx66uXnGwW6/XbThT0eT2WuuC789Zfx3XzuOdPfbkMx1CFh0seKx4jH4csvjf7GYmZzABUrGu/qtDTTIb5DB/MD5qViMYkCBRFCQRCKiyhzsnZtM9+4atXGoVtWlknNLNyULyo7iLJSogU6rU0/w0qVij4e8JLauDvFY/zxq8+DjzmM/9JMgxaOANeuNRZp9eqZrlCRALqu2HYKIoSCIBQ3tm2itpNOMn31Dj/c1CrYthGyGjVMyLbvvuZxUZ/C886Dvfc2U6aF2w4ddhiMHGmEMyjo/h6A0ho3BuGqefx4xkN0//dxFv2RAFLKlp9vpkdr1jTLlGAC0sg/VBBECAVB2Hli6PsmHXPyZPN/IgGVK5vUzcaNi5ZFRE1mO3SAH36Atm2NSB50UEoECz3etk0nh0NaJZiYcwRNZ86hD9V4yLkN/CQDB8Y4/njzlDZtCqLHghlbWQcURAgFQdhF307HiFnTpqYuoWVLY9xZs2aqE/uGj/d949U5diyccw58MQ5duRJKF338QYcp5s8N+HbhHsASqqa7PJi4kysujqNuvp561VKiGYap5u6CIEIoCMKujwzD0BTGL1pkFu22ZM3iOKA1YceOMH0mVnocRUh+wiYI4MwzYcwYjZWzit/ZjwbWEsBC5/momE39F2+EfRy44FLChFE/cToTdnfkIy4Ipf5bWpA8k5a2UbLLhgQBBKHCAqz0OL6nmTfP4qabIDMTPhvlk5OjeI8uNGAJoTJlGQoNvkbnavTVN8PnY7FiDlboy/EXJCIUBKEUENmybMaeJaquiKYvJ04Ex4bxXymuuSYVQOZ5Dk2bai6p+CM/Bx3InDJhfRSJ1qisLGMZ07VrqkBfEEQIBUEorYRhqvbetmH8eFixwjRlL6yhQWAc1xo3hpdeUtSq5QPfwDHHmMLBqA7ixRdNtqpUxwsihIIglGa0TvWsjcVMlcWcOXD++eb+jAzIzTW/16sHnTvD//2fyQANAkgmbGIqCePGmcLAsWPh1VehVy9TM5GWJgdZECEUBKEE2HCOcxMkEkYA43FTSTF2LDzxhOkDmJUF69YZEbzjDjO7eeSRRYvgYzGw4wp0QTPckSNh+HA4/XQRQUGEUBCEEiTKBo0K6jfIDE0mzTRnPG4sRB94AL75Bn7/PVXcvm6daYJbo4bRtcLiuZELjFLmNTIzTSjpeSKCgghhsaBDgiAk6r6iLBvbkv4rgrBFomL3r76CqVONy3VB6Of7Zio06vZ+8smmH+DkyUWF7sEHjbHMSSelhBNMkulmXWCi5r1BIIkxgghhsaEsbEeqMgRhmyJBx4F//oFTTzXeovXqQY8e6KSHEzMC1aEDrFkD06aZp0UNcW+4wTSYOOQQc3vUenCrc12ijruCUE4p9k+/P+stTmtYn3r16lFvj/ZcOPQvAAIvFSUKglBAVBc4fz60a2d6HmkNZ52F9/7HqJjL8ccGNGkCEyYYEYwCt549Td/dW281Iqi1CSxdV4I7QSjRiHDVzEmMPeVJpl13CIF2yKpSFQDbtTYzDmi0FokUyilKEc6ei2rRApWbvb7lUjInD+fUHpxeYSSjVx8HBIBNerqxD/3kExNEZmSkgkrLklZIglAKhDBk4pdvcmrXgdSt627lOKBwXVfEUCh3BIFRMPvYQyE3m1DZWGEAgGtZKC/Bo6tP5Rt+wq+5D5Ura/6arjYKKJWSmU1B2BGK+eszj0W/HUlz9we+/vprJv+5hLDg27opmbMsi6VLl7JixQrszXknCsJuKIC+X5Ag6lpMe2cef9MEywrQloNWNl4Y8Cs1Oaf+11RusQ//zg02EsGCgFIQhNIREZqWLuT+wdcfz2V5pct44XdN1TqncOOgSzi6ZRWs0EbZqtCVrGbixIm89NJLVKpUiaysLHxffA2F3ZfCLjBgbNDWrNYc19mmUmwqXyUPozm/4mOR1qguTzZ6hztGtOLQagGBb2+qokIQhFIXEa5LZ99ze3Dfa1OYMmUqb55fk4/PH84iy8EKfBMdrh8UQmbMmEHXrl1p1aoViUQCS+Z3hN0QrU15Q9TL7/vvjZ1n+/ZwXGdFxQqwJplG50pf4LRrhsrMhBdf57kvD+PQiaNI5ilsfGxLlg8EoRRHhAWRXq2juOnFoyB7LWtDmyVrVoLrsQJoUODrGz3Utm3OPPNMAJYtW8b48eNFCIXdjsKF7NOmwaefwrPPmoL4zExT6rA2x+L663z2OrQ6HPIO9ripcMzReJ+Oxe7ajdg5ZxkP0MhSRhCEUiiE0Yr9X29x9qOZPD2kKxWBClVc1tRvREOAQKE2yJ/xPA+lFOvWrUPJYoewm5BMpr4S8bixPrv3XvjuO5g0KTU1mp0N99xj+uxecIEDaAib4/RrDp9/jnt2X3AseOkl84QXXxQzbEEotUIYaVilxtRbcA0HHHE/dbDIqnMq1w08iapeQGjbG83D2raNZVmSKCPsFkQ2oYV16tRTYeFC+PbbokJ5662m4XyvXgWRYxKsMMBNc+Drb+Css4yC2rYJKV96ySwwvvpqSmUFQShFQhgpYZ1DuHfEsxz2yXQSxKjZqB3tm2ShQ40lNmvCbkxhm9AzzjD18ckk/PijuT8WM3//3/+Z+9u1MzV/kX1a3A7AtWH0aDjtNGMhEz0g2sDQobBkCXz2WcqSTRCE0iKEBegQndacrqc0L3STRokICrsxkTnMZZfB55/D9Omp+yIbtI4d4bHHoFYtqFTJ3FdEy7QppOfgg000OHhw0Wa8Uc+l++83LyizKIJQSoVQWSgdEoQmK0YpJZGgsNuJXqRNYWj+fvRRo09r16aMrmMxc9/eexsfbdeFihXNfVEZRJGALuoEUaWKUUwwYhgpqWXB3LlGSQVBKMVCWCCGcrEq7G5Eohd9tlesMD1tTz/daFV+vrm9UiUjcDNnGuEr7PoSLe1t9vuhVMow9PHHzUafe86kl86caUQw8lITBKEUC6Eg7GYCGDWHAPj7b9MC6aijUo8JAqNRlSubHrfNmm1e5/77QlKlosAhQ4wJ9913Q+3aIoKCIEIoCLtO/AJj+YnrGu2ZNg1Wr4Yjjij44hTksVSpAi1awE03wfHHp4Rzh/XKdU10OHJk6jYRQUEQIRSEnU1Usx5pztSpMGMGXHSRaRNYoQLk5BgR7NULOneG884zj/W8Ym5/pFTKlFTKJQRBhFAQdrYARp3cV6+GF16A9HR46in4808jgGBE8IoroFEjuPLK1HN3Wg9AKZEQBBFCQdiZJJNmKjMtzfx9/fVG+D76KBWURQJ43XVmqe6qq1ICaNvieiYIIoSCUAYJAvMTucCcdx4sXw4fflj0cVrD5Zeb8r6+fVMCGNmnCYIgQigIZQqti7rAXHyxyQQdO9bcn5ZmqhaOOgpuu8383qmTmfb0ffNcEUBBECEUhDKNbRuRe/99kw0KqYqF+vVNoma1alCnTuo54mgmCCKEglDmIr+IqE5dKeNdfeutJiEmL8/cHyXJ/PuvmSqtWtXcHpVQWJaIoCCIEApCGRLAyPszYu1aY3594onm9kgAMzNTNYK1a6fWC8PwPxxgBEEQIRSE0iiAQWAiN6VM66NEwjRxaNWq6GOrVjVWaG++CW3bbhxFSt26IIgQCkKZEkDfN2t8jgOzZpnszxNOMH6gkHKBqVDBuMBceSX07p2KHgs3eSh1SEG9IIgQCuUc39/sPGUymSpknzcPfvkF7rjD/J+RUXQTJ50ERx4JV19dhvSlcIaONOMVBBFCoRwSzXVCEQPPqI4vFjOF7q+/DqNGmZ+otCE3F/r1M4JYp47JEo3E03HKQPJL5PX2/vvQtWvqYkDEUBBECIVyQjJplG78eON1duiheLkeoe2uF7vbbjM1gMOGFdWPM8+Epk1Ndmjh2207lRBTKokcu4PAiOCnn0L37qbX05tvpsRREAQRQmE3x/eNYv3xB/TpA2lxGPsFbuNGgM+VVzosXZoSwHjcaMTJJ5vM0NNPN5FgMpmaUSz1+hGluka1GqNHGysb1zVvVGvzf3SBIAhC6RdCrUPCUGHbMpUjbANR+/bZs000tHAhHuCe+D/OazSOxboGn3wSAhbp6aYUomVLuPNOOOAAqFfPaEaZ0oto2nfqVPj8c6Pm/fqZdheWZcRw+HBzgfDOOxuvFwaBeZxMmwpC6RJCJZ3qhe0RBNuGRYvh6KNh7lxwHOwQ/N//4P9+P5xDmIztViLwNFlZim++MS4wjRqZTXieCajKjAhGkeDKlWYtcNUqGDzYNOSN0l0jU9QRI+CYY2DcuKKJNPJFE4QdwtoZ32vw+efdp7jk5GEsB0gGhHKshS18ZnRYIAgrlsCB+xkRtI0QWKGPbTscrP5hGU3I9Nbw91zFr79C69ZGBIPAbMd1y1hgpBRkZ8N++8GCBSbLZ948cyx8P/WYZNLUfzz7rHmjtm1UH+Css1INfCM7HEEQSkoItRmEvNm8/vjljF4JdkodNzMIavQW7i+Vo3YUegg7fCgjFxdlKfLyQqatrkHzpR8QxGOgC0onlEIFPqETp/q0z1iYnUWThppatczzI10okzODK1aY+dwlS1LTm5EnXOEDlZYG8+fD3nunBM91TUbQ0KFw6qkwcaI5ECKGglByQhh9dWd/8DAPru7C/9I9cv7zgljhum7ZEMNo1M3NhUMPhZdfNrdHV+7CVgtgEJjx3rJMAfyCBVCtmsX+e8EfqgOtE1+wKMwkqS3zuapYEevH79Et2pBRAbRW62cVd5oARlmcO2vbAB06GA84x0l9vizL/B+ZnlapYg5Q5cqp5zkO3Hsv3HOPmTYNAvOZ/OknI4Zl6eJSEHariDBU5C8ay/tf7sWIuzuxZFXeFhchLctiyZIlLF++HLu0r3NEV9k5OSYt8Zdf4Nxz4YMPzKAkEeJWCaDnpUri5s+HKVPgkENM1wdziC3QPsGB7Xn4wJHEKsfwMjPhs8+gVSuU7wPW+sBpp170RFmcO0NUIh+3P/6A/fdPrfnZtnntqlXh++9Nn6gJE8zfkVCuWwe33w633GJEMEqPBdM4cfRoSZwRhG2gGJNlNMrSfPHI86w961GaTHuBpEoj8H30JgdFzQ8//MDLL79MpUqVyMrKwi+tkVWUxJGXZ8Tvww/NABSG0K0bvPsunHKKfJq2gJfUuI6P67osWwY//wyDBpkywag7fDIJxx8PTZs6DB6cBDrBS08Ry6wA7doZFXXdnb+zkSj9849Zl6tdO5XNui1sTepqEJhs0cMOM8LnusYI9Y03zDTo009vLKD//mvaaERXFxFRL6k77oDOneVDJwi7VghNOnv2nPv4tf4T3H5ITVYsrkaljFrUcxwINxbDMAyZNWsWJ598MtnZ2Xz33XdYpdHtOLoKnz3btCqP7EsSidTg06MHPPYYXHGFWGFtoANag6XAjcHiwOWLVzw+/txl2JspTcvPN9cR1avDkCHRc2PYhNjnnpM6D7tKBC0LFi825Rs1axa98Nnaz6jnpaK1LYmhZZnHTpgA7dubdb6XXzZXBMlkKiqNfoLAGKb+8AN06WJaZ0QZQsmk+SyOGCEfPkHYtUKoCQOw7MW88r9beHWf+fz7l2LN31OY+Feca5/I5ZLzTqdxzCfUDlaBRti2TZ8+fQBYtmwZ48aNK51CCGaQyckxg+OGV+HRPv/zT+q+ci6EUca/KWLXgM9d97l0mfM8fZ+/AEU+qDQ8z2jNfvuZpa5IFC0r0o5CmZO7whMtWrhcvdoUs0dde885xxSzR/f/1/mNxO+JJ+Cyy7bsCFPYR/W992DMGGOMmp+fCpULE2WL1qtnBK9HDzO9Goam9vDVV83rxWJyQSYIuzIiVMoCbNpc/gpnL5jBuiCAxZlkpKeRlZmx2RfxPA+lFOvWrUOV1i9t4avw0aPNwDN+fOoqP5GAhx9OuTmX4x4+YZgyhXEceOhBWDDHY7Yf46jnetKMd7k00+HJ7HM4tn0+3U5Po/epULWaGdvDcBNj/4YCGDltF/fnJZr+9jzo2RO+/DIlXm+/bV43KlHY0sVOJIJXXgmPP26m06+7bvPCFn1mtDZTsP36mYO4ucdGsxDJpJk6festU3PZoYMRwej1RQQFYRviuZ3E4mGDdLcWr+tQa63zkzrYxGOCwNw6Z84cfdFFF+kvv/xSa6217/u61OF55v+FC7U+7DCtlTJdfJ54wtyen6/LM8lk6vdnn9W6e3etbTwNWj9LD61jaJ0e00krrt896RU9f5nWWptjlsjfxnMQhsW782FofhYu1LpZM3NeY7GoS1Pq91attM7N3fx2os9A//7m8fG4+f/ee83teXlb3o8gKHog/4tEwvz/009ar15t3kMQaEEQoq+2GSumTZumX3311YJhxNvoccUYvmgCzyPpeXhegvQjT2fgG0eT7wdo16HMx0mRy0edOmZKqmFDk75+6aXmKrycmiFHtYCuCx9/bHI+rr8BRo4MCGyHj93uXOS+i5d00Qkf1/Y5Zcol1Pt6GB5xdNIjtjWHLrKM6d7d/F6cmZxR3V6lSmYadFPRIkD//iba2tRre575DFxyCTz1VCpxxXXh5ptNZlBamvmsbGn2YVvWQaOyidatzb6X8xkJQSjRqdGC0QTbdYny6tw6DalYZ3c7Wo4ZeOrUMckKtWun7EzKmfgVbmb7++8meXbtWli2DBQe4PBh0JkTgjF4uLh4EILWFsG/+Vin9sMdqk0pSmG7sM2JoOuabrrvvw/Nm8PMmcU/BZ6eDgMGQGamEbQoQcb3zbRot26bnhaNpmvPPx9efNH87vspwXQcuPFGs60bbyxeI9SogF68RgVh+7/+O3O0DMPdsKg3KlauXTulBJsbgKKBMKpB3NEoprjr2bZhe1HkF71l3zeF8FWqmCjwn3+MCKalgRtzePftkBNXvYZfbw8jggUDtbItHEKsa6427SKiDrmbI3JQ6dvXrIe5rum91LTpznFQ8X1Tu/fYY0awIqPrbt1STYI3JIr+HngA2rY1v0eRWWSVdtppJqLcGSUg0qdQEEqpECqFZe2mX84NLbA2RaQaubkmgvn005SCbA+RF1l2duq1d0QYo+3l5KT2dYPtReJX2AVm9WrjB123rrkWWL3a1HfHYlCrFtx3H+QnFN162FC5Js78OdCggdlQNL189dVw//1mKnFziS9RC4l16+Dss01dXWRcYFlGDJs3h4ULi2+qVKnUa1xxhUl4eeghkzyzpag16hIcFcEffHBKwH3fJFgNH24iTUlkEYRyJIS7O1sazCLlWLPGdBSYPh1OOAG+/TYlBttCFPmsW2cyBO+6KxW9bI8ARA7VubmmFu2GGzbaXhT8WJYJOJYtM1n6Rx9tBG/16tRu7befmUlcvBiuugpUQSC0ft/+/dc4Y3ueKSd4+OFUq/gtRWauaxrSvvZaynElEnHXNcf1mmuK39knitgefdRsH7atfGPiRGOXE9WHjBjx35GvIAglhjTmLW6iNPy1a8361/jxZmANAlMw/fXXJtV9a+sNC1u7nX228ZL86SeoUcOoz7auN0XbSybhoovgm2/MT61aZtBPJPFVDKdgk2PGmOnOBx9MeQmAGeOPPNLkDA0dmtp0kaWqaPBXyljJXHWVaTG0NZ3WoxKBaK2uf/+iPpvJpFmTe/75VM3GzjiX2+PlFobw44/Qq5eZVv2vNVBBEEQIdysRDEOYMcNEPmPHptxFosH9iCOMPdbZZ/+3U0nh2rYLLjAF1/G4EdFovWlb3GyiNg1gBOb111OCdO21EAQkr7uOGJphw0ybo0GDim4ikTDuXVWrmmAtEsUoclxPtBYWiUmVKvDKK0YUtjbDNhYz9Xfnn2+eF4liImHW8Z5+eud24N3eDMyo9lREUBBECMsdhZuszpuXum3DgTVyLNnStGbhacWLLjKm04Wt3aKi7blz4ZFHtm7ftDbtfi66yNiGbbC95PXXE/PmcKd+ijtuTe1yFIh16mS6wN9/vxG9RCK1PFaEqHj8lVeM4EfToNsTuaWlme393/+Znbnool0jgjuKbZfu/RMEQYRwpw1+QWDSKD/7zGRF/vprKiEkkTAD+MUXF43O/ostRXvbE7UoRQDoIPUBiMbsW2+xuAeT15GdbfJcrr7aaFG/fiZBxve3MLsZieDQoaYm74svzBrfjohCWpp5wQsvNIJ67rlbN71a0ogICkKZQJJldoYYep5JDhkxAvbd14RUyaRxlL74YvP7f01lRvc3bGhaPfXunRr8o+nWxx83WY1bkzATrXXVro1+ewT2hefg6AShGydBnBhJbgof5J7MJwHzFoYNM7N7l19uXMJq1za7YNtbIYIXXGD28/XXjYLGYjuW0BKPm+efe25hI1NBEASJCEslUV1Z06Ymw6RNG7jzThPRbEtkFK01KWVE1PNMyydIRZbbsL1QK0IfnJjDqFOf4K/nfK51XyPuwwD1CA/5V0F2knHjYlSsaAxLIlGMNH6z+uN5RgSHDTP7FWWmxmImIvR9s6i4Pe2MNjyusuYmCIIIYRkRQ9+HJk1M99k99jAisK3TZZFoVKxo1tz+/Rf+9z8jNttUnB1iWRZqwe9MOO4WemaPxGcIbfLn8j1teUhfxeiPPfbY02Wffc0zoo5E//kSkTi99hqcd14qMzWKhF3XCOS6dWZtckeKysuZi48gCCKEZfzoOkYM9tijqKhtLVHG4dChpvPFG2+Y/ytXTm1/E1OsGyWR6pDlCYujGi7hN68drVev434u5sqMZzgx8SFPPpfJkhOhZg0HUOuD0K0OvKI6vpNPhkmTTPuh6L1H/fYaNjRRbVRYLwiCIEJYToha7GxrLVokgl98AWedZW5r3Ng07tuMt2SkO5EBjeeZevkfp1jU10uZnqwHBKTHXa7wnqX/eWl4jzxKugOg0SjQ2zFzGaWO2rapE/R9eOaZ1FRmvXowa5YUlAuCUDqHaTkEu4BtFUGtjQiOG2dqFmzbCM2998Ldd6eK1Au5wESVGzk5xn3svPOgalXNLz9rGiam8XeyIRkqABQkPHBcnCceI/3Gq2HVKrQXoLTeMfevKFHo6adN7Z/nQf36MH9+yqNVEARBhFDYKuF86y3o2DGVMBMlxdx2m2nrs2YNXkLjeXr9DOl338Edd5gcHdNDNiDpKSYfdDVxEmgnhukYD0SG6M+/BBMnopxCFmY7QuQI8/zzxmh62rRUDaN4bAqCUAqRqdHSypNPFpwhJ+VMU6Bd/ptvE/Q+i3jLioDmvfcUM2aYDj8RngcHH+LQsIEmf8TncF5feOkNI1Rap9pJjRhh6h6L0wEl6pM3fLicR0EQRAiF7UBr4//Zp48pOYjFQWmCRBL/wEOJ//wJjqrKa6+FLF1qce215mmRUUzLlsYH9NprYY89FPhJePF1VODAq68aMaxRwyTfHHbYzilOj5xVNtddQhAEQYRQ2CKJBLzxBmFaOv5LL6JRxNsegj3hHd4YVoXfp/kMHGROX1aWqUyoXNlYj3bsaJofRJuJR/6cr7xibnztNSOwRx+9cx1axFlFEAQRQmG7UArcGMkcj9iLzxNLWwtzfuTT84fz1sUNGPm6x9o8lwoVTHLMunVG4/bYA446KiWAsVghjYvFzPTnCy+YtbuOHcuGTZkgCIIIYfkjCECjiFWwWbJE0XfS88RzFzD5tsYs/s3DdkxReU6OcV+rWtV0eIKUv/VG+qZUKtu0S5dt6wIhCIIgQijsSqJyuwMPtFi3VjNrdiWgEhCilEvgm+W95s1NNwhItULa4mxkVHIRBFLULgiCsFOFUIeEWmFZJZAkUdrS9P9jfzZ1d6tWplvSokVg+r1r4q4m4Vk8+KDp91u3bip6hG1wHtsmyxhBEITdn+KtIwzzWTTiairWqE3t2jVpdey9TEyEEHgEu6KWOlKV4qiH28kiGO2iUpCXZ5xgjj8eKlQw1qRGBI3FaM+eitVrLVavNk3kIxGM+vaKYYsgCEKJC2GByi3+lJtvXc0rvy9lyZLfuWX/WVzS7U2ybRc76RNuUhBCwuIQrsggc+HCVBF6cbC924n2Z/nylChqTRCkrNASCdNX96qrTObnuHGQm2se3rChWfdbs8a0QkpLg0qVUpuC7W+gLgiCIBS7EBZEPXW789KfL3FKLVCqJvu0qEHTnKUsBrSt1+tlKmDSWJZFWloaekfst3zfhEWffmq6Pfz9d8rua0dF0LbN9rdnf5YvN3V699xjRNH3sW0jYD/9ZFoJNmoEL75onuZ5pn1hmzZGIL/5ZtOuZFKWx46fW0EQhAKKd7FIa4IgwFv5B6NGvMeIr/5lj/uuZS8dEigHe4MB3LZtZs6cyYoVK3AcZ/vEMLIeGzsWTjjBCFD79sasunnz7e+MHrUKGjcOjjlm67cTieCyZaaZ7syZcOutUKUKYf/+fPFZgr9nx7nkkqJPadnSlD+8/rqJ/KLkF5n23Mwxjgy9pS2TIAilSgiVwnYc8lZNZ8yn37ImOJimjgc6RFF0RA/DkDFjxvD2229TuXJlMjMzCbZ1GjLq7/fBB9CtW8o+bNky6NoVPv7YiOG22odFovf009C/v+mhd+KJ/113F7UYWrsWzjzTiGgknpdeis5LcNyAqwEz1ZmfbwLYY44xXeBbtDC7ur3aXS6IDs6wYSZrSGohBUHYQYo5WcYnkfBI36cXz330Ofd2XMtz/d9hieVgBRuvEXqex7nnnssxxxxDXl4e1rYsekXTlQ8/bEQwHje3Rd1k580zYvjZZ+unJbeKqBL9ySeNCMZiZvvvvmteIz9/syKoNSR+nU7imC74o0ebxyeT6wdve8A1vJh5JQAxV3P77fDcc+anRQvz0lGjCWEL5+bee+GMM4yx95bOiSAIwi6PCC2HeBx0di7Z2iK9dmOOja1gAVDLKVjvKpgetSyLE088EYClS5fy0UcfbZsQRgtl1aubSHDDhButITPT/GxtSUVUZP7ww8aoMzKPtiwT4SkFp5yyySm5ZFLhupr4PnE4qAr8VrDEWPgxwJTsWgwZAg3qQ5cTUuO760pg858iGI+b9hp33ml+v/BCc5HRv78Rw7Q0OU6CIJRQRKgLROjXFzn+5DdZnplBZlYafsxjYbMD2RvQgWLDskLP8wiCgOzsbNS2ZoBELilnnWWmID3P3OY4RtD23ddMjbZvn3JV2RLJpBG8a65JiaDnFdi8aPN7nz7w7LNFEnF83/waS1Pk5sJJZzbixPnv8k7yVGw7gUdsfWsie+hrHDT6Ri68ELqcoEgmzebjcckA3SKeZw7SrbcaEYzOjevCZZeZKey0tFSXDkEQhF0eEUYi1uBIutc8n/32voMqxKjX4koeG3ICmcmA0HU2Ul3btrEsC3t7M0IsyyhR+/bwyy+mEh1MJ/fRo6FBg61fH3Qco0pnnAFvv22ayRbuLu/7JgO0Y0fwA3Ds9f1zwZhcZ+dY/PlHALh8zgvkJBKcpT4wY/bw4dinncbZJPG82Pqm7gL/fYESCd6TT6aSZKLEKtuGSy81hqsDBsgCqyAIJSSE0Xxnlb24aMhbdPhtCT42WdX2pHGNuCmT2FLApzVaKfT21AVEAnbggfDDDyZz9McfTZuhbbESsywjeK1bw+TJZtFu2bJUhNmuHfqjUaiKWZg6EIXCmFzPnQtz5pjNuK6N54Wc1rcC/7v7DbyTjsC96FxjdO15BComiY7bguua43/ttfD11/Drr6kLlOhCqHNn6NcvlU0qCIKw64VwvaKBVYv99q9V5KbNTnsW3B4WuMHYhYRxm7ALuqsfeij8+6+xZ4lsV7Y1sg1DqFnTKFvDhoQrVsBBbbDGf4mKxUnmh4TK4pyzTdnimjWpp2dkmKDx3fcsYnZIWkYF9MRvUdHalesi1RDbMdvgOKa25Mcf4aCD4M8/U5Fhx47w0UepjGEpshQEoWSF0PhipnRMbXFcUgUDV37Vqhw3fjxH+D5B+/ZGLCL7la0lemyFCqloYXsoiDaCjAz4exb2/46ACZMIAli6UDP4CYtBg1LjMEDt2kY7p04tsiHQOiWCwo6JodZmHfCPP6BZM/jrL9N9eOxY81kRERQEoXQI4X+LH4WiPlWQkdns9ddpNmMGzJiBXbkyPPBAKgt0ewRtwx2I7M62YlvGAk2ZGbbKFfnl5SnY0+Cbr+HSS9X6mVbPgz33NEmpU6ZsZgwuroE5GujLc3V94WP555+m+HLcuG2/YBIEQdj5QrgNuC48/TS6f39wXZRlwSOPmKmw++9fL5g7JCiRTdp/bCsMzRJTLGYe/t13sHIlnHhiQFQEEeXMNG1qrNFefhnq1TO3bU1i6nZROLot/F7KM2FoRFCOhyAIZVoIw9Ckww8ciIrFUqnv8biJCFeuNP9HTtPbI4ZRBuE33xiHmSpVNoogtDYPi8fNQ7/+2iwPnnWWuT8jw15vhF27Nhx7LPzf/0G7dmYc3qlJitFAv3Qp/POPeVHJijTnT+zVBEHYLYTwr782L3KzZplBf3ujwUgwfv4ZTjrJlFh89FFqAFVqfY12PG5MsL/4Ah5/3LRAysoyGfm5uXDzzeZpRxxhzGogZXKy0wKSMEz9nHmmmX/94guTzSpiKCIoCMJuIISuC++9B9dei374YbTrYtm2cQg5/XR4881UyLatYuh5RiimTTPG1+vWwahRcOqppkYwP4lnucTjinnzTBeIr74yyS6Ru8u6dSYgrVkzFR1GArjTXWC0Ts3Tdu8OY8aYKOi008wx22cfiYgEQRDKvBBGbi0PPYRyXdSgQWjPQ512GrzwwvYvvAWBEYh//oEePUz3B9c123nnHfQJJxB+8gk20KuXsST98ceiQnfPPUZrevZM3Rbl2uwSG7So2r5zZyOCsZg5Xn/8kRLG+vVljUwQBKE4hly9Q40Ad1ALgwBlWfydnc3c/fajY6tWBK+/jh35g27rIB+GRkSmTjUisnRpqiAewHEJfQ+r/UG0zpvMz5NNYXxUCnHVVUY7Dz88FVhGwesup2VL+O23onUa0XupXdski+y7746VigiCIOzGaK1RSvHbb7/x888/069fP3zfx9nAaKVER1AdDeCrV/Pescfy42WXYVWsaNoxbU+kU1AQr5vsZVQNKGJp43tYDrSY8CQ/TwbXNfeddBLMmAF33WVEMJqZdN0SnH188smiahy9P4DrrjMF5lI6IAiCsMOUbPlEQTQTCwK8tDSy09JMkf12Du4ahbJsVFYG3HADvrZxbr4O4lFWqkVTfxp/sx+xmGb//RWjRxuxy8oy24g02HFK+LgceaTxT23d2vxdYNzNE08Yb00RQUEQhGKhVIykWimsMMSOCt+3kTBM1cyjYPlyi2FDPdJvH8DAtLsIEkmW63Sa6CksrrIfezYKyMtTTJwIVasaESzs4VziKJXyT/3xx1RfwwcfNCIYta8XBEEQynhEuINE1QVR9DZ9uqkBPP54QLlYOslN3q3sU20e39bugeW3ZMmkgIwse5PaU6qwbSOGbdqYbuzjxhnjaSmdEARBECEs7AJjWWYGce1a0wkCUjklVWvEaN5ME7/7OR4+Ah42ClN2ZhVt24Sq3bqZH61FBAVBEMqzEG7oAjNpkqm7P+ccyMszfts5OSa6O+00OOlEOKOPAnwCzyLEwnXK2Kxi1BGjcOgrCIIglC8hTCTM/1Eh+59/mr67Tz9tygQzM839OTlw5ZXGC/SSS1LPdV0H26XstkCyLFkTFARBKI9CWNh+FGDVKhg4EL791phiR7OE2dnGtrRWLejfPyWAjrOLCuAFQRAEEcLiJAjMTyR0ffua/+fPN1ZohYXyuutg//2hT5+UAO4yBxhBEARBhLA40bqoAJ5zDsydC19+mXpM1Kji3HON+LVvb27zffN8EUBBEAShTAph5K1t28YUZuxY4zAGqUoCgA4dTIeIunVNVyUwIih5JIIgCEKpEULte/haYTtOEYezDYlq9zxPU7duwODBpvHEsmUp4bMsqFwZfv/dJE5WrGiyQ6GUuMAIgiAIZZpiT0VMTHqMY2vUo1692jRtdyIj5vpAAj/cVBRolDAtLZ/x44/l/fePYPHigCCwycoyPXkXLTI/tWpBnTpGBMMwFSkWIQzljAqCIAglIYQF/mQ5H9HviEF0/nopS5f+w6PHuFx3wf3MDuM42iPQGwthGIbMnNmY777rjtYW1atb7LmnaSq/erXpB+i6Zuo0skHbZCVBEJg7olBSEARBEHaZEEYKNX0hS697jfNbhgRBJdp3PYQzKozj12zADti44VOAZVkcdNBcunV7gv32W8vQoSH//KNp2ZIij1dqCzZovm/Cw19+Mf9HbZcEQRAEYZcIoSrYzEEX8eWdx1IxYfRo9m9TGL+4DXtmgg6tjYTMtm2mT5/Ob7+tombNGbz55vd06WKTnx9gWVvp/5lMmkXCjz+Ggw4yKaaOkypCFARBEIQtULxpJqFPftInLS2N1d8N5sZhGXR5+GZa6pBAu9iFXi0MQz777DNGjBhB5cqVSU+vwsKFLi1apPoE/ieJhKmXePdd004+FoNjjoFRo6Br19T9giAIgrBTI8L1kaEiLS2NnMkPcPypb9DkrFu4+bAs/BAsZ2Nx01pzwQUX0KlTJ/Lzc0hLU1vfBsn3jcgNG5YSwSAwC4o9esBHH5n7Cze2FQRBEISdKYRa2az84SE6/W8Mh9/3JI+f05jcvCTKtdhQBi3LomvXrrRr1442bdqQSCRQW9sLKerH98AD0K9fqqI+sqQJQ+jdG555xjxOxFAQBEHYDMU0NaoBhcr5hYcv/pLOr43ljk7mnlh6fAt65mFZFtnZ2VsvgkZFjeC1bWtqKhYsKBKV4vuw115mzVA6uQuCIAg7OyLUBfV7U5/rxX1TxvDqNS1o2qQpe+61F0eedRM/5wAkNyqfsG17/c82Ydvm54gjTJ1FtWqpNkVBAHvuaaxpDj009VhBEARB2FkRobKM0Ox91ljm9tLkrckhUDagcStUpl46gLtFl5ltl/CCqHCPPYztzN57m8LDBg3gxx+NOEbWM4IgCIKwM4UwIr1qIxpWBepvUi5Rxb33tm0iwRo1YM4c04Zi+nRISzO3iwgKgiAIu1IIQW+iaJ5tW//bnshQa+PHNnduwW5oWRcUBEEQSkIIFTtT8zb/smrLfwuCIAjC5uIpOQSCIAiCCKEgCIIgiBAKgiAIggihIAiCIIgQCoIgCIIIoSAIgiCIEAqCIAiCCKEgCIIgiBAKgiAIggihIAiCIIgQCoIgCIIIoSAIgiCIEAqCIAiCCKEgCIIgiBAKgiAIggihIAiCIIgQCoIgCIIIoSAIgiCUVyHUOiTUACG5a/IJAbQcaEEQBKGcCKFSFpZKMP6Oi+nW6TWWAyR9I4iCIAiCsFsLoYbc+T/x7itXcM3dI1hbtyL2fzwlCALCUGRSEARBKBmc4g0HYeYHj/HI6DUce83VrPx2Dflb0k2tsW2bjIwMtJb5U0EQBKGsR4RoGnR/mm8//IhLD9CsCCzcLTzatm0mTpzItGnTiMViIoaCIAhCGY8IUVStWxEvsZbl+eCozefJhGHI22+/zZgxY6hUqRIZGRkEQSBnRBAEQSjLEaERODcex7EU/xXgNWjQgGuvvZZu3bqRk5ODbdtyRgRBEISyHBGarNGtUmDL4vDDDwdgyZIleJ6HUkrOiCAIglC2I8KibDkk9H2fMAzJzc0VERQEQRB2MyHU+j+nRi3LWv8jCIIgCCXBTpgaBYjT/KwbeLOvMi8Qd8TLTRAEQSgfQrheEG0HV3JfBEEQhFKOBGqCIAiCCKEgCIIgiBAKgiAIggihIAiCIIgQCoIgCIIIoSAIgiCIEAqCIAiCCKEgCIIgiBAKgiAIggihIAiCIIgQCoIgCIIIoSAIgiCIEAqCIAiCCKEgCIIgiBAKgiAIggihIAiCIIgQCoIgCIIIIWi01nJ0BUEQhHIohBpAoZSSoysIgiCUNyHUoCBYOZfZc+azck1hcRQEQRCE3V4IFbnLPuSK7gdz1OGHcXTPgfyaALyAQI61IAiCUApxindz2bx9UV++v2ghc89Yxl0XnMD1Q/rwyeUNCbwQ291Yd4MgIAxDEzhqTRAEBIHIpiAIgrBjaK1RSq3XmJ0shBpQkPsVP3x+Jg+9WgEvsDlx//NY+O7HLLr8YurqkBCrSAgahiGO41ChQgWCICAej2PbNrZtyxkUBEEQioUKFSpsMYGzeCPCJatYkl6ZWAVwrXRiVZLEvHxWAHUdjS7Qy/Uv7jh8//33rFu3jqysLObMmYPruoRhiGVJZUdpuJoKggDLsuR8yHkR5LyU2Yhw9uzZxOPxXSSEroMT+oShAkujA0WoHPMiGgonkoZhyPDhw/niiy+oUKECtWvX5ueff2b8+PEopaT8ohRg2zZZWVnk5eWRSCTkvJSy85Kfn09+fr6cFzkvwpZkyXWxLIuOHTvuIiH0fHzLwbJN6GfZGksXJMqojZNHGzduzIABA1iyZAkjR46kffv2NG/eXCLCUnIVtXLlSt5//32OOOIIWrRoIeellJyXVatWMXLkSA4//HD2339/OS+l5LysWbOG9957j7Zt29KqVSs5L6XkvGRnZzNs2LAtPrZ4hbBODermfcm61Yqgch65yy3y0mpQA8BXqFjqoZZl0a5dOwCqVKlCbm4uderUoVmzZnIGSwnLly9n7dq11KxZU85LKWLVqlUMHTqU6tWry3kpRaxdu5ZXX32VatWqyXkpReTk5Kyf0drJQljwAmlHcnj307j2vXv47axlvPPLCyw+fQI1gaSyiG3wLN/3sSyL3NxcLMsimUwShiFBEEjCTCm4ksrNzUUpJeellJ8X3/dxHEcOUCk4L5Zl4XmenJdS+H3ZdREhafR4bAgf12tO7RsyaHjIzbx1Tm1U0seObfxS0aJyNH2glMKyLLTWMqVQCj5AlmWt/1/OS+k9L7Zty3kpJeel8DgmSTOl47xsjcuZ0jtjNTcvh+xAEU/LwHW2boej+XSxZitdHyQ5L3JehK0nCIIioiiUjfOyc4RQEARBEMoIctkiCIIgiBAKgiAIggihIAiCIIgQCoIgCEL5onQUuWhTcxNqhe042JZkwpUeNKEfopWFbct5KR1flwDfD4zVvWXjODZyZkrDefHxfNPlwLIdbNuS81KKCIOAUCscZ+P4rxRkjWo0qsgHRm/gSyqU6OlBvs2l6Xxs4sshX5jSeV5CDXJRXyYo0alRHZpRNpz/Bbcd24Qme5/CQ+/ONZ8nL5DG9iWsgEEIqDV8cfcTPPTIRDzkvJT0WItSLPv2CTrv1YQmTfam562vsMh8YQjlxJRMpIG5WJz94fXs06QJTZocyPn3f0m2pSD0CeUQlfw4xjq+f+JZ7r31K/I2MY6VnBDqEGUpWDGZO+86mx9OG8WogVV4Yfh1DPsbcGwC+WaX2Icn9BW2BfM+vZ/+t93Fj56NHUWIQokFHGv+fInbT3uS9q+MYtSoO3A+f4kL7v2aBA6WlouUkpgwsYClXz3B1Vf8y7WjRvHRRzfij3qRS5+YApaNJRePJSgzIbYFrPqRVx+/gk8WKdwoWi8NQqi1eemFf0xmybj/cfP5zWjW4xrOWlGFv8b+SqjACbV8gEpgxNUolF7Gm5cewKF3fUqTNmewX+5a8uXolBwKIJ95U//kixMf5Nb2zWjW7Axu65NFneUTmBUosELEHqMETgtQ/bALeX3aUC5o1oz99juN3s3TSJs6k6WYlnRCCV3QWzb4q/nyk6G8vOJoulRMsm4Tj7RK9hOUZM3c5aysfCBN0Wjqs29Nj+S8xawBsOUDtOvPi1mvDfLjHHzucBZ+P46zmjuszi0tmVXlecBNo0XvB5n+zEn4+QAhs35fyeoVlUm3JVovSSw3jQqZNnmrFvDHF0/wQg7U73s0NdGESNJMyVzTK2wdsujXH5g9Yz+euOkoFi1eZyLCUiOE68ddCwgIUCgCAq1RVkHyjHyxSwwnK4smBzUDckki+TKlKWIPPB8nDVZ88ygPLmrF4f370ijUhKEjuRklFXloAJ95Xz3N6Rffz6r0DvzvgCwIA1BSpVZC1/SQXMLY4W+S3fMcWqxYRralCINwI2kp4YhQo8OQ0LZQIaAVlh2iQ71+AVoowQE3MMlMSq5ISs+AG2ps12H5xAf4X99PadPzeq48NAsdhCgpbymxwUxpn2RSsVe3e5k641c6zx/Frfd8S9JysAJZIyyhrwsL/n6DJQ0e5/KWtdBOZapWqk3FgrKWwufEKcmdRNk4GTEqZvtoK0FCBwQ5FXHiLnEw6VjS/q4Er6hkYC1l1yZYtubfCYM568wP2P+ahxh0Zh1y85OkpcXFHaMkvyuWQywGiVU5JJ002u1dl7WrF7EUqO9oqXApCZJ/8kK3AYzpGpBz1wpmfj2Jv9ZN55lRit6dD6YyARpTg2uV6Lcahzr7NcLJeJW38+PE1be8lTuP9NYtqACEWklQWAqudi3H2WQRqrCLrxuVwl/8E89cP4HOb3zLkMvb4RIjQ0SwRM8LBCz59i1uffxP4lUqkJWVwap0l/x6dakCECoRwZLAsWnZ7XZa5/zFvLmLWJWbS35iOYtXrMNTRZffSiwiVBboEDKbHMWJ/Z7juoNO4qusOSw77HzuObIG+CHalq93yeOTvWwlK+x8md4p0csRIMjhk7tPYNB3GfzvxZ78774k2IrmJ17GgPM6UV0FaG3LoFsCZ8eJwe+vnc2R42pRSTtUbHoa11x8KBX8EG1JskyJYO/NKQ/ewSkFf0649gZeXtyVO8/qAPk+oZNaUy9RZxld4Fqi1i7h+w8+YFrQmKM7daRpfWWmRWXlv2SvdjUolc/8X/5hdawW+zWvjiVuGSV4QpLMnvQePy/UrF64hjAeg8CnZssj6dh2HzJViJYMxRIjmPc5r346G5+qtOzQmXbNstCBlrXbEiPET3oEWqFUkqV/zWZpsgr7HViHuGWZOnZKgRCmJheKflBkrBUEoUxdo4S6yMAKEIYaSwayshHTl4oO9TokCEI0Csuy5MNT6r7k0bmR81Ly58IvsIwq9CW2bDGqLxXnJihww5JxrKyNY6VDCAVBEAShhJBsFEEQBEGEUBAEQRBECAVBEARBhFAQBEEQRAgFQRAEQYRQEARBEEQIBUEQBEGEUBAEQRBECAVBEARBhFAQBEEQdjf+H4lXgvX1Ec72AAAAU3RFWHRjb21tZW50AEZpbGUgc291cmNlOiBodHRwOi8vY29tbW9ucy53aWtpbWVkaWEub3JnL3dpa2kvRmlsZTpOb3JtZGlzdF9yZWdyZXNzaW9uLnBuZ7wPafoAAAAldEVYdGRhdGU6Y3JlYXRlADIwMTItMTAtMjhUMTU6MjM6MTMrMDA6MDBYWOglAAAAJXRFWHRkYXRlOm1vZGlmeQAyMDEyLTEwLTI4VDE1OjIzOjEzKzAwOjAwKQVQmQAAAEZ0RVh0c29mdHdhcmUASW1hZ2VNYWdpY2sgNi42LjktNyAyMDEyLTA4LTE3IFExNiBodHRwOi8vd3d3LmltYWdlbWFnaWNrLm9yZ5y9uUgAAAAYdEVYdFRodW1iOjpEb2N1bWVudDo6UGFnZXMAMaf/uy8AAAAYdEVYdFRodW1iOjpJbWFnZTo6aGVpZ2h0ADQwNt9kzz4AAAAXdEVYdFRodW1iOjpJbWFnZTo6V2lkdGgANDk0PARG1gAAABl0RVh0VGh1bWI6Ok1pbWV0eXBlAGltYWdlL3BuZz+yVk4AAAAXdEVYdFRodW1iOjpNVGltZQAxMzUxNDM3Nzkzqm3D9QAAABN0RVh0VGh1bWI6OlNpemUANy4xOUtCQlfZ07EAAAAzdEVYdFRodW1iOjpVUkkAZmlsZTovLy90bXAvbG9jYWxjb3B5XzFjMTViNzgyMjE0ZC0xLnBuZ1QbFkwAAAAASUVORK5CYII=)"
      ]
    },
    {
      "cell_type": "code",
      "metadata": {
        "id": "0A9U2pI1VSBz",
        "colab_type": "code",
        "colab": {
          "base_uri": "https://localhost:8080/",
          "height": 34
        },
        "outputId": "e3e0d65e-4d35-4daa-ebe6-7c67e4db6c59"
      },
      "source": [
        "from sklearn.linear_model import LinearRegression, Ridge, Lasso\n",
        "from sklearn.model_selection import GridSearchCV\n",
        "from sklearn import metrics\n",
        "import warnings\n",
        "pd.options.mode.chained_assignment = None\n",
        "warnings.filterwarnings('ignore',category=DeprecationWarning)\n",
        "\n",
        "# 선형회귀 모델을 초기화\n",
        "lModel = LinearRegression()\n",
        "\n",
        "# 모델을 학습시킨다.\n",
        "y_train_log = np.log1p(y_train)\n",
        "lModel.fit(X_train, y_train_log)\n",
        "\n",
        "# 예측하고 정확도를 평가한다.\n",
        "preds = lModel.predict(X_train)\n",
        "print('RMSLE Value For Linear Regression: ',\n",
        "      rmsle(np.exp(y_train_log), np.exp(preds), False))"
      ],
      "execution_count": 16,
      "outputs": [
        {
          "output_type": "stream",
          "text": [
            "RMSLE Value For Linear Regression:  0.9803697923313522\n"
          ],
          "name": "stdout"
        }
      ]
    },
    {
      "cell_type": "markdown",
      "metadata": {
        "id": "J_dgUeDTXepY",
        "colab_type": "text"
      },
      "source": [
        "# **릿지 Regularization Model - Ridge**\n",
        "  - 회귀를 위한 선형모델\n",
        "  - 가중치(w)의 모든 원소가 0에 가깝게 만들어 모든 피처가 주는 영향을 최소화(기울기를 작게 만듦)\n",
        "  - Regularization(규제)는 오버피팅(과대적합)이 되지 않도록 모델을 강제로 제한한다는 의미\n",
        "  - max_iter(반복 실행하는 최대 횟수)는 3000을 넣어주었다."
      ]
    },
    {
      "cell_type": "code",
      "metadata": {
        "id": "bDHLOmkkXSTD",
        "colab_type": "code",
        "colab": {
          "base_uri": "https://localhost:8080/",
          "height": 385
        },
        "outputId": "6bb8fe52-de7d-45b5-91bb-8247444d8d0e"
      },
      "source": [
        "ridge_m_ = Ridge()\n",
        "ridge_params_ = {'max_iter':[3000], 'alpha':[0.01,0.1,1,2,3,4,10,30,100,200,300,400,800,900,1000]}\n",
        "rmsle_scorer = metrics.make_scorer(rmsle, greater_is_better=False)\n",
        "# GridSearchCV를 통해 최적의 alpha 값을 찾는다.\n",
        "grid_ridge_m = GridSearchCV(ridge_m_,\n",
        "                            ridge_params_,\n",
        "                            scoring = rmsle_scorer,\n",
        "                            cv=5)\n",
        "\n",
        "y_train_log = np.log1p(y_train)\n",
        "grid_ridge_m.fit(X_train, y_train_log)  # 학습을 시킴\n",
        "preds = grid_ridge_m.predict(X_train)\n",
        "print(grid_ridge_m.best_params_)\n",
        "print('RMSLE Value For Ridge Regression: ', rmsle(np.exp(y_train_log),np.exp(preds), False))\n",
        "\n",
        "# GridSearchCV 한 값을 시각화해보기\n",
        "fig, ax = plt.subplots()\n",
        "fig.set_size_inches(12,5)\n",
        "df = pd.DataFrame(grid_ridge_m.cv_results_)\n",
        "df['alpha']=df['params'].apply(lambda x:x['alpha'])\n",
        "df['rmsle'] = df['mean_test_score'].apply(lambda x:-x)\n",
        "\n",
        "plt.xticks(rotation=30, ha='right')\n",
        "sns.pointplot(data=df, x='alpha', y='rmsle', ax=ax)"
      ],
      "execution_count": 18,
      "outputs": [
        {
          "output_type": "stream",
          "text": [
            "{'alpha': 0.01, 'max_iter': 3000}\n",
            "RMSLE Value For Ridge Regression:  0.9803697902780834\n"
          ],
          "name": "stdout"
        },
        {
          "output_type": "execute_result",
          "data": {
            "text/plain": [
              "<matplotlib.axes._subplots.AxesSubplot at 0x7f0b94925710>"
            ]
          },
          "metadata": {
            "tags": []
          },
          "execution_count": 18
        },
        {
          "output_type": "stream",
          "text": [
            "findfont: Font family ['NanumBarunGothic'] not found. Falling back to DejaVu Sans.\n"
          ],
          "name": "stderr"
        },
        {
          "output_type": "display_data",
          "data": {
            "image/png": "[encoded data removed]",
            "text/plain": [
              "<Figure size 864x360 with 1 Axes>"
            ]
          },
          "metadata": {
            "tags": []
          }
        }
      ]
    },
    {
      "cell_type": "markdown",
      "metadata": {
        "id": "1CFQuT74a2bZ",
        "colab_type": "text"
      },
      "source": [
        "# **라쏘 Regularization Model - Lasso**\n",
        "  - 선형회귀의 Regularization(규제)를 적용하는 대안\n",
        "  - 계수를 0에 가깝게 만드려고 하며 이를 L1규제라고 하며, 어떤 계수는 0이 되기도 하는데 이는 완전히 제외하는 피처가 생긴다는 의미다.\n",
        "  - 피처 선택이 자동으로 이루어진다고도 볼 수 있다.\n",
        "  - alpha 값의 기본 값은 1.0이며, 과소 적합을 줄이기 위해서는 이 값을 줄여야 한다.\n",
        "  - 그리드 서치로 아래 라쏘모델을 실행했을 때 베스트 알파값은 0.0025\n",
        "  - max_iter(반복 실행하는 최대횠수)는 3000을 넣어주었다."
      ]
    },
    {
      "cell_type": "code",
      "metadata": {
        "id": "8H3sGFgjZ9HA",
        "colab_type": "code",
        "colab": {
          "base_uri": "https://localhost:8080/",
          "height": 408
        },
        "outputId": "009e3c4d-008b-4663-e673-000abd61e0b8"
      },
      "source": [
        "lasso_m_ = Lasso()\n",
        "\n",
        "alpha = 1/np.array([0.1,1,2,3,4,10,20,30,100,200,300,400,800,900,1000])\n",
        "lasso_params_ = {'max_iter':[3000], 'alpha':alpha}\n",
        "\n",
        "# GridSearchCV로 최적의 alpha 값 찾기\n",
        "grid_lasso_m = GridSearchCV(lasso_m_, lasso_params_, scoring=rmsle_scorer, cv=5)\n",
        "y_train_log = np.log1p(y_train)\n",
        "grid_lasso_m.fit(X_train, y_train_log) # X_train, y_train_log를 이용하여 학습시킴\n",
        "preds = grid_lasso_m.predict(X_train)\n",
        "print(grid_lasso_m.best_params_)  # best 값을 찾아서 출력\n",
        "print('RMSLE Value For Lasso Regression: ', rmsle(np.exp(y_train_log), np.exp(preds), False))\n",
        "\n",
        "fig, ax= plt.subplots()\n",
        "fig.set_size_inches(12,5)\n",
        "df = pd.DataFrame(grid_lasso_m.cv_results_)\n",
        "df['alpha']=df['params'].apply(lambda x:x['alpha'])\n",
        "df['rmsle'] = df['mean_test_score'].apply(lambda x:-x)\n",
        "\n",
        "plt.xticks(rotation=30, ha='right')\n",
        "sns.pointplot(data=df, x='alpha', y='rmsle', ax=ax)"
      ],
      "execution_count": 19,
      "outputs": [
        {
          "output_type": "stream",
          "text": [
            "{'alpha': 0.00125, 'max_iter': 3000}\n",
            "RMSLE Value For Lasso Regression:  0.9803727821457648\n"
          ],
          "name": "stdout"
        },
        {
          "output_type": "execute_result",
          "data": {
            "text/plain": [
              "<matplotlib.axes._subplots.AxesSubplot at 0x7f0b94dd2550>"
            ]
          },
          "metadata": {
            "tags": []
          },
          "execution_count": 19
        },
        {
          "output_type": "display_data",
          "data": {
            "image/png": "[encoded data removed]",
            "text/plain": [
              "<Figure size 864x360 with 1 Axes>"
            ]
          },
          "metadata": {
            "tags": []
          }
        }
      ]
    },
    {
      "cell_type": "markdown",
      "metadata": {
        "id": "ERP-7QTfdPwi",
        "colab_type": "text"
      },
      "source": [
        "# **앙상블모델 - 랜덤포레스트**\n",
        "\n",
        "**Ensemble Models - Random Forest**"
      ]
    },
    {
      "cell_type": "code",
      "metadata": {
        "id": "IMJvV1YAdJdN",
        "colab_type": "code",
        "colab": {
          "base_uri": "https://localhost:8080/",
          "height": 34
        },
        "outputId": "615049f2-e9fe-44d3-ca3b-f8f961d2418c"
      },
      "source": [
        "from sklearn.ensemble import RandomForestRegressor\n",
        "rfModel = RandomForestRegressor(n_estimators=100)\n",
        "\n",
        "y_train_log = np.log1p(y_train)\n",
        "rfModel.fit(X_train, y_train_log)\n",
        "\n",
        "preds = rfModel.predict(X_train)\n",
        "score = rmsle(np.exp(y_train_log), np.exp(preds), False)\n",
        "print('RMSLE Value For Random Forest: ', score)"
      ],
      "execution_count": 26,
      "outputs": [
        {
          "output_type": "stream",
          "text": [
            "RMSLE Value For Random Forest:  0.10772368549696712\n"
          ],
          "name": "stdout"
        }
      ]
    },
    {
      "cell_type": "markdown",
      "metadata": {
        "id": "6tggYdSffwVE",
        "colab_type": "text"
      },
      "source": [
        "# **앙상블 모델 - 그라디언트 부스트**\n",
        "\n",
        "**Ensemble Model - Gradient Boost**\n",
        "\n",
        "  - 여러 개의 결정트리를 묶어 강력한 모델을 만드는 또 다른 앙상블 기법\n",
        "  - 회귀와 분류에 모두 사용할 수 있음\n",
        "  - 랜덤포레스트와 달리 이진 트리의 오차를 보완하는 방식으로 순차적으로 트리를 만든다.\n",
        "  - 무작위성이 없고 강력한 사전 가지치기가 사용 됨\n",
        "  - 1~5개의 깊지 않은 트리를 사용하기 때문에 메모리를 적게 사용하고 예측이 빠름\n",
        "  - learning_rate: 오차를 얼마나 강하게 보정할 것인지를 제어\n",
        "  - n_estimator의 값을 키우면 앙상블에 트리가 더 많이 추가되어 모델의 복잡도가 커지고 훈련세트에서의 실수를 바로잡을 기회가 많아지지만 너무 크면 모델이 복잡해지고 오버피팅(과대적합)이 될 수 있다.\n",
        "  - max_depth(max_leaf_nodes) 복잡도를 너무 높이지 말고 트리의 길이가 5보다 깊어지지 않게 한다."
      ]
    },
    {
      "cell_type": "code",
      "metadata": {
        "id": "R1GbGjpKfo1e",
        "colab_type": "code",
        "colab": {
          "base_uri": "https://localhost:8080/",
          "height": 34
        },
        "outputId": "498cfa6b-0cd7-49e1-87b1-2473ee2c0d8a"
      },
      "source": [
        "from sklearn.ensemble import GradientBoostingRegressor\n",
        "gbm = GradientBoostingRegressor(n_estimators=4000, alpha=0.01);\n",
        "\n",
        "y_train_log = np.log1p(y_train)\n",
        "gbm.fit(X_train, y_train_log)\n",
        "\n",
        "preds = gbm.predict(X_train)\n",
        "score = rmsle(np.exp(y_train_log), np.exp(preds), False)\n",
        "print('RMSLE Value For Gradient Boost: ', score)"
      ],
      "execution_count": 32,
      "outputs": [
        {
          "output_type": "stream",
          "text": [
            "RMSLE Value For Gradient Boost:  0.21357403727249372\n"
          ],
          "name": "stdout"
        }
      ]
    },
    {
      "cell_type": "code",
      "metadata": {
        "id": "94ZrxUynhobH",
        "colab_type": "code",
        "colab": {
          "base_uri": "https://localhost:8080/",
          "height": 322
        },
        "outputId": "c3ee3869-5fba-4ea6-e451-8a9553f5e2a4"
      },
      "source": [
        "predsTest = rfModel.predict(X_test) # 점수가 가장 높게 나온 rfModel로 새로운 predsTest만들기\n",
        "# train과 predsTest 비교하여 시각화하기\n",
        "fig, (ax1,ax2)=plt.subplots(ncols=2)\n",
        "fig.set_size_inches(12,5)\n",
        "sns.distplot(y_train, ax=ax1, bins=50)\n",
        "sns.distplot(np.exp(predsTest), ax=ax2, bins=50)"
      ],
      "execution_count": 27,
      "outputs": [
        {
          "output_type": "execute_result",
          "data": {
            "text/plain": [
              "<matplotlib.axes._subplots.AxesSubplot at 0x7f0b92498438>"
            ]
          },
          "metadata": {
            "tags": []
          },
          "execution_count": 27
        },
        {
          "output_type": "display_data",
          "data": {
            "image/png": "[encoded data removed]",
            "text/plain": [
              "<Figure size 864x360 with 2 Axes>"
            ]
          },
          "metadata": {
            "tags": []
          }
        }
      ]
    },
    {
      "cell_type": "markdown",
      "metadata": {
        "id": "FviUem6fif7C",
        "colab_type": "text"
      },
      "source": [
        "# **Submit**"
      ]
    },
    {
      "cell_type": "code",
      "metadata": {
        "id": "CtbzqKkbiH-F",
        "colab_type": "code",
        "colab": {
          "base_uri": "https://localhost:8080/",
          "height": 213
        },
        "outputId": "6c216a00-fce7-45e1-b24b-d9e23537520b"
      },
      "source": [
        "submission = pd.read_csv('data/sampleSubmission.csv')\n",
        "submission\n",
        "\n",
        "# 학습시킬 때 log를 씌웠기 때문에 다시 지수를 취해주고 count에 넣는다.\n",
        "submission['count'] = np.exp(predsTest)\n",
        "\n",
        "print(submission.shape)\n",
        "submission.head()"
      ],
      "execution_count": 28,
      "outputs": [
        {
          "output_type": "stream",
          "text": [
            "(6493, 2)\n"
          ],
          "name": "stdout"
        },
        {
          "output_type": "execute_result",
          "data": {
            "text/html": [
              "<div>\n",
              "<style scoped>\n",
              "    .dataframe tbody tr th:only-of-type {\n",
              "        vertical-align: middle;\n",
              "    }\n",
              "\n",
              "    .dataframe tbody tr th {\n",
              "        vertical-align: top;\n",
              "    }\n",
              "\n",
              "    .dataframe thead th {\n",
              "        text-align: right;\n",
              "    }\n",
              "</style>\n",
              "<table border=\"1\" class=\"dataframe\">\n",
              "  <thead>\n",
              "    <tr style=\"text-align: right;\">\n",
              "      <th></th>\n",
              "      <th>datetime</th>\n",
              "      <th>count</th>\n",
              "    </tr>\n",
              "  </thead>\n",
              "  <tbody>\n",
              "    <tr>\n",
              "      <th>0</th>\n",
              "      <td>2011-01-20 00:00:00</td>\n",
              "      <td>12.633437</td>\n",
              "    </tr>\n",
              "    <tr>\n",
              "      <th>1</th>\n",
              "      <td>2011-01-20 01:00:00</td>\n",
              "      <td>5.735238</td>\n",
              "    </tr>\n",
              "    <tr>\n",
              "      <th>2</th>\n",
              "      <td>2011-01-20 02:00:00</td>\n",
              "      <td>3.274010</td>\n",
              "    </tr>\n",
              "    <tr>\n",
              "      <th>3</th>\n",
              "      <td>2011-01-20 03:00:00</td>\n",
              "      <td>4.679376</td>\n",
              "    </tr>\n",
              "    <tr>\n",
              "      <th>4</th>\n",
              "      <td>2011-01-20 04:00:00</td>\n",
              "      <td>3.849912</td>\n",
              "    </tr>\n",
              "  </tbody>\n",
              "</table>\n",
              "</div>"
            ],
            "text/plain": [
              "              datetime      count\n",
              "0  2011-01-20 00:00:00  12.633437\n",
              "1  2011-01-20 01:00:00   5.735238\n",
              "2  2011-01-20 02:00:00   3.274010\n",
              "3  2011-01-20 03:00:00   4.679376\n",
              "4  2011-01-20 04:00:00   3.849912"
            ]
          },
          "metadata": {
            "tags": []
          },
          "execution_count": 28
        }
      ]
    },
    {
      "cell_type": "markdown",
      "metadata": {
        "id": "KVYFh3AhlehS",
        "colab_type": "text"
      },
      "source": [
        "**rfModel로 제출할 때**"
      ]
    },
    {
      "cell_type": "code",
      "metadata": {
        "id": "IVzhqzzrizLC",
        "colab_type": "code",
        "colab": {}
      },
      "source": [
        "# rfModel로 제출할 때\n",
        "submission.to_csv('data/Score_{0:.5f}_submission.csv'.format(score), index=False)"
      ],
      "execution_count": 29,
      "outputs": []
    },
    {
      "cell_type": "code",
      "metadata": {
        "id": "mmE9UJ2DkmkT",
        "colab_type": "code",
        "colab": {
          "base_uri": "https://localhost:8080/",
          "height": 34
        },
        "outputId": "9c789194-a62a-48bd-a33d-e057610d2eb1"
      },
      "source": [
        "218/3242"
      ],
      "execution_count": 30,
      "outputs": [
        {
          "output_type": "execute_result",
          "data": {
            "text/plain": [
              "0.06724244293645898"
            ]
          },
          "metadata": {
            "tags": []
          },
          "execution_count": 30
        }
      ]
    },
    {
      "cell_type": "markdown",
      "metadata": {
        "id": "wB_RkfrJlaCv",
        "colab_type": "text"
      },
      "source": [
        "**gbm으로 제출할 때**"
      ]
    },
    {
      "cell_type": "code",
      "metadata": {
        "id": "5oJz_AbIkpM0",
        "colab_type": "code",
        "colab": {
          "base_uri": "https://localhost:8080/",
          "height": 318
        },
        "outputId": "880f1cab-bf34-41f9-c558-e7e557dd1c2b"
      },
      "source": [
        "predsTest = gbm.predict(X_test) # 가장 높은 점수는 아니지만 gbm을 통한 점수는 몇점인지 알아보기\n",
        "# train과 predsTest 비교하여 시각화하기\n",
        "fig, (ax1,ax2)=plt.subplots(ncols=2)\n",
        "fig.set_size_inches(12,5)\n",
        "sns.distplot(y_train, ax=ax1, bins=50)\n",
        "sns.distplot(np.exp(predsTest), ax=ax2, bins=50)"
      ],
      "execution_count": 31,
      "outputs": [
        {
          "output_type": "execute_result",
          "data": {
            "text/plain": [
              "<matplotlib.axes._subplots.AxesSubplot at 0x7f0b9225fb00>"
            ]
          },
          "metadata": {
            "tags": []
          },
          "execution_count": 31
        },
        {
          "output_type": "display_data",
          "data": {
            "image/png": "[encoded data removed]",
            "text/plain": [
              "<Figure size 864x360 with 2 Axes>"
            ]
          },
          "metadata": {
            "tags": []
          }
        }
      ]
    },
    {
      "cell_type": "code",
      "metadata": {
        "id": "lDQAYGCFk1Y0",
        "colab_type": "code",
        "colab": {}
      },
      "source": [
        "# gbm으로 제출할 때\n",
        "submission.to_csv('data/Score_{0:.5f}_submission.csv'.format(score), index=False)"
      ],
      "execution_count": 34,
      "outputs": []
    },
    {
      "cell_type": "code",
      "metadata": {
        "id": "bUi_KV8OlhZv",
        "colab_type": "code",
        "colab": {
          "base_uri": "https://localhost:8080/",
          "height": 34
        },
        "outputId": "55cceb38-ff92-49e2-cec2-dce650fccc75"
      },
      "source": [
        "218/3242"
      ],
      "execution_count": 35,
      "outputs": [
        {
          "output_type": "execute_result",
          "data": {
            "text/plain": [
              "0.06724244293645898"
            ]
          },
          "metadata": {
            "tags": []
          },
          "execution_count": 35
        }
      ]
    }
  ]
}