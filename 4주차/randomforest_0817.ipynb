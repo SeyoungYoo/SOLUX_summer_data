{
  "nbformat": 4,
  "nbformat_minor": 0,
  "metadata": {
    "colab": {
      "name": "randomforest.ipynb",
      "provenance": [],
      "authorship_tag": "ABX9TyP8eXYEK5bz4cBpguEnWwrE",
      "include_colab_link": true
    },
    "kernelspec": {
      "name": "python3",
      "display_name": "Python 3"
    }
  },
  "cells": [
    {
      "cell_type": "markdown",
      "metadata": {
        "id": "view-in-github",
        "colab_type": "text"
      },
      "source": [
        "<a href=\"https://colab.research.google.com/github/yooste/SOLUX_summer_data/blob/master/4%EC%A3%BC%EC%B0%A8/randomforest_0817.ipynb\" target=\"_parent\"><img src=\"https://colab.research.google.com/assets/colab-badge.svg\" alt=\"Open In Colab\"/></a>"
      ]
    },
    {
      "cell_type": "markdown",
      "metadata": {
        "id": "o7_svnbRWDFv",
        "colab_type": "text"
      },
      "source": [
        "# **Load Dataset**"
      ]
    },
    {
      "cell_type": "code",
      "metadata": {
        "id": "vm2qdV3KWAEq",
        "colab_type": "code",
        "colab": {}
      },
      "source": [
        "import pandas as pd\n",
        "import numpy as np\n",
        "\n",
        "import matplotlib as mpl\n",
        "import matplotlib.pyplot as plt\n",
        "import seaborn as sns\n",
        "\n",
        "# 노트북 안에 그래프를 그리기 위해\n",
        "%matplotlib inline\n",
        "\n",
        "# 그래프에서 마이너스 폰트 깨지는 문제에 대한 대처\n",
        "mpl.rcParams['axes.unicode_minus'] = False\n",
        "\n",
        "import warnings\n",
        "warnings.filterwarnings('ignore')"
      ],
      "execution_count": 3,
      "outputs": []
    },
    {
      "cell_type": "code",
      "metadata": {
        "id": "wXQgVaWgXZ5Y",
        "colab_type": "code",
        "colab": {
          "base_uri": "https://localhost:8080/",
          "height": 34
        },
        "outputId": "99918c0c-0f2c-4107-acc3-6fa184e272d3"
      },
      "source": [
        "train = pd.read_csv('data/train.csv', parse_dates=['datetime']) # datetime 형식으로 train 가져오기\n",
        "train.shape"
      ],
      "execution_count": 4,
      "outputs": [
        {
          "output_type": "execute_result",
          "data": {
            "text/plain": [
              "(10886, 12)"
            ]
          },
          "metadata": {
            "tags": []
          },
          "execution_count": 4
        }
      ]
    },
    {
      "cell_type": "code",
      "metadata": {
        "id": "YO7rP07iXv4X",
        "colab_type": "code",
        "colab": {
          "base_uri": "https://localhost:8080/",
          "height": 34
        },
        "outputId": "ce9e0610-a755-4dcb-da1b-85bc924d9cf9"
      },
      "source": [
        "test = pd.read_csv('data/test.csv', parse_dates=['datetime']) # datetime 형식으로 test 가져오기\n",
        "test.shape"
      ],
      "execution_count": 5,
      "outputs": [
        {
          "output_type": "execute_result",
          "data": {
            "text/plain": [
              "(6493, 9)"
            ]
          },
          "metadata": {
            "tags": []
          },
          "execution_count": 5
        }
      ]
    },
    {
      "cell_type": "markdown",
      "metadata": {
        "id": "RH_ulivFYZ70",
        "colab_type": "text"
      },
      "source": [
        "# **Feature Engineering**"
      ]
    },
    {
      "cell_type": "code",
      "metadata": {
        "id": "BpAQF5pXYY3y",
        "colab_type": "code",
        "colab": {
          "base_uri": "https://localhost:8080/",
          "height": 34
        },
        "outputId": "a8fa8557-66e5-469e-a034-245093319e50"
      },
      "source": [
        "# train의 datetime을 세분화 시키기\n",
        "train['year'] = train['datetime'].dt.year\n",
        "train['month'] = train['datetime'].dt.month\n",
        "train['day'] = train['datetime'].dt.day\n",
        "train['hour'] = train['datetime'].dt.hour\n",
        "train['minute'] = train['datetime'].dt.minute\n",
        "train['second'] = train['datetime'].dt.second\n",
        "train['dayofweek'] = train['datetime'].dt.dayofweek\n",
        "train.shape\n",
        "# 12개였던 column이 19개로 바뀜"
      ],
      "execution_count": 6,
      "outputs": [
        {
          "output_type": "execute_result",
          "data": {
            "text/plain": [
              "(10886, 19)"
            ]
          },
          "metadata": {
            "tags": []
          },
          "execution_count": 6
        }
      ]
    },
    {
      "cell_type": "code",
      "metadata": {
        "id": "CLsm7186Y6wx",
        "colab_type": "code",
        "colab": {
          "base_uri": "https://localhost:8080/",
          "height": 34
        },
        "outputId": "4961dbf9-a75a-4c88-8b49-d4602b2dfdfd"
      },
      "source": [
        "# test의 datetime을 세분화 시키기\n",
        "test['year'] = test['datetime'].dt.year\n",
        "test['month'] = test['datetime'].dt.month\n",
        "test['day'] = test['datetime'].dt.day\n",
        "test['hour'] = test['datetime'].dt.hour\n",
        "test['minute'] = test['datetime'].dt.minute\n",
        "test['second'] = test['datetime'].dt.second\n",
        "test['dayofweek'] = test['datetime'].dt.dayofweek\n",
        "test.shape\n",
        "# 9개였던 column이 16개로 바뀜"
      ],
      "execution_count": 7,
      "outputs": [
        {
          "output_type": "execute_result",
          "data": {
            "text/plain": [
              "(6493, 16)"
            ]
          },
          "metadata": {
            "tags": []
          },
          "execution_count": 7
        }
      ]
    },
    {
      "cell_type": "code",
      "metadata": {
        "id": "4dxYfh-XZOq6",
        "colab_type": "code",
        "colab": {
          "base_uri": "https://localhost:8080/",
          "height": 711
        },
        "outputId": "37131fa6-4f1c-4123-fa07-a67494123291"
      },
      "source": [
        "# windspeed 풍속에 0 값이 가장 많다. => 잘못 기록한 데이터를 고쳐줄 필요가 있음\n",
        "fig, axes = plt.subplots(nrows=2)\n",
        "fig.set_size_inches(18,10)\n",
        "\n",
        "plt.sca(axes[0])\n",
        "plt.xticks(rotation=30, ha='right')   # x축의 글자를 30도 회전하여 잘 보이게 해준다.\n",
        "axes[0].set(ylabel='Count', title='train windspeed')\n",
        "sns.countplot(data=train, x='windspeed', ax=axes[0])\n",
        "\n",
        "plt.sca(axes[1])\n",
        "plt.xticks(rotation=30, ha='right')\n",
        "axes[1].set(ylabel='Count', title='test windspeed')\n",
        "sns.countplot(data=test, x='windspeed', ax=axes[1])"
      ],
      "execution_count": 8,
      "outputs": [
        {
          "output_type": "execute_result",
          "data": {
            "text/plain": [
              "<matplotlib.axes._subplots.AxesSubplot at 0x7fe446855cc0>"
            ]
          },
          "metadata": {
            "tags": []
          },
          "execution_count": 8
        },
        {
          "output_type": "stream",
          "text": [
            "findfont: Font family ['NanumBarunGothic'] not found. Falling back to DejaVu Sans.\n",
            "findfont: Font family ['NanumBarunGothic'] not found. Falling back to DejaVu Sans.\n"
          ],
          "name": "stderr"
        },
        {
          "output_type": "display_data",
          "data": {
            "image/png": "[encoded data removed]",
            "text/plain": [
              "<Figure size 1296x720 with 2 Axes>"
            ]
          },
          "metadata": {
            "tags": [],
            "needs_background": "light"
          }
        }
      ]
    },
    {
      "cell_type": "code",
      "metadata": {
        "id": "GKtFU65MaN4o",
        "colab_type": "code",
        "colab": {}
      },
      "source": [
        "# 풍속의 0값에 특정 값을 넣어준다.\n",
        "# 평균을 구해 일괄적으로 넣어줄 수도 있지만, 예측의 정확도를 높이는 데 도움이 될 것 같지는 않다.\n",
        "# train.loc[train['windspeed']==0, 'windspeed'] = train['windspeed'].mean()\n",
        "# test.loc[train['windspeed']==0, 'windspeed'] = test['windspeed'].mean()"
      ],
      "execution_count": null,
      "outputs": []
    },
    {
      "cell_type": "code",
      "metadata": {
        "id": "HzkqaDbJbqbq",
        "colab_type": "code",
        "colab": {
          "base_uri": "https://localhost:8080/",
          "height": 52
        },
        "outputId": "3cdf86c1-d949-40e9-d1a4-023f07056606"
      },
      "source": [
        "# 풍속이 0인것과 아닌 것의 세트를 나누어 준다.\n",
        "trainWind0 = train.loc[train['windspeed']==0]\n",
        "trainWindNot0 = train.loc[train['windspeed'] != 0]\n",
        "print(trainWind0.shape)\n",
        "print(trainWindNot0.shape)"
      ],
      "execution_count": 9,
      "outputs": [
        {
          "output_type": "stream",
          "text": [
            "(1313, 19)\n",
            "(9573, 19)\n"
          ],
          "name": "stdout"
        }
      ]
    },
    {
      "cell_type": "code",
      "metadata": {
        "id": "x8ryd4wHb_B5",
        "colab_type": "code",
        "colab": {}
      },
      "source": [
        "# 그래서 머신러닝으로 예측을 해서 풍속을 넣어주도록 한다.\n",
        "from sklearn.ensemble import RandomForestClassifier\n",
        "\n",
        "def predict_windspeed(data):\n",
        "\n",
        "  # 풍속이 0인것과 아닌 것을 나누어 준다.\n",
        "  dataWind0 = data.loc[data['windspeed'] == 0]\n",
        "  dataWindNot0 = data.loc[data['windspeed'] != 0]\n",
        "\n",
        "  # 풍속을 예측할 피처를 선택한다.\n",
        "  wCol = ['season', 'weather','humidity','month','temp','year','atemp']\n",
        "\n",
        "  # 풍속이 0이 아닌 데이터들의 타입을 스트림으로 바꿔준다.\n",
        "  dataWindNot0['windspeed']=dataWindNot0['windspeed'].astype('str')\n",
        "\n",
        "  # 랜덤포레스트 분류기를 사용한다.\n",
        "  rfModel_wind = RandomForestClassifier()\n",
        "\n",
        "  # wCol에 있는 피처의 값을 바탕으로 풍속을 학습시킨다.\n",
        "  rfModel_wind.fit(dataWindNot0[wCol], dataWindNot0['windspeed'])\n",
        "\n",
        "  # 학습한 값을 바탕으로 풍속이 0으로 기록 된 데이터의 풍속을 예측한다.\n",
        "  wind0Values = rfModel_wind.predict(X = dataWind0[wCol])\n",
        "\n",
        "  # 값을 다 예측 후 비교해 보기 위해\n",
        "  # 예측한 값을 넣어 줄 데이터 프레임을 새로 만든다.\n",
        "  predictWind0 = dataWind0\n",
        "  predictWindNot0 = dataWindNot0\n",
        "\n",
        "  # 값이 0으로 기록된 풍속에 대해 예측한 값을 넣어준다.\n",
        "  predictWind0['windspeed'] = wind0Values\n",
        "\n",
        "  # dataWindNot0 0이 아닌 풍속이 있는 데이터프레임에 예측한 값이 있는 데이터프레임을 합쳐준다.\n",
        "  data = predictWindNot0.append(predictWind0)\n",
        "\n",
        "  # 풍속의 데이터타입을 float으로 지정해준다.\n",
        "  data['windspeed'] = data['windspeed'].astype('float')\n",
        "\n",
        "  data.reset_index(inplace=True)   # reset_index(): 기존의 행 인덱스를 제거하고 인덱스를 데이터 열로 추가 \n",
        "  data.drop('index', inplace=True, axis=1)\n",
        "\n",
        "  return data"
      ],
      "execution_count": 10,
      "outputs": []
    },
    {
      "cell_type": "code",
      "metadata": {
        "id": "p05ZkL27o6rp",
        "colab_type": "code",
        "colab": {
          "base_uri": "https://localhost:8080/",
          "height": 441
        },
        "outputId": "42e46538-4d87-4480-b1a4-24969277c17f"
      },
      "source": [
        "# 0값을 조정한다.\n",
        "train = predict_windspeed(train)\n",
        "# test = predict_windspeed(test)\n",
        "\n",
        "# windspeed의 0값을 조정한 데이터를 시각화\n",
        "fig, ax1 = plt.subplots()\n",
        "fig.set_size_inches(18,6)\n",
        "\n",
        "plt.sca(ax1)\n",
        "plt.xticks(rotation=30, ha='right')\n",
        "ax1.set(ylabel='Count', title='train windspeed')\n",
        "sns.countplot(data=train, x='windspeed', ax=ax1)"
      ],
      "execution_count": 11,
      "outputs": [
        {
          "output_type": "execute_result",
          "data": {
            "text/plain": [
              "<matplotlib.axes._subplots.AxesSubplot at 0x7fe441743a20>"
            ]
          },
          "metadata": {
            "tags": []
          },
          "execution_count": 11
        },
        {
          "output_type": "display_data",
          "data": {
            "image/png": "[encoded data removed]",
            "text/plain": [
              "<Figure size 1296x432 with 1 Axes>"
            ]
          },
          "metadata": {
            "tags": [],
            "needs_background": "light"
          }
        }
      ]
    },
    {
      "cell_type": "markdown",
      "metadata": {
        "id": "IMVKg-ZYpp1O",
        "colab_type": "text"
      },
      "source": [
        "**Feature Selection**\n",
        "\n",
        "  - 신호와 잡음을 구분해야 한다.\n",
        "  - 피처가 많다고 해서 무조건 좋은 성능을 내지 않는다.\n",
        "  - 피처를 하나씩 추가하고 변경해 가면서 성능이 좋지 않은 피처는 제거하도록 한다."
      ]
    },
    {
      "cell_type": "code",
      "metadata": {
        "id": "Yii1fM7npXju",
        "colab_type": "code",
        "colab": {}
      },
      "source": [
        "# 연속형 feature와 범주형 feature\n",
        "# 연속형 feature = ['temp','humidity','windspeed','atemp']\n",
        "# 범주형 feature의 type을 category로 변경해준다.\n",
        "categorical_feature_names = ['season','holiday','workingday','weather','dayofweek','month','year','hour']\n",
        "\n",
        "for var in categorical_feature_names:\n",
        "  train[var] = train[var].astype('category')\n",
        "  test[var] = test[var].astype('category')"
      ],
      "execution_count": 12,
      "outputs": []
    },
    {
      "cell_type": "code",
      "metadata": {
        "id": "vMTExBUSqTla",
        "colab_type": "code",
        "colab": {
          "base_uri": "https://localhost:8080/",
          "height": 210
        },
        "outputId": "66b9bc0d-cef1-4868-cad9-3cce464de360"
      },
      "source": [
        "# feature 선택하기\n",
        "feature_names=['season','weather','temp','atemp','humidity','windspeed','year','hour','dayofweek'\n",
        ",'holiday','workingday']\n",
        "feature_names"
      ],
      "execution_count": 13,
      "outputs": [
        {
          "output_type": "execute_result",
          "data": {
            "text/plain": [
              "['season',\n",
              " 'weather',\n",
              " 'temp',\n",
              " 'atemp',\n",
              " 'humidity',\n",
              " 'windspeed',\n",
              " 'year',\n",
              " 'hour',\n",
              " 'dayofweek',\n",
              " 'holiday',\n",
              " 'workingday']"
            ]
          },
          "metadata": {
            "tags": []
          },
          "execution_count": 13
        }
      ]
    },
    {
      "cell_type": "code",
      "metadata": {
        "id": "D2HGXqu3q0jb",
        "colab_type": "code",
        "colab": {
          "base_uri": "https://localhost:8080/",
          "height": 213
        },
        "outputId": "795aa473-3249-4f72-926b-7d58acbf5cf8"
      },
      "source": [
        "# 선택한 feature의 항목을 갖는 새로운 데이터셋 X_train을 만듦\n",
        "X_train = train[feature_names]\n",
        "\n",
        "print(X_train.shape)\n",
        "X_train.head()"
      ],
      "execution_count": 14,
      "outputs": [
        {
          "output_type": "stream",
          "text": [
            "(10886, 11)\n"
          ],
          "name": "stdout"
        },
        {
          "output_type": "execute_result",
          "data": {
            "text/html": [
              "<div>\n",
              "<style scoped>\n",
              "    .dataframe tbody tr th:only-of-type {\n",
              "        vertical-align: middle;\n",
              "    }\n",
              "\n",
              "    .dataframe tbody tr th {\n",
              "        vertical-align: top;\n",
              "    }\n",
              "\n",
              "    .dataframe thead th {\n",
              "        text-align: right;\n",
              "    }\n",
              "</style>\n",
              "<table border=\"1\" class=\"dataframe\">\n",
              "  <thead>\n",
              "    <tr style=\"text-align: right;\">\n",
              "      <th></th>\n",
              "      <th>season</th>\n",
              "      <th>weather</th>\n",
              "      <th>temp</th>\n",
              "      <th>atemp</th>\n",
              "      <th>humidity</th>\n",
              "      <th>windspeed</th>\n",
              "      <th>year</th>\n",
              "      <th>hour</th>\n",
              "      <th>dayofweek</th>\n",
              "      <th>holiday</th>\n",
              "      <th>workingday</th>\n",
              "    </tr>\n",
              "  </thead>\n",
              "  <tbody>\n",
              "    <tr>\n",
              "      <th>0</th>\n",
              "      <td>1</td>\n",
              "      <td>2</td>\n",
              "      <td>9.84</td>\n",
              "      <td>12.880</td>\n",
              "      <td>75</td>\n",
              "      <td>6.0032</td>\n",
              "      <td>2011</td>\n",
              "      <td>5</td>\n",
              "      <td>5</td>\n",
              "      <td>0</td>\n",
              "      <td>0</td>\n",
              "    </tr>\n",
              "    <tr>\n",
              "      <th>1</th>\n",
              "      <td>1</td>\n",
              "      <td>1</td>\n",
              "      <td>15.58</td>\n",
              "      <td>19.695</td>\n",
              "      <td>76</td>\n",
              "      <td>16.9979</td>\n",
              "      <td>2011</td>\n",
              "      <td>10</td>\n",
              "      <td>5</td>\n",
              "      <td>0</td>\n",
              "      <td>0</td>\n",
              "    </tr>\n",
              "    <tr>\n",
              "      <th>2</th>\n",
              "      <td>1</td>\n",
              "      <td>1</td>\n",
              "      <td>14.76</td>\n",
              "      <td>16.665</td>\n",
              "      <td>81</td>\n",
              "      <td>19.0012</td>\n",
              "      <td>2011</td>\n",
              "      <td>11</td>\n",
              "      <td>5</td>\n",
              "      <td>0</td>\n",
              "      <td>0</td>\n",
              "    </tr>\n",
              "    <tr>\n",
              "      <th>3</th>\n",
              "      <td>1</td>\n",
              "      <td>1</td>\n",
              "      <td>17.22</td>\n",
              "      <td>21.210</td>\n",
              "      <td>77</td>\n",
              "      <td>19.0012</td>\n",
              "      <td>2011</td>\n",
              "      <td>12</td>\n",
              "      <td>5</td>\n",
              "      <td>0</td>\n",
              "      <td>0</td>\n",
              "    </tr>\n",
              "    <tr>\n",
              "      <th>4</th>\n",
              "      <td>1</td>\n",
              "      <td>2</td>\n",
              "      <td>18.86</td>\n",
              "      <td>22.725</td>\n",
              "      <td>72</td>\n",
              "      <td>19.9995</td>\n",
              "      <td>2011</td>\n",
              "      <td>13</td>\n",
              "      <td>5</td>\n",
              "      <td>0</td>\n",
              "      <td>0</td>\n",
              "    </tr>\n",
              "  </tbody>\n",
              "</table>\n",
              "</div>"
            ],
            "text/plain": [
              "  season weather   temp   atemp  ...  hour  dayofweek holiday workingday\n",
              "0      1       2   9.84  12.880  ...     5          5       0          0\n",
              "1      1       1  15.58  19.695  ...    10          5       0          0\n",
              "2      1       1  14.76  16.665  ...    11          5       0          0\n",
              "3      1       1  17.22  21.210  ...    12          5       0          0\n",
              "4      1       2  18.86  22.725  ...    13          5       0          0\n",
              "\n",
              "[5 rows x 11 columns]"
            ]
          },
          "metadata": {
            "tags": []
          },
          "execution_count": 14
        }
      ]
    },
    {
      "cell_type": "code",
      "metadata": {
        "id": "O8XHJ4OerBuj",
        "colab_type": "code",
        "colab": {
          "base_uri": "https://localhost:8080/",
          "height": 213
        },
        "outputId": "83f0b77a-566d-4b69-c818-3f748aefb25b"
      },
      "source": [
        "# 선택한 feature의 항목을 갖는 새로운 데이터셋 X_test를 만듦\n",
        "X_test = test[feature_names]\n",
        "\n",
        "print(X_test.shape)\n",
        "X_test.head()"
      ],
      "execution_count": 15,
      "outputs": [
        {
          "output_type": "stream",
          "text": [
            "(6493, 11)\n"
          ],
          "name": "stdout"
        },
        {
          "output_type": "execute_result",
          "data": {
            "text/html": [
              "<div>\n",
              "<style scoped>\n",
              "    .dataframe tbody tr th:only-of-type {\n",
              "        vertical-align: middle;\n",
              "    }\n",
              "\n",
              "    .dataframe tbody tr th {\n",
              "        vertical-align: top;\n",
              "    }\n",
              "\n",
              "    .dataframe thead th {\n",
              "        text-align: right;\n",
              "    }\n",
              "</style>\n",
              "<table border=\"1\" class=\"dataframe\">\n",
              "  <thead>\n",
              "    <tr style=\"text-align: right;\">\n",
              "      <th></th>\n",
              "      <th>season</th>\n",
              "      <th>weather</th>\n",
              "      <th>temp</th>\n",
              "      <th>atemp</th>\n",
              "      <th>humidity</th>\n",
              "      <th>windspeed</th>\n",
              "      <th>year</th>\n",
              "      <th>hour</th>\n",
              "      <th>dayofweek</th>\n",
              "      <th>holiday</th>\n",
              "      <th>workingday</th>\n",
              "    </tr>\n",
              "  </thead>\n",
              "  <tbody>\n",
              "    <tr>\n",
              "      <th>0</th>\n",
              "      <td>1</td>\n",
              "      <td>1</td>\n",
              "      <td>10.66</td>\n",
              "      <td>11.365</td>\n",
              "      <td>56</td>\n",
              "      <td>26.0027</td>\n",
              "      <td>2011</td>\n",
              "      <td>0</td>\n",
              "      <td>3</td>\n",
              "      <td>0</td>\n",
              "      <td>1</td>\n",
              "    </tr>\n",
              "    <tr>\n",
              "      <th>1</th>\n",
              "      <td>1</td>\n",
              "      <td>1</td>\n",
              "      <td>10.66</td>\n",
              "      <td>13.635</td>\n",
              "      <td>56</td>\n",
              "      <td>0.0000</td>\n",
              "      <td>2011</td>\n",
              "      <td>1</td>\n",
              "      <td>3</td>\n",
              "      <td>0</td>\n",
              "      <td>1</td>\n",
              "    </tr>\n",
              "    <tr>\n",
              "      <th>2</th>\n",
              "      <td>1</td>\n",
              "      <td>1</td>\n",
              "      <td>10.66</td>\n",
              "      <td>13.635</td>\n",
              "      <td>56</td>\n",
              "      <td>0.0000</td>\n",
              "      <td>2011</td>\n",
              "      <td>2</td>\n",
              "      <td>3</td>\n",
              "      <td>0</td>\n",
              "      <td>1</td>\n",
              "    </tr>\n",
              "    <tr>\n",
              "      <th>3</th>\n",
              "      <td>1</td>\n",
              "      <td>1</td>\n",
              "      <td>10.66</td>\n",
              "      <td>12.880</td>\n",
              "      <td>56</td>\n",
              "      <td>11.0014</td>\n",
              "      <td>2011</td>\n",
              "      <td>3</td>\n",
              "      <td>3</td>\n",
              "      <td>0</td>\n",
              "      <td>1</td>\n",
              "    </tr>\n",
              "    <tr>\n",
              "      <th>4</th>\n",
              "      <td>1</td>\n",
              "      <td>1</td>\n",
              "      <td>10.66</td>\n",
              "      <td>12.880</td>\n",
              "      <td>56</td>\n",
              "      <td>11.0014</td>\n",
              "      <td>2011</td>\n",
              "      <td>4</td>\n",
              "      <td>3</td>\n",
              "      <td>0</td>\n",
              "      <td>1</td>\n",
              "    </tr>\n",
              "  </tbody>\n",
              "</table>\n",
              "</div>"
            ],
            "text/plain": [
              "  season weather   temp   atemp  ...  hour  dayofweek holiday workingday\n",
              "0      1       1  10.66  11.365  ...     0          3       0          1\n",
              "1      1       1  10.66  13.635  ...     1          3       0          1\n",
              "2      1       1  10.66  13.635  ...     2          3       0          1\n",
              "3      1       1  10.66  12.880  ...     3          3       0          1\n",
              "4      1       1  10.66  12.880  ...     4          3       0          1\n",
              "\n",
              "[5 rows x 11 columns]"
            ]
          },
          "metadata": {
            "tags": []
          },
          "execution_count": 15
        }
      ]
    },
    {
      "cell_type": "code",
      "metadata": {
        "id": "zqFbVHp4rNpZ",
        "colab_type": "code",
        "colab": {
          "base_uri": "https://localhost:8080/",
          "height": 140
        },
        "outputId": "5f1006c9-a6b4-453e-8c9b-05a06850d4ce"
      },
      "source": [
        "label_name = 'count'\n",
        "\n",
        "y_train = train[label_name]\n",
        "\n",
        "print(y_train.shape)\n",
        "y_train.head()\n",
        "# 이값을 바탕으로 test의 count를 예측할 것"
      ],
      "execution_count": 16,
      "outputs": [
        {
          "output_type": "stream",
          "text": [
            "(10886,)\n"
          ],
          "name": "stdout"
        },
        {
          "output_type": "execute_result",
          "data": {
            "text/plain": [
              "0     1\n",
              "1    36\n",
              "2    56\n",
              "3    84\n",
              "4    94\n",
              "Name: count, dtype: int64"
            ]
          },
          "metadata": {
            "tags": []
          },
          "execution_count": 16
        }
      ]
    },
    {
      "cell_type": "markdown",
      "metadata": {
        "id": "UF4dlG87ruUZ",
        "colab_type": "text"
      },
      "source": [
        "# **Score**\n",
        "\n",
        "# **RMSLE**\n",
        "\n",
        "과대평가된 항목보다는 과소평가된 항목에 패널티를 준다.\n",
        "\n",
        "오차(Error)를 제곱(Square)해서 평균(Mean)한 값의 제곱근(Root)으로 값이 작을수록 정밀도가 높다.\n",
        "\n",
        "0에 가까운 값이 나올수록 정밀도가 높은 값이다.\n",
        "\n",
        "Submissions are evaluated one the Root Mean Squared Logarithmic Error(RMSLE)"
      ]
    },
    {
      "cell_type": "markdown",
      "metadata": {
        "id": "y2TaaeQRsI5k",
        "colab_type": "text"
      },
      "source": [
        "![RMSLE.PNG](data:image/png;base64,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)"
      ]
    },
    {
      "cell_type": "markdown",
      "metadata": {
        "id": "NWWhkTOQsf8F",
        "colab_type": "text"
      },
      "source": [
        "  - n is the number of hours in the test set\n",
        "  - p_i is your predicted count\n",
        "  - a_i is the actual count\n",
        "  - log(x) is the natural logarithm\n",
        "  - 잔차(residual)에 대한 평균에 로그를 씌운 값이다. => 과대평가된 항목보다 과소평가된 항목에 패널티를 주기위해\n",
        "  - 정답에 대한 오류를 숫자로 나타낸 값으로 값이 클수록 오차가 크다는 의미다.\n",
        "  - 값이 작을수록 오류가 적다는 의미를 나타낸다.\n",
        "\n",
        "![log.png](data:image/png;base64,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)\n",
        "\n",
        "이미지 출처: 위키피디아 [https://ko.wikipedia.org/wiki/로그](https://ko.wikipedia.org/wiki/%EB%A1%9C%EA%B7%B8)"
      ]
    },
    {
      "cell_type": "code",
      "metadata": {
        "id": "lpLrP7eurmCq",
        "colab_type": "code",
        "colab": {
          "base_uri": "https://localhost:8080/",
          "height": 34
        },
        "outputId": "20f0dd18-0747-43a4-f84b-292954d02f4d"
      },
      "source": [
        "from sklearn.metrics import make_scorer\n",
        "\n",
        "def rmsle(predicted_values, actual_values):\n",
        "  # 넘파이로 배열 형태로 바꿔준다.\n",
        "  predicted_values = np.array(predicted_values)\n",
        "  actual_values = np.array(actual_values)\n",
        "\n",
        "  # 예측값과 실제 값에 1을 더하고 로그를 씌워준다.\n",
        "  log_predict =  np.log(predicted_values + 1)\n",
        "  log_actual = np.log(actual_values + 1)\n",
        "\n",
        "  # 위에서 계산한 예측값에서 실제값을 빼주고 제곱을 해준다.\n",
        "  difference = log_predict - log_actual\n",
        "  # difference = (log_predict - log_actual) ** 2\n",
        "  difference = np.square(difference)\n",
        "\n",
        "  # 평균을 낸다.\n",
        "  mean_difference = difference.mean()\n",
        "\n",
        "  # 다시 루트를 씌운다.\n",
        "  score = np.sqrt(mean_difference)\n",
        "\n",
        "  return score\n",
        "\n",
        "rmsle_scorer = make_scorer(rmsle)\n",
        "rmsle_scorer"
      ],
      "execution_count": 26,
      "outputs": [
        {
          "output_type": "execute_result",
          "data": {
            "text/plain": [
              "make_scorer(rmsle)"
            ]
          },
          "metadata": {
            "tags": []
          },
          "execution_count": 26
        }
      ]
    },
    {
      "cell_type": "markdown",
      "metadata": {
        "id": "MCnDVKnuuqTY",
        "colab_type": "text"
      },
      "source": [
        "# **Cross Validation 교차 검증**\n",
        "\n",
        "  - 일반화 성능을 측정하기 위해 데이터를 여러 번 반복해서 나누고 여러 모델을 학습한다.\n",
        "  ![k-fold Cross validation.png](data:image/png;base64,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)\n",
        "\n",
        "  이미지 출처: [https://www.researchgate.net/figure/k-fold-cross-validation-scheme-example_fig2_228403467](https://www.researchgate.net/figure/k-fold-cross-validation-scheme-example_fig2_228403467)\n",
        "  \n",
        "  - KFold 교차검증\n",
        "    - 데이터를 폴드라 부르는 비슷한 크기의 부분집합(n_splits)으로 나누고 각각의 폴드 정확도를 측정한다.\n",
        "    - 첫 번째 폴드를 테스트 세트로 사용하고 나머지 폴드를 훈련세트로 사용하여 학습한다.\n",
        "    - 나머지 훈련세트로 만들어진 세트의 정확도를 첫 번째 폴드로 평가한다.\n",
        "    - 다음은 두 번째 폴드가 테스트 세트가 되고 나머지 폴드의 훈련세트를 두 번째 폴드로 정확도를 측정한다.\n",
        "    - 이 과정을 마지막 폴드까지 반복한다.\n",
        "    - 이렇게 훈련세트와 테스트세트로 나누는 N개의 분할마다 정확도를 측정하여 평균 값을 낸게 정확도가 된다."
      ]
    },
    {
      "cell_type": "code",
      "metadata": {
        "id": "B9d2wSLdugVy",
        "colab_type": "code",
        "colab": {}
      },
      "source": [
        "from sklearn.model_selection import KFold\n",
        "from sklearn.model_selection import cross_val_score\n",
        "\n",
        "k_fold = KFold(n_splits=10, shuffle=True, random_state=0)"
      ],
      "execution_count": 19,
      "outputs": []
    },
    {
      "cell_type": "markdown",
      "metadata": {
        "id": "M1sRh6o0wSuO",
        "colab_type": "text"
      },
      "source": [
        "# **RandomForest**"
      ]
    },
    {
      "cell_type": "code",
      "metadata": {
        "id": "7jOZfm7xwRXz",
        "colab_type": "code",
        "colab": {
          "base_uri": "https://localhost:8080/",
          "height": 140
        },
        "outputId": "f6210e08-0bd4-4828-9620-d4f9ff4bf857"
      },
      "source": [
        "from sklearn.ensemble import RandomForestRegressor\n",
        "\n",
        "max_depth_list = []\n",
        "\n",
        "model = RandomForestRegressor(n_estimators=100,\n",
        "                              n_jobs=-1,\n",
        "                              random_state=0)\n",
        "# n_estimators 값을 높일수록 좀 더 좋은 성능을 내지만 시간이 오래걸린다.\n",
        "model"
      ],
      "execution_count": 20,
      "outputs": [
        {
          "output_type": "execute_result",
          "data": {
            "text/plain": [
              "RandomForestRegressor(bootstrap=True, ccp_alpha=0.0, criterion='mse',\n",
              "                      max_depth=None, max_features='auto', max_leaf_nodes=None,\n",
              "                      max_samples=None, min_impurity_decrease=0.0,\n",
              "                      min_impurity_split=None, min_samples_leaf=1,\n",
              "                      min_samples_split=2, min_weight_fraction_leaf=0.0,\n",
              "                      n_estimators=100, n_jobs=-1, oob_score=False,\n",
              "                      random_state=0, verbose=0, warm_start=False)"
            ]
          },
          "metadata": {
            "tags": []
          },
          "execution_count": 20
        }
      ]
    },
    {
      "cell_type": "code",
      "metadata": {
        "id": "6m6EmgvowmHT",
        "colab_type": "code",
        "colab": {
          "base_uri": "https://localhost:8080/",
          "height": 70
        },
        "outputId": "13a33192-e16d-4ec6-8dc5-21dc015cc55f"
      },
      "source": [
        "%time score = cross_val_score(model, X_train, y_train, cv=k_fold, scoring=rmsle_scorer)\n",
        "score = score.mean()\n",
        "# 0에 근접할수록 좋은 데이터\n",
        "print('Score= {0:.5f}'.format(score))"
      ],
      "execution_count": 28,
      "outputs": [
        {
          "output_type": "stream",
          "text": [
            "CPU times: user 3.31 s, sys: 524 ms, total: 3.83 s\n",
            "Wall time: 29.5 s\n",
            "Score= 0.33095\n"
          ],
          "name": "stdout"
        }
      ]
    },
    {
      "cell_type": "markdown",
      "metadata": {
        "id": "wKiWYEEqy-D4",
        "colab_type": "text"
      },
      "source": [
        "**Train**"
      ]
    },
    {
      "cell_type": "code",
      "metadata": {
        "id": "_me6TRPYxFEu",
        "colab_type": "code",
        "colab": {
          "base_uri": "https://localhost:8080/",
          "height": 140
        },
        "outputId": "e601bff7-3a31-4da5-82e2-41b16f555dfd"
      },
      "source": [
        "# 학습시킴, 피팅(옷을 맞출 때 사용하는 피팅을 생각함) - 피처와 레이블을 넣어주면 알아서 학습을 함\n",
        "model.fit(X_train, y_train)"
      ],
      "execution_count": 29,
      "outputs": [
        {
          "output_type": "execute_result",
          "data": {
            "text/plain": [
              "RandomForestRegressor(bootstrap=True, ccp_alpha=0.0, criterion='mse',\n",
              "                      max_depth=None, max_features='auto', max_leaf_nodes=None,\n",
              "                      max_samples=None, min_impurity_decrease=0.0,\n",
              "                      min_impurity_split=None, min_samples_leaf=1,\n",
              "                      min_samples_split=2, min_weight_fraction_leaf=0.0,\n",
              "                      n_estimators=100, n_jobs=-1, oob_score=False,\n",
              "                      random_state=0, verbose=0, warm_start=False)"
            ]
          },
          "metadata": {
            "tags": []
          },
          "execution_count": 29
        }
      ]
    },
    {
      "cell_type": "code",
      "metadata": {
        "id": "feNBzI4ezL0h",
        "colab_type": "code",
        "colab": {
          "base_uri": "https://localhost:8080/",
          "height": 70
        },
        "outputId": "488ef25d-5b4d-4631-f9d9-4535b471e610"
      },
      "source": [
        "# 예측\n",
        "predictions = model.predict(X_test)\n",
        "\n",
        "print(predictions.shape)\n",
        "predictions[0:10]"
      ],
      "execution_count": 30,
      "outputs": [
        {
          "output_type": "stream",
          "text": [
            "(6493,)\n"
          ],
          "name": "stdout"
        },
        {
          "output_type": "execute_result",
          "data": {
            "text/plain": [
              "array([ 12.28,   5.08,   4.48,   3.38,   3.13,   6.22,  38.43, 104.79,\n",
              "       236.54, 136.04])"
            ]
          },
          "metadata": {
            "tags": []
          },
          "execution_count": 30
        }
      ]
    },
    {
      "cell_type": "code",
      "metadata": {
        "id": "vtFyZsKbza81",
        "colab_type": "code",
        "colab": {
          "base_uri": "https://localhost:8080/",
          "height": 368
        },
        "outputId": "dcac82de-e075-4a5e-8e6b-beaed14aa04d"
      },
      "source": [
        "# 예측한 데이터를 시각화 해본다.\n",
        "fig, (ax1, ax2) = plt.subplots(ncols=2)\n",
        "fig.set_size_inches(12,5)\n",
        "sns.distplot(y_train, ax=ax1, bins=50)\n",
        "ax1.set(title='train')\n",
        "sns.distplot(predictions, ax=ax2,bins=50)\n",
        "ax2.set(title='test')\n",
        "# 완전히 같지는 않지만 비슷한 모양의 데이터가 나온다."
      ],
      "execution_count": 31,
      "outputs": [
        {
          "output_type": "execute_result",
          "data": {
            "text/plain": [
              "[Text(0.5, 1.0, 'test')]"
            ]
          },
          "metadata": {
            "tags": []
          },
          "execution_count": 31
        },
        {
          "output_type": "display_data",
          "data": {
            "image/png": "[encoded data removed]",
            "text/plain": [
              "<Figure size 864x360 with 2 Axes>"
            ]
          },
          "metadata": {
            "tags": [],
            "needs_background": "light"
          }
        }
      ]
    },
    {
      "cell_type": "markdown",
      "metadata": {
        "id": "DFnS629Tz8HN",
        "colab_type": "text"
      },
      "source": [
        "**Submit**"
      ]
    },
    {
      "cell_type": "code",
      "metadata": {
        "id": "dH_FNu4rzw7J",
        "colab_type": "code",
        "colab": {
          "base_uri": "https://localhost:8080/",
          "height": 213
        },
        "outputId": "2e788372-437e-44e8-b8a9-4b44eeeb2e31"
      },
      "source": [
        "submission = pd.read_csv('data/sampleSubmission.csv')\n",
        "submission\n",
        "\n",
        "# submission['count']에 예측한 값 넣어주기\n",
        "submission['count'] = predictions\n",
        "\n",
        "print(submission.shape)\n",
        "submission.head()"
      ],
      "execution_count": 33,
      "outputs": [
        {
          "output_type": "stream",
          "text": [
            "(6493, 2)\n"
          ],
          "name": "stdout"
        },
        {
          "output_type": "execute_result",
          "data": {
            "text/html": [
              "<div>\n",
              "<style scoped>\n",
              "    .dataframe tbody tr th:only-of-type {\n",
              "        vertical-align: middle;\n",
              "    }\n",
              "\n",
              "    .dataframe tbody tr th {\n",
              "        vertical-align: top;\n",
              "    }\n",
              "\n",
              "    .dataframe thead th {\n",
              "        text-align: right;\n",
              "    }\n",
              "</style>\n",
              "<table border=\"1\" class=\"dataframe\">\n",
              "  <thead>\n",
              "    <tr style=\"text-align: right;\">\n",
              "      <th></th>\n",
              "      <th>datetime</th>\n",
              "      <th>count</th>\n",
              "    </tr>\n",
              "  </thead>\n",
              "  <tbody>\n",
              "    <tr>\n",
              "      <th>0</th>\n",
              "      <td>2011-01-20 00:00:00</td>\n",
              "      <td>12.28</td>\n",
              "    </tr>\n",
              "    <tr>\n",
              "      <th>1</th>\n",
              "      <td>2011-01-20 01:00:00</td>\n",
              "      <td>5.08</td>\n",
              "    </tr>\n",
              "    <tr>\n",
              "      <th>2</th>\n",
              "      <td>2011-01-20 02:00:00</td>\n",
              "      <td>4.48</td>\n",
              "    </tr>\n",
              "    <tr>\n",
              "      <th>3</th>\n",
              "      <td>2011-01-20 03:00:00</td>\n",
              "      <td>3.38</td>\n",
              "    </tr>\n",
              "    <tr>\n",
              "      <th>4</th>\n",
              "      <td>2011-01-20 04:00:00</td>\n",
              "      <td>3.13</td>\n",
              "    </tr>\n",
              "  </tbody>\n",
              "</table>\n",
              "</div>"
            ],
            "text/plain": [
              "              datetime  count\n",
              "0  2011-01-20 00:00:00  12.28\n",
              "1  2011-01-20 01:00:00   5.08\n",
              "2  2011-01-20 02:00:00   4.48\n",
              "3  2011-01-20 03:00:00   3.38\n",
              "4  2011-01-20 04:00:00   3.13"
            ]
          },
          "metadata": {
            "tags": []
          },
          "execution_count": 33
        }
      ]
    },
    {
      "cell_type": "code",
      "metadata": {
        "id": "chTkDGP80VQl",
        "colab_type": "code",
        "colab": {}
      },
      "source": [
        "# 알아보기 쉽게 점수를 제목에 넣어줌\n",
        "submission.to_csv('data/Score_{0:.5f}_submission.csv'.format(score), index=False)"
      ],
      "execution_count": 35,
      "outputs": []
    }
  ]
}