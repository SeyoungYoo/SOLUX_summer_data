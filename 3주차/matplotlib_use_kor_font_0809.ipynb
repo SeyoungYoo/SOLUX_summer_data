{
  "nbformat": 4,
  "nbformat_minor": 0,
  "metadata": {
    "colab": {
      "name": "matplotlib_use_kor_font.ipynb",
      "provenance": [],
      "collapsed_sections": [],
      "authorship_tag": "ABX9TyMRcmXsZJMfx5u+ms96JJAO",
      "include_colab_link": true
    },
    "kernelspec": {
      "name": "python3",
      "display_name": "Python 3"
    }
  },
  "cells": [
    {
      "cell_type": "markdown",
      "metadata": {
        "id": "view-in-github",
        "colab_type": "text"
      },
      "source": [
        "<a href=\"https://colab.research.google.com/github/yooste/SOLUX_summer_data/blob/master/3%EC%A3%BC%EC%B0%A8/matplotlib_use_kor_font_0809.ipynb\" target=\"_parent\"><img src=\"https://colab.research.google.com/assets/colab-badge.svg\" alt=\"Open In Colab\"/></a>"
      ]
    },
    {
      "cell_type": "code",
      "metadata": {
        "id": "M2e7hjkXYtuX",
        "colab_type": "code",
        "colab": {
          "base_uri": "https://localhost:8080/",
          "height": 369
        },
        "outputId": "8b806562-6148-4474-a8de-bbf6c9f96541"
      },
      "source": [
        "!sudo apt-get install -y fonts-nanum\n",
        "!sudo fc-cache -fv\n",
        "!rm ~/.cache/matplotlib -rf"
      ],
      "execution_count": 1,
      "outputs": [
        {
          "output_type": "stream",
          "text": [
            "Reading package lists... Done\n",
            "Building dependency tree       \n",
            "Reading state information... Done\n",
            "fonts-nanum is already the newest version (20170925-1).\n",
            "The following package was automatically installed and is no longer required:\n",
            "  libnvidia-common-440\n",
            "Use 'sudo apt autoremove' to remove it.\n",
            "0 upgraded, 0 newly installed, 0 to remove and 35 not upgraded.\n",
            "/usr/share/fonts: caching, new cache contents: 0 fonts, 1 dirs\n",
            "/usr/share/fonts/truetype: caching, new cache contents: 0 fonts, 3 dirs\n",
            "/usr/share/fonts/truetype/humor-sans: caching, new cache contents: 1 fonts, 0 dirs\n",
            "/usr/share/fonts/truetype/liberation: caching, new cache contents: 16 fonts, 0 dirs\n",
            "/usr/share/fonts/truetype/nanum: caching, new cache contents: 10 fonts, 0 dirs\n",
            "/usr/local/share/fonts: caching, new cache contents: 0 fonts, 0 dirs\n",
            "/root/.local/share/fonts: skipping, no such directory\n",
            "/root/.fonts: skipping, no such directory\n",
            "/var/cache/fontconfig: cleaning cache directory\n",
            "/root/.cache/fontconfig: not cleaning non-existent cache directory\n",
            "/root/.fontconfig: not cleaning non-existent cache directory\n",
            "fc-cache: succeeded\n"
          ],
          "name": "stdout"
        }
      ]
    },
    {
      "cell_type": "markdown",
      "metadata": {
        "id": "QUP3l99KZSId",
        "colab_type": "text"
      },
      "source": [
        "# **1. 필요한 패키지를 가져옵니다.**"
      ]
    },
    {
      "cell_type": "code",
      "metadata": {
        "id": "aKdZxzYEZIHV",
        "colab_type": "code",
        "colab": {}
      },
      "source": [
        "# 그래프를 노트북 안에 그리기 위해 설정\n",
        "%matplotlib inline\n",
        "\n",
        "# 필요한 패키지와 라이브러리를 가져옴\n",
        "import matplotlib as mpl\n",
        "import matplotlib.pyplot as plt\n",
        "import matplotlib.font_manager as fm\n",
        "\n",
        "# 그래프에서 마이너스 폰트 깨지는 문제에 대한 대처\n",
        "mpl.rcParams['axes.unicode_minus']=False\n",
        "#plt.rc('font', family='NanumBarunGothic')를 추가하면 글씨가 깨지지 않는다."
      ],
      "execution_count": 1,
      "outputs": []
    },
    {
      "cell_type": "markdown",
      "metadata": {
        "id": "-FsNl2YlZ0Q5",
        "colab_type": "text"
      },
      "source": [
        "# **2. 그래프를 그리기 위해 임의의 데이터를 만들어 줍니다.**"
      ]
    },
    {
      "cell_type": "code",
      "metadata": {
        "id": "fOBLbRDTZzqc",
        "colab_type": "code",
        "colab": {
          "base_uri": "https://localhost:8080/",
          "height": 105
        },
        "outputId": "e966a96f-dcf9-4b0d-c081-bffb3bf78d42"
      },
      "source": [
        "import numpy as np\n",
        "\n",
        "data = np.random.randint(-100,100,50).cumsum()  # -100부터 100 내의 범위에서 50개의 정수 랜덤 추출\n",
        "data"
      ],
      "execution_count": 2,
      "outputs": [
        {
          "output_type": "execute_result",
          "data": {
            "text/plain": [
              "array([  50,  130,   77,   97,   81,   79,  -17, -116, -100,  -92,  -70,\n",
              "        -10,   85,  119,  162,  178,  162,  144,  222,  306,  391,  458,\n",
              "        401,  477,  547,  622,  565,  663,  598,  642,  547,  525,  610,\n",
              "        612,  524,  548,  559,  648,  710,  753,  826,  831,  856,  942,\n",
              "        869,  810,  733,  641,  732,  762])"
            ]
          },
          "metadata": {
            "tags": []
          },
          "execution_count": 2
        }
      ]
    },
    {
      "cell_type": "markdown",
      "metadata": {
        "id": "btPzT4RcaHUs",
        "colab_type": "text"
      },
      "source": [
        "# **3. 기본 폰트로 지정 되었기 때문에 한글이 깨져 나옵니다.**"
      ]
    },
    {
      "cell_type": "code",
      "metadata": {
        "id": "yGS6OGpYaLWk",
        "colab_type": "code",
        "colab": {
          "base_uri": "https://localhost:8080/",
          "height": 999
        },
        "outputId": "2f92a0da-71b3-415b-f1c5-96d7a6545cef"
      },
      "source": [
        "plt.plot(range(50), data, 'r')\n",
        "mpl.rcParams['axes.unicode_minus']=False\n",
        "plt.title('시간별 가격 추이')\n",
        "plt.ylabel('주식 가격')\n",
        "plt.xlabel('시간(분)')"
      ],
      "execution_count": 3,
      "outputs": [
        {
          "output_type": "execute_result",
          "data": {
            "text/plain": [
              "Text(0.5, 0, '시간(분)')"
            ]
          },
          "metadata": {
            "tags": []
          },
          "execution_count": 3
        },
        {
          "output_type": "stream",
          "text": [
            "/usr/local/lib/python3.6/dist-packages/matplotlib/backends/backend_agg.py:214: RuntimeWarning: Glyph 49884 missing from current font.\n",
            "  font.set_text(s, 0.0, flags=flags)\n",
            "/usr/local/lib/python3.6/dist-packages/matplotlib/backends/backend_agg.py:214: RuntimeWarning: Glyph 44036 missing from current font.\n",
            "  font.set_text(s, 0.0, flags=flags)\n",
            "/usr/local/lib/python3.6/dist-packages/matplotlib/backends/backend_agg.py:214: RuntimeWarning: Glyph 48324 missing from current font.\n",
            "  font.set_text(s, 0.0, flags=flags)\n",
            "/usr/local/lib/python3.6/dist-packages/matplotlib/backends/backend_agg.py:214: RuntimeWarning: Glyph 44032 missing from current font.\n",
            "  font.set_text(s, 0.0, flags=flags)\n",
            "/usr/local/lib/python3.6/dist-packages/matplotlib/backends/backend_agg.py:214: RuntimeWarning: Glyph 44201 missing from current font.\n",
            "  font.set_text(s, 0.0, flags=flags)\n",
            "/usr/local/lib/python3.6/dist-packages/matplotlib/backends/backend_agg.py:214: RuntimeWarning: Glyph 52628 missing from current font.\n",
            "  font.set_text(s, 0.0, flags=flags)\n",
            "/usr/local/lib/python3.6/dist-packages/matplotlib/backends/backend_agg.py:214: RuntimeWarning: Glyph 51060 missing from current font.\n",
            "  font.set_text(s, 0.0, flags=flags)\n",
            "/usr/local/lib/python3.6/dist-packages/matplotlib/backends/backend_agg.py:214: RuntimeWarning: Glyph 48516 missing from current font.\n",
            "  font.set_text(s, 0.0, flags=flags)\n",
            "/usr/local/lib/python3.6/dist-packages/matplotlib/backends/backend_agg.py:183: RuntimeWarning: Glyph 49884 missing from current font.\n",
            "  font.set_text(s, 0, flags=flags)\n",
            "/usr/local/lib/python3.6/dist-packages/matplotlib/backends/backend_agg.py:183: RuntimeWarning: Glyph 44036 missing from current font.\n",
            "  font.set_text(s, 0, flags=flags)\n",
            "/usr/local/lib/python3.6/dist-packages/matplotlib/backends/backend_agg.py:183: RuntimeWarning: Glyph 48516 missing from current font.\n",
            "  font.set_text(s, 0, flags=flags)\n",
            "/usr/local/lib/python3.6/dist-packages/matplotlib/backends/backend_agg.py:214: RuntimeWarning: Glyph 51452 missing from current font.\n",
            "  font.set_text(s, 0.0, flags=flags)\n",
            "/usr/local/lib/python3.6/dist-packages/matplotlib/backends/backend_agg.py:214: RuntimeWarning: Glyph 49885 missing from current font.\n",
            "  font.set_text(s, 0.0, flags=flags)\n",
            "/usr/local/lib/python3.6/dist-packages/matplotlib/backends/backend_agg.py:183: RuntimeWarning: Glyph 51452 missing from current font.\n",
            "  font.set_text(s, 0, flags=flags)\n",
            "/usr/local/lib/python3.6/dist-packages/matplotlib/backends/backend_agg.py:183: RuntimeWarning: Glyph 49885 missing from current font.\n",
            "  font.set_text(s, 0, flags=flags)\n",
            "/usr/local/lib/python3.6/dist-packages/matplotlib/backends/backend_agg.py:183: RuntimeWarning: Glyph 44032 missing from current font.\n",
            "  font.set_text(s, 0, flags=flags)\n",
            "/usr/local/lib/python3.6/dist-packages/matplotlib/backends/backend_agg.py:183: RuntimeWarning: Glyph 44201 missing from current font.\n",
            "  font.set_text(s, 0, flags=flags)\n",
            "/usr/local/lib/python3.6/dist-packages/matplotlib/backends/backend_agg.py:183: RuntimeWarning: Glyph 48324 missing from current font.\n",
            "  font.set_text(s, 0, flags=flags)\n",
            "/usr/local/lib/python3.6/dist-packages/matplotlib/backends/backend_agg.py:183: RuntimeWarning: Glyph 52628 missing from current font.\n",
            "  font.set_text(s, 0, flags=flags)\n",
            "/usr/local/lib/python3.6/dist-packages/matplotlib/backends/backend_agg.py:183: RuntimeWarning: Glyph 51060 missing from current font.\n",
            "  font.set_text(s, 0, flags=flags)\n"
          ],
          "name": "stderr"
        },
        {
          "output_type": "display_data",
          "data": {
            "image/png": "[encoded data removed]",
            "text/plain": [
              "<Figure size 432x288 with 1 Axes>"
            ]
          },
          "metadata": {
            "tags": [],
            "needs_background": "light"
          }
        }
      ]
    },
    {
      "cell_type": "markdown",
      "metadata": {
        "id": "El6rjVdyaZzh",
        "colab_type": "text"
      },
      "source": [
        "# **4. 폰트를 설정해 주기에 앞서 설치된 matplotlib의 버전과 위치 정보를 가져옵니다.**"
      ]
    },
    {
      "cell_type": "code",
      "metadata": {
        "id": "zxixxFJkaf3x",
        "colab_type": "code",
        "colab": {
          "base_uri": "https://localhost:8080/",
          "height": 87
        },
        "outputId": "8dd68da0-4e77-4acd-c7ce-320cffb94810"
      },
      "source": [
        "print('버전: ', mpl.__version__)\n",
        "print('설치 위치: ', mpl.__file__)\n",
        "print('설정 위치: ', mpl.get_configdir())\n",
        "print('캐시 위치: ', mpl.get_cachedir())"
      ],
      "execution_count": 4,
      "outputs": [
        {
          "output_type": "stream",
          "text": [
            "버전:  3.2.2\n",
            "설치 위치:  /usr/local/lib/python3.6/dist-packages/matplotlib/__init__.py\n",
            "설정 위치:  /root/.config/matplotlib\n",
            "캐시 위치:  /root/.cache/matplotlib\n"
          ],
          "name": "stdout"
        }
      ]
    },
    {
      "cell_type": "markdown",
      "metadata": {
        "id": "A3k1zI24atLS",
        "colab_type": "text"
      },
      "source": [
        "# **5. matplotlib의 위치정보를 알았으니 터미널을 이용해 해당 위치로 가봅니다.**"
      ]
    },
    {
      "cell_type": "code",
      "metadata": {
        "id": "oN5KscRqaxq1",
        "colab_type": "code",
        "colab": {
          "base_uri": "https://localhost:8080/",
          "height": 34
        },
        "outputId": "1405b646-3948-4c3f-9019-a47c4419ad70"
      },
      "source": [
        "print('설정파일 위치: ', mpl.matplotlib_fname())"
      ],
      "execution_count": 5,
      "outputs": [
        {
          "output_type": "stream",
          "text": [
            "설정파일 위치:  /usr/local/lib/python3.6/dist-packages/matplotlib/mpl-data/matplotlibrc\n"
          ],
          "name": "stdout"
        }
      ]
    },
    {
      "cell_type": "markdown",
      "metadata": {
        "id": "IStUD_NWa9y-",
        "colab_type": "text"
      },
      "source": [
        "# **6. 설치된 폰트를 찍어 봅니다.**"
      ]
    },
    {
      "cell_type": "code",
      "metadata": {
        "id": "ArsEjV48bA_i",
        "colab_type": "code",
        "colab": {
          "base_uri": "https://localhost:8080/",
          "height": 34
        },
        "outputId": "72d01e83-3831-474d-870d-075218e16037"
      },
      "source": [
        "font_list = fm.findSystemFonts(fontpaths=None, fontext='ttf')\n",
        "\n",
        "# ttf 폰트 전체 갯수\n",
        "print(len(font_list))"
      ],
      "execution_count": 6,
      "outputs": [
        {
          "output_type": "stream",
          "text": [
            "27\n"
          ],
          "name": "stdout"
        }
      ]
    },
    {
      "cell_type": "code",
      "metadata": {
        "id": "SIX8iwnLbguW",
        "colab_type": "code",
        "colab": {
          "base_uri": "https://localhost:8080/",
          "height": 87
        },
        "outputId": "03412110-01bd-4c59-9a59-fc86068ceb88"
      },
      "source": [
        "# OSX의 설치된 폰트를 가져오는 함수\n",
        "font_list_win=fm.OSXInstalledFonts()\n",
        "print(len(font_list_win))",
        "# OSXInstalledFonts 함수는 3.1 버전부터 점차 사라지고 3.3버전에서는 완전히 삭제될 것이다. 현재 버전은 3.2.2이므로 사용되지 않는다."
      ],
      "execution_count": 7,
      "outputs": [
        {
          "output_type": "stream",
          "text": [
            "0\n"
          ],
          "name": "stdout"
        },
        {
          "output_type": "stream",
          "text": [
            "/usr/local/lib/python3.6/dist-packages/ipykernel_launcher.py:2: MatplotlibDeprecationWarning: \n",
            "The OSXInstalledFonts function was deprecated in Matplotlib 3.1 and will be removed in 3.3.\n",
            "  \n"
          ],
          "name": "stderr"
        }
      ]
    },
    {
      "cell_type": "code",
      "metadata": {
        "id": "EvpuUHZ5bpUZ",
        "colab_type": "code",
        "colab": {
          "base_uri": "https://localhost:8080/",
          "height": 193
        },
        "outputId": "bb571766-c969-4952-cd2e-c583ba388594"
      },
      "source": [
        "# 시스템 폰트에서 읽어온 리스트에서 상위 10개만 출력\n",
        "font_list[:10]"
      ],
      "execution_count": 8,
      "outputs": [
        {
          "output_type": "execute_result",
          "data": {
            "text/plain": [
              "['/usr/share/fonts/truetype/liberation/LiberationSansNarrow-BoldItalic.ttf',\n",
              " '/usr/share/fonts/truetype/liberation/LiberationMono-Bold.ttf',\n",
              " '/usr/share/fonts/truetype/nanum/NanumMyeongjo.ttf',\n",
              " '/usr/share/fonts/truetype/liberation/LiberationSansNarrow-Bold.ttf',\n",
              " '/usr/share/fonts/truetype/liberation/LiberationSans-Regular.ttf',\n",
              " '/usr/share/fonts/truetype/nanum/NanumBarunGothicBold.ttf',\n",
              " '/usr/share/fonts/truetype/liberation/LiberationMono-Regular.ttf',\n",
              " '/usr/share/fonts/truetype/liberation/LiberationSansNarrow-Italic.ttf',\n",
              " '/usr/share/fonts/truetype/nanum/NanumGothic.ttf',\n",
              " '/usr/share/fonts/truetype/liberation/LiberationSans-BoldItalic.ttf']"
            ]
          },
          "metadata": {
            "tags": []
          },
          "execution_count": 8
        }
      ]
    },
    {
      "cell_type": "code",
      "metadata": {
        "id": "lII1yg7ndr8t",
        "colab_type": "code",
        "colab": {
          "base_uri": "https://localhost:8080/",
          "height": 210
        },
        "outputId": "0d35a565-f3cd-43a0-8dc0-1156c910f7d9"
      },
      "source": [
        "f = [f.name for f in fm.fontManager.ttflist]\n",
        "print(len(font_list))\n",
        "# 10개의 폰트명 만 출력\n",
        "f[:10]"
      ],
      "execution_count": 9,
      "outputs": [
        {
          "output_type": "stream",
          "text": [
            "27\n"
          ],
          "name": "stdout"
        },
        {
          "output_type": "execute_result",
          "data": {
            "text/plain": [
              "['STIXSizeFiveSym',\n",
              " 'DejaVu Serif Display',\n",
              " 'DejaVu Sans',\n",
              " 'cmss10',\n",
              " 'cmtt10',\n",
              " 'cmmi10',\n",
              " 'STIXSizeFourSym',\n",
              " 'STIXGeneral',\n",
              " 'STIXNonUnicode',\n",
              " 'DejaVu Serif']"
            ]
          },
          "metadata": {
            "tags": []
          },
          "execution_count": 9
        }
      ]
    },
    {
      "cell_type": "code",
      "metadata": {
        "id": "rGWwrAawd7wJ",
        "colab_type": "code",
        "colab": {
          "base_uri": "https://localhost:8080/",
          "height": 1000
        },
        "outputId": "9dede88f-d0e5-4480-e0a1-5c7df5d323e2"
      },
      "source": [
        "[f.name for f in fm.fontManager.ttflist if '' in f.name]"
      ],
      "execution_count": 10,
      "outputs": [
        {
          "output_type": "execute_result",
          "data": {
            "text/plain": [
              "['STIXSizeFiveSym',\n",
              " 'DejaVu Serif Display',\n",
              " 'DejaVu Sans',\n",
              " 'cmss10',\n",
              " 'cmtt10',\n",
              " 'cmmi10',\n",
              " 'STIXSizeFourSym',\n",
              " 'STIXGeneral',\n",
              " 'STIXNonUnicode',\n",
              " 'DejaVu Serif',\n",
              " 'STIXNonUnicode',\n",
              " 'STIXNonUnicode',\n",
              " 'DejaVu Serif',\n",
              " 'STIXSizeOneSym',\n",
              " 'STIXSizeTwoSym',\n",
              " 'STIXSizeOneSym',\n",
              " 'STIXGeneral',\n",
              " 'cmsy10',\n",
              " 'DejaVu Sans Mono',\n",
              " 'STIXSizeFourSym',\n",
              " 'DejaVu Sans Mono',\n",
              " 'cmex10',\n",
              " 'DejaVu Sans Mono',\n",
              " 'DejaVu Serif',\n",
              " 'cmr10',\n",
              " 'STIXSizeThreeSym',\n",
              " 'cmb10',\n",
              " 'DejaVu Sans',\n",
              " 'STIXNonUnicode',\n",
              " 'DejaVu Sans Mono',\n",
              " 'DejaVu Serif',\n",
              " 'STIXGeneral',\n",
              " 'DejaVu Sans Display',\n",
              " 'STIXSizeTwoSym',\n",
              " 'STIXGeneral',\n",
              " 'STIXSizeThreeSym',\n",
              " 'DejaVu Sans',\n",
              " 'DejaVu Sans',\n",
              " 'NanumSquare',\n",
              " 'Liberation Mono',\n",
              " 'NanumGothic',\n",
              " 'Liberation Mono',\n",
              " 'NanumBarunGothic',\n",
              " 'Liberation Serif',\n",
              " 'Liberation Mono',\n",
              " 'NanumSquareRound',\n",
              " 'Liberation Sans Narrow',\n",
              " 'Liberation Sans Narrow',\n",
              " 'Liberation Sans',\n",
              " 'Liberation Sans Narrow',\n",
              " 'NanumBarunGothic',\n",
              " 'Liberation Sans',\n",
              " 'Liberation Mono',\n",
              " 'NanumMyeongjo',\n",
              " 'Liberation Serif',\n",
              " 'NanumGothic',\n",
              " 'Liberation Sans',\n",
              " 'NanumMyeongjo',\n",
              " 'Liberation Serif',\n",
              " 'Liberation Sans',\n",
              " 'NanumSquare',\n",
              " 'Humor Sans',\n",
              " 'Liberation Sans Narrow',\n",
              " 'NanumSquareRound',\n",
              " 'Liberation Serif']"
            ]
          },
          "metadata": {
            "tags": []
          },
          "execution_count": 10
        }
      ]
    },
    {
      "cell_type": "markdown",
      "metadata": {
        "id": "i9LG3ZxTeA3F",
        "colab_type": "text"
      },
      "source": [
        "# **7. 나눔고딕을 사용할 예정이기 때문에 이름에 'Nanum'이 들어간 폰트만 가져와 봅니다.**\n",
        "- 폰트를 설치했는데 원하는 폰트명을 가져오지 못할 때, 터미널을 열어 mpl.get_cachedir()로 찍히는 캐시위치로 이동해서 캐시파일을 열어봅니다.\n",
        "- 캐시파일에 원하는 폰트리스트가 없으면 주피터 노트북 혹은 콘다를 재실행 해줍니다."
      ]
    },
    {
      "cell_type": "code",
      "metadata": {
        "id": "FpPxH1efeHev",
        "colab_type": "code",
        "colab": {
          "base_uri": "https://localhost:8080/",
          "height": 210
        },
        "outputId": "ce6259ce-2b9f-4b14-cb43-316abd907911"
      },
      "source": [
        "[(f.name, f.fname) for f in fm.fontManager.ttflist if 'Nanum' in f.name]"
      ],
      "execution_count": 11,
      "outputs": [
        {
          "output_type": "execute_result",
          "data": {
            "text/plain": [
              "[('NanumSquare', '/usr/share/fonts/truetype/nanum/NanumSquareR.ttf'),\n",
              " ('NanumGothic', '/usr/share/fonts/truetype/nanum/NanumGothic.ttf'),\n",
              " ('NanumBarunGothic',\n",
              "  '/usr/share/fonts/truetype/nanum/NanumBarunGothicBold.ttf'),\n",
              " ('NanumSquareRound', '/usr/share/fonts/truetype/nanum/NanumSquareRoundB.ttf'),\n",
              " ('NanumBarunGothic', '/usr/share/fonts/truetype/nanum/NanumBarunGothic.ttf'),\n",
              " ('NanumMyeongjo', '/usr/share/fonts/truetype/nanum/NanumMyeongjo.ttf'),\n",
              " ('NanumGothic', '/usr/share/fonts/truetype/nanum/NanumGothicBold.ttf'),\n",
              " ('NanumMyeongjo', '/usr/share/fonts/truetype/nanum/NanumMyeongjoBold.ttf'),\n",
              " ('NanumSquare', '/usr/share/fonts/truetype/nanum/NanumSquareB.ttf'),\n",
              " ('NanumSquareRound', '/usr/share/fonts/truetype/nanum/NanumSquareRoundR.ttf')]"
            ]
          },
          "metadata": {
            "tags": []
          },
          "execution_count": 11
        }
      ]
    },
    {
      "cell_type": "markdown",
      "metadata": {
        "id": "vfY2n-OreoB-",
        "colab_type": "text"
      },
      "source": [
        "# **8. 폰트를 사용하는 방법은 3가지가 있습니다.**\n",
        "1) FontProperties를 사용하는 방법 - 그래프의 폰트가 필요한 항목마다 지정해 주어야 합니다.\n",
        "\n",
        "2) matplotlib.rcParams[]으로 전역글꼴 설정 방법 - 그래프에 설정을 해주면 폰트가 필요한 항목에 적용됩니다.\n",
        "\n",
        "3) 2)번의 방법을 mpl.matplotlib_fname()로 읽어지는 설정 파일에 직접 적어주는 방법, 단 모든 노트북에 적용됩니다. 노트북을 열 때마다 지정해 주지 않아도 되어 편리합니다."
      ]
    },
    {
      "cell_type": "markdown",
      "metadata": {
        "id": "bWyXJf_BfKAU",
        "colab_type": "text"
      },
      "source": [
        "**1) FontProperties를 사용하는 방법**\n",
        "- 텍스트를 지정하는 항목에 지정해 사용할 수 있습니다. 지정해 준 항목에만 해당 폰트가 적용됩니다.\n",
        "- matplotlib.pyplot\n",
        "  - title()\n",
        "  - xlabel()\n",
        "  - ylabel()\n",
        "  - legend()\n",
        "  - text()\n",
        "- matplotlib.axes\n",
        "  - set_title()"
      ]
    },
    {
      "cell_type": "code",
      "metadata": {
        "id": "o7jrLz2yenYX",
        "colab_type": "code",
        "colab": {
          "base_uri": "https://localhost:8080/",
          "height": 308
        },
        "outputId": "df7ff1f6-ff93-4c43-b123-f0c426420631"
      },
      "source": [
        "# fname 옵션을 사용하는 방법\n",
        "path = '/usr/share/fonts/truetype/nanum/NanumSquareB.ttf' # 나눔스퀘어 글꼴이 저장되어 있는 패스를 활용\n",
        "fontprop = fm.FontProperties(fname=path, size=18) # 각 속성마다 적용할 폰트와 사이즈 설정\n",
        "\n",
        "plt.plot(range(50), data, 'r')\n",
        "# 각 속성에 fontprop을 적용한다.\n",
        "plt.title('시간별 가격 추이', fontproperties=fontprop)\n",
        "plt.ylabel('주식 가격', fontproperties=fontprop)\n",
        "plt.xlabel('시간(분)', fontproperties=fontprop)\n",
        "plt.show()"
      ],
      "execution_count": 12,
      "outputs": [
        {
          "output_type": "display_data",
          "data": {
            "image/png": "[encoded data removed]",
            "text/plain": [
              "<Figure size 432x288 with 1 Axes>"
            ]
          },
          "metadata": {
            "tags": [],
            "needs_background": "light"
          }
        }
      ]
    },
    {
      "cell_type": "markdown",
      "metadata": {
        "id": "qoUB18QRig3O",
        "colab_type": "text"
      },
      "source": [
        "# **2) matplotlib.rcParams[]으로 전역글꼴 설정 방법**"
      ]
    },
    {
      "cell_type": "code",
      "metadata": {
        "id": "YSRYeTbzipGl",
        "colab_type": "code",
        "colab": {
          "base_uri": "https://localhost:8080/",
          "height": 87
        },
        "outputId": "69ae626a-8b61-4703-fb65-93e2449881ea"
      },
      "source": [
        "# 기본 설정 읽기\n",
        "import matplotlib.pyplot as plt\n",
        "\n",
        "# size, family\n",
        "print('# 설정되어있는 폰트 사이즈')\n",
        "print(plt.rcParams['font.size'])\n",
        "print('# 설정되어있는 폰트 글꼴')\n",
        "print(plt.rcParams['font.family'])"
      ],
      "execution_count": 13,
      "outputs": [
        {
          "output_type": "stream",
          "text": [
            "# 설정되어있는 폰트 사이즈\n",
            "10.0\n",
            "# 설정되어있는 폰트 글꼴\n",
            "['sans-serif']\n"
          ],
          "name": "stdout"
        }
      ]
    },
    {
      "cell_type": "code",
      "metadata": {
        "id": "hMCSZELbjEY-",
        "colab_type": "code",
        "colab": {
          "base_uri": "https://localhost:8080/",
          "height": 142
        },
        "outputId": "962f4cf2-04fb-4f34-8649-6f1c2b5d3775"
      },
      "source": [
        "# serif, sans-serif, monospace\n",
        "print('serif 세리프가 있는 폰트----------')\n",
        "print(plt.rcParams['font.serif'])\n",
        "print('sans-serif 세리프가 없는 폰트----------')\n",
        "print(plt.rcParams['font.sans-serif'])\n",
        "print('monospace 고정폭 글꼴----------')\n",
        "print(plt.rcParams['font.monospace'])"
      ],
      "execution_count": 14,
      "outputs": [
        {
          "output_type": "stream",
          "text": [
            "serif 세리프가 있는 폰트----------\n",
            "['DejaVu Serif', 'Bitstream Vera Serif', 'Computer Modern Roman', 'New Century Schoolbook', 'Century Schoolbook L', 'Utopia', 'ITC Bookman', 'Bookman', 'Nimbus Roman No9 L', 'Times New Roman', 'Times', 'Palatino', 'Charter', 'serif']\n",
            "sans-serif 세리프가 없는 폰트----------\n",
            "['DejaVu Sans', 'Bitstream Vera Sans', 'Computer Modern Sans Serif', 'Lucida Grande', 'Verdana', 'Geneva', 'Lucid', 'Arial', 'Helvetica', 'Avant Garde', 'sans-serif']\n",
            "monospace 고정폭 글꼴----------\n",
            "['DejaVu Sans Mono', 'Bitstream Vera Sans Mono', 'Computer Modern Typewriter', 'Andale Mono', 'Nimbus Mono L', 'Courier New', 'Courier', 'Fixed', 'Terminal', 'monospace']\n"
          ],
          "name": "stdout"
        }
      ]
    },
    {
      "cell_type": "code",
      "metadata": {
        "id": "t2w6v-EIjl9i",
        "colab_type": "code",
        "colab": {}
      },
      "source": [
        "plt.rcParams[\"font.family\"]='NanumMyeongjo'\n",
        "plt.rcParams[\"font.size\"]=20\n",
        "plt.rcParams[\"figure.figsize\"]=(14,4)"
      ],
      "execution_count": 15,
      "outputs": []
    },
    {
      "cell_type": "code",
      "metadata": {
        "id": "GYhQdfrCjxop",
        "colab_type": "code",
        "colab": {
          "base_uri": "https://localhost:8080/",
          "height": 328
        },
        "outputId": "2f18d428-3200-40c9-efbc-9c6ee9702e29"
      },
      "source": [
        "plt.plot(range(50), data, 'r')\n",
        "plt.title('시간별 가격 추이')\n",
        "plt.ylabel('주식 가격')\n",
        "plt.xlabel('시간(분)')\n",
        "plt.style.use('seaborn-pastel')\n",
        "plt.show()"
      ],
      "execution_count": 16,
      "outputs": [
        {
          "output_type": "display_data",
          "data": {
            "image/png": "[encoded data removed]",
            "text/plain": [
              "<Figure size 1008x288 with 1 Axes>"
            ]
          },
          "metadata": {
            "tags": [],
            "needs_background": "light"
          }
        }
      ]
    },
    {
      "cell_type": "markdown",
      "metadata": {
        "id": "s1RiZOk4kGeT",
        "colab_type": "text"
      },
      "source": [
        "**rcParams 대신 FontProperties와 plt.rc를 사용하는 방법**"
      ]
    },
    {
      "cell_type": "code",
      "metadata": {
        "id": "3XmRidEekLj-",
        "colab_type": "code",
        "colab": {
          "base_uri": "https://localhost:8080/",
          "height": 346
        },
        "outputId": "9292452f-d2fc-4c7b-f59f-47667f3a1aca"
      },
      "source": [
        "path = '/usr/share/fonts/truetype/nanum/NanumBarunGothic.ttf'\n",
        "font_name = fm.FontProperties(fname=path, size=50).get_name() # 서체의 이름을 가져옴\n",
        "print(font_name)\n",
        "plt.rc('font', family=font_name)\n",
        "\n",
        "fig, ax = plt.subplots()\n",
        "ax.plot(data)\n",
        "ax.set_title('시간별 가격 추이')  # 제목\n",
        "plt.ylabel('주식 가격') # y축\n",
        "plt.xlabel('시간(분)')  # x축\n",
        "plt.style.use('ggplot')\n",
        "plt.show()"
      ],
      "execution_count": 17,
      "outputs": [
        {
          "output_type": "stream",
          "text": [
            "NanumBarunGothic\n"
          ],
          "name": "stdout"
        },
        {
          "output_type": "display_data",
          "data": {
            "image/png": "[encoded data removed]",
            "text/plain": [
              "<Figure size 1008x288 with 1 Axes>"
            ]
          },
          "metadata": {
            "tags": [],
            "needs_background": "light"
          }
        }
      ]
    },
    {
      "cell_type": "markdown",
      "metadata": {
        "id": "PRYk07lqkmJt",
        "colab_type": "text"
      },
      "source": [
        "# **3) rcParams를 설정파일에 직접 적어주는 방법 - 모든 노트북에 공통적용**\n",
        "- font_fmaily: NanumGothicOTF\n",
        "- 이 외에 자주 사용하는 설정도 함께 해주면 편리합니다.\n",
        "- 이곳에 폰트를 지정해 주면 노트북을 실행할 때 바로 로드되도록 설정할 수 있습니다."
      ]
    },
    {
      "cell_type": "code",
      "metadata": {
        "id": "dGeahfddlD5f",
        "colab_type": "code",
        "colab": {
          "base_uri": "https://localhost:8080/",
          "height": 34
        },
        "outputId": "9c3701d0-c17c-497e-b6c0-54b4cc8e40fe"
      },
      "source": [
        "print('설정파일 위치: ', mpl.matplotlib_fname())"
      ],
      "execution_count": 18,
      "outputs": [
        {
          "output_type": "stream",
          "text": [
            "설정파일 위치:  /usr/local/lib/python3.6/dist-packages/matplotlib/mpl-data/matplotlibrc\n"
          ],
          "name": "stdout"
        }
      ]
    }
  ]
}
