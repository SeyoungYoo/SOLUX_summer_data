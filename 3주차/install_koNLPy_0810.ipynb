{
  "nbformat": 4,
  "nbformat_minor": 0,
  "metadata": {
    "colab": {
      "name": "install_koNLPy.ipynb",
      "provenance": [],
      "authorship_tag": "ABX9TyPwx78kj1G6WP9H6wOBEsjB",
      "include_colab_link": true
    },
    "kernelspec": {
      "name": "python3",
      "display_name": "Python 3"
    }
  },
  "cells": [
    {
      "cell_type": "markdown",
      "metadata": {
        "id": "view-in-github",
        "colab_type": "text"
      },
      "source": [
        "<a href=\"https://colab.research.google.com/github/yooste/SOLUX_summer_data/blob/master/3%EC%A3%BC%EC%B0%A8/install_koNLPy_0810.ipynb\" target=\"_parent\"><img src=\"https://colab.research.google.com/assets/colab-badge.svg\" alt=\"Open In Colab\"/></a>"
      ]
    },
    {
      "cell_type": "markdown",
      "metadata": {
        "id": "hylDYWe4Yuis",
        "colab_type": "text"
      },
      "source": [
        "# **OSX에서 konlpy 설치 시 ImportError: No module named 'jpype' 오류 해결**"
      ]
    },
    {
      "cell_type": "code",
      "metadata": {
        "id": "rgcjEaAHba51",
        "colab_type": "code",
        "colab": {
          "base_uri": "https://localhost:8080/",
          "height": 618
        },
        "outputId": "263fa9da-5e18-4b60-a7bc-c6951158bb4d"
      },
      "source": [
        "!pip install konlpy"
      ],
      "execution_count": 12,
      "outputs": [
        {
          "output_type": "stream",
          "text": [
            "Collecting konlpy\n",
            "\u001b[?25l  Downloading https://files.pythonhosted.org/packages/85/0e/f385566fec837c0b83f216b2da65db9997b35dd675e107752005b7d392b1/konlpy-0.5.2-py2.py3-none-any.whl (19.4MB)\n",
            "\u001b[K     |████████████████████████████████| 19.4MB 44.6MB/s \n",
            "\u001b[?25hCollecting tweepy>=3.7.0\n",
            "  Downloading https://files.pythonhosted.org/packages/bb/7c/99d51f80f3b77b107ebae2634108717362c059a41384a1810d13e2429a81/tweepy-3.9.0-py2.py3-none-any.whl\n",
            "Requirement already satisfied: lxml>=4.1.0 in /usr/local/lib/python3.6/dist-packages (from konlpy) (4.2.6)\n",
            "Requirement already satisfied: numpy>=1.6 in /usr/local/lib/python3.6/dist-packages (from konlpy) (1.18.5)\n",
            "Collecting colorama\n",
            "  Downloading https://files.pythonhosted.org/packages/c9/dc/45cdef1b4d119eb96316b3117e6d5708a08029992b2fee2c143c7a0a5cc5/colorama-0.4.3-py2.py3-none-any.whl\n",
            "Collecting beautifulsoup4==4.6.0\n",
            "\u001b[?25l  Downloading https://files.pythonhosted.org/packages/9e/d4/10f46e5cfac773e22707237bfcd51bbffeaf0a576b0a847ec7ab15bd7ace/beautifulsoup4-4.6.0-py3-none-any.whl (86kB)\n",
            "\u001b[K     |████████████████████████████████| 92kB 7.6MB/s \n",
            "\u001b[?25hCollecting JPype1>=0.7.0\n",
            "\u001b[?25l  Downloading https://files.pythonhosted.org/packages/8b/f7/a368401e630f0e390dd0e62c39fb928e5b23741b53c2360ee7d376660927/JPype1-1.0.2-cp36-cp36m-manylinux2010_x86_64.whl (3.8MB)\n",
            "\u001b[K     |████████████████████████████████| 3.8MB 32.0MB/s \n",
            "\u001b[?25hRequirement already satisfied: requests[socks]>=2.11.1 in /usr/local/lib/python3.6/dist-packages (from tweepy>=3.7.0->konlpy) (2.23.0)\n",
            "Requirement already satisfied: requests-oauthlib>=0.7.0 in /usr/local/lib/python3.6/dist-packages (from tweepy>=3.7.0->konlpy) (1.3.0)\n",
            "Requirement already satisfied: six>=1.10.0 in /usr/local/lib/python3.6/dist-packages (from tweepy>=3.7.0->konlpy) (1.15.0)\n",
            "Requirement already satisfied: typing-extensions; python_version < \"3.8\" in /usr/local/lib/python3.6/dist-packages (from JPype1>=0.7.0->konlpy) (3.7.4.2)\n",
            "Requirement already satisfied: urllib3!=1.25.0,!=1.25.1,<1.26,>=1.21.1 in /usr/local/lib/python3.6/dist-packages (from requests[socks]>=2.11.1->tweepy>=3.7.0->konlpy) (1.24.3)\n",
            "Requirement already satisfied: certifi>=2017.4.17 in /usr/local/lib/python3.6/dist-packages (from requests[socks]>=2.11.1->tweepy>=3.7.0->konlpy) (2020.6.20)\n",
            "Requirement already satisfied: idna<3,>=2.5 in /usr/local/lib/python3.6/dist-packages (from requests[socks]>=2.11.1->tweepy>=3.7.0->konlpy) (2.10)\n",
            "Requirement already satisfied: chardet<4,>=3.0.2 in /usr/local/lib/python3.6/dist-packages (from requests[socks]>=2.11.1->tweepy>=3.7.0->konlpy) (3.0.4)\n",
            "Requirement already satisfied: PySocks!=1.5.7,>=1.5.6; extra == \"socks\" in /usr/local/lib/python3.6/dist-packages (from requests[socks]>=2.11.1->tweepy>=3.7.0->konlpy) (1.7.1)\n",
            "Requirement already satisfied: oauthlib>=3.0.0 in /usr/local/lib/python3.6/dist-packages (from requests-oauthlib>=0.7.0->tweepy>=3.7.0->konlpy) (3.1.0)\n",
            "Installing collected packages: tweepy, colorama, beautifulsoup4, JPype1, konlpy\n",
            "  Found existing installation: tweepy 3.6.0\n",
            "    Uninstalling tweepy-3.6.0:\n",
            "      Successfully uninstalled tweepy-3.6.0\n",
            "  Found existing installation: beautifulsoup4 4.6.3\n",
            "    Uninstalling beautifulsoup4-4.6.3:\n",
            "      Successfully uninstalled beautifulsoup4-4.6.3\n",
            "Successfully installed JPype1-1.0.2 beautifulsoup4-4.6.0 colorama-0.4.3 konlpy-0.5.2 tweepy-3.9.0\n"
          ],
          "name": "stdout"
        }
      ]
    },
    {
      "cell_type": "code",
      "metadata": {
        "id": "6rRfYtQE_gW5",
        "colab_type": "code",
        "colab": {
          "base_uri": "https://localhost:8080/",
          "height": 35
        },
        "outputId": "921ffa08-c047-4b02-faea-ad866d2e5583"
      },
      "source": [
        "# konlpy가 정상 설치 되었으나 jpype 설치 문제로 import 되지 않는 문제 해결\n",
        "import konlpy\n",
        "konlpy.__version__"
      ],
      "execution_count": 1,
      "outputs": [
        {
          "output_type": "execute_result",
          "data": {
            "application/vnd.google.colaboratory.intrinsic+json": {
              "type": "string"
            },
            "text/plain": [
              "'0.5.2'"
            ]
          },
          "metadata": {
            "tags": []
          },
          "execution_count": 1
        }
      ]
    },
    {
      "cell_type": "code",
      "metadata": {
        "id": "i14nFEz9Y_8w",
        "colab_type": "code",
        "colab": {
          "base_uri": "https://localhost:8080/",
          "height": 87
        },
        "outputId": "13767723-a045-46d1-9835-17612547fb4f"
      },
      "source": [
        "# 일단, 내 pc 버전 알아보기\n",
        "import platform\n",
        "import sys\n",
        "\n",
        "print(\"\"\"\n",
        "system: %s\n",
        "libc_ver: %s\n",
        "\"\"\" % (\n",
        "    platform.system(),\n",
        "    platform.libc_ver(),\n",
        "))"
      ],
      "execution_count": 2,
      "outputs": [
        {
          "output_type": "stream",
          "text": [
            "\n",
            "system: Linux\n",
            "libc_ver: ('glibc', '2.25')\n",
            "\n"
          ],
          "name": "stdout"
        }
      ]
    },
    {
      "cell_type": "markdown",
      "metadata": {
        "id": "pGek-NOca564",
        "colab_type": "text"
      },
      "source": [
        "konlpy를 pip install konlpy로 설치하고 노트북에서 import 했더니 다음과 같은 오류가 나서 몇 시간을 헤맸다.\n",
        "\n",
        "# **JPype**\n",
        "JPype는 Python 프로그램이 Java 클래스 라이브러리에 접근하고자 할 때 필요하다.\n",
        "\n",
        "**1. pip install konlpy로 깔끔하게 설치가 완료된 듯 하여, 노트북에서 konlpy를 불러왔다.**\n",
        "\n",
        "import konlpy\n",
        "\n",
        "    ImportError: No module named 'jpype'"
      ]
    },
    {
      "cell_type": "markdown",
      "metadata": {
        "id": "Sw8EuoAbcKMZ",
        "colab_type": "text"
      },
      "source": [
        "**2. jpype가 필요한 듯 하다.**\n",
        "\n",
        "pip install jpype를 하니 오류가 나서 찾아보니 공식문서에 소스코드를 받아 직접 설치하는 방법이 나와서 해당 소스를 다운로드 받았다.\n",
        "\n",
        "**3. 자바 설치 및 환경변수 설정**\n",
        "\n",
        "여러 문서를 찾다가 자바 jdk 버전문제를 해결하고 환경변수를 설정해주었다.\n",
        "\n",
        "  java version \"1.8.0_261\"\n",
        "\n",
        "**4. 그런데도 python setup.py_build를 해주었더니 다음과 같은 오류가 나왔다.**\n",
        "\n",
        "    ccplus: warning: command line option '-Watrict-prototype' is valid for C/ObjC but not for C++\n",
        "    In file included from src/native/common/include/jpype.h:45:0, \n",
        "        from src/native/common/jp_method.cpp:17:/Library/Java/JavaVirtualMachines/jdk1.8.0.261.jdk/Contents/Home/include/jni.h:39:10: fatal error: studio.h: No such file or directory\n",
        "    \n",
        "**5. c나 c++과 관련된 문제는 Xcode 관련 문제일 거 같아 다음의 명령어로 다시 설치를 해주었다.**\n",
        "    $ xcode-select --install\n",
        "  \n",
        "  다시 클론받은 프로젝트 폴더로 갔다.\n",
        "    $ python setup.py build\n",
        "    $ python setup.py install\n",
        "\n",
        "**설치 성공!**\n",
        "  pip install JPype1-py3 로 설치해도 잘 된다."
      ]
    },
    {
      "cell_type": "code",
      "metadata": {
        "id": "OAA88TfJZu_N",
        "colab_type": "code",
        "colab": {
          "base_uri": "https://localhost:8080/",
          "height": 34
        },
        "outputId": "e9841616-9298-4252-bd93-a3a27a0821f3"
      },
      "source": [
        "from konlpy.tag import Kkma\n",
        "from konlpy.utils import pprint\n",
        "kkma = Kkma()\n",
        "print(kkma.sentences(u'JPype 설치 너무 까다롭습니다. 몇 시간을 날렸어요.'))"
      ],
      "execution_count": 3,
      "outputs": [
        {
          "output_type": "stream",
          "text": [
            "['JPype 설치 너무 까다롭습니다.', '몇 시간을 날렸어요.']\n"
          ],
          "name": "stdout"
        }
      ]
    },
    {
      "cell_type": "code",
      "metadata": {
        "id": "JTQ3m6W2f5mq",
        "colab_type": "code",
        "colab": {
          "base_uri": "https://localhost:8080/",
          "height": 34
        },
        "outputId": "2e463ac8-352a-4894-c5a1-6b205a45dc97"
      },
      "source": [
        "print(kkma.nouns(u'JPype 설치 너무 까다롭습니다. 몇 시간을 날렸어요.'))"
      ],
      "execution_count": 4,
      "outputs": [
        {
          "output_type": "stream",
          "text": [
            "['설치', '시간']\n"
          ],
          "name": "stdout"
        }
      ]
    },
    {
      "cell_type": "code",
      "metadata": {
        "id": "wKASBxX1gBYA",
        "colab_type": "code",
        "colab": {
          "base_uri": "https://localhost:8080/",
          "height": 54
        },
        "outputId": "31fa5aeb-046d-4b01-9076-a839937d126e"
      },
      "source": [
        "print(kkma.pos(u'JPype 설치 너무 까다롭습니다. 몇 시간을 날렸어요.'))"
      ],
      "execution_count": 5,
      "outputs": [
        {
          "output_type": "stream",
          "text": [
            "[('JPype', 'OL'), ('설치', 'NNG'), ('너무', 'MAG'), ('까다롭', 'VA'), ('습니다', 'EFN'), ('.', 'SF'), ('몇', 'MDT'), ('시간', 'NNG'), ('을', 'JKO'), ('날리', 'VV'), ('었', 'EPT'), ('어요', 'EFN'), ('.', 'SF')]\n"
          ],
          "name": "stdout"
        }
      ]
    }
  ]
}