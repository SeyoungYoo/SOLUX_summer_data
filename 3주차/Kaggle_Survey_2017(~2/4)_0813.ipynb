{
  "nbformat": 4,
  "nbformat_minor": 0,
  "metadata": {
    "colab": {
      "name": "Kaggle_Survey_2017.ipynb",
      "provenance": [],
      "authorship_tag": "ABX9TyOwmkTNJMyBdy7gKbo3lbAG",
      "include_colab_link": true
    },
    "kernelspec": {
      "name": "python3",
      "display_name": "Python 3"
    }
  },
  "cells": [
    {
      "cell_type": "markdown",
      "metadata": {
        "id": "view-in-github",
        "colab_type": "text"
      },
      "source": [
        "<a href=\"https://colab.research.google.com/github/yooste/SOLUX_summer_data/blob/master/3%EC%A3%BC%EC%B0%A8/Kaggle_Survey_2017(~2/4)_0813.ipynb\" target=\"_parent\"><img src=\"https://colab.research.google.com/assets/colab-badge.svg\" alt=\"Open In Colab\"/></a>"
      ]
    },
    {
      "cell_type": "markdown",
      "metadata": {
        "id": "B7iXnS_Vsiy5",
        "colab_type": "text"
      },
      "source": [
        "참고 URL:\n",
        "   - [Data Science FAQ|Kaggle](https://www.kaggle.com/rounakbanik/data-science-faq)\n",
        "   - [Novice to Grandmaster|Kaggle](https://https://www.kaggle.com/ash316/novice-to-grandmaster)\n",
        "   - 설문조사의 결과를 바탕으로 데이터사이언스와 머신러닝과 관련된 인사이트를 얻어볼 수 있지 않을까 가설을 세운다."
      ]
    },
    {
      "cell_type": "markdown",
      "metadata": {
        "id": "4HMkkvSYs_yK",
        "colab_type": "text"
      },
      "source": [
        "## **캐글러를 대상으로 한 설문조사**\n",
        "  - 설문기간: 2017년 8월 7일부터 8월 25일까지\n",
        "  - 평균 응답 시간은 16.4분\n",
        "  - 171개 국가 및 지역에서 16,716명의 응답자\n",
        "  - 특정 국가 또는 지역에서 응답자가 50명 미만인 경우 익명을 위해 그룹을 '기타'그룹으로 그룹화\n",
        "  - 설문 조사 시스템에 신고된 응답자를 스팸으로 분류하거나 취업 상태에 관한 질문에 답변하지 않은 응답자는 제외(이 질문은 첫 번째 필수 질문이기에 응답하지 않으면 응답자가 다섯 번째 질문 이후 진행되지 않음)\n",
        "  - 대부분의 응답자는 이메일 목록, 토론 포함 및 소셜 미디어 Kaggle 채널을 통해 설문을 알게 됨\n",
        "  - 급여데이터는 일부 통화에 대해서만 받고 해당 되는 통화에 기준하여 작성하도록 함\n",
        "  - 미국 달러로 급여를 계산할 수 있도록 USD로 환산한 csv를 제공\n",
        "  - 질문은 선택적\n",
        "  - 모든 질문이 모든 응답자에게 보여지는 것은 아님\n",
        "  - 취업을 한 사람과 학생을 나누어 다른 질문을 함\n",
        "  - 응답자의 신원을 보호하기 위해 주관식과 객관식 파일로 분리\n",
        "  - 객관식과 자유 형식 응답을 맞추기 위한 키를 제공하지 않음\n",
        "  - 주관식 응답은 같은 행에 나타나는 응답이 반드시 동일한 설문 조사자가 제공하지 않도록 열 단위로 무작위 지정"
      ]
    },
    {
      "cell_type": "markdown",
      "metadata": {
        "id": "Mj-37fEK6OEm",
        "colab_type": "text"
      },
      "source": [
        "## **데이터 파일**\n",
        "\n",
        "5개의 데이터 파일을 제공\n",
        "  - schema.csv: 설문 스키마가 있는 csv파일. 이 스키마에는 multipleChoiceResponse.csv 및 freeformResponses.csv의 각 열 이름에 해당하는 질문이 포함되어 있음.\n",
        "  - multipleChoiceResponses.csv: 객관식 및 순위 질문에 대한 응답자의 답변, 각 행이 한 응답자의 응답\n",
        "  - freeformResponses.csv: Kaggle의 설문 조사 질문에 대한 응답자의 주관식 답변. 임의로 지정되어 각 행이 같은 응답자를 나타내지 않음\n",
        "  - conversionRates.csv: R 패키지 \"quantmod\"에서 2017년 9월 14일에 액세스 한 통화 변환율(USD)\n",
        "  - RespondentTypeREADME.txt: schema.csv 파일의 \"Asked\" 열에 응답을 디코딩하는 스키마"
      ]
    },
    {
      "cell_type": "code",
      "metadata": {
        "id": "k3Or2n7AsUXo",
        "colab_type": "code",
        "colab": {
          "base_uri": "https://localhost:8080/",
          "height": 72
        },
        "outputId": "129fb050-2a7a-4810-f493-b876db44d0d9"
      },
      "source": [
        " # 노트북 안에서 그래프를 그리기 위해\n",
        " %matplotlib inline\n",
        "\n",
        " # Import the standard Python Scientific Libraries\n",
        " import pandas as pd\n",
        " import numpy as np\n",
        " from scipy import stats\n",
        " import matplotlib.pyplot as plt\n",
        " import seaborn as sns\n",
        " import pandas.util.testing as tm\n",
        "\n",
        " # Suppress Deprecation and Incorrect Usage Warnings\n",
        " import warnings\n",
        " warnings.filterwarnings('ignore')  # warning이 보이지 않도록 처리"
      ],
      "execution_count": 1,
      "outputs": [
        {
          "output_type": "stream",
          "text": [
            "/usr/local/lib/python3.6/dist-packages/statsmodels/tools/_testing.py:19: FutureWarning: pandas.util.testing is deprecated. Use the functions in the public API at pandas.testing instead.\n",
            "  import pandas.util.testing as tm\n"
          ],
          "name": "stderr"
        }
      ]
    },
    {
      "cell_type": "code",
      "metadata": {
        "id": "rTLcTlI37xLm",
        "colab_type": "code",
        "colab": {
          "base_uri": "https://localhost:8080/",
          "height": 34
        },
        "outputId": "c539147a-d71b-44b6-a286-770e4c4ea8f0"
      },
      "source": [
        "question = pd.read_csv('data/schema.csv')\n",
        "question.shape"
      ],
      "execution_count": 2,
      "outputs": [
        {
          "output_type": "execute_result",
          "data": {
            "text/plain": [
              "(290, 3)"
            ]
          },
          "metadata": {
            "tags": []
          },
          "execution_count": 2
        }
      ]
    },
    {
      "cell_type": "code",
      "metadata": {
        "id": "JwH70vzO8Y2V",
        "colab_type": "code",
        "colab": {
          "base_uri": "https://localhost:8080/",
          "height": 195
        },
        "outputId": "06381fb7-6ecd-424c-e02e-2f103e029470"
      },
      "source": [
        "question.head()"
      ],
      "execution_count": 3,
      "outputs": [
        {
          "output_type": "execute_result",
          "data": {
            "text/html": [
              "<div>\n",
              "<style scoped>\n",
              "    .dataframe tbody tr th:only-of-type {\n",
              "        vertical-align: middle;\n",
              "    }\n",
              "\n",
              "    .dataframe tbody tr th {\n",
              "        vertical-align: top;\n",
              "    }\n",
              "\n",
              "    .dataframe thead th {\n",
              "        text-align: right;\n",
              "    }\n",
              "</style>\n",
              "<table border=\"1\" class=\"dataframe\">\n",
              "  <thead>\n",
              "    <tr style=\"text-align: right;\">\n",
              "      <th></th>\n",
              "      <th>Column</th>\n",
              "      <th>Question</th>\n",
              "      <th>Asked</th>\n",
              "    </tr>\n",
              "  </thead>\n",
              "  <tbody>\n",
              "    <tr>\n",
              "      <th>0</th>\n",
              "      <td>GenderSelect</td>\n",
              "      <td>Select your gender identity. - Selected Choice</td>\n",
              "      <td>All</td>\n",
              "    </tr>\n",
              "    <tr>\n",
              "      <th>1</th>\n",
              "      <td>GenderFreeForm</td>\n",
              "      <td>Select your gender identity. - A different ide...</td>\n",
              "      <td>All</td>\n",
              "    </tr>\n",
              "    <tr>\n",
              "      <th>2</th>\n",
              "      <td>Country</td>\n",
              "      <td>Select the country you currently live in.</td>\n",
              "      <td>All</td>\n",
              "    </tr>\n",
              "    <tr>\n",
              "      <th>3</th>\n",
              "      <td>Age</td>\n",
              "      <td>What's your age?</td>\n",
              "      <td>All</td>\n",
              "    </tr>\n",
              "    <tr>\n",
              "      <th>4</th>\n",
              "      <td>EmploymentStatus</td>\n",
              "      <td>What's your current employment status?</td>\n",
              "      <td>All</td>\n",
              "    </tr>\n",
              "  </tbody>\n",
              "</table>\n",
              "</div>"
            ],
            "text/plain": [
              "             Column                                           Question Asked\n",
              "0      GenderSelect     Select your gender identity. - Selected Choice   All\n",
              "1    GenderFreeForm  Select your gender identity. - A different ide...   All\n",
              "2           Country          Select the country you currently live in.   All\n",
              "3               Age                                   What's your age?   All\n",
              "4  EmploymentStatus             What's your current employment status?   All"
            ]
          },
          "metadata": {
            "tags": []
          },
          "execution_count": 3
        }
      ]
    },
    {
      "cell_type": "code",
      "metadata": {
        "id": "C-a6H9LH9q9X",
        "colab_type": "code",
        "colab": {
          "base_uri": "https://localhost:8080/",
          "height": 279
        },
        "outputId": "7091e51c-cf53-4eb7-f81e-cf5bc6cb772f"
      },
      "source": [
        "question.tail()"
      ],
      "execution_count": 4,
      "outputs": [
        {
          "output_type": "execute_result",
          "data": {
            "text/html": [
              "<div>\n",
              "<style scoped>\n",
              "    .dataframe tbody tr th:only-of-type {\n",
              "        vertical-align: middle;\n",
              "    }\n",
              "\n",
              "    .dataframe tbody tr th {\n",
              "        vertical-align: top;\n",
              "    }\n",
              "\n",
              "    .dataframe thead th {\n",
              "        text-align: right;\n",
              "    }\n",
              "</style>\n",
              "<table border=\"1\" class=\"dataframe\">\n",
              "  <thead>\n",
              "    <tr style=\"text-align: right;\">\n",
              "      <th></th>\n",
              "      <th>Column</th>\n",
              "      <th>Question</th>\n",
              "      <th>Asked</th>\n",
              "    </tr>\n",
              "  </thead>\n",
              "  <tbody>\n",
              "    <tr>\n",
              "      <th>285</th>\n",
              "      <td>JobFactorRemote</td>\n",
              "      <td>How are you assessing potential job opportunit...</td>\n",
              "      <td>Learners</td>\n",
              "    </tr>\n",
              "    <tr>\n",
              "      <th>286</th>\n",
              "      <td>JobFactorIndustry</td>\n",
              "      <td>How are you assessing potential job opportunit...</td>\n",
              "      <td>Learners</td>\n",
              "    </tr>\n",
              "    <tr>\n",
              "      <th>287</th>\n",
              "      <td>JobFactorLeaderReputation</td>\n",
              "      <td>How are you assessing potential job opportunit...</td>\n",
              "      <td>Learners</td>\n",
              "    </tr>\n",
              "    <tr>\n",
              "      <th>288</th>\n",
              "      <td>JobFactorDiversity</td>\n",
              "      <td>How are you assessing potential job opportunit...</td>\n",
              "      <td>Learners</td>\n",
              "    </tr>\n",
              "    <tr>\n",
              "      <th>289</th>\n",
              "      <td>JobFactorPublishingOpportunity</td>\n",
              "      <td>How are you assessing potential job opportunit...</td>\n",
              "      <td>Learners</td>\n",
              "    </tr>\n",
              "  </tbody>\n",
              "</table>\n",
              "</div>"
            ],
            "text/plain": [
              "                             Column  ...     Asked\n",
              "285                 JobFactorRemote  ...  Learners\n",
              "286               JobFactorIndustry  ...  Learners\n",
              "287       JobFactorLeaderReputation  ...  Learners\n",
              "288              JobFactorDiversity  ...  Learners\n",
              "289  JobFactorPublishingOpportunity  ...  Learners\n",
              "\n",
              "[5 rows x 3 columns]"
            ]
          },
          "metadata": {
            "tags": []
          },
          "execution_count": 4
        }
      ]
    },
    {
      "cell_type": "code",
      "metadata": {
        "id": "QSkaMzIX9vPq",
        "colab_type": "code",
        "colab": {
          "base_uri": "https://localhost:8080/",
          "height": 34
        },
        "outputId": "20a6cfe6-e113-4818-d1b9-a627a95e3114"
      },
      "source": [
        "# 판다스로 선다형 객관식 문제에 대한 응답을 가져 옴\n",
        "mcq = pd.read_csv('data/multipleChoiceResponses.csv', encoding='ISO-8859-1', low_memory=False)\n",
        "mcq.shape # mcq의 행과 열을 알아보기\n",
        "# 16716명이 응답 / 228개의 선다형 객관식 문제로 이루어짐"
      ],
      "execution_count": 5,
      "outputs": [
        {
          "output_type": "execute_result",
          "data": {
            "text/plain": [
              "(4082, 228)"
            ]
          },
          "metadata": {
            "tags": []
          },
          "execution_count": 5
        }
      ]
    },
    {
      "cell_type": "code",
      "metadata": {
        "id": "Ix130fYO-BdO",
        "colab_type": "code",
        "colab": {
          "base_uri": "https://localhost:8080/",
          "height": 175
        },
        "outputId": "743fca72-4f55-41f5-8fe0-ff103e2e18f1"
      },
      "source": [
        "mcq.columns"
      ],
      "execution_count": 6,
      "outputs": [
        {
          "output_type": "execute_result",
          "data": {
            "text/plain": [
              "Index(['GenderSelect', 'Country', 'Age', 'EmploymentStatus', 'StudentStatus',\n",
              "       'LearningDataScience', 'CodeWriter', 'CareerSwitcher',\n",
              "       'CurrentJobTitleSelect', 'TitleFit',\n",
              "       ...\n",
              "       'JobFactorExperienceLevel', 'JobFactorDepartment', 'JobFactorTitle',\n",
              "       'JobFactorCompanyFunding', 'JobFactorImpact', 'JobFactorRemote',\n",
              "       'JobFactorIndustry', 'JobFactorLeaderReputation', 'JobFactorDiversity',\n",
              "       'JobFactorPublishingOpportunity'],\n",
              "      dtype='object', length=228)"
            ]
          },
          "metadata": {
            "tags": []
          },
          "execution_count": 6
        }
      ]
    },
    {
      "cell_type": "code",
      "metadata": {
        "id": "v8Vjmd3x-ZSc",
        "colab_type": "code",
        "colab": {
          "base_uri": "https://localhost:8080/",
          "height": 429
        },
        "outputId": "c46939ad-585a-4de8-c4f8-ff65c1457a1a"
      },
      "source": [
        "mcq.tail()"
      ],
      "execution_count": 7,
      "outputs": [
        {
          "output_type": "execute_result",
          "data": {
            "text/html": [
              "<div>\n",
              "<style scoped>\n",
              "    .dataframe tbody tr th:only-of-type {\n",
              "        vertical-align: middle;\n",
              "    }\n",
              "\n",
              "    .dataframe tbody tr th {\n",
              "        vertical-align: top;\n",
              "    }\n",
              "\n",
              "    .dataframe thead th {\n",
              "        text-align: right;\n",
              "    }\n",
              "</style>\n",
              "<table border=\"1\" class=\"dataframe\">\n",
              "  <thead>\n",
              "    <tr style=\"text-align: right;\">\n",
              "      <th></th>\n",
              "      <th>GenderSelect</th>\n",
              "      <th>Country</th>\n",
              "      <th>Age</th>\n",
              "      <th>EmploymentStatus</th>\n",
              "      <th>StudentStatus</th>\n",
              "      <th>LearningDataScience</th>\n",
              "      <th>CodeWriter</th>\n",
              "      <th>CareerSwitcher</th>\n",
              "      <th>CurrentJobTitleSelect</th>\n",
              "      <th>TitleFit</th>\n",
              "      <th>CurrentEmployerType</th>\n",
              "      <th>MLToolNextYearSelect</th>\n",
              "      <th>MLMethodNextYearSelect</th>\n",
              "      <th>LanguageRecommendationSelect</th>\n",
              "      <th>PublicDatasetsSelect</th>\n",
              "      <th>LearningPlatformSelect</th>\n",
              "      <th>LearningPlatformUsefulnessArxiv</th>\n",
              "      <th>LearningPlatformUsefulnessBlogs</th>\n",
              "      <th>LearningPlatformUsefulnessCollege</th>\n",
              "      <th>LearningPlatformUsefulnessCompany</th>\n",
              "      <th>LearningPlatformUsefulnessConferences</th>\n",
              "      <th>LearningPlatformUsefulnessFriends</th>\n",
              "      <th>LearningPlatformUsefulnessKaggle</th>\n",
              "      <th>LearningPlatformUsefulnessNewsletters</th>\n",
              "      <th>LearningPlatformUsefulnessCommunities</th>\n",
              "      <th>LearningPlatformUsefulnessDocumentation</th>\n",
              "      <th>LearningPlatformUsefulnessCourses</th>\n",
              "      <th>LearningPlatformUsefulnessProjects</th>\n",
              "      <th>LearningPlatformUsefulnessPodcasts</th>\n",
              "      <th>LearningPlatformUsefulnessSO</th>\n",
              "      <th>LearningPlatformUsefulnessTextbook</th>\n",
              "      <th>LearningPlatformUsefulnessTradeBook</th>\n",
              "      <th>LearningPlatformUsefulnessTutoring</th>\n",
              "      <th>LearningPlatformUsefulnessYouTube</th>\n",
              "      <th>BlogsPodcastsNewslettersSelect</th>\n",
              "      <th>LearningDataScienceTime</th>\n",
              "      <th>JobSkillImportanceBigData</th>\n",
              "      <th>JobSkillImportanceDegree</th>\n",
              "      <th>JobSkillImportanceStats</th>\n",
              "      <th>JobSkillImportanceEnterpriseTools</th>\n",
              "      <th>...</th>\n",
              "      <th>WorkChallengeFrequencyITCoordination</th>\n",
              "      <th>WorkChallengeFrequencyHiringFunds</th>\n",
              "      <th>WorkChallengeFrequencyPrivacy</th>\n",
              "      <th>WorkChallengeFrequencyScaling</th>\n",
              "      <th>WorkChallengeFrequencyEnvironments</th>\n",
              "      <th>WorkChallengeFrequencyClarity</th>\n",
              "      <th>WorkChallengeFrequencyDataAccess</th>\n",
              "      <th>WorkChallengeFrequencyOtherSelect</th>\n",
              "      <th>WorkDataVisualizations</th>\n",
              "      <th>WorkInternalVsExternalTools</th>\n",
              "      <th>WorkMLTeamSeatSelect</th>\n",
              "      <th>WorkDatasets</th>\n",
              "      <th>WorkDatasetsChallenge</th>\n",
              "      <th>WorkDataStorage</th>\n",
              "      <th>WorkDataSharing</th>\n",
              "      <th>WorkDataSourcing</th>\n",
              "      <th>WorkCodeSharing</th>\n",
              "      <th>RemoteWork</th>\n",
              "      <th>CompensationAmount</th>\n",
              "      <th>CompensationCurrency</th>\n",
              "      <th>SalaryChange</th>\n",
              "      <th>JobSatisfaction</th>\n",
              "      <th>JobSearchResource</th>\n",
              "      <th>JobHuntTime</th>\n",
              "      <th>JobFactorLearning</th>\n",
              "      <th>JobFactorSalary</th>\n",
              "      <th>JobFactorOffice</th>\n",
              "      <th>JobFactorLanguages</th>\n",
              "      <th>JobFactorCommute</th>\n",
              "      <th>JobFactorManagement</th>\n",
              "      <th>JobFactorExperienceLevel</th>\n",
              "      <th>JobFactorDepartment</th>\n",
              "      <th>JobFactorTitle</th>\n",
              "      <th>JobFactorCompanyFunding</th>\n",
              "      <th>JobFactorImpact</th>\n",
              "      <th>JobFactorRemote</th>\n",
              "      <th>JobFactorIndustry</th>\n",
              "      <th>JobFactorLeaderReputation</th>\n",
              "      <th>JobFactorDiversity</th>\n",
              "      <th>JobFactorPublishingOpportunity</th>\n",
              "    </tr>\n",
              "  </thead>\n",
              "  <tbody>\n",
              "    <tr>\n",
              "      <th>4077</th>\n",
              "      <td>Male</td>\n",
              "      <td>United Kingdom</td>\n",
              "      <td>44.0</td>\n",
              "      <td>Independent contractor, freelancer, or self-em...</td>\n",
              "      <td>NaN</td>\n",
              "      <td>NaN</td>\n",
              "      <td>Yes</td>\n",
              "      <td>NaN</td>\n",
              "      <td>Software Developer/Software Engineer</td>\n",
              "      <td>Poorly</td>\n",
              "      <td>Self-employed</td>\n",
              "      <td>TensorFlow</td>\n",
              "      <td>Deep learning</td>\n",
              "      <td>Python</td>\n",
              "      <td>Google Search</td>\n",
              "      <td>Arxiv,Blogs,Friends network,Kaggle,Non-Kaggle ...</td>\n",
              "      <td>Very useful</td>\n",
              "      <td>Somewhat useful</td>\n",
              "      <td>NaN</td>\n",
              "      <td>NaN</td>\n",
              "      <td>NaN</td>\n",
              "      <td>Somewhat useful</td>\n",
              "      <td>Somewhat useful</td>\n",
              "      <td>NaN</td>\n",
              "      <td>Somewhat useful</td>\n",
              "      <td>Somewhat useful</td>\n",
              "      <td>Somewhat useful</td>\n",
              "      <td>Somewhat useful</td>\n",
              "      <td>Not Useful</td>\n",
              "      <td>Somewhat useful</td>\n",
              "      <td>NaN</td>\n",
              "      <td>NaN</td>\n",
              "      <td>NaN</td>\n",
              "      <td>Somewhat useful</td>\n",
              "      <td>Data Elixir Newsletter,No Free Hunch Blog,Sira...</td>\n",
              "      <td>NaN</td>\n",
              "      <td>NaN</td>\n",
              "      <td>NaN</td>\n",
              "      <td>NaN</td>\n",
              "      <td>NaN</td>\n",
              "      <td>...</td>\n",
              "      <td>NaN</td>\n",
              "      <td>Sometimes</td>\n",
              "      <td>Sometimes</td>\n",
              "      <td>NaN</td>\n",
              "      <td>NaN</td>\n",
              "      <td>NaN</td>\n",
              "      <td>Sometimes</td>\n",
              "      <td>NaN</td>\n",
              "      <td>26-50% of projects</td>\n",
              "      <td>Entirely internal</td>\n",
              "      <td>IT Department</td>\n",
              "      <td>NaN</td>\n",
              "      <td>NaN</td>\n",
              "      <td>Flat files not in a database or cache (e.g. CS...</td>\n",
              "      <td>Share Drive/SharePoint</td>\n",
              "      <td>NaN</td>\n",
              "      <td>Git,Subversion</td>\n",
              "      <td>Sometimes</td>\n",
              "      <td>50000</td>\n",
              "      <td>GBP</td>\n",
              "      <td>Has stayed about the same (has not increased o...</td>\n",
              "      <td>6</td>\n",
              "      <td>NaN</td>\n",
              "      <td>NaN</td>\n",
              "      <td>NaN</td>\n",
              "      <td>NaN</td>\n",
              "      <td>NaN</td>\n",
              "      <td>NaN</td>\n",
              "      <td>NaN</td>\n",
              "      <td>NaN</td>\n",
              "      <td>NaN</td>\n",
              "      <td>NaN</td>\n",
              "      <td>NaN</td>\n",
              "      <td>NaN</td>\n",
              "      <td>NaN</td>\n",
              "      <td>NaN</td>\n",
              "      <td>NaN</td>\n",
              "      <td>NaN</td>\n",
              "      <td>NaN</td>\n",
              "      <td>NaN</td>\n",
              "    </tr>\n",
              "    <tr>\n",
              "      <th>4078</th>\n",
              "      <td>Male</td>\n",
              "      <td>Canada</td>\n",
              "      <td>19.0</td>\n",
              "      <td>Employed part-time</td>\n",
              "      <td>NaN</td>\n",
              "      <td>NaN</td>\n",
              "      <td>Yes</td>\n",
              "      <td>NaN</td>\n",
              "      <td>Scientist/Researcher</td>\n",
              "      <td>Fine</td>\n",
              "      <td>Employed by college or university</td>\n",
              "      <td>TensorFlow</td>\n",
              "      <td>Neural Nets</td>\n",
              "      <td>R</td>\n",
              "      <td>Dataset aggregator/platform (i.e. Socrata/Kagg...</td>\n",
              "      <td>Non-Kaggle online communities,Online courses,P...</td>\n",
              "      <td>NaN</td>\n",
              "      <td>NaN</td>\n",
              "      <td>NaN</td>\n",
              "      <td>NaN</td>\n",
              "      <td>NaN</td>\n",
              "      <td>NaN</td>\n",
              "      <td>NaN</td>\n",
              "      <td>NaN</td>\n",
              "      <td>Very useful</td>\n",
              "      <td>NaN</td>\n",
              "      <td>Very useful</td>\n",
              "      <td>Very useful</td>\n",
              "      <td>NaN</td>\n",
              "      <td>Very useful</td>\n",
              "      <td>Somewhat useful</td>\n",
              "      <td>NaN</td>\n",
              "      <td>NaN</td>\n",
              "      <td>Very useful</td>\n",
              "      <td>NaN</td>\n",
              "      <td>NaN</td>\n",
              "      <td>NaN</td>\n",
              "      <td>NaN</td>\n",
              "      <td>NaN</td>\n",
              "      <td>NaN</td>\n",
              "      <td>...</td>\n",
              "      <td>NaN</td>\n",
              "      <td>Most of the time</td>\n",
              "      <td>NaN</td>\n",
              "      <td>NaN</td>\n",
              "      <td>Often</td>\n",
              "      <td>NaN</td>\n",
              "      <td>NaN</td>\n",
              "      <td>NaN</td>\n",
              "      <td>76-99% of projects</td>\n",
              "      <td>Entirely internal</td>\n",
              "      <td>Standalone Team</td>\n",
              "      <td>NaN</td>\n",
              "      <td>NaN</td>\n",
              "      <td>Row-oriented relational (e.g. MySQL/Microsoft ...</td>\n",
              "      <td>I don't typically share data</td>\n",
              "      <td>NaN</td>\n",
              "      <td>Generic non-cloud file sharing software (Email...</td>\n",
              "      <td>NaN</td>\n",
              "      <td>0</td>\n",
              "      <td>CAD</td>\n",
              "      <td>I am not currently employed</td>\n",
              "      <td>3</td>\n",
              "      <td>NaN</td>\n",
              "      <td>NaN</td>\n",
              "      <td>NaN</td>\n",
              "      <td>NaN</td>\n",
              "      <td>NaN</td>\n",
              "      <td>NaN</td>\n",
              "      <td>NaN</td>\n",
              "      <td>NaN</td>\n",
              "      <td>NaN</td>\n",
              "      <td>NaN</td>\n",
              "      <td>NaN</td>\n",
              "      <td>NaN</td>\n",
              "      <td>NaN</td>\n",
              "      <td>NaN</td>\n",
              "      <td>NaN</td>\n",
              "      <td>NaN</td>\n",
              "      <td>NaN</td>\n",
              "      <td>NaN</td>\n",
              "    </tr>\n",
              "    <tr>\n",
              "      <th>4079</th>\n",
              "      <td>Male</td>\n",
              "      <td>United States</td>\n",
              "      <td>24.0</td>\n",
              "      <td>Not employed, but looking for work</td>\n",
              "      <td>NaN</td>\n",
              "      <td>NaN</td>\n",
              "      <td>NaN</td>\n",
              "      <td>NaN</td>\n",
              "      <td>NaN</td>\n",
              "      <td>NaN</td>\n",
              "      <td>NaN</td>\n",
              "      <td>TensorFlow</td>\n",
              "      <td>Neural Nets</td>\n",
              "      <td>Python</td>\n",
              "      <td>Google Search</td>\n",
              "      <td>Arxiv,Blogs,College/University,Kaggle,Stack Ov...</td>\n",
              "      <td>Very useful</td>\n",
              "      <td>Very useful</td>\n",
              "      <td>Somewhat useful</td>\n",
              "      <td>NaN</td>\n",
              "      <td>NaN</td>\n",
              "      <td>NaN</td>\n",
              "      <td>Somewhat useful</td>\n",
              "      <td>NaN</td>\n",
              "      <td>NaN</td>\n",
              "      <td>NaN</td>\n",
              "      <td>NaN</td>\n",
              "      <td>NaN</td>\n",
              "      <td>NaN</td>\n",
              "      <td>Somewhat useful</td>\n",
              "      <td>NaN</td>\n",
              "      <td>NaN</td>\n",
              "      <td>NaN</td>\n",
              "      <td>Somewhat useful</td>\n",
              "      <td>No Free Hunch Blog</td>\n",
              "      <td>1-2 years</td>\n",
              "      <td>Nice to have</td>\n",
              "      <td>Nice to have</td>\n",
              "      <td>Nice to have</td>\n",
              "      <td>Unnecessary</td>\n",
              "      <td>...</td>\n",
              "      <td>NaN</td>\n",
              "      <td>NaN</td>\n",
              "      <td>NaN</td>\n",
              "      <td>NaN</td>\n",
              "      <td>NaN</td>\n",
              "      <td>NaN</td>\n",
              "      <td>NaN</td>\n",
              "      <td>NaN</td>\n",
              "      <td>NaN</td>\n",
              "      <td>NaN</td>\n",
              "      <td>NaN</td>\n",
              "      <td>NaN</td>\n",
              "      <td>NaN</td>\n",
              "      <td>NaN</td>\n",
              "      <td>NaN</td>\n",
              "      <td>NaN</td>\n",
              "      <td>NaN</td>\n",
              "      <td>NaN</td>\n",
              "      <td>NaN</td>\n",
              "      <td>NaN</td>\n",
              "      <td>NaN</td>\n",
              "      <td>NaN</td>\n",
              "      <td>Tech-specific job board</td>\n",
              "      <td>3-5</td>\n",
              "      <td>Very Important</td>\n",
              "      <td>Somewhat important</td>\n",
              "      <td>Somewhat important</td>\n",
              "      <td>Not important</td>\n",
              "      <td>Somewhat important</td>\n",
              "      <td>Somewhat important</td>\n",
              "      <td>Somewhat important</td>\n",
              "      <td>Somewhat important</td>\n",
              "      <td>Not important</td>\n",
              "      <td>Somewhat important</td>\n",
              "      <td>Somewhat important</td>\n",
              "      <td>Not important</td>\n",
              "      <td>Not important</td>\n",
              "      <td>Somewhat important</td>\n",
              "      <td>Not important</td>\n",
              "      <td>Somewhat important</td>\n",
              "    </tr>\n",
              "    <tr>\n",
              "      <th>4080</th>\n",
              "      <td>Female</td>\n",
              "      <td>Taiwan</td>\n",
              "      <td>18.0</td>\n",
              "      <td>Not employed, and not looking for work</td>\n",
              "      <td>Yes</td>\n",
              "      <td>No, I am not focused on learning data science ...</td>\n",
              "      <td>NaN</td>\n",
              "      <td>NaN</td>\n",
              "      <td>NaN</td>\n",
              "      <td>NaN</td>\n",
              "      <td>NaN</td>\n",
              "      <td>NaN</td>\n",
              "      <td>NaN</td>\n",
              "      <td>NaN</td>\n",
              "      <td>NaN</td>\n",
              "      <td>NaN</td>\n",
              "      <td>NaN</td>\n",
              "      <td>NaN</td>\n",
              "      <td>NaN</td>\n",
              "      <td>NaN</td>\n",
              "      <td>NaN</td>\n",
              "      <td>NaN</td>\n",
              "      <td>NaN</td>\n",
              "      <td>NaN</td>\n",
              "      <td>NaN</td>\n",
              "      <td>NaN</td>\n",
              "      <td>NaN</td>\n",
              "      <td>NaN</td>\n",
              "      <td>NaN</td>\n",
              "      <td>NaN</td>\n",
              "      <td>NaN</td>\n",
              "      <td>NaN</td>\n",
              "      <td>NaN</td>\n",
              "      <td>NaN</td>\n",
              "      <td>NaN</td>\n",
              "      <td>NaN</td>\n",
              "      <td>NaN</td>\n",
              "      <td>NaN</td>\n",
              "      <td>NaN</td>\n",
              "      <td>NaN</td>\n",
              "      <td>...</td>\n",
              "      <td>NaN</td>\n",
              "      <td>NaN</td>\n",
              "      <td>NaN</td>\n",
              "      <td>NaN</td>\n",
              "      <td>NaN</td>\n",
              "      <td>NaN</td>\n",
              "      <td>NaN</td>\n",
              "      <td>NaN</td>\n",
              "      <td>NaN</td>\n",
              "      <td>NaN</td>\n",
              "      <td>NaN</td>\n",
              "      <td>NaN</td>\n",
              "      <td>NaN</td>\n",
              "      <td>NaN</td>\n",
              "      <td>NaN</td>\n",
              "      <td>NaN</td>\n",
              "      <td>NaN</td>\n",
              "      <td>NaN</td>\n",
              "      <td>NaN</td>\n",
              "      <td>NaN</td>\n",
              "      <td>NaN</td>\n",
              "      <td>NaN</td>\n",
              "      <td>NaN</td>\n",
              "      <td>NaN</td>\n",
              "      <td>NaN</td>\n",
              "      <td>NaN</td>\n",
              "      <td>NaN</td>\n",
              "      <td>NaN</td>\n",
              "      <td>NaN</td>\n",
              "      <td>NaN</td>\n",
              "      <td>NaN</td>\n",
              "      <td>NaN</td>\n",
              "      <td>NaN</td>\n",
              "      <td>NaN</td>\n",
              "      <td>NaN</td>\n",
              "      <td>NaN</td>\n",
              "      <td>NaN</td>\n",
              "      <td>NaN</td>\n",
              "      <td>NaN</td>\n",
              "      <td>NaN</td>\n",
              "    </tr>\n",
              "    <tr>\n",
              "      <th>4081</th>\n",
              "      <td>Male</td>\n",
              "      <td>United States</td>\n",
              "      <td>29.0</td>\n",
              "      <td>Employed full-time</td>\n",
              "      <td>NaN</td>\n",
              "      <td>NaN</td>\n",
              "      <td>Yes</td>\n",
              "      <td>NaN</td>\n",
              "      <td>Machine Learning Engineer</td>\n",
              "      <td>Fine</td>\n",
              "      <td>Employed by a company that performs advanced a...</td>\n",
              "      <td>Spark / MLlib</td>\n",
              "      <td>Deep learning</td>\n",
              "      <td>Python</td>\n",
              "      <td>University/Non-profit research group websites</td>\n",
              "      <td>Arxiv,College/University,Textbook,YouTube Videos</td>\n",
              "      <td>Somewhat useful</td>\n",
              "      <td>NaN</td>\n",
              "      <td>Somewhat useful</td>\n",
              "      <td>NaN</td>\n",
              "      <td>NaN</td>\n",
              "      <td>NaN</td>\n",
              "      <td>NaN</td>\n",
              "      <td>NaN</td>\n",
              "      <td>NaN</td>\n",
              "      <td>NaN</td>\n",
              "      <td>NaN</td>\n",
              "      <td>NaN</td>\n",
              "      <td>NaN</td>\n",
              "      <td>NaN</td>\n",
              "      <td>Somewhat useful</td>\n",
              "      <td>NaN</td>\n",
              "      <td>NaN</td>\n",
              "      <td>Very useful</td>\n",
              "      <td>Linear Digressions Podcast,The Data Skeptic Po...</td>\n",
              "      <td>NaN</td>\n",
              "      <td>NaN</td>\n",
              "      <td>NaN</td>\n",
              "      <td>NaN</td>\n",
              "      <td>NaN</td>\n",
              "      <td>...</td>\n",
              "      <td>NaN</td>\n",
              "      <td>NaN</td>\n",
              "      <td>NaN</td>\n",
              "      <td>NaN</td>\n",
              "      <td>NaN</td>\n",
              "      <td>NaN</td>\n",
              "      <td>NaN</td>\n",
              "      <td>NaN</td>\n",
              "      <td>NaN</td>\n",
              "      <td>NaN</td>\n",
              "      <td>NaN</td>\n",
              "      <td>NaN</td>\n",
              "      <td>NaN</td>\n",
              "      <td>NaN</td>\n",
              "      <td>NaN</td>\n",
              "      <td>NaN</td>\n",
              "      <td>NaN</td>\n",
              "      <td>NaN</td>\n",
              "      <td>NaN</td>\n",
              "      <td>NaN</td>\n",
              "      <td>NaN</td>\n",
              "      <td>NaN</td>\n",
              "      <td>NaN</td>\n",
              "      <td>NaN</td>\n",
              "      <td>NaN</td>\n",
              "      <td>NaN</td>\n",
              "      <td>NaN</td>\n",
              "      <td>NaN</td>\n",
              "      <td>NaN</td>\n",
              "      <td>NaN</td>\n",
              "      <td>NaN</td>\n",
              "      <td>NaN</td>\n",
              "      <td>NaN</td>\n",
              "      <td>NaN</td>\n",
              "      <td>NaN</td>\n",
              "      <td>NaN</td>\n",
              "      <td>NaN</td>\n",
              "      <td>NaN</td>\n",
              "      <td>NaN</td>\n",
              "      <td>NaN</td>\n",
              "    </tr>\n",
              "  </tbody>\n",
              "</table>\n",
              "<p>5 rows × 228 columns</p>\n",
              "</div>"
            ],
            "text/plain": [
              "     GenderSelect  ... JobFactorPublishingOpportunity\n",
              "4077         Male  ...                            NaN\n",
              "4078         Male  ...                            NaN\n",
              "4079         Male  ...             Somewhat important\n",
              "4080       Female  ...                            NaN\n",
              "4081         Male  ...                            NaN\n",
              "\n",
              "[5 rows x 228 columns]"
            ]
          },
          "metadata": {
            "tags": []
          },
          "execution_count": 7
        }
      ]
    },
    {
      "cell_type": "code",
      "metadata": {
        "id": "4pn59C4S-f30",
        "colab_type": "code",
        "colab": {
          "base_uri": "https://localhost:8080/",
          "height": 829
        },
        "outputId": "07b386fe-1b87-41fa-bfac-6a764cf8ac85"
      },
      "source": [
        "mcq.head(10)"
      ],
      "execution_count": 8,
      "outputs": [
        {
          "output_type": "execute_result",
          "data": {
            "text/html": [
              "<div>\n",
              "<style scoped>\n",
              "    .dataframe tbody tr th:only-of-type {\n",
              "        vertical-align: middle;\n",
              "    }\n",
              "\n",
              "    .dataframe tbody tr th {\n",
              "        vertical-align: top;\n",
              "    }\n",
              "\n",
              "    .dataframe thead th {\n",
              "        text-align: right;\n",
              "    }\n",
              "</style>\n",
              "<table border=\"1\" class=\"dataframe\">\n",
              "  <thead>\n",
              "    <tr style=\"text-align: right;\">\n",
              "      <th></th>\n",
              "      <th>GenderSelect</th>\n",
              "      <th>Country</th>\n",
              "      <th>Age</th>\n",
              "      <th>EmploymentStatus</th>\n",
              "      <th>StudentStatus</th>\n",
              "      <th>LearningDataScience</th>\n",
              "      <th>CodeWriter</th>\n",
              "      <th>CareerSwitcher</th>\n",
              "      <th>CurrentJobTitleSelect</th>\n",
              "      <th>TitleFit</th>\n",
              "      <th>CurrentEmployerType</th>\n",
              "      <th>MLToolNextYearSelect</th>\n",
              "      <th>MLMethodNextYearSelect</th>\n",
              "      <th>LanguageRecommendationSelect</th>\n",
              "      <th>PublicDatasetsSelect</th>\n",
              "      <th>LearningPlatformSelect</th>\n",
              "      <th>LearningPlatformUsefulnessArxiv</th>\n",
              "      <th>LearningPlatformUsefulnessBlogs</th>\n",
              "      <th>LearningPlatformUsefulnessCollege</th>\n",
              "      <th>LearningPlatformUsefulnessCompany</th>\n",
              "      <th>LearningPlatformUsefulnessConferences</th>\n",
              "      <th>LearningPlatformUsefulnessFriends</th>\n",
              "      <th>LearningPlatformUsefulnessKaggle</th>\n",
              "      <th>LearningPlatformUsefulnessNewsletters</th>\n",
              "      <th>LearningPlatformUsefulnessCommunities</th>\n",
              "      <th>LearningPlatformUsefulnessDocumentation</th>\n",
              "      <th>LearningPlatformUsefulnessCourses</th>\n",
              "      <th>LearningPlatformUsefulnessProjects</th>\n",
              "      <th>LearningPlatformUsefulnessPodcasts</th>\n",
              "      <th>LearningPlatformUsefulnessSO</th>\n",
              "      <th>LearningPlatformUsefulnessTextbook</th>\n",
              "      <th>LearningPlatformUsefulnessTradeBook</th>\n",
              "      <th>LearningPlatformUsefulnessTutoring</th>\n",
              "      <th>LearningPlatformUsefulnessYouTube</th>\n",
              "      <th>BlogsPodcastsNewslettersSelect</th>\n",
              "      <th>LearningDataScienceTime</th>\n",
              "      <th>JobSkillImportanceBigData</th>\n",
              "      <th>JobSkillImportanceDegree</th>\n",
              "      <th>JobSkillImportanceStats</th>\n",
              "      <th>JobSkillImportanceEnterpriseTools</th>\n",
              "      <th>...</th>\n",
              "      <th>WorkChallengeFrequencyITCoordination</th>\n",
              "      <th>WorkChallengeFrequencyHiringFunds</th>\n",
              "      <th>WorkChallengeFrequencyPrivacy</th>\n",
              "      <th>WorkChallengeFrequencyScaling</th>\n",
              "      <th>WorkChallengeFrequencyEnvironments</th>\n",
              "      <th>WorkChallengeFrequencyClarity</th>\n",
              "      <th>WorkChallengeFrequencyDataAccess</th>\n",
              "      <th>WorkChallengeFrequencyOtherSelect</th>\n",
              "      <th>WorkDataVisualizations</th>\n",
              "      <th>WorkInternalVsExternalTools</th>\n",
              "      <th>WorkMLTeamSeatSelect</th>\n",
              "      <th>WorkDatasets</th>\n",
              "      <th>WorkDatasetsChallenge</th>\n",
              "      <th>WorkDataStorage</th>\n",
              "      <th>WorkDataSharing</th>\n",
              "      <th>WorkDataSourcing</th>\n",
              "      <th>WorkCodeSharing</th>\n",
              "      <th>RemoteWork</th>\n",
              "      <th>CompensationAmount</th>\n",
              "      <th>CompensationCurrency</th>\n",
              "      <th>SalaryChange</th>\n",
              "      <th>JobSatisfaction</th>\n",
              "      <th>JobSearchResource</th>\n",
              "      <th>JobHuntTime</th>\n",
              "      <th>JobFactorLearning</th>\n",
              "      <th>JobFactorSalary</th>\n",
              "      <th>JobFactorOffice</th>\n",
              "      <th>JobFactorLanguages</th>\n",
              "      <th>JobFactorCommute</th>\n",
              "      <th>JobFactorManagement</th>\n",
              "      <th>JobFactorExperienceLevel</th>\n",
              "      <th>JobFactorDepartment</th>\n",
              "      <th>JobFactorTitle</th>\n",
              "      <th>JobFactorCompanyFunding</th>\n",
              "      <th>JobFactorImpact</th>\n",
              "      <th>JobFactorRemote</th>\n",
              "      <th>JobFactorIndustry</th>\n",
              "      <th>JobFactorLeaderReputation</th>\n",
              "      <th>JobFactorDiversity</th>\n",
              "      <th>JobFactorPublishingOpportunity</th>\n",
              "    </tr>\n",
              "  </thead>\n",
              "  <tbody>\n",
              "    <tr>\n",
              "      <th>0</th>\n",
              "      <td>Non-binary, genderqueer, or gender non-conforming</td>\n",
              "      <td>NaN</td>\n",
              "      <td>NaN</td>\n",
              "      <td>Employed full-time</td>\n",
              "      <td>NaN</td>\n",
              "      <td>NaN</td>\n",
              "      <td>Yes</td>\n",
              "      <td>NaN</td>\n",
              "      <td>DBA/Database Engineer</td>\n",
              "      <td>Fine</td>\n",
              "      <td>Employed by a company that doesn't perform adv...</td>\n",
              "      <td>SAS Base</td>\n",
              "      <td>Random Forests</td>\n",
              "      <td>F#</td>\n",
              "      <td>Dataset aggregator/platform (i.e. Socrata/Kagg...</td>\n",
              "      <td>College/University,Conferences,Podcasts,Trade ...</td>\n",
              "      <td>NaN</td>\n",
              "      <td>NaN</td>\n",
              "      <td>NaN</td>\n",
              "      <td>NaN</td>\n",
              "      <td>Very useful</td>\n",
              "      <td>NaN</td>\n",
              "      <td>NaN</td>\n",
              "      <td>NaN</td>\n",
              "      <td>NaN</td>\n",
              "      <td>NaN</td>\n",
              "      <td>NaN</td>\n",
              "      <td>NaN</td>\n",
              "      <td>Very useful</td>\n",
              "      <td>NaN</td>\n",
              "      <td>NaN</td>\n",
              "      <td>Somewhat useful</td>\n",
              "      <td>NaN</td>\n",
              "      <td>NaN</td>\n",
              "      <td>Becoming a Data Scientist Podcast,Data Machina...</td>\n",
              "      <td>NaN</td>\n",
              "      <td>NaN</td>\n",
              "      <td>NaN</td>\n",
              "      <td>NaN</td>\n",
              "      <td>NaN</td>\n",
              "      <td>...</td>\n",
              "      <td>NaN</td>\n",
              "      <td>NaN</td>\n",
              "      <td>Often</td>\n",
              "      <td>Most of the time</td>\n",
              "      <td>NaN</td>\n",
              "      <td>NaN</td>\n",
              "      <td>NaN</td>\n",
              "      <td>NaN</td>\n",
              "      <td>26-50% of projects</td>\n",
              "      <td>Do not know</td>\n",
              "      <td>Standalone Team</td>\n",
              "      <td>NaN</td>\n",
              "      <td>NaN</td>\n",
              "      <td>Document-oriented (e.g. MongoDB/Elasticsearch)...</td>\n",
              "      <td>Company Developed Platform,I don't typically s...</td>\n",
              "      <td>NaN</td>\n",
              "      <td>Mercurial,Subversion,Other</td>\n",
              "      <td>Always</td>\n",
              "      <td>NaN</td>\n",
              "      <td>NaN</td>\n",
              "      <td>I am not currently employed</td>\n",
              "      <td>5</td>\n",
              "      <td>NaN</td>\n",
              "      <td>NaN</td>\n",
              "      <td>NaN</td>\n",
              "      <td>NaN</td>\n",
              "      <td>NaN</td>\n",
              "      <td>NaN</td>\n",
              "      <td>NaN</td>\n",
              "      <td>NaN</td>\n",
              "      <td>NaN</td>\n",
              "      <td>NaN</td>\n",
              "      <td>NaN</td>\n",
              "      <td>NaN</td>\n",
              "      <td>NaN</td>\n",
              "      <td>NaN</td>\n",
              "      <td>NaN</td>\n",
              "      <td>NaN</td>\n",
              "      <td>NaN</td>\n",
              "      <td>NaN</td>\n",
              "    </tr>\n",
              "    <tr>\n",
              "      <th>1</th>\n",
              "      <td>Female</td>\n",
              "      <td>United States</td>\n",
              "      <td>30.0</td>\n",
              "      <td>Not employed, but looking for work</td>\n",
              "      <td>NaN</td>\n",
              "      <td>NaN</td>\n",
              "      <td>NaN</td>\n",
              "      <td>NaN</td>\n",
              "      <td>NaN</td>\n",
              "      <td>NaN</td>\n",
              "      <td>NaN</td>\n",
              "      <td>Python</td>\n",
              "      <td>Random Forests</td>\n",
              "      <td>Python</td>\n",
              "      <td>Dataset aggregator/platform (i.e. Socrata/Kagg...</td>\n",
              "      <td>Kaggle</td>\n",
              "      <td>NaN</td>\n",
              "      <td>NaN</td>\n",
              "      <td>NaN</td>\n",
              "      <td>NaN</td>\n",
              "      <td>NaN</td>\n",
              "      <td>NaN</td>\n",
              "      <td>Somewhat useful</td>\n",
              "      <td>NaN</td>\n",
              "      <td>NaN</td>\n",
              "      <td>NaN</td>\n",
              "      <td>NaN</td>\n",
              "      <td>NaN</td>\n",
              "      <td>NaN</td>\n",
              "      <td>NaN</td>\n",
              "      <td>NaN</td>\n",
              "      <td>NaN</td>\n",
              "      <td>NaN</td>\n",
              "      <td>NaN</td>\n",
              "      <td>Becoming a Data Scientist Podcast,Siraj Raval ...</td>\n",
              "      <td>1-2 years</td>\n",
              "      <td>NaN</td>\n",
              "      <td>Nice to have</td>\n",
              "      <td>Unnecessary</td>\n",
              "      <td>NaN</td>\n",
              "      <td>...</td>\n",
              "      <td>NaN</td>\n",
              "      <td>NaN</td>\n",
              "      <td>NaN</td>\n",
              "      <td>NaN</td>\n",
              "      <td>NaN</td>\n",
              "      <td>NaN</td>\n",
              "      <td>NaN</td>\n",
              "      <td>NaN</td>\n",
              "      <td>NaN</td>\n",
              "      <td>NaN</td>\n",
              "      <td>NaN</td>\n",
              "      <td>NaN</td>\n",
              "      <td>NaN</td>\n",
              "      <td>NaN</td>\n",
              "      <td>NaN</td>\n",
              "      <td>NaN</td>\n",
              "      <td>NaN</td>\n",
              "      <td>NaN</td>\n",
              "      <td>NaN</td>\n",
              "      <td>NaN</td>\n",
              "      <td>NaN</td>\n",
              "      <td>NaN</td>\n",
              "      <td>NaN</td>\n",
              "      <td>NaN</td>\n",
              "      <td>NaN</td>\n",
              "      <td>NaN</td>\n",
              "      <td>NaN</td>\n",
              "      <td>NaN</td>\n",
              "      <td>NaN</td>\n",
              "      <td>NaN</td>\n",
              "      <td>NaN</td>\n",
              "      <td>NaN</td>\n",
              "      <td>NaN</td>\n",
              "      <td>NaN</td>\n",
              "      <td>NaN</td>\n",
              "      <td>NaN</td>\n",
              "      <td>NaN</td>\n",
              "      <td>Somewhat important</td>\n",
              "      <td>NaN</td>\n",
              "      <td>NaN</td>\n",
              "    </tr>\n",
              "    <tr>\n",
              "      <th>2</th>\n",
              "      <td>Male</td>\n",
              "      <td>Canada</td>\n",
              "      <td>28.0</td>\n",
              "      <td>Not employed, but looking for work</td>\n",
              "      <td>NaN</td>\n",
              "      <td>NaN</td>\n",
              "      <td>NaN</td>\n",
              "      <td>NaN</td>\n",
              "      <td>NaN</td>\n",
              "      <td>NaN</td>\n",
              "      <td>NaN</td>\n",
              "      <td>Amazon Web services</td>\n",
              "      <td>Deep learning</td>\n",
              "      <td>R</td>\n",
              "      <td>Dataset aggregator/platform (i.e. Socrata/Kagg...</td>\n",
              "      <td>Arxiv,College/University,Kaggle,Online courses...</td>\n",
              "      <td>Very useful</td>\n",
              "      <td>NaN</td>\n",
              "      <td>Somewhat useful</td>\n",
              "      <td>NaN</td>\n",
              "      <td>NaN</td>\n",
              "      <td>NaN</td>\n",
              "      <td>Somewhat useful</td>\n",
              "      <td>NaN</td>\n",
              "      <td>NaN</td>\n",
              "      <td>NaN</td>\n",
              "      <td>Very useful</td>\n",
              "      <td>NaN</td>\n",
              "      <td>NaN</td>\n",
              "      <td>NaN</td>\n",
              "      <td>NaN</td>\n",
              "      <td>NaN</td>\n",
              "      <td>NaN</td>\n",
              "      <td>Very useful</td>\n",
              "      <td>FastML Blog,No Free Hunch Blog,Talking Machine...</td>\n",
              "      <td>1-2 years</td>\n",
              "      <td>Necessary</td>\n",
              "      <td>NaN</td>\n",
              "      <td>NaN</td>\n",
              "      <td>NaN</td>\n",
              "      <td>...</td>\n",
              "      <td>NaN</td>\n",
              "      <td>NaN</td>\n",
              "      <td>NaN</td>\n",
              "      <td>NaN</td>\n",
              "      <td>NaN</td>\n",
              "      <td>NaN</td>\n",
              "      <td>NaN</td>\n",
              "      <td>NaN</td>\n",
              "      <td>NaN</td>\n",
              "      <td>NaN</td>\n",
              "      <td>NaN</td>\n",
              "      <td>NaN</td>\n",
              "      <td>NaN</td>\n",
              "      <td>NaN</td>\n",
              "      <td>NaN</td>\n",
              "      <td>NaN</td>\n",
              "      <td>NaN</td>\n",
              "      <td>NaN</td>\n",
              "      <td>NaN</td>\n",
              "      <td>NaN</td>\n",
              "      <td>NaN</td>\n",
              "      <td>NaN</td>\n",
              "      <td>Asking friends, family members, or former coll...</td>\n",
              "      <td>1-2</td>\n",
              "      <td>Very Important</td>\n",
              "      <td>Very Important</td>\n",
              "      <td>Very Important</td>\n",
              "      <td>Very Important</td>\n",
              "      <td>Very Important</td>\n",
              "      <td>Very Important</td>\n",
              "      <td>Very Important</td>\n",
              "      <td>Very Important</td>\n",
              "      <td>Very Important</td>\n",
              "      <td>Very Important</td>\n",
              "      <td>Very Important</td>\n",
              "      <td>Very Important</td>\n",
              "      <td>Very Important</td>\n",
              "      <td>Very Important</td>\n",
              "      <td>Very Important</td>\n",
              "      <td>Very Important</td>\n",
              "    </tr>\n",
              "    <tr>\n",
              "      <th>3</th>\n",
              "      <td>Male</td>\n",
              "      <td>United States</td>\n",
              "      <td>56.0</td>\n",
              "      <td>Independent contractor, freelancer, or self-em...</td>\n",
              "      <td>NaN</td>\n",
              "      <td>NaN</td>\n",
              "      <td>Yes</td>\n",
              "      <td>NaN</td>\n",
              "      <td>Operations Research Practitioner</td>\n",
              "      <td>Poorly</td>\n",
              "      <td>Self-employed</td>\n",
              "      <td>TensorFlow</td>\n",
              "      <td>Neural Nets</td>\n",
              "      <td>Python</td>\n",
              "      <td>I collect my own data (e.g. web-scraping)</td>\n",
              "      <td>Blogs,College/University,Conferences,Friends n...</td>\n",
              "      <td>NaN</td>\n",
              "      <td>Very useful</td>\n",
              "      <td>Very useful</td>\n",
              "      <td>NaN</td>\n",
              "      <td>Very useful</td>\n",
              "      <td>Very useful</td>\n",
              "      <td>NaN</td>\n",
              "      <td>NaN</td>\n",
              "      <td>NaN</td>\n",
              "      <td>Very useful</td>\n",
              "      <td>Very useful</td>\n",
              "      <td>Very useful</td>\n",
              "      <td>NaN</td>\n",
              "      <td>NaN</td>\n",
              "      <td>NaN</td>\n",
              "      <td>NaN</td>\n",
              "      <td>NaN</td>\n",
              "      <td>NaN</td>\n",
              "      <td>KDnuggets Blog</td>\n",
              "      <td>NaN</td>\n",
              "      <td>NaN</td>\n",
              "      <td>NaN</td>\n",
              "      <td>NaN</td>\n",
              "      <td>NaN</td>\n",
              "      <td>...</td>\n",
              "      <td>NaN</td>\n",
              "      <td>Often</td>\n",
              "      <td>Often</td>\n",
              "      <td>Often</td>\n",
              "      <td>Often</td>\n",
              "      <td>Often</td>\n",
              "      <td>Often</td>\n",
              "      <td>NaN</td>\n",
              "      <td>100% of projects</td>\n",
              "      <td>Entirely internal</td>\n",
              "      <td>Standalone Team</td>\n",
              "      <td>Electricity data sets from government and states</td>\n",
              "      <td>Everything is custom, there is never a tool th...</td>\n",
              "      <td>Column-oriented relational (e.g. KDB/MariaDB),...</td>\n",
              "      <td>Company Developed Platform,Email</td>\n",
              "      <td>NaN</td>\n",
              "      <td>Generic cloud file sharing software (Dropbox/B...</td>\n",
              "      <td>NaN</td>\n",
              "      <td>250,000</td>\n",
              "      <td>USD</td>\n",
              "      <td>Has increased 20% or more</td>\n",
              "      <td>10 - Highly Satisfied</td>\n",
              "      <td>NaN</td>\n",
              "      <td>NaN</td>\n",
              "      <td>NaN</td>\n",
              "      <td>NaN</td>\n",
              "      <td>NaN</td>\n",
              "      <td>NaN</td>\n",
              "      <td>NaN</td>\n",
              "      <td>NaN</td>\n",
              "      <td>NaN</td>\n",
              "      <td>NaN</td>\n",
              "      <td>NaN</td>\n",
              "      <td>NaN</td>\n",
              "      <td>NaN</td>\n",
              "      <td>NaN</td>\n",
              "      <td>NaN</td>\n",
              "      <td>NaN</td>\n",
              "      <td>NaN</td>\n",
              "      <td>NaN</td>\n",
              "    </tr>\n",
              "    <tr>\n",
              "      <th>4</th>\n",
              "      <td>Male</td>\n",
              "      <td>Taiwan</td>\n",
              "      <td>38.0</td>\n",
              "      <td>Employed full-time</td>\n",
              "      <td>NaN</td>\n",
              "      <td>NaN</td>\n",
              "      <td>Yes</td>\n",
              "      <td>NaN</td>\n",
              "      <td>Computer Scientist</td>\n",
              "      <td>Fine</td>\n",
              "      <td>Employed by a company that doesn't perform adv...</td>\n",
              "      <td>TensorFlow</td>\n",
              "      <td>Text Mining</td>\n",
              "      <td>Python</td>\n",
              "      <td>GitHub</td>\n",
              "      <td>Arxiv,Conferences,Kaggle,Textbook</td>\n",
              "      <td>Very useful</td>\n",
              "      <td>NaN</td>\n",
              "      <td>NaN</td>\n",
              "      <td>NaN</td>\n",
              "      <td>Somewhat useful</td>\n",
              "      <td>NaN</td>\n",
              "      <td>Somewhat useful</td>\n",
              "      <td>NaN</td>\n",
              "      <td>NaN</td>\n",
              "      <td>NaN</td>\n",
              "      <td>NaN</td>\n",
              "      <td>NaN</td>\n",
              "      <td>NaN</td>\n",
              "      <td>NaN</td>\n",
              "      <td>Somewhat useful</td>\n",
              "      <td>NaN</td>\n",
              "      <td>NaN</td>\n",
              "      <td>NaN</td>\n",
              "      <td>Data Machina Newsletter,Jack's Import AI Newsl...</td>\n",
              "      <td>NaN</td>\n",
              "      <td>NaN</td>\n",
              "      <td>NaN</td>\n",
              "      <td>NaN</td>\n",
              "      <td>NaN</td>\n",
              "      <td>...</td>\n",
              "      <td>Sometimes</td>\n",
              "      <td>NaN</td>\n",
              "      <td>Most of the time</td>\n",
              "      <td>NaN</td>\n",
              "      <td>Sometimes</td>\n",
              "      <td>NaN</td>\n",
              "      <td>NaN</td>\n",
              "      <td>NaN</td>\n",
              "      <td>10-25% of projects</td>\n",
              "      <td>Approximately half internal and half external</td>\n",
              "      <td>Business Department</td>\n",
              "      <td>NaN</td>\n",
              "      <td>NaN</td>\n",
              "      <td>Flat files not in a database or cache (e.g. CS...</td>\n",
              "      <td>Company Developed Platform</td>\n",
              "      <td>NaN</td>\n",
              "      <td>Git</td>\n",
              "      <td>Rarely</td>\n",
              "      <td>NaN</td>\n",
              "      <td>NaN</td>\n",
              "      <td>I do not want to share information about my sa...</td>\n",
              "      <td>2</td>\n",
              "      <td>NaN</td>\n",
              "      <td>NaN</td>\n",
              "      <td>NaN</td>\n",
              "      <td>NaN</td>\n",
              "      <td>NaN</td>\n",
              "      <td>NaN</td>\n",
              "      <td>NaN</td>\n",
              "      <td>NaN</td>\n",
              "      <td>NaN</td>\n",
              "      <td>NaN</td>\n",
              "      <td>NaN</td>\n",
              "      <td>NaN</td>\n",
              "      <td>NaN</td>\n",
              "      <td>NaN</td>\n",
              "      <td>NaN</td>\n",
              "      <td>NaN</td>\n",
              "      <td>NaN</td>\n",
              "      <td>NaN</td>\n",
              "    </tr>\n",
              "    <tr>\n",
              "      <th>5</th>\n",
              "      <td>Male</td>\n",
              "      <td>Brazil</td>\n",
              "      <td>46.0</td>\n",
              "      <td>Employed full-time</td>\n",
              "      <td>NaN</td>\n",
              "      <td>NaN</td>\n",
              "      <td>Yes</td>\n",
              "      <td>NaN</td>\n",
              "      <td>Data Scientist</td>\n",
              "      <td>Fine</td>\n",
              "      <td>Employed by college or university</td>\n",
              "      <td>TensorFlow</td>\n",
              "      <td>Genetic &amp; Evolutionary Algorithms</td>\n",
              "      <td>Python</td>\n",
              "      <td>Dataset aggregator/platform (i.e. Socrata/Kagg...</td>\n",
              "      <td>Kaggle,Online courses,Stack Overflow Q&amp;A,Textbook</td>\n",
              "      <td>NaN</td>\n",
              "      <td>NaN</td>\n",
              "      <td>NaN</td>\n",
              "      <td>NaN</td>\n",
              "      <td>NaN</td>\n",
              "      <td>NaN</td>\n",
              "      <td>Very useful</td>\n",
              "      <td>NaN</td>\n",
              "      <td>NaN</td>\n",
              "      <td>NaN</td>\n",
              "      <td>Very useful</td>\n",
              "      <td>NaN</td>\n",
              "      <td>NaN</td>\n",
              "      <td>Very useful</td>\n",
              "      <td>Very useful</td>\n",
              "      <td>NaN</td>\n",
              "      <td>NaN</td>\n",
              "      <td>NaN</td>\n",
              "      <td>Other (Separate different answers with semicolon)</td>\n",
              "      <td>NaN</td>\n",
              "      <td>NaN</td>\n",
              "      <td>NaN</td>\n",
              "      <td>NaN</td>\n",
              "      <td>NaN</td>\n",
              "      <td>...</td>\n",
              "      <td>NaN</td>\n",
              "      <td>NaN</td>\n",
              "      <td>NaN</td>\n",
              "      <td>NaN</td>\n",
              "      <td>NaN</td>\n",
              "      <td>NaN</td>\n",
              "      <td>NaN</td>\n",
              "      <td>NaN</td>\n",
              "      <td>76-99% of projects</td>\n",
              "      <td>More internal than external</td>\n",
              "      <td>Other</td>\n",
              "      <td>NaN</td>\n",
              "      <td>NaN</td>\n",
              "      <td>Column-oriented relational (e.g. KDB/MariaDB),...</td>\n",
              "      <td>I don't typically share data</td>\n",
              "      <td>NaN</td>\n",
              "      <td>Bitbucket,Git,Other</td>\n",
              "      <td>Sometimes</td>\n",
              "      <td>NaN</td>\n",
              "      <td>NaN</td>\n",
              "      <td>I do not want to share information about my sa...</td>\n",
              "      <td>8</td>\n",
              "      <td>NaN</td>\n",
              "      <td>NaN</td>\n",
              "      <td>NaN</td>\n",
              "      <td>NaN</td>\n",
              "      <td>NaN</td>\n",
              "      <td>NaN</td>\n",
              "      <td>NaN</td>\n",
              "      <td>NaN</td>\n",
              "      <td>NaN</td>\n",
              "      <td>NaN</td>\n",
              "      <td>NaN</td>\n",
              "      <td>NaN</td>\n",
              "      <td>NaN</td>\n",
              "      <td>NaN</td>\n",
              "      <td>NaN</td>\n",
              "      <td>NaN</td>\n",
              "      <td>NaN</td>\n",
              "      <td>NaN</td>\n",
              "    </tr>\n",
              "    <tr>\n",
              "      <th>6</th>\n",
              "      <td>Male</td>\n",
              "      <td>United States</td>\n",
              "      <td>35.0</td>\n",
              "      <td>Employed full-time</td>\n",
              "      <td>NaN</td>\n",
              "      <td>NaN</td>\n",
              "      <td>Yes</td>\n",
              "      <td>NaN</td>\n",
              "      <td>Computer Scientist</td>\n",
              "      <td>Fine</td>\n",
              "      <td>Employed by government</td>\n",
              "      <td>TensorFlow</td>\n",
              "      <td>Text Mining</td>\n",
              "      <td>R</td>\n",
              "      <td>Dataset aggregator/platform (i.e. Socrata/Kagg...</td>\n",
              "      <td>Arxiv,Blogs,Kaggle,Personal Projects,Textbook</td>\n",
              "      <td>Somewhat useful</td>\n",
              "      <td>Somewhat useful</td>\n",
              "      <td>NaN</td>\n",
              "      <td>NaN</td>\n",
              "      <td>NaN</td>\n",
              "      <td>NaN</td>\n",
              "      <td>Somewhat useful</td>\n",
              "      <td>NaN</td>\n",
              "      <td>NaN</td>\n",
              "      <td>NaN</td>\n",
              "      <td>NaN</td>\n",
              "      <td>Somewhat useful</td>\n",
              "      <td>NaN</td>\n",
              "      <td>NaN</td>\n",
              "      <td>Very useful</td>\n",
              "      <td>NaN</td>\n",
              "      <td>NaN</td>\n",
              "      <td>NaN</td>\n",
              "      <td>NaN</td>\n",
              "      <td>NaN</td>\n",
              "      <td>NaN</td>\n",
              "      <td>NaN</td>\n",
              "      <td>NaN</td>\n",
              "      <td>NaN</td>\n",
              "      <td>...</td>\n",
              "      <td>NaN</td>\n",
              "      <td>NaN</td>\n",
              "      <td>NaN</td>\n",
              "      <td>NaN</td>\n",
              "      <td>NaN</td>\n",
              "      <td>NaN</td>\n",
              "      <td>NaN</td>\n",
              "      <td>NaN</td>\n",
              "      <td>26-50% of projects</td>\n",
              "      <td>Entirely internal</td>\n",
              "      <td>IT Department</td>\n",
              "      <td>NaN</td>\n",
              "      <td>NaN</td>\n",
              "      <td>Flat files not in a database or cache (e.g. CS...</td>\n",
              "      <td>Company Developed Platform,Email</td>\n",
              "      <td>NaN</td>\n",
              "      <td>Bitbucket,Git</td>\n",
              "      <td>NaN</td>\n",
              "      <td>NaN</td>\n",
              "      <td>NaN</td>\n",
              "      <td>NaN</td>\n",
              "      <td>8</td>\n",
              "      <td>NaN</td>\n",
              "      <td>NaN</td>\n",
              "      <td>NaN</td>\n",
              "      <td>NaN</td>\n",
              "      <td>NaN</td>\n",
              "      <td>NaN</td>\n",
              "      <td>NaN</td>\n",
              "      <td>NaN</td>\n",
              "      <td>NaN</td>\n",
              "      <td>NaN</td>\n",
              "      <td>NaN</td>\n",
              "      <td>NaN</td>\n",
              "      <td>NaN</td>\n",
              "      <td>NaN</td>\n",
              "      <td>NaN</td>\n",
              "      <td>NaN</td>\n",
              "      <td>NaN</td>\n",
              "      <td>NaN</td>\n",
              "    </tr>\n",
              "    <tr>\n",
              "      <th>7</th>\n",
              "      <td>Female</td>\n",
              "      <td>India</td>\n",
              "      <td>22.0</td>\n",
              "      <td>Employed full-time</td>\n",
              "      <td>NaN</td>\n",
              "      <td>NaN</td>\n",
              "      <td>No</td>\n",
              "      <td>Yes</td>\n",
              "      <td>Software Developer/Software Engineer</td>\n",
              "      <td>Fine</td>\n",
              "      <td>Employed by professional services/consulting firm</td>\n",
              "      <td>Google Cloud Compute</td>\n",
              "      <td>Deep learning</td>\n",
              "      <td>SQL</td>\n",
              "      <td>Dataset aggregator/platform (i.e. Socrata/Kagg...</td>\n",
              "      <td>College/University,Kaggle,Online courses,Stack...</td>\n",
              "      <td>NaN</td>\n",
              "      <td>NaN</td>\n",
              "      <td>Very useful</td>\n",
              "      <td>NaN</td>\n",
              "      <td>NaN</td>\n",
              "      <td>NaN</td>\n",
              "      <td>Very useful</td>\n",
              "      <td>NaN</td>\n",
              "      <td>NaN</td>\n",
              "      <td>NaN</td>\n",
              "      <td>Very useful</td>\n",
              "      <td>NaN</td>\n",
              "      <td>NaN</td>\n",
              "      <td>Very useful</td>\n",
              "      <td>NaN</td>\n",
              "      <td>NaN</td>\n",
              "      <td>NaN</td>\n",
              "      <td>Very useful</td>\n",
              "      <td>Becoming a Data Scientist Podcast,Siraj Raval ...</td>\n",
              "      <td>1-2 years</td>\n",
              "      <td>Necessary</td>\n",
              "      <td>Nice to have</td>\n",
              "      <td>Nice to have</td>\n",
              "      <td>Nice to have</td>\n",
              "      <td>...</td>\n",
              "      <td>NaN</td>\n",
              "      <td>NaN</td>\n",
              "      <td>NaN</td>\n",
              "      <td>NaN</td>\n",
              "      <td>NaN</td>\n",
              "      <td>NaN</td>\n",
              "      <td>NaN</td>\n",
              "      <td>NaN</td>\n",
              "      <td>NaN</td>\n",
              "      <td>NaN</td>\n",
              "      <td>NaN</td>\n",
              "      <td>NaN</td>\n",
              "      <td>NaN</td>\n",
              "      <td>NaN</td>\n",
              "      <td>NaN</td>\n",
              "      <td>NaN</td>\n",
              "      <td>NaN</td>\n",
              "      <td>NaN</td>\n",
              "      <td>NaN</td>\n",
              "      <td>NaN</td>\n",
              "      <td>NaN</td>\n",
              "      <td>NaN</td>\n",
              "      <td>Career fair or on-campus recruiting event</td>\n",
              "      <td>1-2</td>\n",
              "      <td>Very Important</td>\n",
              "      <td>Very Important</td>\n",
              "      <td>Very Important</td>\n",
              "      <td>Very Important</td>\n",
              "      <td>Very Important</td>\n",
              "      <td>Very Important</td>\n",
              "      <td>Very Important</td>\n",
              "      <td>Somewhat important</td>\n",
              "      <td>Very Important</td>\n",
              "      <td>Somewhat important</td>\n",
              "      <td>Somewhat important</td>\n",
              "      <td>Not important</td>\n",
              "      <td>Very Important</td>\n",
              "      <td>Very Important</td>\n",
              "      <td>Somewhat important</td>\n",
              "      <td>Somewhat important</td>\n",
              "    </tr>\n",
              "    <tr>\n",
              "      <th>8</th>\n",
              "      <td>Female</td>\n",
              "      <td>Australia</td>\n",
              "      <td>43.0</td>\n",
              "      <td>Employed full-time</td>\n",
              "      <td>NaN</td>\n",
              "      <td>NaN</td>\n",
              "      <td>Yes</td>\n",
              "      <td>NaN</td>\n",
              "      <td>Business Analyst</td>\n",
              "      <td>Fine</td>\n",
              "      <td>Employed by non-profit or NGO</td>\n",
              "      <td>Microsoft Excel Data Mining</td>\n",
              "      <td>Link Analysis</td>\n",
              "      <td>Python</td>\n",
              "      <td>University/Non-profit research group websites</td>\n",
              "      <td>Blogs,Company internal community,Conferences,F...</td>\n",
              "      <td>NaN</td>\n",
              "      <td>Very useful</td>\n",
              "      <td>NaN</td>\n",
              "      <td>Very useful</td>\n",
              "      <td>Very useful</td>\n",
              "      <td>Very useful</td>\n",
              "      <td>Very useful</td>\n",
              "      <td>Very useful</td>\n",
              "      <td>Very useful</td>\n",
              "      <td>NaN</td>\n",
              "      <td>Very useful</td>\n",
              "      <td>NaN</td>\n",
              "      <td>NaN</td>\n",
              "      <td>NaN</td>\n",
              "      <td>NaN</td>\n",
              "      <td>NaN</td>\n",
              "      <td>NaN</td>\n",
              "      <td>Very useful</td>\n",
              "      <td>Becoming a Data Scientist Podcast,Data Elixir ...</td>\n",
              "      <td>NaN</td>\n",
              "      <td>NaN</td>\n",
              "      <td>NaN</td>\n",
              "      <td>NaN</td>\n",
              "      <td>NaN</td>\n",
              "      <td>...</td>\n",
              "      <td>NaN</td>\n",
              "      <td>NaN</td>\n",
              "      <td>NaN</td>\n",
              "      <td>NaN</td>\n",
              "      <td>NaN</td>\n",
              "      <td>NaN</td>\n",
              "      <td>NaN</td>\n",
              "      <td>NaN</td>\n",
              "      <td>Less than 10% of projects</td>\n",
              "      <td>Entirely internal</td>\n",
              "      <td>IT Department</td>\n",
              "      <td>NaN</td>\n",
              "      <td>NaN</td>\n",
              "      <td>Row-oriented relational (e.g. MySQL/Microsoft ...</td>\n",
              "      <td>I don't typically share data,Share Drive/Share...</td>\n",
              "      <td>NaN</td>\n",
              "      <td>Generic non-cloud file sharing software (Email...</td>\n",
              "      <td>Rarely</td>\n",
              "      <td>80000</td>\n",
              "      <td>AUD</td>\n",
              "      <td>Has stayed about the same (has not increased o...</td>\n",
              "      <td>7</td>\n",
              "      <td>NaN</td>\n",
              "      <td>NaN</td>\n",
              "      <td>NaN</td>\n",
              "      <td>NaN</td>\n",
              "      <td>NaN</td>\n",
              "      <td>NaN</td>\n",
              "      <td>NaN</td>\n",
              "      <td>NaN</td>\n",
              "      <td>NaN</td>\n",
              "      <td>NaN</td>\n",
              "      <td>NaN</td>\n",
              "      <td>NaN</td>\n",
              "      <td>NaN</td>\n",
              "      <td>NaN</td>\n",
              "      <td>NaN</td>\n",
              "      <td>NaN</td>\n",
              "      <td>NaN</td>\n",
              "      <td>NaN</td>\n",
              "    </tr>\n",
              "    <tr>\n",
              "      <th>9</th>\n",
              "      <td>Male</td>\n",
              "      <td>Russia</td>\n",
              "      <td>33.0</td>\n",
              "      <td>Employed full-time</td>\n",
              "      <td>NaN</td>\n",
              "      <td>NaN</td>\n",
              "      <td>Yes</td>\n",
              "      <td>NaN</td>\n",
              "      <td>Software Developer/Software Engineer</td>\n",
              "      <td>Fine</td>\n",
              "      <td>Employed by a company that doesn't perform adv...</td>\n",
              "      <td>C/C++</td>\n",
              "      <td>Deep learning</td>\n",
              "      <td>Python</td>\n",
              "      <td>Dataset aggregator/platform (i.e. Socrata/Kagg...</td>\n",
              "      <td>Arxiv,Blogs,Conferences,Kaggle,Non-Kaggle onli...</td>\n",
              "      <td>Somewhat useful</td>\n",
              "      <td>Somewhat useful</td>\n",
              "      <td>NaN</td>\n",
              "      <td>NaN</td>\n",
              "      <td>Somewhat useful</td>\n",
              "      <td>NaN</td>\n",
              "      <td>Somewhat useful</td>\n",
              "      <td>NaN</td>\n",
              "      <td>Somewhat useful</td>\n",
              "      <td>Very useful</td>\n",
              "      <td>Very useful</td>\n",
              "      <td>Very useful</td>\n",
              "      <td>Somewhat useful</td>\n",
              "      <td>Somewhat useful</td>\n",
              "      <td>Very useful</td>\n",
              "      <td>NaN</td>\n",
              "      <td>NaN</td>\n",
              "      <td>Somewhat useful</td>\n",
              "      <td>DataTau News Aggregator,KDnuggets Blog,No Free...</td>\n",
              "      <td>NaN</td>\n",
              "      <td>NaN</td>\n",
              "      <td>NaN</td>\n",
              "      <td>NaN</td>\n",
              "      <td>NaN</td>\n",
              "      <td>...</td>\n",
              "      <td>NaN</td>\n",
              "      <td>Sometimes</td>\n",
              "      <td>Rarely</td>\n",
              "      <td>Rarely</td>\n",
              "      <td>NaN</td>\n",
              "      <td>NaN</td>\n",
              "      <td>NaN</td>\n",
              "      <td>NaN</td>\n",
              "      <td>Less than 10% of projects</td>\n",
              "      <td>Do not know</td>\n",
              "      <td>IT Department</td>\n",
              "      <td>Address database; geo data</td>\n",
              "      <td>NaN</td>\n",
              "      <td>Document-oriented (e.g. MongoDB/Elasticsearch)...</td>\n",
              "      <td>I don't typically share data</td>\n",
              "      <td>NaN</td>\n",
              "      <td>Bitbucket,Git</td>\n",
              "      <td>Rarely</td>\n",
              "      <td>1200000</td>\n",
              "      <td>RUB</td>\n",
              "      <td>Has increased between 6% and 19%</td>\n",
              "      <td>7</td>\n",
              "      <td>NaN</td>\n",
              "      <td>NaN</td>\n",
              "      <td>NaN</td>\n",
              "      <td>NaN</td>\n",
              "      <td>NaN</td>\n",
              "      <td>NaN</td>\n",
              "      <td>NaN</td>\n",
              "      <td>NaN</td>\n",
              "      <td>NaN</td>\n",
              "      <td>NaN</td>\n",
              "      <td>NaN</td>\n",
              "      <td>NaN</td>\n",
              "      <td>NaN</td>\n",
              "      <td>NaN</td>\n",
              "      <td>NaN</td>\n",
              "      <td>NaN</td>\n",
              "      <td>NaN</td>\n",
              "      <td>NaN</td>\n",
              "    </tr>\n",
              "  </tbody>\n",
              "</table>\n",
              "<p>10 rows × 228 columns</p>\n",
              "</div>"
            ],
            "text/plain": [
              "                                        GenderSelect  ... JobFactorPublishingOpportunity\n",
              "0  Non-binary, genderqueer, or gender non-conforming  ...                            NaN\n",
              "1                                             Female  ...                            NaN\n",
              "2                                               Male  ...                 Very Important\n",
              "3                                               Male  ...                            NaN\n",
              "4                                               Male  ...                            NaN\n",
              "5                                               Male  ...                            NaN\n",
              "6                                               Male  ...                            NaN\n",
              "7                                             Female  ...             Somewhat important\n",
              "8                                             Female  ...                            NaN\n",
              "9                                               Male  ...                            NaN\n",
              "\n",
              "[10 rows x 228 columns]"
            ]
          },
          "metadata": {
            "tags": []
          },
          "execution_count": 8
        }
      ]
    },
    {
      "cell_type": "code",
      "metadata": {
        "id": "en1csb-x-oNL",
        "colab_type": "code",
        "colab": {
          "base_uri": "https://localhost:8080/",
          "height": 293
        },
        "outputId": "c2166ae0-fee3-4957-f66d-cbb078627c90"
      },
      "source": [
        "# missingno는 NaN 데이터들에 대해 시각화를 해준다.\n",
        "# NaN 데이터의 컬링이 많아 아래 그래프만으로는 내용을 파악하기 어렵다.\n",
        "import missingno as msno\n",
        "\n",
        "msno.matrix(mcq, figsize=(12,5))"
      ],
      "execution_count": 9,
      "outputs": [
        {
          "output_type": "execute_result",
          "data": {
            "text/plain": [
              "<matplotlib.axes._subplots.AxesSubplot at 0x7f48e0c8dd30>"
            ]
          },
          "metadata": {
            "tags": []
          },
          "execution_count": 9
        },
        {
          "output_type": "display_data",
          "data": {
            "image/png": "[encoded data removed]",
            "text/plain": [
              "<Figure size 864x360 with 2 Axes>"
            ]
          },
          "metadata": {
            "tags": [],
            "needs_background": "light"
          }
        }
      ]
    },
    {
      "cell_type": "markdown",
      "metadata": {
        "id": "MdbdwdzfGTFz",
        "colab_type": "text"
      },
      "source": [
        "  - 16,716명의 데이터와 228개의 선다형 객관식문제와 62개의 주관식 질문에 대한 응답이다. (총 290개의 질문) 응답하지 않은 질문이 많음"
      ]
    },
    {
      "cell_type": "markdown",
      "metadata": {
        "id": "R7EX2fsQGc76",
        "colab_type": "text"
      },
      "source": [
        "## **설문 통계**"
      ]
    },
    {
      "cell_type": "code",
      "metadata": {
        "id": "NXnGGtw_GECg",
        "colab_type": "code",
        "colab": {
          "base_uri": "https://localhost:8080/",
          "height": 297
        },
        "outputId": "289ab47e-0bca-4296-d29c-1036b82963ce"
      },
      "source": [
        "# 성별\n",
        "# seaborn의 countplot을 사용하면 그래프를 쉽게 볼 수 있음\n",
        "sns.countplot(y='GenderSelect', data=mcq)"
      ],
      "execution_count": 10,
      "outputs": [
        {
          "output_type": "execute_result",
          "data": {
            "text/plain": [
              "<matplotlib.axes._subplots.AxesSubplot at 0x7f48de142710>"
            ]
          },
          "metadata": {
            "tags": []
          },
          "execution_count": 10
        },
        {
          "output_type": "display_data",
          "data": {
            "image/png": "[encoded data removed]",
            "text/plain": [
              "<Figure size 432x288 with 1 Axes>"
            ]
          },
          "metadata": {
            "tags": [],
            "needs_background": "light"
          }
        }
      ]
    },
    {
      "cell_type": "markdown",
      "metadata": {
        "id": "5hUB2bZaGx8D",
        "colab_type": "text"
      },
      "source": [
        "여성보다는 남성의 비율이 훨씬 높은 편이다."
      ]
    },
    {
      "cell_type": "code",
      "metadata": {
        "id": "tQ0JFSj8GkHZ",
        "colab_type": "code",
        "colab": {
          "base_uri": "https://localhost:8080/",
          "height": 639
        },
        "outputId": "3f96f93c-8aea-4fa5-98c1-aba14f34e8a5"
      },
      "source": [
        "# 국가별 응답수\n",
        "# value_counts(): 어떤 컬럼/Series의 unique value들을 count해주는 함수\n",
        "con_df = pd.DataFrame(mcq['Country'].value_counts())\n",
        "# print(con_df)\n",
        "# 'country' 컬럼을 인덱스로 지정해 주고\n",
        "con_df['국가'] = con_df.index\n",
        "# 컬럼의 순서대로 응답 수, 국가로 컬럼명을 지정해 줌\n",
        "con_df.columns = ['응답 수', '국가']\n",
        "# index 컬럼을 삭제하고 순위를 알기 위해 reset_index()를 해준다.\n",
        "# 우리나라는 18위 이고 전체 52개국에서 참여했지만 20위까지만 본다.\n",
        "con_df = con_df.reset_index().drop('index', axis=1)\n",
        "con_df.head(20)"
      ],
      "execution_count": 11,
      "outputs": [
        {
          "output_type": "execute_result",
          "data": {
            "text/html": [
              "<div>\n",
              "<style scoped>\n",
              "    .dataframe tbody tr th:only-of-type {\n",
              "        vertical-align: middle;\n",
              "    }\n",
              "\n",
              "    .dataframe tbody tr th {\n",
              "        vertical-align: top;\n",
              "    }\n",
              "\n",
              "    .dataframe thead th {\n",
              "        text-align: right;\n",
              "    }\n",
              "</style>\n",
              "<table border=\"1\" class=\"dataframe\">\n",
              "  <thead>\n",
              "    <tr style=\"text-align: right;\">\n",
              "      <th></th>\n",
              "      <th>응답 수</th>\n",
              "      <th>국가</th>\n",
              "    </tr>\n",
              "  </thead>\n",
              "  <tbody>\n",
              "    <tr>\n",
              "      <th>0</th>\n",
              "      <td>926</td>\n",
              "      <td>United States</td>\n",
              "    </tr>\n",
              "    <tr>\n",
              "      <th>1</th>\n",
              "      <td>709</td>\n",
              "      <td>India</td>\n",
              "    </tr>\n",
              "    <tr>\n",
              "      <th>2</th>\n",
              "      <td>225</td>\n",
              "      <td>Other</td>\n",
              "    </tr>\n",
              "    <tr>\n",
              "      <th>3</th>\n",
              "      <td>165</td>\n",
              "      <td>Russia</td>\n",
              "    </tr>\n",
              "    <tr>\n",
              "      <th>4</th>\n",
              "      <td>145</td>\n",
              "      <td>United Kingdom</td>\n",
              "    </tr>\n",
              "    <tr>\n",
              "      <th>5</th>\n",
              "      <td>130</td>\n",
              "      <td>Germany</td>\n",
              "    </tr>\n",
              "    <tr>\n",
              "      <th>6</th>\n",
              "      <td>124</td>\n",
              "      <td>France</td>\n",
              "    </tr>\n",
              "    <tr>\n",
              "      <th>7</th>\n",
              "      <td>115</td>\n",
              "      <td>Australia</td>\n",
              "    </tr>\n",
              "    <tr>\n",
              "      <th>8</th>\n",
              "      <td>102</td>\n",
              "      <td>Brazil</td>\n",
              "    </tr>\n",
              "    <tr>\n",
              "      <th>9</th>\n",
              "      <td>95</td>\n",
              "      <td>People 's Republic of China</td>\n",
              "    </tr>\n",
              "    <tr>\n",
              "      <th>10</th>\n",
              "      <td>92</td>\n",
              "      <td>Canada</td>\n",
              "    </tr>\n",
              "    <tr>\n",
              "      <th>11</th>\n",
              "      <td>76</td>\n",
              "      <td>Spain</td>\n",
              "    </tr>\n",
              "    <tr>\n",
              "      <th>12</th>\n",
              "      <td>74</td>\n",
              "      <td>Taiwan</td>\n",
              "    </tr>\n",
              "    <tr>\n",
              "      <th>13</th>\n",
              "      <td>67</td>\n",
              "      <td>Italy</td>\n",
              "    </tr>\n",
              "    <tr>\n",
              "      <th>14</th>\n",
              "      <td>66</td>\n",
              "      <td>Japan</td>\n",
              "    </tr>\n",
              "    <tr>\n",
              "      <th>15</th>\n",
              "      <td>62</td>\n",
              "      <td>Netherlands</td>\n",
              "    </tr>\n",
              "    <tr>\n",
              "      <th>16</th>\n",
              "      <td>57</td>\n",
              "      <td>Ukraine</td>\n",
              "    </tr>\n",
              "    <tr>\n",
              "      <th>17</th>\n",
              "      <td>54</td>\n",
              "      <td>Singapore</td>\n",
              "    </tr>\n",
              "    <tr>\n",
              "      <th>18</th>\n",
              "      <td>47</td>\n",
              "      <td>Poland</td>\n",
              "    </tr>\n",
              "    <tr>\n",
              "      <th>19</th>\n",
              "      <td>45</td>\n",
              "      <td>South Korea</td>\n",
              "    </tr>\n",
              "  </tbody>\n",
              "</table>\n",
              "</div>"
            ],
            "text/plain": [
              "    응답 수                           국가\n",
              "0    926                United States\n",
              "1    709                        India\n",
              "2    225                        Other\n",
              "3    165                       Russia\n",
              "4    145               United Kingdom\n",
              "5    130                      Germany\n",
              "6    124                       France\n",
              "7    115                    Australia\n",
              "8    102                       Brazil\n",
              "9     95  People 's Republic of China\n",
              "10    92                       Canada\n",
              "11    76                        Spain\n",
              "12    74                       Taiwan\n",
              "13    67                        Italy\n",
              "14    66                        Japan\n",
              "15    62                  Netherlands\n",
              "16    57                      Ukraine\n",
              "17    54                    Singapore\n",
              "18    47                       Poland\n",
              "19    45                  South Korea"
            ]
          },
          "metadata": {
            "tags": []
          },
          "execution_count": 11
        }
      ]
    },
    {
      "cell_type": "code",
      "metadata": {
        "id": "ydHZz3oiICIi",
        "colab_type": "code",
        "colab": {
          "base_uri": "https://localhost:8080/",
          "height": 175
        },
        "outputId": "43268036-5aab-4aa1-df5f-a0ff2dd37885"
      },
      "source": [
        "# 연령에 대한 정보를 본다.\n",
        "# describe를 해주면 'Age'에 대해 몇 개의 응답이 있는지 count할 수 있음 \n",
        "# 또한 평균, 표준편차, 최대최소값 등을 나타낼 수 있음\n",
        "mcq['Age'].describe()"
      ],
      "execution_count": 12,
      "outputs": [
        {
          "output_type": "execute_result",
          "data": {
            "text/plain": [
              "count    4035.000000\n",
              "mean       31.850558\n",
              "std        10.264244\n",
              "min         0.000000\n",
              "25%        25.000000\n",
              "50%        29.000000\n",
              "75%        37.000000\n",
              "max       100.000000\n",
              "Name: Age, dtype: float64"
            ]
          },
          "metadata": {
            "tags": []
          },
          "execution_count": 12
        }
      ]
    },
    {
      "cell_type": "code",
      "metadata": {
        "id": "CQ_HXJQNIN8q",
        "colab_type": "code",
        "colab": {
          "base_uri": "https://localhost:8080/",
          "height": 297
        },
        "outputId": "3d752412-f06c-42fb-f59a-996d2de63b47"
      },
      "source": [
        "sns.distplot(mcq[mcq['Age']>0]['Age'])\n",
        "# 나이가 0세 보다 많은 데이터에 대해 그래프를 그림"
      ],
      "execution_count": 13,
      "outputs": [
        {
          "output_type": "execute_result",
          "data": {
            "text/plain": [
              "<matplotlib.axes._subplots.AxesSubplot at 0x7f48ddc70400>"
            ]
          },
          "metadata": {
            "tags": []
          },
          "execution_count": 13
        },
        {
          "output_type": "display_data",
          "data": {
            "image/png": "[encoded data removed]",
            "text/plain": [
              "<Figure size 432x288 with 1 Axes>"
            ]
          },
          "metadata": {
            "tags": [],
            "needs_background": "light"
          }
        }
      ]
    },
    {
      "cell_type": "markdown",
      "metadata": {
        "id": "2CuNtMquIzd2",
        "colab_type": "text"
      },
      "source": [
        "응답자의 대부분이 어리며, 20대부터 급격히 늘어나며, 30대가 가장 많다. 평균 나이는 32세다."
      ]
    },
    {
      "cell_type": "markdown",
      "metadata": {
        "id": "C7tuSIaOJDtB",
        "colab_type": "text"
      },
      "source": [
        "## **학력**"
      ]
    },
    {
      "cell_type": "code",
      "metadata": {
        "id": "izPVBXSoItJv",
        "colab_type": "code",
        "colab": {
          "base_uri": "https://localhost:8080/",
          "height": 276
        },
        "outputId": "d6231e69-4744-44ab-d2c0-d3c330b12533"
      },
      "source": [
        "# FormalEducation이라는 항목에 대해 시각화를 함\n",
        "sns.countplot(y='FormalEducation', data=mcq)"
      ],
      "execution_count": 14,
      "outputs": [
        {
          "output_type": "execute_result",
          "data": {
            "text/plain": [
              "<matplotlib.axes._subplots.AxesSubplot at 0x7f48ddc7c9b0>"
            ]
          },
          "metadata": {
            "tags": []
          },
          "execution_count": 14
        },
        {
          "output_type": "display_data",
          "data": {
            "image/png": "[encoded data removed]",
            "text/plain": [
              "<Figure size 432x288 with 1 Axes>"
            ]
          },
          "metadata": {
            "tags": [],
            "needs_background": "light"
          }
        }
      ]
    },
    {
      "cell_type": "markdown",
      "metadata": {
        "id": "RdJ6MocuJTj6",
        "colab_type": "text"
      },
      "source": [
        "학사 학위를 가진 사람보다 석사 학위를 가지고 있는 사람이 많으며, 박사학위를 가지고 있는 사람들도 많다."
      ]
    },
    {
      "cell_type": "markdown",
      "metadata": {
        "id": "FACQvGJHJYHF",
        "colab_type": "text"
      },
      "source": [
        "## **전공**"
      ]
    },
    {
      "cell_type": "code",
      "metadata": {
        "id": "1U7uY8E7JJZa",
        "colab_type": "code",
        "colab": {
          "base_uri": "https://localhost:8080/",
          "height": 491
        },
        "outputId": "ce672deb-4219-4f77-aa4a-2ba0d5178b74"
      },
      "source": [
        "# value_counts를 사용하면 그룹화 된 데이터의 카운트 값을 보여준다.\n",
        "# normalize=True 옵션을 사용하면,\n",
        "# 해당 데이터가 전체 데이터에서 어느 정도의 비율을 차지하는지 알 수 있다.\n",
        "mcq_major_count = pd.DataFrame(mcq['MajorSelect'].value_counts()) # 응답 수 count \n",
        "mcq_major_percent = pd.DataFrame(mcq['MajorSelect'].value_counts(normalize=True)) # 비율 구하기\n",
        "mcq_major_df = mcq_major_count.merge(mcq_major_percent, left_index=True, right_index=True) # 하나의 테이블로 보기 위해 merge 사용\n",
        "mcq_major_df.columns = ['응답 수', '비율']\n",
        "mcq_major_df  # 데이터 프레임 출력  "
      ],
      "execution_count": 15,
      "outputs": [
        {
          "output_type": "execute_result",
          "data": {
            "text/html": [
              "<div>\n",
              "<style scoped>\n",
              "    .dataframe tbody tr th:only-of-type {\n",
              "        vertical-align: middle;\n",
              "    }\n",
              "\n",
              "    .dataframe tbody tr th {\n",
              "        vertical-align: top;\n",
              "    }\n",
              "\n",
              "    .dataframe thead th {\n",
              "        text-align: right;\n",
              "    }\n",
              "</style>\n",
              "<table border=\"1\" class=\"dataframe\">\n",
              "  <thead>\n",
              "    <tr style=\"text-align: right;\">\n",
              "      <th></th>\n",
              "      <th>응답 수</th>\n",
              "      <th>비율</th>\n",
              "    </tr>\n",
              "  </thead>\n",
              "  <tbody>\n",
              "    <tr>\n",
              "      <th>Computer Science</th>\n",
              "      <td>1131</td>\n",
              "      <td>0.329834</td>\n",
              "    </tr>\n",
              "    <tr>\n",
              "      <th>Mathematics or statistics</th>\n",
              "      <td>577</td>\n",
              "      <td>0.168271</td>\n",
              "    </tr>\n",
              "    <tr>\n",
              "      <th>Electrical Engineering</th>\n",
              "      <td>345</td>\n",
              "      <td>0.100612</td>\n",
              "    </tr>\n",
              "    <tr>\n",
              "      <th>Engineering (non-computer focused)</th>\n",
              "      <td>304</td>\n",
              "      <td>0.088656</td>\n",
              "    </tr>\n",
              "    <tr>\n",
              "      <th>Other</th>\n",
              "      <td>211</td>\n",
              "      <td>0.061534</td>\n",
              "    </tr>\n",
              "    <tr>\n",
              "      <th>Physics</th>\n",
              "      <td>203</td>\n",
              "      <td>0.059201</td>\n",
              "    </tr>\n",
              "    <tr>\n",
              "      <th>Information technology, networking, or system administration</th>\n",
              "      <td>181</td>\n",
              "      <td>0.052785</td>\n",
              "    </tr>\n",
              "    <tr>\n",
              "      <th>A social science</th>\n",
              "      <td>158</td>\n",
              "      <td>0.046078</td>\n",
              "    </tr>\n",
              "    <tr>\n",
              "      <th>Biology</th>\n",
              "      <td>75</td>\n",
              "      <td>0.021872</td>\n",
              "    </tr>\n",
              "    <tr>\n",
              "      <th>Management information systems</th>\n",
              "      <td>67</td>\n",
              "      <td>0.019539</td>\n",
              "    </tr>\n",
              "    <tr>\n",
              "      <th>A humanities discipline</th>\n",
              "      <td>56</td>\n",
              "      <td>0.016331</td>\n",
              "    </tr>\n",
              "    <tr>\n",
              "      <th>A health science</th>\n",
              "      <td>46</td>\n",
              "      <td>0.013415</td>\n",
              "    </tr>\n",
              "    <tr>\n",
              "      <th>Psychology</th>\n",
              "      <td>41</td>\n",
              "      <td>0.011957</td>\n",
              "    </tr>\n",
              "    <tr>\n",
              "      <th>I never declared a major</th>\n",
              "      <td>19</td>\n",
              "      <td>0.005541</td>\n",
              "    </tr>\n",
              "    <tr>\n",
              "      <th>Fine arts or performing arts</th>\n",
              "      <td>15</td>\n",
              "      <td>0.004374</td>\n",
              "    </tr>\n",
              "  </tbody>\n",
              "</table>\n",
              "</div>"
            ],
            "text/plain": [
              "                                                    응답 수        비율\n",
              "Computer Science                                    1131  0.329834\n",
              "Mathematics or statistics                            577  0.168271\n",
              "Electrical Engineering                               345  0.100612\n",
              "Engineering (non-computer focused)                   304  0.088656\n",
              "Other                                                211  0.061534\n",
              "Physics                                              203  0.059201\n",
              "Information technology, networking, or system a...   181  0.052785\n",
              "A social science                                     158  0.046078\n",
              "Biology                                               75  0.021872\n",
              "Management information systems                        67  0.019539\n",
              "A humanities discipline                               56  0.016331\n",
              "A health science                                      46  0.013415\n",
              "Psychology                                            41  0.011957\n",
              "I never declared a major                              19  0.005541\n",
              "Fine arts or performing arts                          15  0.004374"
            ]
          },
          "metadata": {
            "tags": []
          },
          "execution_count": 15
        }
      ]
    },
    {
      "cell_type": "markdown",
      "metadata": {
        "id": "yOPDdPk5KcV2",
        "colab_type": "text"
      },
      "source": [
        "컴퓨터 전공자들이 33%로 가장 많으며, 다음으로 수학, 공학, 전기 공학 순이다."
      ]
    },
    {
      "cell_type": "code",
      "metadata": {
        "id": "1wyJAS08KDCy",
        "colab_type": "code",
        "colab": {
          "base_uri": "https://localhost:8080/",
          "height": 493
        },
        "outputId": "7a33a969-0f3b-4fca-ac0c-e4fd8092cd38"
      },
      "source": [
        "# 재학 중인 사람들의 전공 현황\n",
        "plt.figure(figsize=(6,8))\n",
        "sns.countplot(y='MajorSelect', data=mcq)"
      ],
      "execution_count": 16,
      "outputs": [
        {
          "output_type": "execute_result",
          "data": {
            "text/plain": [
              "<matplotlib.axes._subplots.AxesSubplot at 0x7f48ddb59ef0>"
            ]
          },
          "metadata": {
            "tags": []
          },
          "execution_count": 16
        },
        {
          "output_type": "display_data",
          "data": {
            "image/png": "[encoded data removed]",
            "text/plain": [
              "<Figure size 432x576 with 1 Axes>"
            ]
          },
          "metadata": {
            "tags": [],
            "needs_background": "light"
          }
        }
      ]
    },
    {
      "cell_type": "markdown",
      "metadata": {
        "id": "RUZRfs9SNSGa",
        "colab_type": "text"
      },
      "source": [
        "## **취업 여부**"
      ]
    },
    {
      "cell_type": "code",
      "metadata": {
        "id": "cLllD5MJKrHV",
        "colab_type": "code",
        "colab": {
          "base_uri": "https://localhost:8080/",
          "height": 254
        },
        "outputId": "8f2577b0-aa19-4a8e-96c8-f8d7155634a2"
      },
      "source": [
        "mcq_es_count = pd.DataFrame(mcq['EmploymentStatus'].value_counts()) # 응답 수 구하기\n",
        "mcq_es_percent = pd.DataFrame(mcq['EmploymentStatus'].value_counts(normalize=True)) # 비율 구하기\n",
        "mcq_es_df = mcq_es_count.merge(mcq_es_percent, left_index=True, right_index = True) # 데이터프레임 합치기\n",
        "mcq_es_df.columns = ['응답 수', '비율']\n",
        "mcq_es_df"
      ],
      "execution_count": 17,
      "outputs": [
        {
          "output_type": "execute_result",
          "data": {
            "text/html": [
              "<div>\n",
              "<style scoped>\n",
              "    .dataframe tbody tr th:only-of-type {\n",
              "        vertical-align: middle;\n",
              "    }\n",
              "\n",
              "    .dataframe tbody tr th {\n",
              "        vertical-align: top;\n",
              "    }\n",
              "\n",
              "    .dataframe thead th {\n",
              "        text-align: right;\n",
              "    }\n",
              "</style>\n",
              "<table border=\"1\" class=\"dataframe\">\n",
              "  <thead>\n",
              "    <tr style=\"text-align: right;\">\n",
              "      <th></th>\n",
              "      <th>응답 수</th>\n",
              "      <th>비율</th>\n",
              "    </tr>\n",
              "  </thead>\n",
              "  <tbody>\n",
              "    <tr>\n",
              "      <th>Employed full-time</th>\n",
              "      <td>2600</td>\n",
              "      <td>0.636943</td>\n",
              "    </tr>\n",
              "    <tr>\n",
              "      <th>Not employed, but looking for work</th>\n",
              "      <td>588</td>\n",
              "      <td>0.144047</td>\n",
              "    </tr>\n",
              "    <tr>\n",
              "      <th>Independent contractor, freelancer, or self-employed</th>\n",
              "      <td>318</td>\n",
              "      <td>0.077903</td>\n",
              "    </tr>\n",
              "    <tr>\n",
              "      <th>Not employed, and not looking for work</th>\n",
              "      <td>263</td>\n",
              "      <td>0.064429</td>\n",
              "    </tr>\n",
              "    <tr>\n",
              "      <th>Employed part-time</th>\n",
              "      <td>189</td>\n",
              "      <td>0.046301</td>\n",
              "    </tr>\n",
              "    <tr>\n",
              "      <th>I prefer not to say</th>\n",
              "      <td>92</td>\n",
              "      <td>0.022538</td>\n",
              "    </tr>\n",
              "    <tr>\n",
              "      <th>Retired</th>\n",
              "      <td>32</td>\n",
              "      <td>0.007839</td>\n",
              "    </tr>\n",
              "  </tbody>\n",
              "</table>\n",
              "</div>"
            ],
            "text/plain": [
              "                                                    응답 수        비율\n",
              "Employed full-time                                  2600  0.636943\n",
              "Not employed, but looking for work                   588  0.144047\n",
              "Independent contractor, freelancer, or self-emp...   318  0.077903\n",
              "Not employed, and not looking for work               263  0.064429\n",
              "Employed part-time                                   189  0.046301\n",
              "I prefer not to say                                   92  0.022538\n",
              "Retired                                               32  0.007839"
            ]
          },
          "metadata": {
            "tags": []
          },
          "execution_count": 17
        }
      ]
    },
    {
      "cell_type": "code",
      "metadata": {
        "id": "1m_9P-8UNx1Z",
        "colab_type": "code",
        "colab": {
          "base_uri": "https://localhost:8080/",
          "height": 297
        },
        "outputId": "fdd0f9fe-2891-4d25-d4a9-73d83f720beb"
      },
      "source": [
        "sns.countplot(y='EmploymentStatus', data=mcq) # 위의 데이터프레임 시각화"
      ],
      "execution_count": 18,
      "outputs": [
        {
          "output_type": "execute_result",
          "data": {
            "text/plain": [
              "<matplotlib.axes._subplots.AxesSubplot at 0x7f48ddb2e630>"
            ]
          },
          "metadata": {
            "tags": []
          },
          "execution_count": 18
        },
        {
          "output_type": "display_data",
          "data": {
            "image/png": "[encoded data removed]",
            "text/plain": [
              "<Figure size 432x288 with 1 Axes>"
            ]
          },
          "metadata": {
            "tags": [],
            "needs_background": "light"
          }
        }
      ]
    },
    {
      "cell_type": "markdown",
      "metadata": {
        "id": "9VZv7iLpOLyr",
        "colab_type": "text"
      },
      "source": [
        "응답자의 대부분이 65%가 풀타임으로 일하고 있으며, 그 다음으로 구직자가 12%다."
      ]
    },
    {
      "cell_type": "markdown",
      "metadata": {
        "id": "2kBoRutMOQLc",
        "colab_type": "text"
      },
      "source": [
        "## **프로그래밍 경험**\n",
        "\n",
        "  - 'Tenure' 항목은 데이터사이언스 분야에서 코딩 경험이 얼마나 되는지에 대한 질문이다. 대부분이 5년 미만이며, 특히 1~2년의 경험을 가진 사람들이 많다."
      ]
    },
    {
      "cell_type": "code",
      "metadata": {
        "id": "SU0NmDuROC_t",
        "colab_type": "code",
        "colab": {
          "base_uri": "https://localhost:8080/",
          "height": 297
        },
        "outputId": "89e7baeb-dc84-4599-c16b-e8741d0620b1"
      },
      "source": [
        "sns.countplot(y='Tenure', data=mcq)"
      ],
      "execution_count": 19,
      "outputs": [
        {
          "output_type": "execute_result",
          "data": {
            "text/plain": [
              "<matplotlib.axes._subplots.AxesSubplot at 0x7f48dcf73780>"
            ]
          },
          "metadata": {
            "tags": []
          },
          "execution_count": 19
        },
        {
          "output_type": "display_data",
          "data": {
            "image/png": "[encoded data removed]",
            "text/plain": [
              "<Figure size 432x288 with 1 Axes>"
            ]
          },
          "metadata": {
            "tags": [],
            "needs_background": "light"
          }
        }
      ]
    },
    {
      "cell_type": "code",
      "metadata": {
        "id": "NzpVTpp6Og07",
        "colab_type": "code",
        "colab": {
          "base_uri": "https://localhost:8080/",
          "height": 313
        },
        "outputId": "1a079d82-35c6-4606-c8af-5d5ec9d13497"
      },
      "source": [
        "korea = mcq.loc[(mcq['Country']=='South Korea')] # 우리나라 데이터만 추출하여 korea에 저장\n",
        "\n",
        "print('The number of interviewees in Korea: '+str(korea.shape[0]))\n",
        "\n",
        "sns.distplot(korea['Age'].dropna()) # NaN 데이터는 제거\n",
        "plt.title('Korean')\n",
        "plt.show()"
      ],
      "execution_count": 20,
      "outputs": [
        {
          "output_type": "stream",
          "text": [
            "The number of interviewees in Korea: 45\n"
          ],
          "name": "stdout"
        },
        {
          "output_type": "display_data",
          "data": {
            "image/png": "[encoded data removed]",
            "text/plain": [
              "<Figure size 432x288 with 1 Axes>"
            ]
          },
          "metadata": {
            "tags": [],
            "needs_background": "light"
          }
        }
      ]
    },
    {
      "cell_type": "code",
      "metadata": {
        "id": "aaPWNwGaO6Co",
        "colab_type": "code",
        "colab": {
          "base_uri": "https://localhost:8080/",
          "height": 136
        },
        "outputId": "90009ab2-7fa8-4fc8-bd08-5affb5da6589"
      },
      "source": [
        "pd.DataFrame(korea['GenderSelect'].value_counts())  # 성별 분포 체크"
      ],
      "execution_count": 21,
      "outputs": [
        {
          "output_type": "execute_result",
          "data": {
            "text/html": [
              "<div>\n",
              "<style scoped>\n",
              "    .dataframe tbody tr th:only-of-type {\n",
              "        vertical-align: middle;\n",
              "    }\n",
              "\n",
              "    .dataframe tbody tr th {\n",
              "        vertical-align: top;\n",
              "    }\n",
              "\n",
              "    .dataframe thead th {\n",
              "        text-align: right;\n",
              "    }\n",
              "</style>\n",
              "<table border=\"1\" class=\"dataframe\">\n",
              "  <thead>\n",
              "    <tr style=\"text-align: right;\">\n",
              "      <th></th>\n",
              "      <th>GenderSelect</th>\n",
              "    </tr>\n",
              "  </thead>\n",
              "  <tbody>\n",
              "    <tr>\n",
              "      <th>Male</th>\n",
              "      <td>33</td>\n",
              "    </tr>\n",
              "    <tr>\n",
              "      <th>Female</th>\n",
              "      <td>11</td>\n",
              "    </tr>\n",
              "    <tr>\n",
              "      <th>A different identity</th>\n",
              "      <td>1</td>\n",
              "    </tr>\n",
              "  </tbody>\n",
              "</table>\n",
              "</div>"
            ],
            "text/plain": [
              "                      GenderSelect\n",
              "Male                            33\n",
              "Female                          11\n",
              "A different identity             1"
            ]
          },
          "metadata": {
            "tags": []
          },
          "execution_count": 21
        }
      ]
    },
    {
      "cell_type": "code",
      "metadata": {
        "id": "EOPDTlOUPN7s",
        "colab_type": "code",
        "colab": {
          "base_uri": "https://localhost:8080/",
          "height": 313
        },
        "outputId": "65e459e4-ccc0-4f1f-b8a5-10e87b730f9a"
      },
      "source": [
        "sns.countplot(x='GenderSelect', data=korea) # 성별 데이터의 시각화\n",
        "plt.title('Korean')"
      ],
      "execution_count": 22,
      "outputs": [
        {
          "output_type": "execute_result",
          "data": {
            "text/plain": [
              "Text(0.5, 1.0, 'Korean')"
            ]
          },
          "metadata": {
            "tags": []
          },
          "execution_count": 22
        },
        {
          "output_type": "display_data",
          "data": {
            "image/png": "[encoded data removed]",
            "text/plain": [
              "<Figure size 432x288 with 1 Axes>"
            ]
          },
          "metadata": {
            "tags": [],
            "needs_background": "light"
          }
        }
      ]
    },
    {
      "cell_type": "code",
      "metadata": {
        "id": "N3P6aKGfPaob",
        "colab_type": "code",
        "colab": {
          "base_uri": "https://localhost:8080/",
          "height": 338
        },
        "outputId": "f9b8d0ca-4b31-461e-e62f-c2bd85dd0970"
      },
      "source": [
        "figure, (ax1, ax2) = plt.subplots(ncols=2)  # subplots을 이용하면 2개의 그래프를 나타낼 수 있다.\n",
        "\n",
        "figure.set_size_inches(12,5)\n",
        "# 여성에 대한 데이터\n",
        "sns.distplot(korea['Age'].loc[korea['GenderSelect']=='Female'].dropna(),\n",
        "             norm_hist=False, color=sns.color_palette(\"Paired\")[4], ax=ax1)\n",
        "plt.title('korean Female')\n",
        "# 남성에 대한 데이터\n",
        "sns.distplot(korea['Age'].loc[korea['GenderSelect']=='Male'].dropna(),\n",
        "             norm_hist=False, color=sns.color_palette(\"Paired\")[0], ax=ax2)\n",
        "plt.title('korean Male')"
      ],
      "execution_count": 23,
      "outputs": [
        {
          "output_type": "execute_result",
          "data": {
            "text/plain": [
              "Text(0.5, 1.0, 'korean Male')"
            ]
          },
          "metadata": {
            "tags": []
          },
          "execution_count": 23
        },
        {
          "output_type": "display_data",
          "data": {
            "image/png": "[encoded data removed]",
            "text/plain": [
              "<Figure size 864x360 with 2 Axes>"
            ]
          },
          "metadata": {
            "tags": [],
            "needs_background": "light"
          }
        }
      ]
    },
    {
      "cell_type": "code",
      "metadata": {
        "id": "oQOpaDQLQKKh",
        "colab_type": "code",
        "colab": {
          "base_uri": "https://localhost:8080/",
          "height": 379
        },
        "outputId": "ad5e96d3-0ff6-466a-b49b-1994493fe33a"
      },
      "source": [
        "sns.barplot(x=korea['EmploymentStatus'].unique(), y=korea['EmploymentStatus'].value_counts())\n",
        "plt.xticks(rotation=30, ha='right') # 글자 기울기 설정 / 오른쪽으로 30도 기울임\n",
        "plt.title('Employment status of the Korean')\n",
        "plt.ylabel('')\n",
        "plt.show()"
      ],
      "execution_count": 24,
      "outputs": [
        {
          "output_type": "display_data",
          "data": {
            "image/png": "[encoded data removed]",
            "text/plain": [
              "<Figure size 432x288 with 1 Axes>"
            ]
          },
          "metadata": {
            "tags": [],
            "needs_background": "light"
          }
        }
      ]
    },
    {
      "cell_type": "code",
      "metadata": {
        "id": "ZFq26RSrRE-K",
        "colab_type": "code",
        "colab": {
          "base_uri": "https://localhost:8080/",
          "height": 295
        },
        "outputId": "7c524262-6378-439a-aec1-fa7e6b66dd8f"
      },
      "source": [
        "# 학생인지 아닌지에 대한 응답\n",
        "korea['StudentStatus'] = korea['StudentStatus'].fillna('No')\n",
        "sns.countplot(x='StudentStatus', data=korea)\n",
        "plt.title('korean')\n",
        "plt.show()"
      ],
      "execution_count": 25,
      "outputs": [
        {
          "output_type": "display_data",
          "data": {
            "image/png": "[encoded data removed]",
            "text/plain": [
              "<Figure size 432x288 with 1 Axes>"
            ]
          },
          "metadata": {
            "tags": [],
            "needs_background": "light"
          }
        }
      ]
    },
    {
      "cell_type": "code",
      "metadata": {
        "id": "UxcPtf66R2FQ",
        "colab_type": "code",
        "colab": {
          "base_uri": "https://localhost:8080/",
          "height": 52
        },
        "outputId": "84668863-e7ac-44db-8231-a1e94467f835"
      },
      "source": [
        "full_time=mcq.loc[(mcq['EmploymentStatus']=='Employed full-time')]\n",
        "print(full_time.shape)  # full-time 응답자 수\n",
        "looking_for_job=mcq.loc[(mcq['EmploymentStatus']=='Not employed, but looking for work')]\n",
        "print(looking_for_job.shape)  # 구직 중인 응답자 수"
      ],
      "execution_count": 26,
      "outputs": [
        {
          "output_type": "stream",
          "text": [
            "(2600, 228)\n",
            "(588, 228)\n"
          ],
          "name": "stdout"
        }
      ]
    },
    {
      "cell_type": "markdown",
      "metadata": {
        "id": "QPma4L9GSmWO",
        "colab_type": "text"
      },
      "source": [
        "## **자주 묻는 질문 FAQ**\n",
        "  - 초보자들이 묻는 가장 일반적인 질문에 대한 답을 시각화 해본다."
      ]
    },
    {
      "cell_type": "markdown",
      "metadata": {
        "id": "nlRk6-3BSv7f",
        "colab_type": "text"
      },
      "source": [
        "# **Q1. Python과 R 중 어떤 언어를 배워야 할까요?**"
      ]
    },
    {
      "cell_type": "code",
      "metadata": {
        "id": "DnJWqzHFSUmB",
        "colab_type": "code",
        "colab": {
          "base_uri": "https://localhost:8080/",
          "height": 297
        },
        "outputId": "bb4b5870-dc29-48d5-e386-a3c0a6a5471e"
      },
      "source": [
        "sns.countplot(y='LanguageRecommendationSelect', data=mcq)"
      ],
      "execution_count": 27,
      "outputs": [
        {
          "output_type": "execute_result",
          "data": {
            "text/plain": [
              "<matplotlib.axes._subplots.AxesSubplot at 0x7f48dccce128>"
            ]
          },
          "metadata": {
            "tags": []
          },
          "execution_count": 27
        },
        {
          "output_type": "display_data",
          "data": {
            "image/png": "[encoded data removed]",
            "text/plain": [
              "<Figure size 432x288 with 1 Axes>"
            ]
          },
          "metadata": {
            "tags": [],
            "needs_background": "light"
          }
        }
      ]
    },
    {
      "cell_type": "markdown",
      "metadata": {
        "id": "vG5g7lvHUi1x",
        "colab_type": "text"
      },
      "source": [
        "파이썬을 명확하게 선호하고 있는 것으로 보여지며, 전문가와 강사들이 선호하는 언어를 알아본다."
      ]
    },
    {
      "cell_type": "code",
      "metadata": {
        "id": "dcnlYRP8S_uo",
        "colab_type": "code",
        "colab": {
          "base_uri": "https://localhost:8080/",
          "height": 297
        },
        "outputId": "ca2d288d-69a0-44dd-ac5f-cea2db2339b7"
      },
      "source": [
        "# 현재 하고 있는 일\n",
        "sns.countplot(y=mcq['CurrentJobTitleSelect'])"
      ],
      "execution_count": 28,
      "outputs": [
        {
          "output_type": "execute_result",
          "data": {
            "text/plain": [
              "<matplotlib.axes._subplots.AxesSubplot at 0x7f48dcbf13c8>"
            ]
          },
          "metadata": {
            "tags": []
          },
          "execution_count": 28
        },
        {
          "output_type": "display_data",
          "data": {
            "image/png": "[encoded data removed]",
            "text/plain": [
              "<Figure size 432x288 with 1 Axes>"
            ]
          },
          "metadata": {
            "tags": [],
            "needs_background": "light"
          }
        }
      ]
    },
    {
      "cell_type": "code",
      "metadata": {
        "id": "hfqXj1R0UvSE",
        "colab_type": "code",
        "colab": {
          "base_uri": "https://localhost:8080/",
          "height": 34
        },
        "outputId": "91a6d121-e7c5-4f25-d68c-aa1843b52864"
      },
      "source": [
        "# 현재 하고 있는 일에 대한 전체 응답수\n",
        "mcq[mcq['CurrentJobTitleSelect'].notnull()]['CurrentJobTitleSelect'].shape"
      ],
      "execution_count": 29,
      "outputs": [
        {
          "output_type": "execute_result",
          "data": {
            "text/plain": [
              "(2886,)"
            ]
          },
          "metadata": {
            "tags": []
          },
          "execution_count": 29
        }
      ]
    },
    {
      "cell_type": "code",
      "metadata": {
        "id": "RzjSWwICVA7E",
        "colab_type": "code",
        "colab": {
          "base_uri": "https://localhost:8080/",
          "height": 619
        },
        "outputId": "40c60271-a1ac-40d9-ad75-f2af00f32211"
      },
      "source": [
        "# 현재 하고 있는 일에 대한 응답을 해준 사람 중 Python과 R을 사용하는 사람\n",
        "# 응답자들이 실제 업무에서 어떤 언어를 주로 사용하는지 볼 수 있다.\n",
        "data=mcq[(mcq['CurrentJobTitleSelect'].notnull())&(\n",
        "    (mcq['LanguageRecommendationSelect']=='Python') | (\n",
        "        mcq['LanguageRecommendationSelect']=='R'))]\n",
        "print(data.shape)\n",
        "plt.figure(figsize=(8,10))\n",
        "sns.countplot(y='CurrentJobTitleSelect', hue='LanguageRecommendationSelect', data=data)"
      ],
      "execution_count": 30,
      "outputs": [
        {
          "output_type": "stream",
          "text": [
            "(2424, 228)\n"
          ],
          "name": "stdout"
        },
        {
          "output_type": "execute_result",
          "data": {
            "text/plain": [
              "<matplotlib.axes._subplots.AxesSubplot at 0x7f48dcca32e8>"
            ]
          },
          "metadata": {
            "tags": []
          },
          "execution_count": 30
        },
        {
          "output_type": "display_data",
          "data": {
            "image/png": "[encoded data removed]",
            "text/plain": [
              "<Figure size 576x720 with 1 Axes>"
            ]
          },
          "metadata": {
            "tags": [],
            "needs_background": "light"
          }
        }
      ]
    },
    {
      "cell_type": "markdown",
      "metadata": {
        "id": "Vro2SHxCWHZh",
        "colab_type": "text"
      },
      "source": [
        "데이터사이언티스트들은 Python을 주로 사용하지만 R을 사용하는 사람들도 제법 된다. 하지만 소프트웨어 개발자들은 Python을 훨씬 더 많이 사용하며, Python보다 R을 더 많이 사용하는 직업군은 통계 학자들이다."
      ]
    },
    {
      "cell_type": "markdown",
      "metadata": {
        "id": "4uHNv7gUWURJ",
        "colab_type": "text"
      },
      "source": [
        "# **Q2. 데이터 사이언스 분야에서 앞으로 크게 주목받을 것은 무엇일까요?**\n",
        "\n",
        "  - 관련 분야의 종사자가 아니더라도 빅데이터, 딥러닝, 뉴럴네트워크 같은 용어에 대해 알고 있다. 응답자들이 내년에 가장 흥미로운 기술이 될 것이라 응답한 것이다."
      ]
    },
    {
      "cell_type": "markdown",
      "metadata": {
        "id": "9frjKH-bWsi0",
        "colab_type": "text"
      },
      "source": [
        "# **데이터사이언스 툴**"
      ]
    },
    {
      "cell_type": "code",
      "metadata": {
        "id": "mDZdIHfjVy53",
        "colab_type": "code",
        "colab": {
          "base_uri": "https://localhost:8080/",
          "height": 639
        },
        "outputId": "f8159f71-a006-4d19-b1d1-b3c7a475662e"
      },
      "source": [
        "mcq_ml_tool_count = pd.DataFrame(\n",
        "    mcq['MLToolNextYearSelect'].value_counts())\n",
        "mcq_ml_tool_percent = pd.DataFrame(\n",
        "    mcq['MLToolNextYearSelect'].value_counts(normalize=True))\n",
        "mcq_ml_tool_df = mcq_ml_tool_count.merge(mcq_ml_tool_percent, left_index = True, right_index=True).head(20)\n",
        "mcq_ml_tool_df.columns=['응답 수','비율']\n",
        "mcq_ml_tool_df"
      ],
      "execution_count": 31,
      "outputs": [
        {
          "output_type": "execute_result",
          "data": {
            "text/html": [
              "<div>\n",
              "<style scoped>\n",
              "    .dataframe tbody tr th:only-of-type {\n",
              "        vertical-align: middle;\n",
              "    }\n",
              "\n",
              "    .dataframe tbody tr th {\n",
              "        vertical-align: top;\n",
              "    }\n",
              "\n",
              "    .dataframe thead th {\n",
              "        text-align: right;\n",
              "    }\n",
              "</style>\n",
              "<table border=\"1\" class=\"dataframe\">\n",
              "  <thead>\n",
              "    <tr style=\"text-align: right;\">\n",
              "      <th></th>\n",
              "      <th>응답 수</th>\n",
              "      <th>비율</th>\n",
              "    </tr>\n",
              "  </thead>\n",
              "  <tbody>\n",
              "    <tr>\n",
              "      <th>TensorFlow</th>\n",
              "      <td>869</td>\n",
              "      <td>0.236013</td>\n",
              "    </tr>\n",
              "    <tr>\n",
              "      <th>Python</th>\n",
              "      <td>541</td>\n",
              "      <td>0.146931</td>\n",
              "    </tr>\n",
              "    <tr>\n",
              "      <th>R</th>\n",
              "      <td>317</td>\n",
              "      <td>0.086095</td>\n",
              "    </tr>\n",
              "    <tr>\n",
              "      <th>Spark / MLlib</th>\n",
              "      <td>269</td>\n",
              "      <td>0.073058</td>\n",
              "    </tr>\n",
              "    <tr>\n",
              "      <th>Hadoop/Hive/Pig</th>\n",
              "      <td>153</td>\n",
              "      <td>0.041554</td>\n",
              "    </tr>\n",
              "    <tr>\n",
              "      <th>Other</th>\n",
              "      <td>151</td>\n",
              "      <td>0.041010</td>\n",
              "    </tr>\n",
              "    <tr>\n",
              "      <th>Jupyter notebooks</th>\n",
              "      <td>124</td>\n",
              "      <td>0.033677</td>\n",
              "    </tr>\n",
              "    <tr>\n",
              "      <th>I don't plan on learning a new tool/technology</th>\n",
              "      <td>117</td>\n",
              "      <td>0.031776</td>\n",
              "    </tr>\n",
              "    <tr>\n",
              "      <th>Amazon Machine Learning</th>\n",
              "      <td>109</td>\n",
              "      <td>0.029603</td>\n",
              "    </tr>\n",
              "    <tr>\n",
              "      <th>Google Cloud Compute</th>\n",
              "      <td>104</td>\n",
              "      <td>0.028246</td>\n",
              "    </tr>\n",
              "    <tr>\n",
              "      <th>Amazon Web services</th>\n",
              "      <td>96</td>\n",
              "      <td>0.026073</td>\n",
              "    </tr>\n",
              "    <tr>\n",
              "      <th>DataRobot</th>\n",
              "      <td>80</td>\n",
              "      <td>0.021727</td>\n",
              "    </tr>\n",
              "    <tr>\n",
              "      <th>Julia</th>\n",
              "      <td>77</td>\n",
              "      <td>0.020913</td>\n",
              "    </tr>\n",
              "    <tr>\n",
              "      <th>IBM Watson / Waton Analytics</th>\n",
              "      <td>69</td>\n",
              "      <td>0.018740</td>\n",
              "    </tr>\n",
              "    <tr>\n",
              "      <th>C/C++</th>\n",
              "      <td>62</td>\n",
              "      <td>0.016839</td>\n",
              "    </tr>\n",
              "    <tr>\n",
              "      <th>Tableau</th>\n",
              "      <td>57</td>\n",
              "      <td>0.015481</td>\n",
              "    </tr>\n",
              "    <tr>\n",
              "      <th>Microsoft Azure Machine Learning</th>\n",
              "      <td>55</td>\n",
              "      <td>0.014938</td>\n",
              "    </tr>\n",
              "    <tr>\n",
              "      <th>SQL</th>\n",
              "      <td>42</td>\n",
              "      <td>0.011407</td>\n",
              "    </tr>\n",
              "    <tr>\n",
              "      <th>Java</th>\n",
              "      <td>41</td>\n",
              "      <td>0.011135</td>\n",
              "    </tr>\n",
              "    <tr>\n",
              "      <th>SAP BusinessObjects Predictive Analytics</th>\n",
              "      <td>33</td>\n",
              "      <td>0.008963</td>\n",
              "    </tr>\n",
              "  </tbody>\n",
              "</table>\n",
              "</div>"
            ],
            "text/plain": [
              "                                                응답 수        비율\n",
              "TensorFlow                                       869  0.236013\n",
              "Python                                           541  0.146931\n",
              "R                                                317  0.086095\n",
              "Spark / MLlib                                    269  0.073058\n",
              "Hadoop/Hive/Pig                                  153  0.041554\n",
              "Other                                            151  0.041010\n",
              "Jupyter notebooks                                124  0.033677\n",
              "I don't plan on learning a new tool/technology   117  0.031776\n",
              "Amazon Machine Learning                          109  0.029603\n",
              "Google Cloud Compute                             104  0.028246\n",
              "Amazon Web services                               96  0.026073\n",
              "DataRobot                                         80  0.021727\n",
              "Julia                                             77  0.020913\n",
              "IBM Watson / Waton Analytics                      69  0.018740\n",
              "C/C++                                             62  0.016839\n",
              "Tableau                                           57  0.015481\n",
              "Microsoft Azure Machine Learning                  55  0.014938\n",
              "SQL                                               42  0.011407\n",
              "Java                                              41  0.011135\n",
              "SAP BusinessObjects Predictive Analytics          33  0.008963"
            ]
          },
          "metadata": {
            "tags": []
          },
          "execution_count": 31
        }
      ]
    },
    {
      "cell_type": "code",
      "metadata": {
        "id": "Mq-KMzxuXO1h",
        "colab_type": "code",
        "colab": {
          "base_uri": "https://localhost:8080/",
          "height": 297
        },
        "outputId": "a3119bf4-3157-411a-9d8f-bf0f18146ed3"
      },
      "source": [
        "data=mcq['MLToolNextYearSelect'].value_counts().head(20)\n",
        "sns.barplot(y=data.index, x=data)"
      ],
      "execution_count": 32,
      "outputs": [
        {
          "output_type": "execute_result",
          "data": {
            "text/plain": [
              "<matplotlib.axes._subplots.AxesSubplot at 0x7f48dcc9b828>"
            ]
          },
          "metadata": {
            "tags": []
          },
          "execution_count": 32
        },
        {
          "output_type": "display_data",
          "data": {
            "image/png": "[encoded data removed]",
            "text/plain": [
              "<Figure size 432x288 with 1 Axes>"
            ]
          },
          "metadata": {
            "tags": [],
            "needs_background": "light"
          }
        }
      ]
    },
    {
      "cell_type": "markdown",
      "metadata": {
        "id": "eYjiV9e2X3Yw",
        "colab_type": "text"
      },
      "source": [
        "구글의 딥러닝 프레임워크 텐서플로우가 23%로 가장 많은 관심을 받을 것이라 응답했다. 그리고 Python이 15%, R은 8%로 따르고 있다.\n",
        "\n",
        "클라우드는 Amazon ML, GCP, AWS, MS Azure ML, IBM Watson 순으로 응답되었다."
      ]
    },
    {
      "cell_type": "markdown",
      "metadata": {
        "id": "XfAXmN9-YI_r",
        "colab_type": "text"
      },
      "source": [
        "**데이터사이언스 방법 Data Science Methods**"
      ]
    },
    {
      "cell_type": "code",
      "metadata": {
        "id": "2CyYIfPRXrEr",
        "colab_type": "code",
        "colab": {
          "base_uri": "https://localhost:8080/",
          "height": 297
        },
        "outputId": "ed9abe00-364e-4af9-def9-4437c1022e68"
      },
      "source": [
        "data=mcq['MLMethodNextYearSelect'].value_counts().head(15) # 상위 15개를 찍어봄\n",
        "sns.barplot(y=data.index, x=data)"
      ],
      "execution_count": 33,
      "outputs": [
        {
          "output_type": "execute_result",
          "data": {
            "text/plain": [
              "<matplotlib.axes._subplots.AxesSubplot at 0x7f48dca972e8>"
            ]
          },
          "metadata": {
            "tags": []
          },
          "execution_count": 33
        },
        {
          "output_type": "display_data",
          "data": {
            "image/png": "[encoded data removed]",
            "text/plain": [
              "<Figure size 432x288 with 1 Axes>"
            ]
          },
          "metadata": {
            "tags": [],
            "needs_background": "light"
          }
        }
      ]
    },
    {
      "cell_type": "markdown",
      "metadata": {
        "id": "meVugR73YwfZ",
        "colab_type": "text"
      },
      "source": [
        "응답에 대한 통계를 보면 딥러닝과 뉴럴넷이 엄청나게 인기가 있을 것이고 시계열 분석, 베이지안, 텍스트 마이닝 등의 내용이 있다. 중간 쯤에 부스팅과 배깅 같은 앙상블 메소드도 있다. "
      ]
    },
    {
      "cell_type": "markdown",
      "metadata": {
        "id": "tk7mWxmuY9_c",
        "colab_type": "text"
      },
      "source": [
        "# **Q3. 어디에서 데이터 사이언스를 배워야 할까요?**"
      ]
    },
    {
      "cell_type": "code",
      "metadata": {
        "id": "yvautyNgYViW",
        "colab_type": "code",
        "colab": {}
      },
      "source": [
        "mcq['LearningPlatformSelect'] = mcq['LearningPlatformSelect'].astype('str').apply(lambda x: x.split(','))\n",
        "s = mcq.apply(\n",
        "    lambda x: pd.Series(x['LearningPlatformSelect']),\n",
        "    axis=1).stack().reset_index(level=1, drop=True)\n",
        "s.name = 'platform'"
      ],
      "execution_count": 34,
      "outputs": []
    },
    {
      "cell_type": "code",
      "metadata": {
        "id": "NU4IYOXeZoNf",
        "colab_type": "code",
        "colab": {
          "base_uri": "https://localhost:8080/",
          "height": 514
        },
        "outputId": "13547c4e-bb5b-42e5-f2c6-d98e7508b63d"
      },
      "source": [
        "plt.figure(figsize=(6,8))\n",
        "data=s[s!='nan'].value_counts().head(15) # 상위 15개 출력\n",
        "sns.barplot(y=data.index, x=data) "
      ],
      "execution_count": 35,
      "outputs": [
        {
          "output_type": "execute_result",
          "data": {
            "text/plain": [
              "<matplotlib.axes._subplots.AxesSubplot at 0x7f48de1cd5c0>"
            ]
          },
          "metadata": {
            "tags": []
          },
          "execution_count": 35
        },
        {
          "output_type": "display_data",
          "data": {
            "image/png": "[encoded data removed]",
            "text/plain": [
              "<Figure size 432x576 with 1 Axes>"
            ]
          },
          "metadata": {
            "tags": [],
            "needs_background": "light"
          }
        }
      ]
    },
    {
      "cell_type": "markdown",
      "metadata": {
        "id": "uErOfTUqbNW2",
        "colab_type": "text"
      },
      "source": [
        "- Kaggle은 응답자들 사이에서 가장 인기있는 학습 플랫폼\n",
        "- 그러나 이 설문 조사를 실시한 곳이 Kaggle 이기 때문에 응답이 편향되었을 수 있음\n",
        "- 온라인 코스, 스택 오버플로 및 유튜브 상위 5대 최우수 학습 플랫폼은 대학 학위나 교과서의 중요도보다 높다."
      ]
    },
    {
      "cell_type": "code",
      "metadata": {
        "id": "Zf65bOq2bDEg",
        "colab_type": "code",
        "colab": {
          "base_uri": "https://localhost:8080/",
          "height": 272
        },
        "outputId": "6ac8d813-7e86-4575-b47a-cb98885318a8"
      },
      "source": [
        "# 설문내용과 누구에게 물어봤는지를 찾아봄\n",
        "qc = question.loc[question['Column'].str.contains('LearningCategory')]\n",
        "print(qc.shape)\n",
        "qc"
      ],
      "execution_count": 36,
      "outputs": [
        {
          "output_type": "stream",
          "text": [
            "(7, 3)\n"
          ],
          "name": "stdout"
        },
        {
          "output_type": "execute_result",
          "data": {
            "text/html": [
              "<div>\n",
              "<style scoped>\n",
              "    .dataframe tbody tr th:only-of-type {\n",
              "        vertical-align: middle;\n",
              "    }\n",
              "\n",
              "    .dataframe tbody tr th {\n",
              "        vertical-align: top;\n",
              "    }\n",
              "\n",
              "    .dataframe thead th {\n",
              "        text-align: right;\n",
              "    }\n",
              "</style>\n",
              "<table border=\"1\" class=\"dataframe\">\n",
              "  <thead>\n",
              "    <tr style=\"text-align: right;\">\n",
              "      <th></th>\n",
              "      <th>Column</th>\n",
              "      <th>Question</th>\n",
              "      <th>Asked</th>\n",
              "    </tr>\n",
              "  </thead>\n",
              "  <tbody>\n",
              "    <tr>\n",
              "      <th>91</th>\n",
              "      <td>LearningCategorySelftTaught</td>\n",
              "      <td>What percentage of your current machine learni...</td>\n",
              "      <td>All</td>\n",
              "    </tr>\n",
              "    <tr>\n",
              "      <th>92</th>\n",
              "      <td>LearningCategoryOnlineCourses</td>\n",
              "      <td>What percentage of your current machine learni...</td>\n",
              "      <td>All</td>\n",
              "    </tr>\n",
              "    <tr>\n",
              "      <th>93</th>\n",
              "      <td>LearningCategoryWork</td>\n",
              "      <td>What percentage of your current machine learni...</td>\n",
              "      <td>All</td>\n",
              "    </tr>\n",
              "    <tr>\n",
              "      <th>94</th>\n",
              "      <td>LearningCategoryUniversity</td>\n",
              "      <td>What percentage of your current machine learni...</td>\n",
              "      <td>All</td>\n",
              "    </tr>\n",
              "    <tr>\n",
              "      <th>95</th>\n",
              "      <td>LearningCategoryKaggle</td>\n",
              "      <td>What percentage of your current machine learni...</td>\n",
              "      <td>All</td>\n",
              "    </tr>\n",
              "    <tr>\n",
              "      <th>96</th>\n",
              "      <td>LearningCategoryOther</td>\n",
              "      <td>What percentage of your current machine learni...</td>\n",
              "      <td>All</td>\n",
              "    </tr>\n",
              "    <tr>\n",
              "      <th>97</th>\n",
              "      <td>LearningCategoryOtherFreeForm</td>\n",
              "      <td>What percentage of your current machine learni...</td>\n",
              "      <td>All</td>\n",
              "    </tr>\n",
              "  </tbody>\n",
              "</table>\n",
              "</div>"
            ],
            "text/plain": [
              "                           Column  ... Asked\n",
              "91    LearningCategorySelftTaught  ...   All\n",
              "92  LearningCategoryOnlineCourses  ...   All\n",
              "93           LearningCategoryWork  ...   All\n",
              "94     LearningCategoryUniversity  ...   All\n",
              "95         LearningCategoryKaggle  ...   All\n",
              "96          LearningCategoryOther  ...   All\n",
              "97  LearningCategoryOtherFreeForm  ...   All\n",
              "\n",
              "[7 rows x 3 columns]"
            ]
          },
          "metadata": {
            "tags": []
          },
          "execution_count": 36
        }
      ]
    },
    {
      "cell_type": "code",
      "metadata": {
        "id": "7oECA4LsbsIb",
        "colab_type": "code",
        "colab": {}
      },
      "source": [
        "# 유용한 플랫폼을 use_features에 모아둠\n",
        "use_features = [x for x in mcq.columns if x.find('LearningPlatformUsefulness')!=-1]"
      ],
      "execution_count": 37,
      "outputs": []
    },
    {
      "cell_type": "code",
      "metadata": {
        "id": "4iuLZ6qCcAuo",
        "colab_type": "code",
        "colab": {
          "base_uri": "https://localhost:8080/",
          "height": 610
        },
        "outputId": "f92235d3-7e6a-49ec-c8d0-a0f1582b5e61"
      },
      "source": [
        "\n",
        "# 학습플랫폼과 유용함에 대한 연관성을 살펴본다.\n",
        "fdf = {}\n",
        "for feature in use_features:\n",
        "    a = mcq[feature].value_counts()\n",
        "    a = a/a.sum()\n",
        "    fdf[feature[len('LearningPlatformUsefulness'):]] = a\n",
        "\n",
        "fdf = pd.DataFrame(fdf).transpose().sort_values(\n",
        "    'Very useful', ascending=False)\n",
        "\n",
        "# 학습플랫폼들이 얼마나 유용한지에 대한 상관관계를 그려본다.\n",
        "plt.figure(figsize=(10,10))\n",
        "sns.heatmap(\n",
        "    fdf.sort_values(\n",
        "        \"Very useful\", ascending=False), annot=True)\n",
        "# 1에 가까울수록 유용하다"
      ],
      "execution_count": 38,
      "outputs": [
        {
          "output_type": "execute_result",
          "data": {
            "text/plain": [
              "<matplotlib.axes._subplots.AxesSubplot at 0x7f48dca41cf8>"
            ]
          },
          "metadata": {
            "tags": []
          },
          "execution_count": 38
        },
        {
          "output_type": "display_data",
          "data": {
            "image/png": "[encoded data removed]",
            "text/plain": [
              "<Figure size 720x720 with 2 Axes>"
            ]
          },
          "metadata": {
            "tags": [],
            "needs_background": "light"
          }
        }
      ]
    },
    {
      "cell_type": "code",
      "metadata": {
        "id": "YBqy_iq3czLw",
        "colab_type": "code",
        "colab": {
          "base_uri": "https://localhost:8080/",
          "height": 342
        },
        "outputId": "44a4dd79-19f7-4558-b8ae-52a56833dc0c"
      },
      "source": [
        "# 유용함의 정도를 각 플랫폼별로 그룹화해서 본다.\n",
        "fdf.plot(kind='bar', figsize=(20,8),\n",
        "         title='Usefullness of Learning Platforms')"
      ],
      "execution_count": 39,
      "outputs": [
        {
          "output_type": "execute_result",
          "data": {
            "text/plain": [
              "<matplotlib.axes._subplots.AxesSubplot at 0x7f48db829c50>"
            ]
          },
          "metadata": {
            "tags": []
          },
          "execution_count": 39
        },
        {
          "output_type": "display_data",
          "data": {
            "image/png": "[encoded data removed]",
            "text/plain": [
              "<Figure size 1440x576 with 1 Axes>"
            ]
          },
          "metadata": {
            "tags": [],
            "needs_background": "light"
          }
        }
      ]
    },
    {
      "cell_type": "markdown",
      "metadata": {
        "id": "VXsyY8n4w8_Y",
        "colab_type": "text"
      },
      "source": [
        "실제로 프로젝트를 해보는 것에 대해 74.7%의 응답자가 응답했고 매우 유용하다고 표시했다. SO는 스택오버플로우이고, 캐글, 수업, 책이 도움이 많이 되는 편이다. 팟캐스트는 매우 유용하지 않지만 때때로 유용하다는 응답은 가장 많았다."
      ]
    },
    {
      "cell_type": "code",
      "metadata": {
        "id": "epxmwccOWBwh",
        "colab_type": "code",
        "colab": {
          "base_uri": "https://localhost:8080/",
          "height": 122
        },
        "outputId": "7628cae8-e518-4b8e-a5a7-83605301d82f"
      },
      "source": [
        "# 파이차트를 그리기 위해 질문들 카테고리를 모았다.\n",
        "cat_features = [x for x in mcq.columns if x.find('LearningCategory') != -1]\n",
        "cat_features"
      ],
      "execution_count": 40,
      "outputs": [
        {
          "output_type": "execute_result",
          "data": {
            "text/plain": [
              "['LearningCategorySelftTaught',\n",
              " 'LearningCategoryOnlineCourses',\n",
              " 'LearningCategoryWork',\n",
              " 'LearningCategoryUniversity',\n",
              " 'LearningCategoryKaggle',\n",
              " 'LearningCategoryOther']"
            ]
          },
          "metadata": {
            "tags": []
          },
          "execution_count": 40
        }
      ]
    },
    {
      "cell_type": "code",
      "metadata": {
        "id": "o8_0ylugxYSt",
        "colab_type": "code",
        "colab": {
          "base_uri": "https://localhost:8080/",
          "height": 140
        },
        "outputId": "d33f56a6-6e72-46c4-914f-bf4fce0f68a0"
      },
      "source": [
        "cdf = {}\n",
        "for feature in cat_features:\n",
        "  cdf[feature[len('LearningCategory'):]]=mcq[feature].mean()  # mean(): 평균값 구하기\n",
        "\n",
        "# 파이차트를 그리기 위해 평균 값을 구해와서 담아준다.\n",
        "cdf = pd.Series(cdf)\n",
        "cdf"
      ],
      "execution_count": 41,
      "outputs": [
        {
          "output_type": "execute_result",
          "data": {
            "text/plain": [
              "SelftTaught      33.921478\n",
              "OnlineCourses    27.237313\n",
              "Work             14.815205\n",
              "University       16.881309\n",
              "Kaggle            5.687933\n",
              "Other             1.635444\n",
              "dtype: float64"
            ]
          },
          "metadata": {
            "tags": []
          },
          "execution_count": 41
        }
      ]
    },
    {
      "cell_type": "code",
      "metadata": {
        "id": "9m9loyZExwy2",
        "colab_type": "code",
        "colab": {
          "base_uri": "https://localhost:8080/",
          "height": 264
        },
        "outputId": "c93df002-7108-4634-a2ce-7e15eff2f678"
      },
      "source": [
        "# 학습 플랫폼 별 도움이 되는 정도를 그려본다.\n",
        "plt.pie(cdf, labels=cdf.index, autopct='%1.1f%%', shadow=True, startangle=140)\n",
        "plt.axis('equal')\n",
        "plt.title(\"Contribution of each Platform to Learning\")\n",
        "plt.show()"
      ],
      "execution_count": 42,
      "outputs": [
        {
          "output_type": "display_data",
          "data": {
            "image/png": "[encoded data removed]",
            "text/plain": [
              "<Figure size 432x288 with 1 Axes>"
            ]
          },
          "metadata": {
            "tags": []
          }
        }
      ]
    },
    {
      "cell_type": "markdown",
      "metadata": {
        "id": "01Kpw6RByYvL",
        "colab_type": "text"
      },
      "source": [
        "개인프로젝트를 해보는 것이 가장 많은 도움이 되었으며, 온라인코스와 대학, 업무 그 다음으로 캐글을 통해 배웠다고 응답되었다."
      ]
    },
    {
      "cell_type": "markdown",
      "metadata": {
        "id": "7FFYR_47yeox",
        "colab_type": "text"
      },
      "source": [
        "# **Q4. 데이터과학을 위해 높은 사양의 컴퓨터가 필요한가요?**"
      ]
    },
    {
      "cell_type": "code",
      "metadata": {
        "id": "wqLLwD97yLoC",
        "colab_type": "code",
        "colab": {
          "base_uri": "https://localhost:8080/",
          "height": 111
        },
        "outputId": "2d331bb6-5921-4288-eed6-c9fc6273bf30"
      },
      "source": [
        "# 설문내용과 누구에게 물어봤는지를 찾아봄\n",
        "qc = question.loc[question['Column'].str.contains('HardwarePersonalProjectsSelect')]\n",
        "print(qc.shape)\n",
        "qc"
      ],
      "execution_count": 43,
      "outputs": [
        {
          "output_type": "stream",
          "text": [
            "(1, 3)\n"
          ],
          "name": "stdout"
        },
        {
          "output_type": "execute_result",
          "data": {
            "text/html": [
              "<div>\n",
              "<style scoped>\n",
              "    .dataframe tbody tr th:only-of-type {\n",
              "        vertical-align: middle;\n",
              "    }\n",
              "\n",
              "    .dataframe tbody tr th {\n",
              "        vertical-align: top;\n",
              "    }\n",
              "\n",
              "    .dataframe thead th {\n",
              "        text-align: right;\n",
              "    }\n",
              "</style>\n",
              "<table border=\"1\" class=\"dataframe\">\n",
              "  <thead>\n",
              "    <tr style=\"text-align: right;\">\n",
              "      <th></th>\n",
              "      <th>Column</th>\n",
              "      <th>Question</th>\n",
              "      <th>Asked</th>\n",
              "    </tr>\n",
              "  </thead>\n",
              "  <tbody>\n",
              "    <tr>\n",
              "      <th>74</th>\n",
              "      <td>HardwarePersonalProjectsSelect</td>\n",
              "      <td>Which computing hardware do you use for your p...</td>\n",
              "      <td>Learners</td>\n",
              "    </tr>\n",
              "  </tbody>\n",
              "</table>\n",
              "</div>"
            ],
            "text/plain": [
              "                            Column  ...     Asked\n",
              "74  HardwarePersonalProjectsSelect  ...  Learners\n",
              "\n",
              "[1 rows x 3 columns]"
            ]
          },
          "metadata": {
            "tags": []
          },
          "execution_count": 43
        }
      ]
    },
    {
      "cell_type": "code",
      "metadata": {
        "id": "-ZwxWLLhyxhM",
        "colab_type": "code",
        "colab": {
          "base_uri": "https://localhost:8080/",
          "height": 34
        },
        "outputId": "c30cae05-e10d-473e-aa36-6956f1a94648"
      },
      "source": [
        "mcq[mcq['HardwarePersonalProjectsSelect'].notnull()]['HardwarePersonalProjectsSelect'].shape"
      ],
      "execution_count": 44,
      "outputs": [
        {
          "output_type": "execute_result",
          "data": {
            "text/plain": [
              "(1438,)"
            ]
          },
          "metadata": {
            "tags": []
          },
          "execution_count": 44
        }
      ]
    },
    {
      "cell_type": "code",
      "metadata": {
        "id": "bfUvGVazzLaZ",
        "colab_type": "code",
        "colab": {}
      },
      "source": [
        "mcq['HardwarePersonalProjectsSelect'\n",
        "   ] = mcq['HardwarePersonalProjectsSelect'\n",
        "          ].astype('str').apply(lambda x: x.split(','))\n",
        "s = mcq.apply(lambda x: \n",
        "              pd.Series(x['HardwarePersonalProjectsSelect']),\n",
        "              axis=1).stack().reset_index(level=1, drop=True)\n",
        "s.name = 'hardware'"
      ],
      "execution_count": 46,
      "outputs": []
    },
    {
      "cell_type": "code",
      "metadata": {
        "id": "DvpUTXTrznOL",
        "colab_type": "code",
        "colab": {}
      },
      "source": [
        "s=s[s!='nan']"
      ],
      "execution_count": 47,
      "outputs": []
    },
    {
      "cell_type": "code",
      "metadata": {
        "id": "z0kcuzGLzuqK",
        "colab_type": "code",
        "colab": {
          "base_uri": "https://localhost:8080/",
          "height": 906
        },
        "outputId": "138507ff-edf3-434e-e414-d8bcafd5beff"
      },
      "source": [
        "pd.DataFrame(s.value_counts())"
      ],
      "execution_count": 48,
      "outputs": [
        {
          "output_type": "execute_result",
          "data": {
            "text/html": [
              "<div>\n",
              "<style scoped>\n",
              "    .dataframe tbody tr th:only-of-type {\n",
              "        vertical-align: middle;\n",
              "    }\n",
              "\n",
              "    .dataframe tbody tr th {\n",
              "        vertical-align: top;\n",
              "    }\n",
              "\n",
              "    .dataframe thead th {\n",
              "        text-align: right;\n",
              "    }\n",
              "</style>\n",
              "<table border=\"1\" class=\"dataframe\">\n",
              "  <thead>\n",
              "    <tr style=\"text-align: right;\">\n",
              "      <th></th>\n",
              "      <th>hardware</th>\n",
              "    </tr>\n",
              "  </thead>\n",
              "  <tbody>\n",
              "    <tr>\n",
              "      <th>['nan']</th>\n",
              "      <td>2644</td>\n",
              "    </tr>\n",
              "    <tr>\n",
              "      <th>['Basic laptop (Macbook)']</th>\n",
              "      <td>596</td>\n",
              "    </tr>\n",
              "    <tr>\n",
              "      <th>' Azure'</th>\n",
              "      <td>236</td>\n",
              "    </tr>\n",
              "    <tr>\n",
              "      <th>' GCE ...)']</th>\n",
              "      <td>190</td>\n",
              "    </tr>\n",
              "    <tr>\n",
              "      <th>['Basic laptop (Macbook)'</th>\n",
              "      <td>186</td>\n",
              "    </tr>\n",
              "    <tr>\n",
              "      <th>['Gaming Laptop (Laptop + CUDA capable GPU)']</th>\n",
              "      <td>160</td>\n",
              "    </tr>\n",
              "    <tr>\n",
              "      <th>['Laptop + Cloud service (AWS'</th>\n",
              "      <td>129</td>\n",
              "    </tr>\n",
              "    <tr>\n",
              "      <th>'Laptop + Cloud service (AWS'</th>\n",
              "      <td>107</td>\n",
              "    </tr>\n",
              "    <tr>\n",
              "      <th>['Traditional Workstation']</th>\n",
              "      <td>95</td>\n",
              "    </tr>\n",
              "    <tr>\n",
              "      <th>['Laptop or Workstation and local IT supported servers']</th>\n",
              "      <td>95</td>\n",
              "    </tr>\n",
              "    <tr>\n",
              "      <th>'Traditional Workstation']</th>\n",
              "      <td>59</td>\n",
              "    </tr>\n",
              "    <tr>\n",
              "      <th>['GPU accelerated Workstation']</th>\n",
              "      <td>57</td>\n",
              "    </tr>\n",
              "    <tr>\n",
              "      <th>['Gaming Laptop (Laptop + CUDA capable GPU)'</th>\n",
              "      <td>49</td>\n",
              "    </tr>\n",
              "    <tr>\n",
              "      <th>' GCE ...)'</th>\n",
              "      <td>46</td>\n",
              "    </tr>\n",
              "    <tr>\n",
              "      <th>'GPU accelerated Workstation']</th>\n",
              "      <td>39</td>\n",
              "    </tr>\n",
              "    <tr>\n",
              "      <th>'Workstation + Cloud service']</th>\n",
              "      <td>37</td>\n",
              "    </tr>\n",
              "    <tr>\n",
              "      <th>'Laptop or Workstation and local IT supported servers']</th>\n",
              "      <td>32</td>\n",
              "    </tr>\n",
              "    <tr>\n",
              "      <th>['Other']</th>\n",
              "      <td>31</td>\n",
              "    </tr>\n",
              "    <tr>\n",
              "      <th>'GPU accelerated Workstation'</th>\n",
              "      <td>20</td>\n",
              "    </tr>\n",
              "    <tr>\n",
              "      <th>'Other']</th>\n",
              "      <td>20</td>\n",
              "    </tr>\n",
              "    <tr>\n",
              "      <th>['Workstation + Cloud service']</th>\n",
              "      <td>14</td>\n",
              "    </tr>\n",
              "    <tr>\n",
              "      <th>['GPU accelerated Workstation'</th>\n",
              "      <td>13</td>\n",
              "    </tr>\n",
              "    <tr>\n",
              "      <th>'Gaming Laptop (Laptop + CUDA capable GPU)']</th>\n",
              "      <td>13</td>\n",
              "    </tr>\n",
              "    <tr>\n",
              "      <th>'Laptop or Workstation and local IT supported servers'</th>\n",
              "      <td>12</td>\n",
              "    </tr>\n",
              "    <tr>\n",
              "      <th>'Traditional Workstation'</th>\n",
              "      <td>12</td>\n",
              "    </tr>\n",
              "    <tr>\n",
              "      <th>['Laptop or Workstation and local IT supported servers'</th>\n",
              "      <td>11</td>\n",
              "    </tr>\n",
              "    <tr>\n",
              "      <th>'Gaming Laptop (Laptop + CUDA capable GPU)'</th>\n",
              "      <td>7</td>\n",
              "    </tr>\n",
              "    <tr>\n",
              "      <th>'Workstation + Cloud service'</th>\n",
              "      <td>3</td>\n",
              "    </tr>\n",
              "    <tr>\n",
              "      <th>['Traditional Workstation'</th>\n",
              "      <td>2</td>\n",
              "    </tr>\n",
              "  </tbody>\n",
              "</table>\n",
              "</div>"
            ],
            "text/plain": [
              "                                                    hardware\n",
              "['nan']                                                 2644\n",
              "['Basic laptop (Macbook)']                               596\n",
              " ' Azure'                                                236\n",
              " ' GCE ...)']                                            190\n",
              "['Basic laptop (Macbook)'                                186\n",
              "['Gaming Laptop (Laptop + CUDA capable GPU)']            160\n",
              "['Laptop + Cloud service (AWS'                           129\n",
              " 'Laptop + Cloud service (AWS'                           107\n",
              "['Traditional Workstation']                               95\n",
              "['Laptop or Workstation and local IT supported ...        95\n",
              " 'Traditional Workstation']                               59\n",
              "['GPU accelerated Workstation']                           57\n",
              "['Gaming Laptop (Laptop + CUDA capable GPU)'              49\n",
              " ' GCE ...)'                                              46\n",
              " 'GPU accelerated Workstation']                           39\n",
              " 'Workstation + Cloud service']                           37\n",
              " 'Laptop or Workstation and local IT supported ...        32\n",
              "['Other']                                                 31\n",
              " 'GPU accelerated Workstation'                            20\n",
              " 'Other']                                                 20\n",
              "['Workstation + Cloud service']                           14\n",
              "['GPU accelerated Workstation'                            13\n",
              " 'Gaming Laptop (Laptop + CUDA capable GPU)']             13\n",
              " 'Laptop or Workstation and local IT supported ...        12\n",
              " 'Traditional Workstation'                                12\n",
              "['Laptop or Workstation and local IT supported ...        11\n",
              " 'Gaming Laptop (Laptop + CUDA capable GPU)'               7\n",
              " 'Workstation + Cloud service'                             3\n",
              "['Traditional Workstation'                                 2"
            ]
          },
          "metadata": {
            "tags": []
          },
          "execution_count": 48
        }
      ]
    },
    {
      "cell_type": "markdown",
      "metadata": {
        "id": "iS-QNIyUz7ux",
        "colab_type": "text"
      },
      "source": [
        "맥북을 사용하는 응답자가 가장 많고, 랩탑과 함께 클라우드를 사용하는 사람들이 그 다음이고 적당한 GPU를 가진 게임용 노트북을 사용하는 사례가 그 다음이다."
      ]
    },
    {
      "cell_type": "markdown",
      "metadata": {
        "id": "i8tzLqkp0DxN",
        "colab_type": "text"
      },
      "source": [
        "# **Q5. 데이터 사이언스 공부에 얼마나 많은 시간을 사용 하는지?**"
      ]
    },
    {
      "cell_type": "code",
      "metadata": {
        "id": "kDRbw5fUzxDt",
        "colab_type": "code",
        "colab": {
          "base_uri": "https://localhost:8080/",
          "height": 452
        },
        "outputId": "da45a044-f5c9-4570-cb1c-9fc2ee17c483"
      },
      "source": [
        "plt.figure(figsize=(6,8))\n",
        "sns.countplot(y='TimeSpentStudying',\n",
        "              data=mcq,\n",
        "              hue='EmploymentStatus').legend(loc='center_left', bbox_to_anchor=(1,0.5))\n",
        "# hue에 현재 직업을 가지고 있는지를 판별하여 나타냄"
      ],
      "execution_count": 50,
      "outputs": [
        {
          "output_type": "execute_result",
          "data": {
            "text/plain": [
              "<matplotlib.legend.Legend at 0x7f48d0f9e470>"
            ]
          },
          "metadata": {
            "tags": []
          },
          "execution_count": 50
        },
        {
          "output_type": "display_data",
          "data": {
            "image/png": "[encoded data removed]",
            "text/plain": [
              "<Figure size 432x576 with 1 Axes>"
            ]
          },
          "metadata": {
            "tags": [],
            "needs_background": "light"
          }
        }
      ]
    },
    {
      "cell_type": "markdown",
      "metadata": {
        "id": "w-p-usbu0uaf",
        "colab_type": "text"
      },
      "source": [
        "풀타임으로 일하는 사람들은 2~10시간 일하는 비율이 높으며, 풀타임으로 일하는 사람보다 일을 찾고 있는 사람들이 더 많은 시간을 공부하는 편이다.\n",
        "\n",
        "하지만 응답자 중 대부분이 풀타임으로 일하고 있는 사람들이라는 것을 고려할 필요가 있다."
      ]
    },
    {
      "cell_type": "code",
      "metadata": {
        "id": "Co_f5nhA0YDb",
        "colab_type": "code",
        "colab": {
          "base_uri": "https://localhost:8080/",
          "height": 252
        },
        "outputId": "914b20f4-a402-458a-ea9a-19924f3cc00b"
      },
      "source": [
        "figure, (ax1, ax2) = plt.subplots(ncols=2)  # 2개의 그래프를 나란히 그리기 위함\n",
        "\n",
        "figure.set_size_inches(12,5)\n",
        "sns.countplot(x='TimeSpentStudying', \n",
        "              data=full_time, \n",
        "              hue='EmploymentStatus', ax=ax1).legend(loc='center_right', bbox_to_anchor=(1,0.5))\n",
        "\n",
        "sns.countplot(x='TimeSpentStudying', data=looking_for_job,\n",
        "              hue='EmploymentStatus', ax=ax2).legend(loc='center_right',\n",
        "                                                     bbox_to_anchor=(1,0.5))"
      ],
      "execution_count": 51,
      "outputs": [
        {
          "output_type": "execute_result",
          "data": {
            "text/plain": [
              "<matplotlib.legend.Legend at 0x7f48d0e34160>"
            ]
          },
          "metadata": {
            "tags": []
          },
          "execution_count": 51
        },
        {
          "output_type": "display_data",
          "data": {
            "image/png": "[encoded data removed]",
            "text/plain": [
              "<Figure size 864x360 with 2 Axes>"
            ]
          },
          "metadata": {
            "tags": [],
            "needs_background": "light"
          }
        }
      ]
    },
    {
      "cell_type": "code",
      "metadata": {
        "id": "p6ozzrNG1eNt",
        "colab_type": "code",
        "colab": {}
      },
      "source": [
        ""
      ],
      "execution_count": null,
      "outputs": []
    }
  ]
}