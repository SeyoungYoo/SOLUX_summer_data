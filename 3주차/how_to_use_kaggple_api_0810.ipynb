{
  "nbformat": 4,
  "nbformat_minor": 0,
  "metadata": {
    "colab": {
      "name": "how_to_use_kaggple_api.ipynb",
      "provenance": [],
      "authorship_tag": "ABX9TyN8XiPMupuLxtHUaeED3V+f",
      "include_colab_link": true
    },
    "kernelspec": {
      "name": "python3",
      "display_name": "Python 3"
    }
  },
  "cells": [
    {
      "cell_type": "markdown",
      "metadata": {
        "id": "view-in-github",
        "colab_type": "text"
      },
      "source": [
        "<a href=\"https://colab.research.google.com/github/yooste/SOLUX_summer_data/blob/master/3%EC%A3%BC%EC%B0%A8/how_to_use_kaggple_api_0810.ipynb\" target=\"_parent\"><img src=\"https://colab.research.google.com/assets/colab-badge.svg\" alt=\"Open In Colab\"/></a>"
      ]
    },
    {
      "cell_type": "markdown",
      "metadata": {
        "id": "sQxv7DIEkBsX",
        "colab_type": "text"
      },
      "source": [
        "# [**Kaggle/Kaggle-api: Official Kaggle API**](https://github.com/Kaggle/kaggle-api)\n",
        "\n",
        "캐글 공식 깃헙에 API가 올라왔다. 해당 API는 캐글 사이트에 접속해서 일일이 데이터셋을 다운로드 받지 않고 노트북이나 터미널환경에서 데이터셋 파일을 찾거나 다운로드 받을 수 있으며 경진대회에 참여할 때 서브미션 파일을 API를 통해 제출할 수 있다.\n",
        "\n",
        "\n"
      ]
    },
    {
      "cell_type": "markdown",
      "metadata": {
        "id": "0jHnlXLPkpkM",
        "colab_type": "text"
      },
      "source": [
        "# **설치**"
      ]
    },
    {
      "cell_type": "code",
      "metadata": {
        "id": "lvrsSQEbkAHr",
        "colab_type": "code",
        "colab": {
          "base_uri": "https://localhost:8080/",
          "height": 336
        },
        "outputId": "2eef234e-65e5-4b84-87d5-940fa91df9c2"
      },
      "source": [
        "!pip uninstall -y kaggle\n",
        "!pip install --upgrade pip\n",
        "!pip install kaggle==1.5.6"
      ],
      "execution_count": 1,
      "outputs": [
        {
          "output_type": "stream",
          "text": [
            "Found existing installation: kaggle 1.5.6\n",
            "Uninstalling kaggle-1.5.6:\n",
            "  Successfully uninstalled kaggle-1.5.6\n",
            "Requirement already up-to-date: pip in /usr/local/lib/python3.6/dist-packages (20.2.1)\n",
            "Processing /root/.cache/pip/wheels/01/3e/ff/77407ebac3ef71a79b9166a8382aecf88415a0bcbe3c095a01/kaggle-1.5.6-py3-none-any.whl\n",
            "Requirement already satisfied: urllib3<1.25,>=1.21.1 in /usr/local/lib/python3.6/dist-packages (from kaggle==1.5.6) (1.24.3)\n",
            "Requirement already satisfied: python-dateutil in /usr/local/lib/python3.6/dist-packages (from kaggle==1.5.6) (2.8.1)\n",
            "Requirement already satisfied: python-slugify in /usr/local/lib/python3.6/dist-packages (from kaggle==1.5.6) (4.0.1)\n",
            "Requirement already satisfied: certifi in /usr/local/lib/python3.6/dist-packages (from kaggle==1.5.6) (2020.6.20)\n",
            "Requirement already satisfied: six>=1.10 in /usr/local/lib/python3.6/dist-packages (from kaggle==1.5.6) (1.15.0)\n",
            "Requirement already satisfied: tqdm in /usr/local/lib/python3.6/dist-packages (from kaggle==1.5.6) (4.41.1)\n",
            "Requirement already satisfied: requests in /usr/local/lib/python3.6/dist-packages (from kaggle==1.5.6) (2.23.0)\n",
            "Requirement already satisfied: text-unidecode>=1.3 in /usr/local/lib/python3.6/dist-packages (from python-slugify->kaggle==1.5.6) (1.3)\n",
            "Requirement already satisfied: chardet<4,>=3.0.2 in /usr/local/lib/python3.6/dist-packages (from requests->kaggle==1.5.6) (3.0.4)\n",
            "Requirement already satisfied: idna<3,>=2.5 in /usr/local/lib/python3.6/dist-packages (from requests->kaggle==1.5.6) (2.10)\n",
            "Installing collected packages: kaggle\n",
            "Successfully installed kaggle-1.5.6\n"
          ],
          "name": "stdout"
        }
      ]
    },
    {
      "cell_type": "code",
      "metadata": {
        "id": "UQsk6gtbkvOr",
        "colab_type": "code",
        "colab": {
          "base_uri": "https://localhost:8080/",
          "height": 193
        },
        "outputId": "b43e81ce-201c-4a0d-a653-1fc114f1401f"
      },
      "source": [
        "!pip show kaggle"
      ],
      "execution_count": 2,
      "outputs": [
        {
          "output_type": "stream",
          "text": [
            "Name: kaggle\n",
            "Version: 1.5.6\n",
            "Summary: Kaggle API\n",
            "Home-page: https://github.com/Kaggle/kaggle-api\n",
            "Author: Kaggle\n",
            "Author-email: support@kaggle.com\n",
            "License: Apache 2.0\n",
            "Location: /usr/local/lib/python3.6/dist-packages\n",
            "Requires: python-dateutil, tqdm, requests, certifi, six, urllib3, python-slugify\n",
            "Required-by: \n"
          ],
          "name": "stdout"
        }
      ]
    },
    {
      "cell_type": "markdown",
      "metadata": {
        "id": "ugu91V9Zkw-U",
        "colab_type": "text"
      },
      "source": [
        "# **API credentials**\n",
        "\n",
        "https://www.kaggle.com/username/account 경로로 접속하면 자신의 프로필 페이지가 나온다.\n",
        "\n",
        "해당 프로필페이지 하단의 Create API Token을 클릭하면 kaggle.json이라는 토큰파일이 다운로드 된다.\n",
        "\n",
        "해당 파일을 ~/.kaggle/kaggle.json 위치에 옮겨준다(윈도우 사용자면 C:\\Users\\<Windows-username>\\.kaggle\\kaggle.jason)."
      ]
    },
    {
      "cell_type": "code",
      "metadata": {
        "id": "BOH-SVgblPR0",
        "colab_type": "code",
        "colab": {
          "resources": {
            "http://localhost:8080/nbextensions/google.colab/files.js": {
              "data": "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",
              "ok": true,
              "headers": [
                [
                  "content-type",
                  "application/javascript"
                ]
              ],
              "status": 200,
              "status_text": ""
            }
          },
          "base_uri": "https://localhost:8080/",
          "height": 94
        },
        "outputId": "42194968-0b8b-42c3-a035-dded6662687d"
      },
      "source": [
        "# 캐글 API 설정파일 위치\n",
        "# .kaggle 이라는 폴더를 ~/ 위치에 만들고 캐글 사이트에서 다운로드 받은 파일을 옮겨준다.\n",
        "# 파일 업로드를 위한 import\n",
        "from google.colab import files\n",
        "files.upload()  # 파일 선택하기\n",
        "!ls -lha kaggle.json\n",
        "!mkdir -p ~/.kaggle # .kaggle 디렉토리 만들기\n",
        "!cp kaggle.json ~/.kaggle/  # 만들어 놓은 디렉토리에 kaggle.json 파일 붙여넣기"
      ],
      "execution_count": 3,
      "outputs": [
        {
          "output_type": "display_data",
          "data": {
            "text/html": [
              "\n",
              "     <input type=\"file\" id=\"files-bd2f18a0-35fe-443a-9a1a-e6d19b3ce3f4\" name=\"files[]\" multiple disabled\n",
              "        style=\"border:none\" />\n",
              "     <output id=\"result-bd2f18a0-35fe-443a-9a1a-e6d19b3ce3f4\">\n",
              "      Upload widget is only available when the cell has been executed in the\n",
              "      current browser session. Please rerun this cell to enable.\n",
              "      </output>\n",
              "      <script src=\"/nbextensions/google.colab/files.js\"></script> "
            ],
            "text/plain": [
              "<IPython.core.display.HTML object>"
            ]
          },
          "metadata": {
            "tags": []
          }
        },
        {
          "output_type": "stream",
          "text": [
            "Saving kaggle.json to kaggle (1).json\n",
            "-rw-r--r-- 1 root root 66 Aug 10 10:36 kaggle.json\n"
          ],
          "name": "stdout"
        }
      ]
    },
    {
      "cell_type": "code",
      "metadata": {
        "id": "S484i1zGxojn",
        "colab_type": "code",
        "colab": {}
      },
      "source": [
        "!chmod 600 ~/.kaggle/kaggle.json  # 권한 설정"
      ],
      "execution_count": 4,
      "outputs": []
    },
    {
      "cell_type": "code",
      "metadata": {
        "id": "dE-kdNlIyIKi",
        "colab_type": "code",
        "colab": {
          "base_uri": "https://localhost:8080/",
          "height": 105
        },
        "outputId": "7c2c7089-b12a-47fe-ca14-31b6893621d2"
      },
      "source": [
        "!kaggle config view   # kaggle에 대한 정보"
      ],
      "execution_count": 5,
      "outputs": [
        {
          "output_type": "stream",
          "text": [
            "Configuration values from /root/.kaggle\n",
            "- username: seyoungyoo\n",
            "- path: None\n",
            "- proxy: None\n",
            "- competition: None\n"
          ],
          "name": "stdout"
        }
      ]
    },
    {
      "cell_type": "markdown",
      "metadata": {
        "id": "OcB0o9DlstN3",
        "colab_type": "text"
      },
      "source": [
        "# **Competition**\n",
        "\n",
        "kaggle competitions {list, files, download, submit, submissions}\n",
        "\n",
        "kaggle datasets {list, files, download}\n",
        "\n",
        "kaggle config {path}\n"
      ]
    },
    {
      "cell_type": "code",
      "metadata": {
        "id": "fQOH7LNFyLCH",
        "colab_type": "code",
        "colab": {
          "base_uri": "https://localhost:8080/",
          "height": 248
        },
        "outputId": "49d51cf6-cdc4-4a71-8ef4-9eff66eaf59c"
      },
      "source": [
        "# 경진대회 API의 도움말 보기\n",
        "!kaggle competitions list -h"
      ],
      "execution_count": 6,
      "outputs": [
        {
          "output_type": "stream",
          "text": [
            "usage: kaggle competitions list [-h] [--group GROUP] [--category CATEGORY]\n",
            "                                [--sort-by SORT_BY] [-p PAGE] [-s SEARCH] [-v]\n",
            "\n",
            "optional arguments:\n",
            "  -h, --help            show this help message and exit\n",
            "  --group GROUP         Search for competitions in a specific group. Default is 'general'. Valid options are 'general', 'entered', and 'inClass'\n",
            "  --category CATEGORY   Search for competitions of a specific category. Default is 'all'. Valid options are 'all', 'featured', 'research', 'recruitment', 'gettingStarted', 'masters', and 'playground'\n",
            "  --sort-by SORT_BY     Sort list results. Default is 'latestDeadline'. Valid options are 'grouped', 'prize', 'earliestDeadline', 'latestDeadline', 'numberOfTeams', and 'recentlyCreated'\n",
            "  -p PAGE, --page PAGE  Page number for results paging. Page size is 20 by default\n",
            "  -s SEARCH, --search SEARCH\n",
            "                        Term(s) to search for\n",
            "  -v, --csv             Print results in CSV format (if not set print in table format)\n"
          ],
          "name": "stdout"
        }
      ]
    },
    {
      "cell_type": "code",
      "metadata": {
        "id": "UWPNbGvLyQCD",
        "colab_type": "code",
        "colab": {
          "base_uri": "https://localhost:8080/",
          "height": 424
        },
        "outputId": "e48853f5-0364-4bd9-c729-b4bc9d98fde3"
      },
      "source": [
        "# health에 해당되는 경진대회를 찾아보기\n",
        "!kaggle competitions list -s health"
      ],
      "execution_count": 7,
      "outputs": [
        {
          "output_type": "stream",
          "text": [
            "ref                                        deadline             category        reward  teamCount  userHasEntered  \n",
            "-----------------------------------------  -------------------  ----------  ----------  ---------  --------------  \n",
            "hhp                                        2013-04-04 07:00:00  Featured      $500,000       1351           False  \n",
            "osic-pulmonary-fibrosis-progression        2020-10-06 23:59:00  Featured       $55,000        769           False  \n",
            "prostate-cancer-grade-assessment           2020-07-22 23:59:00  Featured       $25,000       1010           False  \n",
            "datasciencebowl                            2015-03-16 23:59:00  Featured      $175,000       1049           False  \n",
            "ultrasound-nerve-segmentation              2016-08-18 23:59:00  Featured      $100,000        922           False  \n",
            "liverpool-ion-switching                    2020-05-25 23:59:00  Research       $25,000       2618           False  \n",
            "aptos2019-blindness-detection              2019-09-07 23:59:00  Featured       $50,000       2931           False  \n",
            "diabetic-retinopathy-detection             2015-07-27 23:59:00  Featured      $100,000        660           False  \n",
            "msk-redefining-cancer-treatment            2017-10-02 23:59:00  Research       $15,000       1386           False  \n",
            "histopathologic-cancer-detection           2019-03-30 23:59:00  Playground   Knowledge       1157           False  \n",
            "rsna-intracranial-hemorrhage-detection     2019-11-13 23:59:00  Featured       $25,000       1345           False  \n",
            "data-science-bowl-2017                     2017-04-12 23:59:00  Featured    $1,000,000       1972           False  \n",
            "melbourne-university-seizure-prediction    2016-12-01 23:59:00  Research       $20,000        477           False  \n",
            "second-annual-data-science-bowl            2016-03-14 23:59:00  Featured      $200,000        192           False  \n",
            "intel-mobileodt-cervical-cancer-screening  2017-06-21 23:59:00  Featured      $100,000        848           False  \n",
            "mens-machine-learning-competition-2018     2018-04-02 23:59:00  Featured       $50,000        933           False  \n",
            "kobe-bryant-shot-selection                 2016-06-13 23:59:00  Playground   Knowledge       1117           False  \n",
            "nfl-big-data-bowl-2020                     2020-01-06 23:59:00  Featured       $75,000       2038           False  \n",
            "mens-machine-learning-competition-2019     2019-04-09 06:00:00  Featured       $25,000        866           False  \n",
            "womens-machine-learning-competition-2019   2019-04-08 05:10:00  Featured       $25,000        500           False  \n"
          ],
          "name": "stdout"
        }
      ]
    },
    {
      "cell_type": "code",
      "metadata": {
        "id": "IAJCTOw6yYKc",
        "colab_type": "code",
        "colab": {
          "base_uri": "https://localhost:8080/",
          "height": 107
        },
        "outputId": "cde1b9f4-ffee-4837-aaae-81d7ec2241ea"
      },
      "source": [
        "# nlp와 관련된 경진대회 찾아보기\n",
        "!kaggle competitions ilst -s nlp"
      ],
      "execution_count": 8,
      "outputs": [
        {
          "output_type": "stream",
          "text": [
            "usage: kaggle competitions [-h]\n",
            "                           {list,files,download,submit,submissions,leaderboard}\n",
            "                           ...\n",
            "kaggle competitions: error: argument command: invalid choice: 'ilst' (choose from 'list', 'files', 'download', 'submit', 'submissions', 'leaderboard')\n"
          ],
          "name": "stdout"
        }
      ]
    },
    {
      "cell_type": "code",
      "metadata": {
        "id": "XMJUC1Arydw8",
        "colab_type": "code",
        "colab": {
          "base_uri": "https://localhost:8080/",
          "height": 107
        },
        "outputId": "38036a45-3310-43d1-c697-d92977cb2920"
      },
      "source": [
        "# 튜토리얼과 관련된 경진대회를 찾아보기\n",
        "!kaggle competitions list -s tutorial"
      ],
      "execution_count": 9,
      "outputs": [
        {
          "output_type": "stream",
          "text": [
            "ref                                                             deadline             category            reward  teamCount  userHasEntered  \n",
            "--------------------------------------------------------------  -------------------  ---------------  ---------  ---------  --------------  \n",
            "word2vec-nlp-tutorial                                           2015-06-30 23:59:00  Getting Started  Knowledge        577           False  \n",
            "pycon-2015-tutorial-predict-closed-questions-on-stack-overflow  2015-08-04 23:59:00  Playground         $20,000          0           False  \n"
          ],
          "name": "stdout"
        }
      ]
    },
    {
      "cell_type": "code",
      "metadata": {
        "id": "npE-kLMtyirZ",
        "colab_type": "code",
        "colab": {
          "base_uri": "https://localhost:8080/",
          "height": 105
        },
        "outputId": "0bcdec46-ea8d-4890-a88a-6f021b868ad4"
      },
      "source": [
        "# 타이타닉 경진대회의 데이터셋을 본다.\n",
        "!kaggle competitions files -c titanic"
      ],
      "execution_count": 10,
      "outputs": [
        {
          "output_type": "stream",
          "text": [
            "name                   size  creationDate         \n",
            "---------------------  ----  -------------------  \n",
            "test.csv               28KB  2018-04-09 05:33:22  \n",
            "train.csv              60KB  2018-04-09 05:33:22  \n",
            "gender_submission.csv   3KB  2018-04-09 05:33:22  \n"
          ],
          "name": "stdout"
        }
      ]
    },
    {
      "cell_type": "code",
      "metadata": {
        "id": "x17_THkDyo2C",
        "colab_type": "code",
        "colab": {
          "base_uri": "https://localhost:8080/",
          "height": 122
        },
        "outputId": "193cf505-3ac2-4c29-87e5-cae202286db0"
      },
      "source": [
        "# word2vec-nlp-tutorial의 데이터셋을 본다.\n",
        "!kaggle competitions files -c word2vec-nlp-tutorial"
      ],
      "execution_count": 11,
      "outputs": [
        {
          "output_type": "stream",
          "text": [
            "name                         size  creationDate         \n",
            "--------------------------  -----  -------------------  \n",
            "labeledTrainData.tsv.zip     13MB  2018-05-05 20:07:07  \n",
            "sampleSubmission.csv        276KB  2018-05-05 20:07:07  \n",
            "testData.tsv.zip             13MB  2018-05-05 20:07:07  \n",
            "unlabeledTrainData.tsv.zip   26MB  2018-05-05 20:07:07  \n"
          ],
          "name": "stdout"
        }
      ]
    },
    {
      "cell_type": "code",
      "metadata": {
        "id": "j9jVNhUNzEtG",
        "colab_type": "code",
        "colab": {
          "base_uri": "https://localhost:8080/",
          "height": 70
        },
        "outputId": "62f3a30a-9e7e-4ade-b6fe-4d31d45641f7"
      },
      "source": [
        "# 타이타닉 경진대회 파일을 다운로드 받는다.\n",
        "!kaggle competitions download -c titanic"
      ],
      "execution_count": 12,
      "outputs": [
        {
          "output_type": "stream",
          "text": [
            "Downloading titanic.zip to /content\n",
            "\r  0% 0.00/34.1k [00:00<?, ?B/s]\n",
            "\r100% 34.1k/34.1k [00:00<00:00, 25.2MB/s]\n"
          ],
          "name": "stdout"
        }
      ]
    },
    {
      "cell_type": "code",
      "metadata": {
        "id": "KsSdyXCIzMup",
        "colab_type": "code",
        "colab": {
          "base_uri": "https://localhost:8080/",
          "height": 34
        },
        "outputId": "8bd81deb-a141-4e73-93f2-10da2d472265"
      },
      "source": [
        "# NACOS를 사용한다면 기본 다운로드 경로는 API credentials를 복사해 놓은 ~/.kaggle 폴더이다.\n",
        "# 윈도우에서는 C:\\Users\\<Windows-username>\\.kaggle에 다운로드 된다.\n",
        "%ls ~/.kaggle"
      ],
      "execution_count": 13,
      "outputs": [
        {
          "output_type": "stream",
          "text": [
            "\u001b[0m\u001b[01;34mcompetitions\u001b[0m/  kaggle.json  titanic.zip\n"
          ],
          "name": "stdout"
        }
      ]
    },
    {
      "cell_type": "code",
      "metadata": {
        "id": "AOjEyBoHBtn9",
        "colab_type": "code",
        "colab": {}
      },
      "source": [
        "# content에 있던 titanic.zip을 competitions로 옮겨 준다.\n",
        "!mv titanic.zip ~/.kaggle/competitions"
      ],
      "execution_count": 25,
      "outputs": []
    },
    {
      "cell_type": "code",
      "metadata": {
        "id": "hhHxr1ISMP2I",
        "colab_type": "code",
        "colab": {
          "base_uri": "https://localhost:8080/",
          "height": 122
        },
        "outputId": "d7e03d17-fb03-4ef4-a420-2b78f89163f0"
      },
      "source": [
        "!ls ~/.kaggle/competitions\n",
        "%cd ~/.kaggle/competitions\n",
        "# titanic.zip 압축 해제\n",
        "!unzip titanic.zip"
      ],
      "execution_count": 27,
      "outputs": [
        {
          "output_type": "stream",
          "text": [
            "titanic.zip\n",
            "/root/.kaggle/competitions\n",
            "Archive:  titanic.zip\n",
            "  inflating: gender_submission.csv   \n",
            "  inflating: test.csv                \n",
            "  inflating: train.csv               \n"
          ],
          "name": "stdout"
        }
      ]
    },
    {
      "cell_type": "code",
      "metadata": {
        "id": "sBu1Wlybzcpn",
        "colab_type": "code",
        "colab": {
          "base_uri": "https://localhost:8080/",
          "height": 34
        },
        "outputId": "e6e5308f-e819-410e-81b9-f579eee84abe"
      },
      "source": [
        "# 다운로드가 제대로 되었는지 확인해 본다.\n",
        "# ls 명령어는 특정 경로에 어떤 파일이 있는지 확인해 보는 명령어이다.\n",
        "# %dir # 윈도우 사용자라면 dir로 확인해 본다.\n",
        "%ls ~/.kaggle/competitions"
      ],
      "execution_count": 28,
      "outputs": [
        {
          "output_type": "stream",
          "text": [
            "gender_submission.csv  test.csv  titanic.zip  train.csv\n"
          ],
          "name": "stdout"
        }
      ]
    },
    {
      "cell_type": "code",
      "metadata": {
        "id": "oW3ABCfiMzkF",
        "colab_type": "code",
        "colab": {}
      },
      "source": [
        "%rm titanic.zip"
      ],
      "execution_count": 29,
      "outputs": []
    },
    {
      "cell_type": "code",
      "metadata": {
        "id": "uAz7jkNmM40P",
        "colab_type": "code",
        "colab": {
          "base_uri": "https://localhost:8080/",
          "height": 34
        },
        "outputId": "65b4d344-93ca-430b-9d81-45335ce00295"
      },
      "source": [
        "%ls"
      ],
      "execution_count": 30,
      "outputs": [
        {
          "output_type": "stream",
          "text": [
            "gender_submission.csv  test.csv  train.csv\n"
          ],
          "name": "stdout"
        }
      ]
    },
    {
      "cell_type": "code",
      "metadata": {
        "id": "c_oXUaD5zclJ",
        "colab_type": "code",
        "colab": {
          "base_uri": "https://localhost:8080/",
          "height": 34
        },
        "outputId": "bef97cf1-f848-4c57-a262-ab68dc65ee72"
      },
      "source": [
        "# 특정 폴더에 다운로드 받고자 한다면 다운로드 받을 경로를 지정해준다.\n",
        "!kaggle competitions download -c titanic -p ./"
      ],
      "execution_count": 16,
      "outputs": [
        {
          "output_type": "stream",
          "text": [
            "titanic.zip: Skipping, found more recently modified local copy (use --force to force download)\n"
          ],
          "name": "stdout"
        }
      ]
    },
    {
      "cell_type": "code",
      "metadata": {
        "id": "9jdfy_zjNhFc",
        "colab_type": "code",
        "colab": {
          "base_uri": "https://localhost:8080/",
          "height": 70
        },
        "outputId": "4d01c323-f7d5-455c-f9e0-1f64c51584cb"
      },
      "source": [
        "# 위와 같은 오류 발생으로 인해 다음과 같이 해준다.\n",
        "!kaggle competitions download --force -c titanic -p "
      ],
      "execution_count": 31,
      "outputs": [
        {
          "output_type": "stream",
          "text": [
            "Downloading titanic.zip to .\n",
            "\r  0% 0.00/34.1k [00:00<?, ?B/s]\n",
            "\r100% 34.1k/34.1k [00:00<00:00, 18.2MB/s]\n"
          ],
          "name": "stdout"
        }
      ]
    },
    {
      "cell_type": "code",
      "metadata": {
        "id": "THw2UgWINu7Y",
        "colab_type": "code",
        "colab": {
          "base_uri": "https://localhost:8080/",
          "height": 34
        },
        "outputId": "0f895fe0-148d-42b8-cc34-d3d8271cae39"
      },
      "source": [
        "# 제대로 다운로드 받았는지 해당 경로를 찾아본다. 윈도우 사용자라면 %ls 대신 %dir을 사용한다.\n",
        "%ls"
      ],
      "execution_count": 33,
      "outputs": [
        {
          "output_type": "stream",
          "text": [
            "gender_submission.csv  test.csv  titanic.zip  train.csv\n"
          ],
          "name": "stdout"
        }
      ]
    },
    {
      "cell_type": "code",
      "metadata": {
        "id": "G6NxD6Yy3XtF",
        "colab_type": "code",
        "colab": {
          "base_uri": "https://localhost:8080/",
          "height": 105
        },
        "outputId": "2bef2b7c-0b61-44f5-e25b-9d003daee4a3"
      },
      "source": [
        "# 경진대회 파일이 모두 다운로드 받아졌는지 확인해 본다.\n",
        "!kaggle competitions files -c titanic"
      ],
      "execution_count": 18,
      "outputs": [
        {
          "output_type": "stream",
          "text": [
            "name                   size  creationDate         \n",
            "---------------------  ----  -------------------  \n",
            "test.csv               28KB  2018-04-09 05:33:22  \n",
            "gender_submission.csv   3KB  2018-04-09 05:33:22  \n",
            "train.csv              60KB  2018-04-09 05:33:22  \n"
          ],
          "name": "stdout"
        }
      ]
    },
    {
      "cell_type": "markdown",
      "metadata": {
        "id": "P5ouR2N73dUH",
        "colab_type": "text"
      },
      "source": [
        "# **Submission**\n",
        "\n",
        "kaggle competitions submit -c favorita-grocery-sales-forecasting -f sample_submission_favorita.csv7z -m \"My submission message\""
      ]
    },
    {
      "cell_type": "code",
      "metadata": {
        "id": "LVIBF6j_OKML",
        "colab_type": "code",
        "colab": {
          "base_uri": "https://localhost:8080/",
          "height": 34
        },
        "outputId": "b044185d-5fdf-4861-f877-40c5618eef4e"
      },
      "source": [
        "%cd ~/.kaggle"
      ],
      "execution_count": 34,
      "outputs": [
        {
          "output_type": "stream",
          "text": [
            "/root/.kaggle\n"
          ],
          "name": "stdout"
        }
      ]
    },
    {
      "cell_type": "code",
      "metadata": {
        "id": "53e7WcijQeMb",
        "colab_type": "code",
        "colab": {
          "base_uri": "https://localhost:8080/",
          "height": 70
        },
        "outputId": "1c2b2f8e-5de5-48fe-b775-5cfcf114f079"
      },
      "source": [
        "# word2vec-nlp-tutorial에 관한 파일 다운로드\n",
        "!kaggle competitions download -c word2vec-nlp-tutorial"
      ],
      "execution_count": 45,
      "outputs": [
        {
          "output_type": "stream",
          "text": [
            "Downloading word2vec-nlp-tutorial.zip to /root/.kaggle\n",
            " 95% 49.0M/51.7M [00:02<00:00, 27.0MB/s]\n",
            "100% 51.7M/51.7M [00:02<00:00, 23.6MB/s]\n"
          ],
          "name": "stdout"
        }
      ]
    },
    {
      "cell_type": "code",
      "metadata": {
        "id": "_yuwmdbBQmsM",
        "colab_type": "code",
        "colab": {
          "base_uri": "https://localhost:8080/",
          "height": 35
        },
        "outputId": "a573607f-fd53-4b33-96ed-3f9e63eb8cff"
      },
      "source": [
        "%pwd"
      ],
      "execution_count": 46,
      "outputs": [
        {
          "output_type": "execute_result",
          "data": {
            "application/vnd.google.colaboratory.intrinsic+json": {
              "type": "string"
            },
            "text/plain": [
              "'/root/.kaggle'"
            ]
          },
          "metadata": {
            "tags": []
          },
          "execution_count": 46
        }
      ]
    },
    {
      "cell_type": "code",
      "metadata": {
        "id": "_tRx8ObNQqLc",
        "colab_type": "code",
        "colab": {}
      },
      "source": [
        "# ./word2vec-nlp-tutorial 디렉토리 생성\n",
        "%mkdir ./word2vec-nlp-tutorial"
      ],
      "execution_count": 48,
      "outputs": []
    },
    {
      "cell_type": "code",
      "metadata": {
        "id": "XWuev5FvQ9DA",
        "colab_type": "code",
        "colab": {}
      },
      "source": [
        "# ./word2vec-nlp-tutorial/data 디렉토리 생성\n",
        "%mkdir ./word2vec-nlp-tutorial/data"
      ],
      "execution_count": 49,
      "outputs": []
    },
    {
      "cell_type": "code",
      "metadata": {
        "id": "sbRA7d6-Qz_B",
        "colab_type": "code",
        "colab": {}
      },
      "source": [
        "# 다운받은 zip 파일을 디렉토리에 옮겨준다.\n",
        "%mv word2vec-nlp-tutorial.zip ./word2vec-nlp-tutorial/data/"
      ],
      "execution_count": 50,
      "outputs": []
    },
    {
      "cell_type": "code",
      "metadata": {
        "id": "SI5gCBUpREY0",
        "colab_type": "code",
        "colab": {
          "base_uri": "https://localhost:8080/",
          "height": 34
        },
        "outputId": "38f20f90-8ee2-42d5-879e-0d5be4719e86"
      },
      "source": [
        "%cd ./word2vec-nlp-tutorial/data/"
      ],
      "execution_count": 51,
      "outputs": [
        {
          "output_type": "stream",
          "text": [
            "/root/.kaggle/word2vec-nlp-tutorial/data\n"
          ],
          "name": "stdout"
        }
      ]
    },
    {
      "cell_type": "code",
      "metadata": {
        "id": "2kuiNfBCRJB-",
        "colab_type": "code",
        "colab": {
          "base_uri": "https://localhost:8080/",
          "height": 34
        },
        "outputId": "c149df7a-bf6e-43a3-f8dd-6c1d0dd1a8d9"
      },
      "source": [
        "%ls"
      ],
      "execution_count": 52,
      "outputs": [
        {
          "output_type": "stream",
          "text": [
            "word2vec-nlp-tutorial.zip\n"
          ],
          "name": "stdout"
        }
      ]
    },
    {
      "cell_type": "code",
      "metadata": {
        "id": "CVCrIqmbRLfg",
        "colab_type": "code",
        "colab": {
          "base_uri": "https://localhost:8080/",
          "height": 105
        },
        "outputId": "f67feac6-316a-48a3-fd6f-3661361e00ba"
      },
      "source": [
        "# 압축파일 해제\n",
        "!unzip word2vec-nlp-tutorial.zip"
      ],
      "execution_count": 53,
      "outputs": [
        {
          "output_type": "stream",
          "text": [
            "Archive:  word2vec-nlp-tutorial.zip\n",
            "  inflating: labeledTrainData.tsv.zip  \n",
            "  inflating: sampleSubmission.csv    \n",
            "  inflating: testData.tsv.zip        \n",
            "  inflating: unlabeledTrainData.tsv.zip  \n"
          ],
          "name": "stdout"
        }
      ]
    },
    {
      "cell_type": "code",
      "metadata": {
        "id": "JLQCx0tXRdHJ",
        "colab_type": "code",
        "colab": {
          "base_uri": "https://localhost:8080/",
          "height": 34
        },
        "outputId": "e83801ec-6929-4147-ff20-5e5f35ea12ae"
      },
      "source": [
        "%cd ~/.kaggle"
      ],
      "execution_count": 56,
      "outputs": [
        {
          "output_type": "stream",
          "text": [
            "/root/.kaggle\n"
          ],
          "name": "stdout"
        }
      ]
    },
    {
      "cell_type": "code",
      "metadata": {
        "id": "CFSYRmeZ3wRN",
        "colab_type": "code",
        "colab": {
          "base_uri": "https://localhost:8080/",
          "height": 52
        },
        "outputId": "d6d608e5-8788-4916-be16-688c64b33cb7"
      },
      "source": [
        "# 경진대회의 약관(rule)에 동의했다면 API로 서브미션이 가능하다.\n",
        "!kaggle competitions submit -c word2vec-nlp-tutorial -f ./word2vec-nlp-tutorial/data/sampleSubmission.csv -m 'API submit msg'"
      ],
      "execution_count": 57,
      "outputs": [
        {
          "output_type": "stream",
          "text": [
            "100% 276k/276k [00:00<00:00, 300kB/s]\n",
            "Successfully submitted to Bag of Words Meets Bags of Popcorn"
          ],
          "name": "stdout"
        }
      ]
    },
    {
      "cell_type": "code",
      "metadata": {
        "id": "mMMcDEVf4C1J",
        "colab_type": "code",
        "colab": {
          "base_uri": "https://localhost:8080/",
          "height": 70
        },
        "outputId": "0b2fe986-5800-42e7-d13e-699875d94548"
      },
      "source": [
        "!kaggle competitions submissions -c word2vec-nlp-tutorial"
      ],
      "execution_count": 58,
      "outputs": [
        {
          "output_type": "stream",
          "text": [
            "fileName              date                 description     status    publicScore  privateScore  \n",
            "--------------------  -------------------  --------------  --------  -----------  ------------  \n",
            "sampleSubmission.csv  2020-08-10 12:08:54  API submit msg  complete  0.50000      0.50000       \n"
          ],
          "name": "stdout"
        }
      ]
    },
    {
      "cell_type": "markdown",
      "metadata": {
        "id": "c2aTT4V24Ioj",
        "colab_type": "text"
      },
      "source": [
        "# **Dataset**\n",
        "\n",
        "    kaggle datasets {list, files, downlaod}\n",
        "\n",
        "usage: kaggle datasets list [-h] [-p PAGE] [-s SEARCH] [-v]\n",
        "\n",
        "optional arguments:\n",
        "  -h, --help    show this help message and exit\n",
        "\n",
        "  -p PAGE, --page PAGE    page number\n",
        "\n",
        "  -s SEARCH, --search SEARCH   term(s) to search for\n",
        "\n",
        "  -v, --csv     print in csv format(if not set print n table format)"
      ]
    },
    {
      "cell_type": "code",
      "metadata": {
        "id": "CqSJ8Z3_5eOy",
        "colab_type": "code",
        "colab": {
          "base_uri": "https://localhost:8080/",
          "height": 404
        },
        "outputId": "ef5c90e0-c3ef-4af0-a154-534e2b4b4a78"
      },
      "source": [
        "# 설문조사와 관련된 데이터셋을 찾아본다.\n",
        "!kaggle datasets list -s survey"
      ],
      "execution_count": 21,
      "outputs": [
        {
          "output_type": "stream",
          "text": [
            "ref                                                   title                                              size  lastUpdated          downloadCount  voteCount  usabilityRating  \n",
            "----------------------------------------------------  ------------------------------------------------  -----  -------------------  -------------  ---------  ---------------  \n",
            "miroslavsabo/young-people-survey                      Young People Survey                                84KB  2016-12-06 03:10:30          28551        518  0.85294116       \n",
            "kaggle/kaggle-survey-2018                             2018 Kaggle ML & DS Survey                          4MB  2018-11-03 22:35:07          12825        913  0.85294116       \n",
            "ruslankl/european-union-lgbt-survey-2012              EU LGBT Survey                                    610KB  2019-07-19 11:15:25           3159        151  1.0              \n",
            "kaggle/kaggle-survey-2017                             2017 Kaggle ML & DS Survey                          4MB  2017-10-27 22:03:03          20064        780  0.8235294        \n",
            "osmi/mental-health-in-tech-survey                     Mental Health in Tech Survey                       49KB  2016-11-03 17:28:47          26208        588  0.88235295       \n",
            "datahackers/pesquisa-data-hackers-2019                Data Hackers Survey 2019                          134KB  2020-05-12 17:37:20            483        153  0.9705882        \n",
            "stackoverflow/stack-overflow-2018-developer-survey    Stack Overflow 2018 Developer Survey               20MB  2018-05-15 16:59:54           9643        382  0.85294116       \n",
            "hackerrank/developer-survey-2018                      HackerRank Developer Survey 2018                    5MB  2018-03-19 21:42:43           3263        144  0.8235294        \n",
            "stackoverflow/so-survey-2017                          Stack Overflow Developer Survey, 2017              10MB  2017-06-15 14:15:47           5191        187  0.85294116       \n",
            "lucidlenn/sloan-digital-sky-survey                    Sloan Digital Sky Survey DR14                     446KB  2018-09-20 00:23:41           3239        142  0.8235294        \n",
            "census/2013-american-community-survey                 2013 American Community Survey                    916MB  2017-05-01 19:10:03           4822         86  0.7647059        \n",
            "census/current-population-survey                      Current Population Survey                          22MB  2019-11-17 23:09:52           1556         41  0.7647059        \n",
            "freecodecamp/2016-new-coder-survey-                   2016 New Coder Survey                               2MB  2016-06-03 00:27:28           4356         79  0.7058824        \n",
            "cdc/national-health-and-nutrition-examination-survey  National Health and Nutrition Examination Survey    7MB  2017-01-26 20:11:45           9063        198  0.7352941        \n",
            "bls/american-time-use-survey                          American Time Use Survey                          249MB  2017-06-15 16:32:54           2028         55  0.7352941        \n",
            "census/2015-american-community-survey                 2015 American Community Survey                    961MB  2019-11-17 23:14:49           1491         47  0.7647059        \n",
            "muhakabartay/sloan-digital-sky-survey-dr16            Sloan Digital Sky Survey DR16                       6MB  2019-12-30 17:24:28            137         35  1.0              \n",
            "fernandol/world-values-survey                         World Values Survey                                 1MB  2018-04-30 15:00:31            892         41  0.7647059        \n",
            "jupyter/2015-notebook-ux-survey                       2015 Notebook UX Survey                           198KB  2017-05-01 17:56:25            934         47  0.64705884       \n",
            "erikhambardzumyan/pubs                                Armenian Pub Survey                                 4KB  2017-03-17 16:59:25            588         13  0.88235295       \n"
          ],
          "name": "stdout"
        }
      ]
    },
    {
      "cell_type": "code",
      "metadata": {
        "id": "d8hpIZ7r5iuK",
        "colab_type": "code",
        "colab": {
          "base_uri": "https://localhost:8080/",
          "height": 87
        },
        "outputId": "ead1d0dd-12cc-44c6-ca2a-4f28c13fc16d"
      },
      "source": [
        "# 특정 데이터셋을 찾아보기\n",
        "!kaggle datasets files  stackoverflow/so-survey-2017"
      ],
      "execution_count": 59,
      "outputs": [
        {
          "output_type": "stream",
          "text": [
            "name                       size  creationDate         \n",
            "-------------------------  ----  -------------------  \n",
            "survey_results_public.csv  89MB  2017-06-15 14:15:47  \n",
            "survey_results_schema.csv  22KB  2017-06-15 14:15:47  \n"
          ],
          "name": "stdout"
        }
      ]
    },
    {
      "cell_type": "code",
      "metadata": {
        "id": "CycLiLEo5oKU",
        "colab_type": "code",
        "colab": {
          "base_uri": "https://localhost:8080/",
          "height": 246
        },
        "outputId": "97fe166c-139e-4aef-e803-6d783de72430"
      },
      "source": [
        "# zillow와 관련된 데이터셋\n",
        "!kaggle datasets files zillow/zecon"
      ],
      "execution_count": 60,
      "outputs": [
        {
          "output_type": "stream",
          "text": [
            "name                           size  creationDate         \n",
            "----------------------------  -----  -------------------  \n",
            "City_time_series.csv          658MB  2018-01-24 23:53:58  \n",
            "CountyCrossWalk_Zillow.csv    227KB  2018-01-24 23:53:58  \n",
            "Neighborhood_time_series.csv  253MB  2018-01-24 23:53:58  \n",
            "DataDictionary.csv              5KB  2018-01-24 23:53:58  \n",
            "cities_crosswalk.csv            1MB  2018-01-24 23:53:58  \n",
            "County_time_series.csv        108MB  2018-01-24 23:53:58  \n",
            "Metro_time_series.csv          54MB  2018-01-24 23:53:58  \n",
            "Zip_time_series.csv           746MB  2018-01-24 23:53:58  \n",
            "all_available_metrics.json      3KB  2018-01-24 23:53:58  \n",
            "fields_per_level.json          17KB  2018-01-24 23:53:58  \n",
            "State_time_series.csv           5MB  2018-01-24 23:53:58  \n"
          ],
          "name": "stdout"
        }
      ]
    }
  ]
}