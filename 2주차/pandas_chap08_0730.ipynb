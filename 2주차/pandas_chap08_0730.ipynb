{
  "nbformat": 4,
  "nbformat_minor": 0,
  "metadata": {
    "colab": {
      "name": "pandas_chap08.ipynb",
      "provenance": [],
      "authorship_tag": "ABX9TyMq7HzvKa03LkDgPehp9jr/",
      "include_colab_link": true
    },
    "kernelspec": {
      "name": "python3",
      "display_name": "Python 3"
    }
  },
  "cells": [
    {
      "cell_type": "markdown",
      "metadata": {
        "id": "view-in-github",
        "colab_type": "text"
      },
      "source": [
        "<a href=\"https://colab.research.google.com/github/yooste/SOLUX_summer_data/blob/master/2%EC%A3%BC%EC%B0%A8/pandas_chap08_0730.ipynb\" target=\"_parent\"><img src=\"https://colab.research.google.com/assets/colab-badge.svg\" alt=\"Open In Colab\"/></a>"
      ]
    },
    {
      "cell_type": "code",
      "metadata": {
        "id": "ZUh_Nq084OXw",
        "colab_type": "code",
        "colab": {}
      },
      "source": [
        "import pandas as pd"
      ],
      "execution_count": 1,
      "outputs": []
    },
    {
      "cell_type": "code",
      "metadata": {
        "id": "9TF1M4s74T2I",
        "colab_type": "code",
        "colab": {}
      },
      "source": [
        "# 이름, 학과, 성별이 포함된 학생 정보 리스트로 데이터 프레임 생성\n",
        "student_list = [{'name':'John','major':'Computer Science','sex':'male'},\n",
        "                {'name':'Nate','major':'Computer Science','sex':'male'},\n",
        "                {'name':'Abraham','major':'Physics','sex':'male'},\n",
        "                {'name':'Brian','major':'Psychology','sex':'male'},\n",
        "                {'name':'Jenny','major':'Economics','sex':'female'},\n",
        "                {'name':'Yuna','major':'Economics','sex':'female'},\n",
        "                {'name':'Jeniffer','major':'Computer Science','sex':'female'},\n",
        "                {'name':'Edward','major':'Computer Science','sex':'male'},\n",
        "                {'name':'Zara','major':'Psychology','sex':'female'},\n",
        "                {'name':'Wendy','major':'Economics','sex':'female'},\n",
        "                {'name':'Sera','major':'Psychology','sex':'female'}\n",
        "]\n",
        "df = pd.DataFrame(student_list, columns = ['name','major','sex'])"
      ],
      "execution_count": 2,
      "outputs": []
    },
    {
      "cell_type": "code",
      "metadata": {
        "id": "7zD8kSNJ5v5v",
        "colab_type": "code",
        "colab": {
          "base_uri": "https://localhost:8080/",
          "height": 373
        },
        "outputId": "2a688ab4-3c28-4d50-f527-5de33c2d5eb0"
      },
      "source": [
        "df"
      ],
      "execution_count": 4,
      "outputs": [
        {
          "output_type": "execute_result",
          "data": {
            "text/html": [
              "<div>\n",
              "<style scoped>\n",
              "    .dataframe tbody tr th:only-of-type {\n",
              "        vertical-align: middle;\n",
              "    }\n",
              "\n",
              "    .dataframe tbody tr th {\n",
              "        vertical-align: top;\n",
              "    }\n",
              "\n",
              "    .dataframe thead th {\n",
              "        text-align: right;\n",
              "    }\n",
              "</style>\n",
              "<table border=\"1\" class=\"dataframe\">\n",
              "  <thead>\n",
              "    <tr style=\"text-align: right;\">\n",
              "      <th></th>\n",
              "      <th>name</th>\n",
              "      <th>major</th>\n",
              "      <th>sex</th>\n",
              "    </tr>\n",
              "  </thead>\n",
              "  <tbody>\n",
              "    <tr>\n",
              "      <th>0</th>\n",
              "      <td>John</td>\n",
              "      <td>Computer Science</td>\n",
              "      <td>male</td>\n",
              "    </tr>\n",
              "    <tr>\n",
              "      <th>1</th>\n",
              "      <td>Nate</td>\n",
              "      <td>Computer Science</td>\n",
              "      <td>male</td>\n",
              "    </tr>\n",
              "    <tr>\n",
              "      <th>2</th>\n",
              "      <td>Abraham</td>\n",
              "      <td>Physics</td>\n",
              "      <td>male</td>\n",
              "    </tr>\n",
              "    <tr>\n",
              "      <th>3</th>\n",
              "      <td>Brian</td>\n",
              "      <td>Psychology</td>\n",
              "      <td>male</td>\n",
              "    </tr>\n",
              "    <tr>\n",
              "      <th>4</th>\n",
              "      <td>Jenny</td>\n",
              "      <td>Economics</td>\n",
              "      <td>female</td>\n",
              "    </tr>\n",
              "    <tr>\n",
              "      <th>5</th>\n",
              "      <td>Yuna</td>\n",
              "      <td>Economics</td>\n",
              "      <td>female</td>\n",
              "    </tr>\n",
              "    <tr>\n",
              "      <th>6</th>\n",
              "      <td>Jeniffer</td>\n",
              "      <td>Computer Science</td>\n",
              "      <td>female</td>\n",
              "    </tr>\n",
              "    <tr>\n",
              "      <th>7</th>\n",
              "      <td>Edward</td>\n",
              "      <td>Computer Science</td>\n",
              "      <td>male</td>\n",
              "    </tr>\n",
              "    <tr>\n",
              "      <th>8</th>\n",
              "      <td>Zara</td>\n",
              "      <td>Psychology</td>\n",
              "      <td>female</td>\n",
              "    </tr>\n",
              "    <tr>\n",
              "      <th>9</th>\n",
              "      <td>Wendy</td>\n",
              "      <td>Economics</td>\n",
              "      <td>female</td>\n",
              "    </tr>\n",
              "    <tr>\n",
              "      <th>10</th>\n",
              "      <td>Sera</td>\n",
              "      <td>Psychology</td>\n",
              "      <td>female</td>\n",
              "    </tr>\n",
              "  </tbody>\n",
              "</table>\n",
              "</div>"
            ],
            "text/plain": [
              "        name             major     sex\n",
              "0       John  Computer Science    male\n",
              "1       Nate  Computer Science    male\n",
              "2    Abraham           Physics    male\n",
              "3      Brian        Psychology    male\n",
              "4      Jenny         Economics  female\n",
              "5       Yuna         Economics  female\n",
              "6   Jeniffer  Computer Science  female\n",
              "7     Edward  Computer Science    male\n",
              "8       Zara        Psychology  female\n",
              "9      Wendy         Economics  female\n",
              "10      Sera        Psychology  female"
            ]
          },
          "metadata": {
            "tags": []
          },
          "execution_count": 4
        }
      ]
    },
    {
      "cell_type": "code",
      "metadata": {
        "id": "vMy69A_-5w8Q",
        "colab_type": "code",
        "colab": {}
      },
      "source": [
        "groupby_major = df.groupby('major')   # 학과 정보로 정보 추출하기"
      ],
      "execution_count": 6,
      "outputs": []
    },
    {
      "cell_type": "code",
      "metadata": {
        "id": "AAOBsmYC58WH",
        "colab_type": "code",
        "colab": {
          "base_uri": "https://localhost:8080/",
          "height": 87
        },
        "outputId": "302f1ece-7cb7-4bc1-aff9-ae5a5bb936e6"
      },
      "source": [
        "groupby_major.groups    # 학과 별로 묶인 것을 볼 수 있음"
      ],
      "execution_count": 7,
      "outputs": [
        {
          "output_type": "execute_result",
          "data": {
            "text/plain": [
              "{'Computer Science': Int64Index([0, 1, 6, 7], dtype='int64'),\n",
              " 'Economics': Int64Index([4, 5, 9], dtype='int64'),\n",
              " 'Physics': Int64Index([2], dtype='int64'),\n",
              " 'Psychology': Int64Index([3, 8, 10], dtype='int64')}"
            ]
          },
          "metadata": {
            "tags": []
          },
          "execution_count": 7
        }
      ]
    },
    {
      "cell_type": "code",
      "metadata": {
        "id": "LE4yLy676NU-",
        "colab_type": "code",
        "colab": {
          "base_uri": "https://localhost:8080/",
          "height": 422
        },
        "outputId": "fd70f9a4-d520-4263-d752-ef090a20ca29"
      },
      "source": [
        "for name, group in groupby_major:\n",
        "  print(name + ' : '+str(len(group))) # 학과 별로 몇 명이 있는지 보여줌\n",
        "  print(group)  # 그룹 출력\n",
        "  print()"
      ],
      "execution_count": 8,
      "outputs": [
        {
          "output_type": "stream",
          "text": [
            "Computer Science : 4\n",
            "       name             major     sex\n",
            "0      John  Computer Science    male\n",
            "1      Nate  Computer Science    male\n",
            "6  Jeniffer  Computer Science  female\n",
            "7    Edward  Computer Science    male\n",
            "\n",
            "Economics : 3\n",
            "    name      major     sex\n",
            "4  Jenny  Economics  female\n",
            "5   Yuna  Economics  female\n",
            "9  Wendy  Economics  female\n",
            "\n",
            "Physics : 1\n",
            "      name    major   sex\n",
            "2  Abraham  Physics  male\n",
            "\n",
            "Psychology : 3\n",
            "     name       major     sex\n",
            "3   Brian  Psychology    male\n",
            "8    Zara  Psychology  female\n",
            "10   Sera  Psychology  female\n",
            "\n"
          ],
          "name": "stdout"
        }
      ]
    },
    {
      "cell_type": "code",
      "metadata": {
        "id": "kk_PwS546e2-",
        "colab_type": "code",
        "colab": {
          "base_uri": "https://localhost:8080/",
          "height": 166
        },
        "outputId": "cc41f8e4-363c-486c-ac2c-0c744ca98475"
      },
      "source": [
        "# 그룹별 인덱스 개수를 나타내는 데이터프레임 생성\n",
        "df_major_cnt = pd.DataFrame({'count':groupby_major.size()}).reset_index() \n",
        "df_major_cnt"
      ],
      "execution_count": 11,
      "outputs": [
        {
          "output_type": "execute_result",
          "data": {
            "text/html": [
              "<div>\n",
              "<style scoped>\n",
              "    .dataframe tbody tr th:only-of-type {\n",
              "        vertical-align: middle;\n",
              "    }\n",
              "\n",
              "    .dataframe tbody tr th {\n",
              "        vertical-align: top;\n",
              "    }\n",
              "\n",
              "    .dataframe thead th {\n",
              "        text-align: right;\n",
              "    }\n",
              "</style>\n",
              "<table border=\"1\" class=\"dataframe\">\n",
              "  <thead>\n",
              "    <tr style=\"text-align: right;\">\n",
              "      <th></th>\n",
              "      <th>major</th>\n",
              "      <th>count</th>\n",
              "    </tr>\n",
              "  </thead>\n",
              "  <tbody>\n",
              "    <tr>\n",
              "      <th>0</th>\n",
              "      <td>Computer Science</td>\n",
              "      <td>4</td>\n",
              "    </tr>\n",
              "    <tr>\n",
              "      <th>1</th>\n",
              "      <td>Economics</td>\n",
              "      <td>3</td>\n",
              "    </tr>\n",
              "    <tr>\n",
              "      <th>2</th>\n",
              "      <td>Physics</td>\n",
              "      <td>1</td>\n",
              "    </tr>\n",
              "    <tr>\n",
              "      <th>3</th>\n",
              "      <td>Psychology</td>\n",
              "      <td>3</td>\n",
              "    </tr>\n",
              "  </tbody>\n",
              "</table>\n",
              "</div>"
            ],
            "text/plain": [
              "              major  count\n",
              "0  Computer Science      4\n",
              "1         Economics      3\n",
              "2           Physics      1\n",
              "3        Psychology      3"
            ]
          },
          "metadata": {
            "tags": []
          },
          "execution_count": 11
        }
      ]
    },
    {
      "cell_type": "code",
      "metadata": {
        "id": "t0GO3lyW7AvF",
        "colab_type": "code",
        "colab": {}
      },
      "source": [
        "groupby_sex = df.groupby('sex')   # 성별로 그룹화"
      ],
      "execution_count": 12,
      "outputs": []
    },
    {
      "cell_type": "code",
      "metadata": {
        "id": "Nmiq_1tW_83h",
        "colab_type": "code",
        "colab": {
          "base_uri": "https://localhost:8080/",
          "height": 316
        },
        "outputId": "8e768bd1-ef3f-4b55-dfe8-5f9614da7338"
      },
      "source": [
        "for name, group in groupby_sex:   # 성별로 묶은 그룹의 정보를 보여줌\n",
        "  print(name+' : '+str(len(group)))\n",
        "  print(group)\n",
        "  print()"
      ],
      "execution_count": 13,
      "outputs": [
        {
          "output_type": "stream",
          "text": [
            "female : 6\n",
            "        name             major     sex\n",
            "4      Jenny         Economics  female\n",
            "5       Yuna         Economics  female\n",
            "6   Jeniffer  Computer Science  female\n",
            "8       Zara        Psychology  female\n",
            "9      Wendy         Economics  female\n",
            "10      Sera        Psychology  female\n",
            "\n",
            "male : 5\n",
            "      name             major   sex\n",
            "0     John  Computer Science  male\n",
            "1     Nate  Computer Science  male\n",
            "2  Abraham           Physics  male\n",
            "3    Brian        Psychology  male\n",
            "7   Edward  Computer Science  male\n",
            "\n"
          ],
          "name": "stdout"
        }
      ]
    }
  ]
}