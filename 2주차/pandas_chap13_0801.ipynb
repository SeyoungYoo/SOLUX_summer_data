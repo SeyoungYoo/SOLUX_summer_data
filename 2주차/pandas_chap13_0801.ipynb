{
  "nbformat": 4,
  "nbformat_minor": 0,
  "metadata": {
    "colab": {
      "name": "pandas_chap13.ipynb",
      "provenance": [],
      "authorship_tag": "ABX9TyOgXWUT8iTlqInpppQWyCQv",
      "include_colab_link": true
    },
    "kernelspec": {
      "name": "python3",
      "display_name": "Python 3"
    }
  },
  "cells": [
    {
      "cell_type": "markdown",
      "metadata": {
        "id": "view-in-github",
        "colab_type": "text"
      },
      "source": [
        "<a href=\"https://colab.research.google.com/github/yooste/SOLUX_summer_data/blob/master/2%EC%A3%BC%EC%B0%A8/pandas_chap13_0801.ipynb\" target=\"_parent\"><img src=\"https://colab.research.google.com/assets/colab-badge.svg\" alt=\"Open In Colab\"/></a>"
      ]
    },
    {
      "cell_type": "code",
      "metadata": {
        "id": "lMxZg2ENOSG7",
        "colab_type": "code",
        "colab": {}
      },
      "source": [
        "import pandas as pd"
      ],
      "execution_count": 1,
      "outputs": []
    },
    {
      "cell_type": "code",
      "metadata": {
        "id": "I3PwkiajOVJr",
        "colab_type": "code",
        "colab": {}
      },
      "source": [
        "job_list = [{'name':'John','job':'teacher'},\n",
        "            {'name':'Nate','job':'teacher'},\n",
        "            {'name':'Fred','job':'teacher'},\n",
        "            {'name':'Abraham','job':'student'},\n",
        "            {'name':'Brian','job':'student'},\n",
        "            {'name':'Jenny','job':'developer'},\n",
        "            {'name':'Nate','job':'teacher'},\n",
        "            {'name':'Ian','job':'teacher'},\n",
        "            {'name':'Chris','job':'banker'},\n",
        "            {'name':'Philip','job':'lawyer'},\n",
        "            {'name':'Jenny','job':'basketball player'},\n",
        "            {'name':'Gwen','job':'teacher'},\n",
        "            {'name':'Jessy','job':'student'}]\n",
        "\n",
        "df = pd.DataFrame(job_list, columns = ['name','job'])"
      ],
      "execution_count": 2,
      "outputs": []
    },
    {
      "cell_type": "code",
      "metadata": {
        "id": "I2XZRMDoPSq8",
        "colab_type": "code",
        "colab": {
          "base_uri": "https://localhost:8080/",
          "height": 432
        },
        "outputId": "bff331a8-7918-4d99-c2e1-74f4757bbb61"
      },
      "source": [
        "df"
      ],
      "execution_count": 3,
      "outputs": [
        {
          "output_type": "execute_result",
          "data": {
            "text/html": [
              "<div>\n",
              "<style scoped>\n",
              "    .dataframe tbody tr th:only-of-type {\n",
              "        vertical-align: middle;\n",
              "    }\n",
              "\n",
              "    .dataframe tbody tr th {\n",
              "        vertical-align: top;\n",
              "    }\n",
              "\n",
              "    .dataframe thead th {\n",
              "        text-align: right;\n",
              "    }\n",
              "</style>\n",
              "<table border=\"1\" class=\"dataframe\">\n",
              "  <thead>\n",
              "    <tr style=\"text-align: right;\">\n",
              "      <th></th>\n",
              "      <th>name</th>\n",
              "      <th>job</th>\n",
              "    </tr>\n",
              "  </thead>\n",
              "  <tbody>\n",
              "    <tr>\n",
              "      <th>0</th>\n",
              "      <td>John</td>\n",
              "      <td>teacher</td>\n",
              "    </tr>\n",
              "    <tr>\n",
              "      <th>1</th>\n",
              "      <td>Nate</td>\n",
              "      <td>teacher</td>\n",
              "    </tr>\n",
              "    <tr>\n",
              "      <th>2</th>\n",
              "      <td>Fred</td>\n",
              "      <td>teacher</td>\n",
              "    </tr>\n",
              "    <tr>\n",
              "      <th>3</th>\n",
              "      <td>Abraham</td>\n",
              "      <td>student</td>\n",
              "    </tr>\n",
              "    <tr>\n",
              "      <th>4</th>\n",
              "      <td>Brian</td>\n",
              "      <td>student</td>\n",
              "    </tr>\n",
              "    <tr>\n",
              "      <th>5</th>\n",
              "      <td>Jenny</td>\n",
              "      <td>developer</td>\n",
              "    </tr>\n",
              "    <tr>\n",
              "      <th>6</th>\n",
              "      <td>Nate</td>\n",
              "      <td>teacher</td>\n",
              "    </tr>\n",
              "    <tr>\n",
              "      <th>7</th>\n",
              "      <td>Ian</td>\n",
              "      <td>teacher</td>\n",
              "    </tr>\n",
              "    <tr>\n",
              "      <th>8</th>\n",
              "      <td>Chris</td>\n",
              "      <td>banker</td>\n",
              "    </tr>\n",
              "    <tr>\n",
              "      <th>9</th>\n",
              "      <td>Philip</td>\n",
              "      <td>lawyer</td>\n",
              "    </tr>\n",
              "    <tr>\n",
              "      <th>10</th>\n",
              "      <td>Jenny</td>\n",
              "      <td>basketball player</td>\n",
              "    </tr>\n",
              "    <tr>\n",
              "      <th>11</th>\n",
              "      <td>Gwen</td>\n",
              "      <td>teacher</td>\n",
              "    </tr>\n",
              "    <tr>\n",
              "      <th>12</th>\n",
              "      <td>Jessy</td>\n",
              "      <td>student</td>\n",
              "    </tr>\n",
              "  </tbody>\n",
              "</table>\n",
              "</div>"
            ],
            "text/plain": [
              "       name                job\n",
              "0      John            teacher\n",
              "1      Nate            teacher\n",
              "2      Fred            teacher\n",
              "3   Abraham            student\n",
              "4     Brian            student\n",
              "5     Jenny          developer\n",
              "6      Nate            teacher\n",
              "7       Ian            teacher\n",
              "8     Chris             banker\n",
              "9    Philip             lawyer\n",
              "10    Jenny  basketball player\n",
              "11     Gwen            teacher\n",
              "12    Jessy            student"
            ]
          },
          "metadata": {
            "tags": []
          },
          "execution_count": 3
        }
      ]
    },
    {
      "cell_type": "code",
      "metadata": {
        "id": "pntYlBZmPS-y",
        "colab_type": "code",
        "colab": {
          "base_uri": "https://localhost:8080/",
          "height": 52
        },
        "outputId": "07bd3a52-db0d-4d5d-a460-a3d1e70410a1"
      },
      "source": [
        "df.job.unique() # job안의 value들을 중복값을 제외하고 보여준다."
      ],
      "execution_count": 4,
      "outputs": [
        {
          "output_type": "execute_result",
          "data": {
            "text/plain": [
              "array(['teacher', 'student', 'developer', 'banker', 'lawyer',\n",
              "       'basketball player'], dtype=object)"
            ]
          },
          "metadata": {
            "tags": []
          },
          "execution_count": 4
        }
      ]
    },
    {
      "cell_type": "code",
      "metadata": {
        "id": "CzN4RVxzjh1R",
        "colab_type": "code",
        "colab": {
          "base_uri": "https://localhost:8080/",
          "height": 140
        },
        "outputId": "07ed9360-4109-4822-8889-bb89c3f61812"
      },
      "source": [
        "df.job.value_counts() # job 항목의 개수를 보여준다."
      ],
      "execution_count": 5,
      "outputs": [
        {
          "output_type": "execute_result",
          "data": {
            "text/plain": [
              "teacher              6\n",
              "student              3\n",
              "banker               1\n",
              "lawyer               1\n",
              "basketball player    1\n",
              "developer            1\n",
              "Name: job, dtype: int64"
            ]
          },
          "metadata": {
            "tags": []
          },
          "execution_count": 5
        }
      ]
    }
  ]
}